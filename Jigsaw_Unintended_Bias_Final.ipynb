{
  "nbformat": 4,
  "nbformat_minor": 0,
  "metadata": {
    "colab": {
      "provenance": []
    },
    "kernelspec": {
      "name": "python3",
      "display_name": "Python 3"
    },
    "language_info": {
      "name": "python"
    },
    "gpuClass": "standard"
  },
  "cells": [
    {
      "cell_type": "markdown",
      "metadata": {
        "id": "6daabf33"
      },
      "source": [
        "# **Jigsaw Unintended Bias: Final Notebook**"
      ]
    },
    {
      "cell_type": "markdown",
      "metadata": {
        "id": "78c58a73"
      },
      "source": [
        "# **Contents**\n",
        "### 1. Define helper functions for text preprocessing and loading model\n",
        "### 2. Build Preprocessing Pipeline using helper functions\n",
        "### 3. Define a function to perform Tokenization and Padding\n",
        "### 4. Define a Final Pipeline which inputs raw text and predicts toxicity\n",
        "### 5. Define a function to visualize attention weights\n"
      ]
    },
    {
      "cell_type": "code",
      "source": [
        "!pip install demoji\n",
        "!pip install contractions"
      ],
      "metadata": {
        "id": "IZLLVEVYzMWf",
        "colab": {
          "base_uri": "https://localhost:8080/"
        },
        "outputId": "75a900f8-cb2e-4fd0-bdd5-4349e19bec63"
      },
      "execution_count": 1,
      "outputs": [
        {
          "output_type": "stream",
          "name": "stdout",
          "text": [
            "Looking in indexes: https://pypi.org/simple, https://us-python.pkg.dev/colab-wheels/public/simple/\n",
            "Collecting demoji\n",
            "  Downloading demoji-1.1.0-py3-none-any.whl (42 kB)\n",
            "\u001b[2K     \u001b[90m━━━━━━━━━━━━━━━━━━━━━━━━━━━━━━━━━━━━━━━━\u001b[0m \u001b[32m42.9/42.9 KB\u001b[0m \u001b[31m1.6 MB/s\u001b[0m eta \u001b[36m0:00:00\u001b[0m\n",
            "\u001b[?25hInstalling collected packages: demoji\n",
            "Successfully installed demoji-1.1.0\n",
            "Looking in indexes: https://pypi.org/simple, https://us-python.pkg.dev/colab-wheels/public/simple/\n",
            "Collecting contractions\n",
            "  Downloading contractions-0.1.73-py2.py3-none-any.whl (8.7 kB)\n",
            "Collecting textsearch>=0.0.21\n",
            "  Downloading textsearch-0.0.24-py2.py3-none-any.whl (7.6 kB)\n",
            "Collecting anyascii\n",
            "  Downloading anyascii-0.3.1-py3-none-any.whl (287 kB)\n",
            "\u001b[2K     \u001b[90m━━━━━━━━━━━━━━━━━━━━━━━━━━━━━━━━━━━━━━━\u001b[0m \u001b[32m287.5/287.5 KB\u001b[0m \u001b[31m7.5 MB/s\u001b[0m eta \u001b[36m0:00:00\u001b[0m\n",
            "\u001b[?25hCollecting pyahocorasick\n",
            "  Downloading pyahocorasick-1.4.4-cp38-cp38-manylinux_2_17_x86_64.manylinux2014_x86_64.whl (110 kB)\n",
            "\u001b[2K     \u001b[90m━━━━━━━━━━━━━━━━━━━━━━━━━━━━━━━━━━━━━━\u001b[0m \u001b[32m110.1/110.1 KB\u001b[0m \u001b[31m14.4 MB/s\u001b[0m eta \u001b[36m0:00:00\u001b[0m\n",
            "\u001b[?25hInstalling collected packages: pyahocorasick, anyascii, textsearch, contractions\n",
            "Successfully installed anyascii-0.3.1 contractions-0.1.73 pyahocorasick-1.4.4 textsearch-0.0.24\n"
          ]
        }
      ]
    },
    {
      "cell_type": "code",
      "execution_count": 2,
      "metadata": {
        "colab": {
          "base_uri": "https://localhost:8080/"
        },
        "id": "UvosibQHwk9z",
        "outputId": "f96da42a-a1e0-4458-f221-9e80181021c3"
      },
      "outputs": [
        {
          "output_type": "stream",
          "name": "stderr",
          "text": [
            "[nltk_data] Downloading package stopwords to /root/nltk_data...\n",
            "[nltk_data]   Unzipping corpora/stopwords.zip.\n",
            "[nltk_data] Downloading package punkt to /root/nltk_data...\n",
            "[nltk_data]   Unzipping tokenizers/punkt.zip.\n",
            "[nltk_data] Downloading package wordnet to /root/nltk_data...\n",
            "[nltk_data] Downloading package omw-1.4 to /root/nltk_data...\n",
            "[nltk_data] Downloading package averaged_perceptron_tagger to\n",
            "[nltk_data]     /root/nltk_data...\n",
            "[nltk_data]   Unzipping taggers/averaged_perceptron_tagger.zip.\n"
          ]
        }
      ],
      "source": [
        "#import dependencies\n",
        "import numpy as np \n",
        "import pandas as pd \n",
        "import matplotlib.pyplot as plt \n",
        "import seaborn as sns\n",
        "\n",
        "import re \n",
        "import pickle\n",
        "import demoji\n",
        "import contractions\n",
        "import warnings\n",
        "import time\n",
        "\n",
        "import nltk\n",
        "nltk.download('stopwords')\n",
        "nltk.download('punkt')\n",
        "nltk.download('wordnet')\n",
        "nltk.download('omw-1.4')\n",
        "nltk.download('averaged_perceptron_tagger')\n",
        "\n",
        "from nltk.corpus import stopwords\n",
        "from nltk.tokenize import word_tokenize\n",
        "from nltk.stem import WordNetLemmatizer\n",
        "from nltk.corpus import wordnet\n",
        "\n",
        "from sklearn.metrics import roc_curve, roc_auc_score, auc, confusion_matrix\n",
        "\n",
        "import tensorflow as tf \n",
        "from tensorflow.keras.preprocessing.text import Tokenizer\n",
        "from tensorflow.keras.preprocessing.sequence import pad_sequences\n",
        "from tensorflow.keras import regularizers, initializers, constraints\n",
        "from tensorflow.keras.layers import Layer\n",
        "from tensorflow.keras.losses import binary_crossentropy\n",
        "from tensorflow.keras import backend as K\n",
        "\n",
        "from tensorflow.keras.layers import Input, Embedding, Dense, Add, Concatenate\n",
        "from tensorflow.keras.layers import  SpatialDropout1D, Dropout, GlobalMaxPool1D, GlobalAveragePooling1D\n",
        "from tensorflow.keras.layers import Bidirectional, LSTM, GRU\n",
        "\n",
        "from tensorflow.keras.models import Model\n",
        "\n",
        "import random\n",
        "import datetime\n",
        "import gc\n",
        "import pickle\n",
        "import sys\n",
        "import os\n",
        "import warnings \n",
        "warnings.filterwarnings('ignore')"
      ]
    },
    {
      "cell_type": "code",
      "source": [
        "#mount drive\n",
        "from google.colab import drive\n",
        "drive.mount('/content/gdrive/')"
      ],
      "metadata": {
        "colab": {
          "base_uri": "https://localhost:8080/"
        },
        "id": "p2fo5sjGxzT3",
        "outputId": "1d8786d7-824a-47cd-8466-bb3f9d365996"
      },
      "execution_count": 3,
      "outputs": [
        {
          "output_type": "stream",
          "name": "stdout",
          "text": [
            "Mounted at /content/gdrive/\n"
          ]
        }
      ]
    },
    {
      "cell_type": "code",
      "source": [
        "train_pre = pd.read_pickle('/content/gdrive/MyDrive/Jigsaw Files/preprocessed_train.pkl')\n",
        "train_pre.head()"
      ],
      "metadata": {
        "colab": {
          "base_uri": "https://localhost:8080/",
          "height": 206
        },
        "id": "3OwQh5hBBckS",
        "outputId": "18065d88-e602-436b-e3c1-02745422d335"
      },
      "execution_count": 4,
      "outputs": [
        {
          "output_type": "execute_result",
          "data": {
            "text/plain": [
              "   target                                       comment_text  \\\n",
              "0       0  This is so cool. It's like, 'would you want yo...   \n",
              "1       0  Thank you!! This would make my life a lot less...   \n",
              "2       0  This is such an urgent design problem; kudos t...   \n",
              "3       0  Is this something I'll be able to install on m...   \n",
              "4       1               haha you guys are a bunch of losers.   \n",
              "\n",
              "                                            preprcsd  \n",
              "0  cool like would want mother read really great ...  \n",
              "1  thank would make life lot less anxiety induce ...  \n",
              "2        urgent design problem kudos take impressive  \n",
              "3                something able install site release  \n",
              "4                               haha guy bunch loser  "
            ],
            "text/html": [
              "\n",
              "  <div id=\"df-ed220f9b-bb61-49ff-a4f2-57e0926cc393\">\n",
              "    <div class=\"colab-df-container\">\n",
              "      <div>\n",
              "<style scoped>\n",
              "    .dataframe tbody tr th:only-of-type {\n",
              "        vertical-align: middle;\n",
              "    }\n",
              "\n",
              "    .dataframe tbody tr th {\n",
              "        vertical-align: top;\n",
              "    }\n",
              "\n",
              "    .dataframe thead th {\n",
              "        text-align: right;\n",
              "    }\n",
              "</style>\n",
              "<table border=\"1\" class=\"dataframe\">\n",
              "  <thead>\n",
              "    <tr style=\"text-align: right;\">\n",
              "      <th></th>\n",
              "      <th>target</th>\n",
              "      <th>comment_text</th>\n",
              "      <th>preprcsd</th>\n",
              "    </tr>\n",
              "  </thead>\n",
              "  <tbody>\n",
              "    <tr>\n",
              "      <th>0</th>\n",
              "      <td>0</td>\n",
              "      <td>This is so cool. It's like, 'would you want yo...</td>\n",
              "      <td>cool like would want mother read really great ...</td>\n",
              "    </tr>\n",
              "    <tr>\n",
              "      <th>1</th>\n",
              "      <td>0</td>\n",
              "      <td>Thank you!! This would make my life a lot less...</td>\n",
              "      <td>thank would make life lot less anxiety induce ...</td>\n",
              "    </tr>\n",
              "    <tr>\n",
              "      <th>2</th>\n",
              "      <td>0</td>\n",
              "      <td>This is such an urgent design problem; kudos t...</td>\n",
              "      <td>urgent design problem kudos take impressive</td>\n",
              "    </tr>\n",
              "    <tr>\n",
              "      <th>3</th>\n",
              "      <td>0</td>\n",
              "      <td>Is this something I'll be able to install on m...</td>\n",
              "      <td>something able install site release</td>\n",
              "    </tr>\n",
              "    <tr>\n",
              "      <th>4</th>\n",
              "      <td>1</td>\n",
              "      <td>haha you guys are a bunch of losers.</td>\n",
              "      <td>haha guy bunch loser</td>\n",
              "    </tr>\n",
              "  </tbody>\n",
              "</table>\n",
              "</div>\n",
              "      <button class=\"colab-df-convert\" onclick=\"convertToInteractive('df-ed220f9b-bb61-49ff-a4f2-57e0926cc393')\"\n",
              "              title=\"Convert this dataframe to an interactive table.\"\n",
              "              style=\"display:none;\">\n",
              "        \n",
              "  <svg xmlns=\"http://www.w3.org/2000/svg\" height=\"24px\"viewBox=\"0 0 24 24\"\n",
              "       width=\"24px\">\n",
              "    <path d=\"M0 0h24v24H0V0z\" fill=\"none\"/>\n",
              "    <path d=\"M18.56 5.44l.94 2.06.94-2.06 2.06-.94-2.06-.94-.94-2.06-.94 2.06-2.06.94zm-11 1L8.5 8.5l.94-2.06 2.06-.94-2.06-.94L8.5 2.5l-.94 2.06-2.06.94zm10 10l.94 2.06.94-2.06 2.06-.94-2.06-.94-.94-2.06-.94 2.06-2.06.94z\"/><path d=\"M17.41 7.96l-1.37-1.37c-.4-.4-.92-.59-1.43-.59-.52 0-1.04.2-1.43.59L10.3 9.45l-7.72 7.72c-.78.78-.78 2.05 0 2.83L4 21.41c.39.39.9.59 1.41.59.51 0 1.02-.2 1.41-.59l7.78-7.78 2.81-2.81c.8-.78.8-2.07 0-2.86zM5.41 20L4 18.59l7.72-7.72 1.47 1.35L5.41 20z\"/>\n",
              "  </svg>\n",
              "      </button>\n",
              "      \n",
              "  <style>\n",
              "    .colab-df-container {\n",
              "      display:flex;\n",
              "      flex-wrap:wrap;\n",
              "      gap: 12px;\n",
              "    }\n",
              "\n",
              "    .colab-df-convert {\n",
              "      background-color: #E8F0FE;\n",
              "      border: none;\n",
              "      border-radius: 50%;\n",
              "      cursor: pointer;\n",
              "      display: none;\n",
              "      fill: #1967D2;\n",
              "      height: 32px;\n",
              "      padding: 0 0 0 0;\n",
              "      width: 32px;\n",
              "    }\n",
              "\n",
              "    .colab-df-convert:hover {\n",
              "      background-color: #E2EBFA;\n",
              "      box-shadow: 0px 1px 2px rgba(60, 64, 67, 0.3), 0px 1px 3px 1px rgba(60, 64, 67, 0.15);\n",
              "      fill: #174EA6;\n",
              "    }\n",
              "\n",
              "    [theme=dark] .colab-df-convert {\n",
              "      background-color: #3B4455;\n",
              "      fill: #D2E3FC;\n",
              "    }\n",
              "\n",
              "    [theme=dark] .colab-df-convert:hover {\n",
              "      background-color: #434B5C;\n",
              "      box-shadow: 0px 1px 3px 1px rgba(0, 0, 0, 0.15);\n",
              "      filter: drop-shadow(0px 1px 2px rgba(0, 0, 0, 0.3));\n",
              "      fill: #FFFFFF;\n",
              "    }\n",
              "  </style>\n",
              "\n",
              "      <script>\n",
              "        const buttonEl =\n",
              "          document.querySelector('#df-ed220f9b-bb61-49ff-a4f2-57e0926cc393 button.colab-df-convert');\n",
              "        buttonEl.style.display =\n",
              "          google.colab.kernel.accessAllowed ? 'block' : 'none';\n",
              "\n",
              "        async function convertToInteractive(key) {\n",
              "          const element = document.querySelector('#df-ed220f9b-bb61-49ff-a4f2-57e0926cc393');\n",
              "          const dataTable =\n",
              "            await google.colab.kernel.invokeFunction('convertToInteractive',\n",
              "                                                     [key], {});\n",
              "          if (!dataTable) return;\n",
              "\n",
              "          const docLinkHtml = 'Like what you see? Visit the ' +\n",
              "            '<a target=\"_blank\" href=https://colab.research.google.com/notebooks/data_table.ipynb>data table notebook</a>'\n",
              "            + ' to learn more about interactive tables.';\n",
              "          element.innerHTML = '';\n",
              "          dataTable['output_type'] = 'display_data';\n",
              "          await google.colab.output.renderOutput(dataTable, element);\n",
              "          const docLink = document.createElement('div');\n",
              "          docLink.innerHTML = docLinkHtml;\n",
              "          element.appendChild(docLink);\n",
              "        }\n",
              "      </script>\n",
              "    </div>\n",
              "  </div>\n",
              "  "
            ]
          },
          "metadata": {},
          "execution_count": 4
        }
      ]
    },
    {
      "cell_type": "code",
      "source": [
        "sample = train_pre.sample(n=5, random_state=120, ignore_index=False)\n",
        "sample"
      ],
      "metadata": {
        "colab": {
          "base_uri": "https://localhost:8080/",
          "height": 206
        },
        "id": "ZB8FRyNgcnAI",
        "outputId": "3699e37d-6152-4f35-ee7a-d8b3bb595039"
      },
      "execution_count": null,
      "outputs": [
        {
          "output_type": "execute_result",
          "data": {
            "text/plain": [
              "         target                                       comment_text  \\\n",
              "273909        0  That is encouraging. Intelligent young folks g...   \n",
              "1667385       0  So an illegal alien woman without American chi...   \n",
              "1123083       0  I agree with you.  \\nBut I think legalizing do...   \n",
              "178098        1  Well I bet it shut up a bunch of cry baby jeal...   \n",
              "1208395       0  Ahhh, another voice from the tolerant liberals...   \n",
              "\n",
              "                                                  preprcsd  \n",
              "273909       encourage intelligent young folk give us hope  \n",
              "1667385  illegal alien woman without american child dep...  \n",
              "1123083  agree think legalize send message use substanc...  \n",
              "178098   well bet shut bunch cry baby jealous hater sur...  \n",
              "1208395  ahhh another voice tolerant liberal keep insul...  "
            ],
            "text/html": [
              "\n",
              "  <div id=\"df-a29f4735-15c2-41a9-9508-4677276cc1e3\">\n",
              "    <div class=\"colab-df-container\">\n",
              "      <div>\n",
              "<style scoped>\n",
              "    .dataframe tbody tr th:only-of-type {\n",
              "        vertical-align: middle;\n",
              "    }\n",
              "\n",
              "    .dataframe tbody tr th {\n",
              "        vertical-align: top;\n",
              "    }\n",
              "\n",
              "    .dataframe thead th {\n",
              "        text-align: right;\n",
              "    }\n",
              "</style>\n",
              "<table border=\"1\" class=\"dataframe\">\n",
              "  <thead>\n",
              "    <tr style=\"text-align: right;\">\n",
              "      <th></th>\n",
              "      <th>target</th>\n",
              "      <th>comment_text</th>\n",
              "      <th>preprcsd</th>\n",
              "    </tr>\n",
              "  </thead>\n",
              "  <tbody>\n",
              "    <tr>\n",
              "      <th>273909</th>\n",
              "      <td>0</td>\n",
              "      <td>That is encouraging. Intelligent young folks g...</td>\n",
              "      <td>encourage intelligent young folk give us hope</td>\n",
              "    </tr>\n",
              "    <tr>\n",
              "      <th>1667385</th>\n",
              "      <td>0</td>\n",
              "      <td>So an illegal alien woman without American chi...</td>\n",
              "      <td>illegal alien woman without american child dep...</td>\n",
              "    </tr>\n",
              "    <tr>\n",
              "      <th>1123083</th>\n",
              "      <td>0</td>\n",
              "      <td>I agree with you.  \\nBut I think legalizing do...</td>\n",
              "      <td>agree think legalize send message use substanc...</td>\n",
              "    </tr>\n",
              "    <tr>\n",
              "      <th>178098</th>\n",
              "      <td>1</td>\n",
              "      <td>Well I bet it shut up a bunch of cry baby jeal...</td>\n",
              "      <td>well bet shut bunch cry baby jealous hater sur...</td>\n",
              "    </tr>\n",
              "    <tr>\n",
              "      <th>1208395</th>\n",
              "      <td>0</td>\n",
              "      <td>Ahhh, another voice from the tolerant liberals...</td>\n",
              "      <td>ahhh another voice tolerant liberal keep insul...</td>\n",
              "    </tr>\n",
              "  </tbody>\n",
              "</table>\n",
              "</div>\n",
              "      <button class=\"colab-df-convert\" onclick=\"convertToInteractive('df-a29f4735-15c2-41a9-9508-4677276cc1e3')\"\n",
              "              title=\"Convert this dataframe to an interactive table.\"\n",
              "              style=\"display:none;\">\n",
              "        \n",
              "  <svg xmlns=\"http://www.w3.org/2000/svg\" height=\"24px\"viewBox=\"0 0 24 24\"\n",
              "       width=\"24px\">\n",
              "    <path d=\"M0 0h24v24H0V0z\" fill=\"none\"/>\n",
              "    <path d=\"M18.56 5.44l.94 2.06.94-2.06 2.06-.94-2.06-.94-.94-2.06-.94 2.06-2.06.94zm-11 1L8.5 8.5l.94-2.06 2.06-.94-2.06-.94L8.5 2.5l-.94 2.06-2.06.94zm10 10l.94 2.06.94-2.06 2.06-.94-2.06-.94-.94-2.06-.94 2.06-2.06.94z\"/><path d=\"M17.41 7.96l-1.37-1.37c-.4-.4-.92-.59-1.43-.59-.52 0-1.04.2-1.43.59L10.3 9.45l-7.72 7.72c-.78.78-.78 2.05 0 2.83L4 21.41c.39.39.9.59 1.41.59.51 0 1.02-.2 1.41-.59l7.78-7.78 2.81-2.81c.8-.78.8-2.07 0-2.86zM5.41 20L4 18.59l7.72-7.72 1.47 1.35L5.41 20z\"/>\n",
              "  </svg>\n",
              "      </button>\n",
              "      \n",
              "  <style>\n",
              "    .colab-df-container {\n",
              "      display:flex;\n",
              "      flex-wrap:wrap;\n",
              "      gap: 12px;\n",
              "    }\n",
              "\n",
              "    .colab-df-convert {\n",
              "      background-color: #E8F0FE;\n",
              "      border: none;\n",
              "      border-radius: 50%;\n",
              "      cursor: pointer;\n",
              "      display: none;\n",
              "      fill: #1967D2;\n",
              "      height: 32px;\n",
              "      padding: 0 0 0 0;\n",
              "      width: 32px;\n",
              "    }\n",
              "\n",
              "    .colab-df-convert:hover {\n",
              "      background-color: #E2EBFA;\n",
              "      box-shadow: 0px 1px 2px rgba(60, 64, 67, 0.3), 0px 1px 3px 1px rgba(60, 64, 67, 0.15);\n",
              "      fill: #174EA6;\n",
              "    }\n",
              "\n",
              "    [theme=dark] .colab-df-convert {\n",
              "      background-color: #3B4455;\n",
              "      fill: #D2E3FC;\n",
              "    }\n",
              "\n",
              "    [theme=dark] .colab-df-convert:hover {\n",
              "      background-color: #434B5C;\n",
              "      box-shadow: 0px 1px 3px 1px rgba(0, 0, 0, 0.15);\n",
              "      filter: drop-shadow(0px 1px 2px rgba(0, 0, 0, 0.3));\n",
              "      fill: #FFFFFF;\n",
              "    }\n",
              "  </style>\n",
              "\n",
              "      <script>\n",
              "        const buttonEl =\n",
              "          document.querySelector('#df-a29f4735-15c2-41a9-9508-4677276cc1e3 button.colab-df-convert');\n",
              "        buttonEl.style.display =\n",
              "          google.colab.kernel.accessAllowed ? 'block' : 'none';\n",
              "\n",
              "        async function convertToInteractive(key) {\n",
              "          const element = document.querySelector('#df-a29f4735-15c2-41a9-9508-4677276cc1e3');\n",
              "          const dataTable =\n",
              "            await google.colab.kernel.invokeFunction('convertToInteractive',\n",
              "                                                     [key], {});\n",
              "          if (!dataTable) return;\n",
              "\n",
              "          const docLinkHtml = 'Like what you see? Visit the ' +\n",
              "            '<a target=\"_blank\" href=https://colab.research.google.com/notebooks/data_table.ipynb>data table notebook</a>'\n",
              "            + ' to learn more about interactive tables.';\n",
              "          element.innerHTML = '';\n",
              "          dataTable['output_type'] = 'display_data';\n",
              "          await google.colab.output.renderOutput(dataTable, element);\n",
              "          const docLink = document.createElement('div');\n",
              "          docLink.innerHTML = docLinkHtml;\n",
              "          element.appendChild(docLink);\n",
              "        }\n",
              "      </script>\n",
              "    </div>\n",
              "  </div>\n",
              "  "
            ]
          },
          "metadata": {},
          "execution_count": 114
        }
      ]
    },
    {
      "cell_type": "markdown",
      "source": [
        "# **1. Define helper functions for text preprocessing and loading model**"
      ],
      "metadata": {
        "id": "dUiFNozoKbBe"
      }
    },
    {
      "cell_type": "code",
      "execution_count": 5,
      "metadata": {
        "id": "tZtKbLpV3iRD"
      },
      "outputs": [],
      "source": [
        "def lowercase(text):\n",
        "    text = text.lower()\n",
        "    return text\n",
        "\n",
        "def expand_terms(text):\n",
        "    text = contractions.fix(text)\n",
        "    return text \n",
        "\n",
        "def strip_spaces(text):\n",
        "    text = re.sub('\\s{2,}', ' ', text)\n",
        "    text = text.strip()\n",
        "    return text\n",
        "\n",
        "def handle_html_tags(text):\n",
        "   #refer- https://stackoverflow.com/questions/2503413/regular-expression-to-stop-at-first-match\n",
        "    text = re.sub('<.*?>', ' ', text)\n",
        "    return text \n",
        "\n",
        "def handle_url(text):\n",
        "    text = re.sub(r'(https?://[^\\s]+|www\\.[^\\s]+)', ' ', text)\n",
        "    return text\n",
        "\n",
        "mispelled_dict = pickle.load(open(\"/content/gdrive/MyDrive/Jigsaw Files/mispelled.pkl\", \"rb\"))\n",
        "\n",
        "def replace_mispelled_words(text):\n",
        "    words = word_tokenize(text)\n",
        "    for word in words:\n",
        "        if mispelled_dict.get(word, -1)!=-1:\n",
        "            text = text.replace(word, mispelled_dict[word])\n",
        "    return text\n",
        "\n",
        "selected_emo = pickle.load(open(\"/content/gdrive/MyDrive/Jigsaw Files/selected_emo.pkl\", \"rb\"))\n",
        "\n",
        "def handle_special_char(text):\n",
        "    text = re.sub(f'[^A-Za-z0-9{selected_emo} ]', ' ', text)\n",
        "    return text\n",
        "\n",
        "def handle_emoji_haul(text):\n",
        "    ''' \n",
        "    1. Find all substrings where a single emoji occurs consquently, e.g. '🤣🤣🤣🤣' and '🤤😭🤤😭' occuring in string 'Haha! 🤣🤣🤣🤣 🤤😭🤤😭'\n",
        "    2. '🤣🤣🤣🤣' -> '🤣'; '🤤😭🤤😭' -> '🤤😭'; We need to keep one and remove rest because users tend to overhaul on emoji usage which is not deemed important as per our problem\n",
        "    '''\n",
        "    \n",
        "    # refer - https://stackoverflow.com/questions/51794651/remove-multiple-consecutive-occurrences-of-in-a-string-with-a-single-pytho\n",
        "    emoji_haul = re.findall(f'(?:[{selected_emo}])+', text)\n",
        "\n",
        "    for emo in emoji_haul:\n",
        "        unique_emo = set(emo)\n",
        "        if len(emo)==1 and len(unique_emo)==1:\n",
        "            pass\n",
        "        elif len(emo)>1 and len(unique_emo)==1:\n",
        "            text = re.sub(emo, \" \"+emo[0]+\" \", text)\n",
        "        else:\n",
        "            text = re.sub(emo, \" \"+\" \".join(unique_emo)+\" \", text)\n",
        "\n",
        "    return text \n",
        "\n",
        "def emo2word(text):\n",
        "    # preprocess\n",
        "    text = handle_special_char(text) \n",
        "    text = handle_emoji_haul(text)\n",
        "   \n",
        "    # convert emoji to words; refer - https://www.geeksforgeeks.org/convert-emoji-into-text-in-python/\n",
        "    text = demoji.replace_with_desc(text, ' ') \n",
        "    return text\n",
        "\n",
        "# any term that contains a number, e.g: 129, 47as3a, io32, 98.:\n",
        "def handle_numeric_terms(text): \n",
        "    text = re.sub('\\S*[\\d]\\S*', ' ', text)\n",
        "    return text\n",
        "\n",
        "stop = pickle.load(open('/content/gdrive/MyDrive/Jigsaw Files/stop.pkl', 'rb'))\n",
        "# refer - https://www.geeksforgeeks.org/removing-stop-words-nltk-python/\n",
        "def remove_stopwords(text):\n",
        "    edited = \" \".join([w for w in text.split(' ') if w not in stop]) \n",
        "    return edited\n",
        "\n",
        "# code snippet - https://www.geeksforgeeks.org/python-lemmatization-approaches-with-examples/#:~:text=Wordnet%20Lemmatizer%20(with%20POS%20tag)&text=This%20is%20because%20these%20words,%2C%20noun%2C%20adjective%20etc).\n",
        "# WORDNET LEMMATIZER (with appropriate pos tags) \n",
        "lemmatizer = WordNetLemmatizer()\n",
        "\n",
        "def pos_tagger(nltk_tag):\n",
        "    ''' param pos: The Part Of Speech tag. Valid options are `\"n\"` for nouns,`\"v\"` for verbs, `\"a\"` for adjectives, `\"r\"` for adverbs and `\"s\"` for satellite adjectives.\n",
        "        (from wordnet lemmatizer docs- https://www.nltk.org/_modules/nltk/stem/wordnet.html)\n",
        "    '''\n",
        "    if nltk_tag.startswith('J'):\n",
        "        return wordnet.ADJ\n",
        "    elif nltk_tag.startswith('V'):\n",
        "        return wordnet.VERB\n",
        "    elif nltk_tag.startswith('N'):\n",
        "        return wordnet.NOUN\n",
        "    elif nltk_tag.startswith('R'):\n",
        "        return wordnet.ADV\n",
        "    else:         \n",
        "        return None\n",
        "\n",
        "# Define function to lemmatize each word with its POS tag\n",
        "def lemmatizer_withPOS(text):\n",
        "    # tokenize the text and find the POS tag for each token\n",
        "    pos_tagged = nltk.pos_tag(nltk.word_tokenize(text)) \n",
        "    \n",
        "    wordnet_tagged = list(map(lambda x: (x[0], pos_tagger(x[1])), pos_tagged))\n",
        "  \n",
        "    lemmatized_text = []\n",
        "    for word, tag in wordnet_tagged:\n",
        "        if tag is None:\n",
        "            # if there is no available tag, append the token as is\n",
        "            lemmatized_text.append(word)\n",
        "        else:       \n",
        "            # else use the tag to lemmatize the token\n",
        "            lemmatized_text.append(lemmatizer.lemmatize(word, tag))\n",
        "    lemmatized_text = \" \".join(lemmatized_text)\n",
        "    \n",
        "    return lemmatized_text"
      ]
    },
    {
      "cell_type": "code",
      "source": [
        "def load_model(path, contain_custom_obj=False):\n",
        "    config = pickle.load(open(path+'.pkl','rb'))\n",
        "    if contain_custom_obj:\n",
        "        custom_objects = {\"AttentionWithContext\": AttentionWithContext}\n",
        "        with tf.keras.utils.custom_object_scope(custom_objects):\n",
        "            model = tf.keras.Model.from_config(config['config'])\n",
        "    else: \n",
        "        model = tf.keras.Model().from_config(config['config'])\n",
        "    model.load_weights(path+'_weights.h5')\n",
        "    return model"
      ],
      "metadata": {
        "id": "9bKf_X8t8SYF"
      },
      "execution_count": 6,
      "outputs": []
    },
    {
      "cell_type": "code",
      "source": [
        "#code reference - https://mlwhiz.com/blog/2019/03/09/deeplearning_architectures_text_classification/ \n",
        "class AttentionWithContext(Layer):\n",
        "    \"\"\"\n",
        "    Basically, hidden state of each timestep is passed through a hidden dense layer of n units, with a softmax layer on top which returns the attention weights for each timestep.\n",
        "    The context vector is then calculated as the attention weighted sum of timestep hidden states.\n",
        "    Input shape\n",
        "        3D tensor with shape: (samples, steps, features).\n",
        "    Output shape\n",
        "        2D tensor with shape: (samples, features).\n",
        "    \"\"\"\n",
        "\n",
        "    def __init__(self,\n",
        "                 W_regularizer=None, u_regularizer=None, b_regularizer=None,\n",
        "                 W_constraint=None, u_constraint=None, b_constraint=None,\n",
        "                 bias=True, units=None,return_weights=False,**kwargs):\n",
        "\n",
        "        self.supports_masking = True\n",
        "        self.init = initializers.get('glorot_uniform')\n",
        "\n",
        "        self.W_regularizer = regularizers.get(W_regularizer)\n",
        "        self.u_regularizer = regularizers.get(u_regularizer)\n",
        "        self.b_regularizer = regularizers.get(b_regularizer)\n",
        "\n",
        "        self.W_constraint = constraints.get(W_constraint)\n",
        "        self.u_constraint = constraints.get(u_constraint)\n",
        "        self.b_constraint = constraints.get(b_constraint)\n",
        "\n",
        "        self.bias = bias\n",
        "        self.return_weights = return_weights\n",
        "        self.units = units\n",
        "        super(AttentionWithContext, self).__init__(**kwargs)\n",
        "\n",
        "    def build(self, input_shape):\n",
        "        assert len(input_shape) == 3\n",
        "        \n",
        "        if self.units!=None:\n",
        "            num_units = self.units\n",
        "        else:\n",
        "            num_units = input_shape[-1]\n",
        "            \n",
        "        self.W = self.add_weight(name = 'att_W',\n",
        "                             shape =  (input_shape[-1], num_units),\n",
        "                             initializer=self.init,\n",
        "                             regularizer=self.W_regularizer,\n",
        "                             constraint=self.W_constraint,\n",
        "                             trainable=True)\n",
        "        if self.bias:\n",
        "            self.b = self.add_weight(name = 'att_b',\n",
        "                                 shape = (num_units,),\n",
        "                                 initializer='zero',\n",
        "                                 regularizer=self.b_regularizer,\n",
        "                                 constraint=self.b_constraint,\n",
        "                                 trainable=True)\n",
        "        self.u = self.add_weight(name = 'att_u',\n",
        "                                 shape = (num_units,1),\n",
        "                                 initializer=self.init,\n",
        "                                 regularizer=self.u_regularizer,\n",
        "                                 constraint=self.u_constraint,\n",
        "                                 trainable=True)\n",
        "\n",
        "        super(AttentionWithContext, self).build(input_shape)\n",
        "\n",
        "    def compute_mask(self, input, input_mask=None):\n",
        "        # do not pass the mask to the next layers\n",
        "        return None\n",
        "\n",
        "    def call(self, x, mask=None):\n",
        "        uit = tf.matmul(x, self.W) #x(256,).W(256,128) -> uit(128,)\n",
        "\n",
        "        if self.bias:\n",
        "            uit += self.b #uit(128,)+b(128,) -> uit(128,)\n",
        "\n",
        "        uit = tf.keras.activations.tanh(uit) #uit(128,)\n",
        "        ait = tf.matmul(uit, self.u) #uit(128,).u(128,) -> ait(1,)\n",
        "\n",
        "        a = tf.keras.activations.exponential(ait) #a(105,1) for all timesteps\n",
        "\n",
        "        # apply mask after the exp. will be re-normalized next\n",
        "        if mask is not None:\n",
        "            # Cast the mask to floatX to avoid float64 upcasting in theano\n",
        "            a *= tf.cast(mask, K.floatx())\n",
        "\n",
        "        # in some cases especially in the early stages of training the sum may be almost zero\n",
        "        # and this results in NaN's. A workaround is to add a very small positive number ε to the sum.\n",
        "        a /= tf.cast(K.sum(a, axis=1, keepdims=True) + K.epsilon(), K.floatx()) \n",
        "\n",
        "        weighted_input = x * a #x(105,256)*a(105,1)\n",
        "        weighted_sum = K.sum(weighted_input,axis=1) #weighted_sum(256,) : context vector\n",
        "        if self.return_weights:\n",
        "            return [weighted_sum, a]\n",
        "        return weighted_sum\n",
        "\n",
        "    def compute_output_shape(self, input_shape):\n",
        "        if self.units!=None:\n",
        "            return input_shape[0], self.units\n",
        "        return input_shape[0], input_shape[-1]\n",
        "    \n",
        "    def get_config(self):\n",
        "        config = super(AttentionWithContext, self).get_config().copy()\n",
        "        config.update({\n",
        "            'W_regularizer': self.W_regularizer,\n",
        "            'u_regularizer': self.u_regularizer,\n",
        "            'b_regularizer': self.b_regularizer,\n",
        "            'W_constraint': self.W_constraint,\n",
        "            'u_constraint': self.u_constraint,\n",
        "            'b_constraint': self.b_constraint,\n",
        "            'bias' : self.bias,\n",
        "            'units': self.units,\n",
        "            'return_weights' : self.return_weights\n",
        "        })\n",
        "        return config"
      ],
      "metadata": {
        "id": "KlPokjWxd9SK"
      },
      "execution_count": 7,
      "outputs": []
    },
    {
      "cell_type": "markdown",
      "source": [
        "# **2. Build Preprocessing Pipeline using helper functions**"
      ],
      "metadata": {
        "id": "oHYnevHyKzaY"
      }
    },
    {
      "cell_type": "code",
      "source": [
        "def PreprocessPipe(text):\n",
        "    assert type(text)==str\n",
        "    preprcsd =  lowercase(text)\n",
        "    preprcsd =  expand_terms(preprcsd)\n",
        "    preprcsd =  handle_html_tags(preprcsd)\n",
        "    preprcsd =  handle_url(preprcsd)\n",
        "    preprcsd =  replace_mispelled_words(preprcsd)\n",
        "    preprcsd =  emo2word(preprcsd)\n",
        "    preprcsd =  handle_numeric_terms(preprcsd)\n",
        "    preprcsd =  strip_spaces(preprcsd)\n",
        "    preprcsd =  remove_stopwords(preprcsd)\n",
        "    preprcsd =  lemmatizer_withPOS(preprcsd)\n",
        "    return np.array([preprcsd])"
      ],
      "metadata": {
        "id": "cgMJ1-phx0C_"
      },
      "execution_count": 113,
      "outputs": []
    },
    {
      "cell_type": "code",
      "source": [
        "for text in sample['comment_text'].values:\n",
        "    preprcsd_text = PreprocessPipe(text)\n",
        "    print(preprcsd_text)"
      ],
      "metadata": {
        "colab": {
          "base_uri": "https://localhost:8080/"
        },
        "id": "0PogOuRofo-T",
        "outputId": "75e5b659-6dff-46d5-e66d-07488654bbca"
      },
      "execution_count": 115,
      "outputs": [
        {
          "output_type": "stream",
          "name": "stdout",
          "text": [
            "['encourage intelligent young folk give us hope']\n",
            "['illegal alien woman without american child deport woman get preferential treatment not deport lucky enough fertile seriously crimes shall ignore perpetrator manage give birth let people evade consequence illegal behavior parent goodness know could lighten load prison court hurry people submit evidence reproduce']\n",
            "['agree think legalize send message use substance option think would better help individual learn cop mechanism life not need option begin']\n",
            "['well bet shut bunch cry baby jealous hater sure leave dumb found chase rainbow']\n",
            "['ahhh another voice tolerant liberal keep insult half country get trump']\n"
          ]
        }
      ]
    },
    {
      "cell_type": "markdown",
      "source": [
        "# **3. Define a function to perform Tokenization and Padding**"
      ],
      "metadata": {
        "id": "9yQxFWynLR3y"
      }
    },
    {
      "cell_type": "code",
      "source": [
        "def tokenize_text(text, tokenizer, padlen):\n",
        "    sequence = tokenizer.texts_to_sequences(text)\n",
        "    padded = pad_sequences(sequence, maxlen = padlen)\n",
        "    return padded"
      ],
      "metadata": {
        "id": "70GEG9bWPW2E"
      },
      "execution_count": 116,
      "outputs": []
    },
    {
      "cell_type": "code",
      "source": [
        "tok_path = '/content/gdrive/MyDrive/Jigsaw Files/No Split/tokenizer.pkl'\n",
        "tok =  pickle.load(open(tok_path, 'rb'))\n",
        "padlen = 105\n",
        "\n",
        "for text in sample['comment_text'].values:\n",
        "    preprcsd_text = PreprocessPipe(text)\n",
        "    sequence = tokenize_text(preprcsd_text, tok, padlen)\n",
        "    print(sequence)"
      ],
      "metadata": {
        "id": "Hr704Q93YC4w",
        "colab": {
          "base_uri": "https://localhost:8080/"
        },
        "outputId": "79df449e-2f9c-4ec6-b6e9-fdcb1093173f"
      },
      "execution_count": 117,
      "outputs": [
        {
          "output_type": "stream",
          "name": "stdout",
          "text": [
            "[[   0    0    0    0    0    0    0    0    0    0    0    0    0    0\n",
            "     0    0    0    0    0    0    0    0    0    0    0    0    0    0\n",
            "     0    0    0    0    0    0    0    0    0    0    0    0    0    0\n",
            "     0    0    0    0    0    0    0    0    0    0    0    0    0    0\n",
            "     0    0    0    0    0    0    0    0    0    0    0    0    0    0\n",
            "     0    0    0    0    0    0    0    0    0    0    0    0    0    0\n",
            "     0    0    0    0    0    0    0    0    0    0    0    0    0    0\n",
            "  1087 1694  344  355   37   12  206]]\n",
            "[[    0     0     0     0     0     0     0     0     0     0     0     0\n",
            "      0     0     0     0     0     0     0     0     0     0     0     0\n",
            "      0     0     0     0     0     0     0     0     0     0     0     0\n",
            "      0     0     0     0     0     0     0     0     0     0     0     0\n",
            "      0     0     0     0     0     0     0     0     0     0     0     0\n",
            "      0     0   360  1821    84   119    83   110  2144    84     4  7026\n",
            "    934     1  2144  1775   145 11855   686 10404  1473   503  3580   861\n",
            "     37  1273    56     5  7236  1008   360   700   404  2663    16    34\n",
            "   7258  1600   918   250  5467     5  2432   329  7917]]\n",
            "[[   0    0    0    0    0    0    0    0    0    0    0    0    0    0\n",
            "     0    0    0    0    0    0    0    0    0    0    0    0    0    0\n",
            "     0    0    0    0    0    0    0    0    0    0    0    0    0    0\n",
            "     0    0    0    0    0    0    0    0    0    0    0    0    0    0\n",
            "     0    0    0    0    0    0    0    0    0    0    0    0    0    0\n",
            "     0    0    0    0    0    0    0    0    0    0    0    0    0    0\n",
            "   118   14 2691  456  424   31 1848  756   14    2 1475  100  393  331\n",
            "   822 4135   77    1   17  756  468]]\n",
            "[[   0    0    0    0    0    0    0    0    0    0    0    0    0    0\n",
            "     0    0    0    0    0    0    0    0    0    0    0    0    0    0\n",
            "     0    0    0    0    0    0    0    0    0    0    0    0    0    0\n",
            "     0    0    0    0    0    0    0    0    0    0    0    0    0    0\n",
            "     0    0    0    0    0    0    0    0    0    0    0    0    0    0\n",
            "     0    0    0    0    0    0    0    0    0    0    0    0    0    0\n",
            "     0    0    0    0    0    0    0   20  789  903  950 1111  951 5687\n",
            "  2171  105   60 1359 1789 2769 6418]]\n",
            "[[   0    0    0    0    0    0    0    0    0    0    0    0    0    0\n",
            "     0    0    0    0    0    0    0    0    0    0    0    0    0    0\n",
            "     0    0    0    0    0    0    0    0    0    0    0    0    0    0\n",
            "     0    0    0    0    0    0    0    0    0    0    0    0    0    0\n",
            "     0    0    0    0    0    0    0    0    0    0    0    0    0    0\n",
            "     0    0    0    0    0    0    0    0    0    0    0    0    0    0\n",
            "     0    0    0    0    0    0    0    0    0    0 7182   81 1116 4542\n",
            "    74   67 1151  480   41    4    9]]\n"
          ]
        }
      ]
    },
    {
      "cell_type": "markdown",
      "source": [
        "# **4. Define a Final Pipeline which inputs raw text and predicts toxicity**"
      ],
      "metadata": {
        "id": "B99X2DauLayH"
      }
    },
    {
      "cell_type": "code",
      "source": [
        "def FinalPipe(text, tokenizer, padlen, model):\n",
        "    prprcsd = PreprocessPipe(text)\n",
        "    sequence = tokenize_text(prprcsd, tokenizer, padlen)\n",
        "    pred = model.predict(sequence)[0]\n",
        "    label =  1 if pred[0,0]>=0.5 else 0\n",
        "    return pred[0,0], label"
      ],
      "metadata": {
        "id": "ScF2asHI08E2"
      },
      "execution_count": 118,
      "outputs": []
    },
    {
      "cell_type": "code",
      "source": [
        "padlen = 105\n",
        "tok_path = '/content/gdrive/MyDrive/Jigsaw Files/No Split/tokenizer.pkl'\n",
        "tok =  pickle.load(open(tok_path, 'rb'))\n",
        "mod_path = '/content/gdrive/MyDrive/Jigsaw Files/Models & Weights/model_4'\n",
        "mod = load_model(mod_path, contain_custom_obj=True)\n",
        "\n",
        "for text in sample['comment_text'].values:\n",
        "    pred, label = FinalPipe(text, tok, padlen, mod)\n",
        "    print(pred, label)"
      ],
      "metadata": {
        "colab": {
          "base_uri": "https://localhost:8080/"
        },
        "id": "5g-mFoinkmr_",
        "outputId": "5da7594c-8aec-4286-d67c-7c11761882f8"
      },
      "execution_count": 119,
      "outputs": [
        {
          "output_type": "stream",
          "name": "stdout",
          "text": [
            "1/1 [==============================] - 2s 2s/step\n",
            "0.0015351753 0\n",
            "1/1 [==============================] - 0s 51ms/step\n",
            "0.057725787 0\n",
            "1/1 [==============================] - 0s 54ms/step\n",
            "0.00012646035 0\n",
            "1/1 [==============================] - 0s 49ms/step\n",
            "0.9900238 1\n",
            "1/1 [==============================] - 0s 50ms/step\n",
            "0.029867629 0\n"
          ]
        }
      ]
    },
    {
      "cell_type": "markdown",
      "source": [
        "# **5. Define a function to visualize attention weights**\n",
        "(Used in Model Performance Analysis Notebook)"
      ],
      "metadata": {
        "id": "_5s43qjsQKv3"
      }
    },
    {
      "cell_type": "code",
      "source": [
        "def viz_attention(text,  tokenizer, padlen, att_model):\n",
        "    prprcsd = PreprocessPipe(text)\n",
        "    words = prprcsd[0].split(' ')\n",
        "    total_words = len(words)\n",
        "    sequence = tokenize_text(prprcsd, tokenizer, padlen)\n",
        "\n",
        "    att_weights = att_model.predict(sequence).reshape(1,105) #att_wieghts.sum()==1\n",
        "\n",
        "    plt.figure(figsize=(18,5)) \n",
        "    ax = sns.heatmap(att_weights[:,-total_words:], xticklabels = words, yticklabels=[None])\n",
        "    ax.set(title = 'Attention Weights: Importance given to a word', xlabel='Words')\n",
        "    return plt.show()"
      ],
      "metadata": {
        "id": "DGYcZEDtRYFI"
      },
      "execution_count": 120,
      "outputs": []
    },
    {
      "cell_type": "code",
      "source": [
        "padlen = 105\n",
        "tok_path = '/content/gdrive/MyDrive/Jigsaw Files/No Split/tokenizer.pkl'\n",
        "tok =  pickle.load(open(tok_path, 'rb'))\n",
        "mod_path = '/content/gdrive/MyDrive/Jigsaw Files/Models & Weights/model_4'\n",
        "mod = load_model(mod_path, contain_custom_obj=True)\n",
        "att = mod.get_layer('attention_with_context').output[1]\n",
        "att_mod = Model(inputs=mod.input, outputs=att)\n",
        "\n",
        "for text in sample['comment_text'].values:\n",
        "    viz_attention(text, tok, padlen, att_mod)"
      ],
      "metadata": {
        "id": "OxjWLxvfWxgx",
        "colab": {
          "base_uri": "https://localhost:8080/",
          "height": 1000
        },
        "outputId": "ec3b6795-be53-41d5-a488-6c368841b192"
      },
      "execution_count": 121,
      "outputs": [
        {
          "output_type": "stream",
          "name": "stdout",
          "text": [
            "1/1 [==============================] - 2s 2s/step\n"
          ]
        },
        {
          "output_type": "display_data",
          "data": {
            "text/plain": [
              "<Figure size 1296x360 with 2 Axes>"
            ],
            "image/png": "[encoded data removed]"
          },
          "metadata": {
            "needs_background": "light"
          }
        },
        {
          "output_type": "stream",
          "name": "stdout",
          "text": [
            "1/1 [==============================] - 0s 58ms/step\n"
          ]
        },
        {
          "output_type": "display_data",
          "data": {
            "text/plain": [
              "<Figure size 1296x360 with 2 Axes>"
            ],
            "image/png": "[encoded data removed]"
          },
          "metadata": {
            "needs_background": "light"
          }
        },
        {
          "output_type": "stream",
          "name": "stdout",
          "text": [
            "1/1 [==============================] - 0s 59ms/step\n"
          ]
        },
        {
          "output_type": "display_data",
          "data": {
            "text/plain": [
              "<Figure size 1296x360 with 2 Axes>"
            ],
            "image/png": "[encoded data removed]"
          },
          "metadata": {
            "needs_background": "light"
          }
        },
        {
          "output_type": "stream",
          "name": "stdout",
          "text": [
            "1/1 [==============================] - 0s 47ms/step\n"
          ]
        },
        {
          "output_type": "display_data",
          "data": {
            "text/plain": [
              "<Figure size 1296x360 with 2 Axes>"
            ],
            "image/png": "[encoded data removed]"
          },
          "metadata": {
            "needs_background": "light"
          }
        },
        {
          "output_type": "stream",
          "name": "stdout",
          "text": [
            "1/1 [==============================] - 0s 55ms/step\n"
          ]
        },
        {
          "output_type": "display_data",
          "data": {
            "text/plain": [
              "<Figure size 1296x360 with 2 Axes>"
            ],
            "image/png": "[encoded data removed]"
          },
          "metadata": {
            "needs_background": "light"
          }
        }
      ]
    },
    {
      "cell_type": "markdown",
      "source": [
        "- The above plots depict the importance given to each word in a text while classifying the text. \n"
      ],
      "metadata": {
        "id": "sE_Y0Y0y5sVz"
      }
    }
  ]
}