{
  "cells": [
    {
      "cell_type": "markdown",
      "metadata": {
        "id": "oXXFMWSJNWG2"
      },
      "source": [
        "# **Jigsaw Uintended Bias: Text Preprocessing and Vectorization**"
      ]
    },
    {
      "cell_type": "markdown",
      "metadata": {
        "id": "cxR3RSWsNWG6"
      },
      "source": [
        "# **Contents**\n",
        "### 1. Load Pre-trained Glove Word Embeddings\n",
        "### 2. Load Data from Kaggle\n",
        "### 3. Preprocess Text Data\n",
        "### 4. Stratified Data Splitting\n",
        "### 5. Text Data Vectorization\n",
        "### 6. References"
      ]
    },
    {
      "cell_type": "code",
      "execution_count": null,
      "metadata": {
        "id": "JbVYEl4KAicQ",
        "outputId": "9d9a94d1-87ae-4d6b-ab17-27a5dd8669cc"
      },
      "outputs": [
        {
          "name": "stdout",
          "output_type": "stream",
          "text": [
            "Requirement already satisfied: contractions in /opt/conda/lib/python3.7/site-packages (0.1.73)\n",
            "Requirement already satisfied: textsearch>=0.0.21 in /opt/conda/lib/python3.7/site-packages (from contractions) (0.0.24)\n",
            "Requirement already satisfied: anyascii in /opt/conda/lib/python3.7/site-packages (from textsearch>=0.0.21->contractions) (0.3.1)\n",
            "Requirement already satisfied: pyahocorasick in /opt/conda/lib/python3.7/site-packages (from textsearch>=0.0.21->contractions) (1.4.4)\n",
            "Requirement already satisfied: demoji in /opt/conda/lib/python3.7/site-packages (1.1.0)\n",
            "Requirement already satisfied: symspellpy in /opt/conda/lib/python3.7/site-packages (6.7.7)\n",
            "Requirement already satisfied: editdistpy>=0.1.3 in /opt/conda/lib/python3.7/site-packages (from symspellpy) (0.1.3)\n",
            "Requirement already satisfied: pyspellchecker in /opt/conda/lib/python3.7/site-packages (0.7.0)\n",
            "Requirement already satisfied: nltk in /opt/conda/lib/python3.7/site-packages (3.7)\n",
            "Requirement already satisfied: regex>=2021.8.3 in /opt/conda/lib/python3.7/site-packages (from nltk) (2022.10.31)\n",
            "Requirement already satisfied: joblib in /opt/conda/lib/python3.7/site-packages (from nltk) (1.2.0)\n",
            "Requirement already satisfied: tqdm in /opt/conda/lib/python3.7/site-packages (from nltk) (4.64.1)\n",
            "Requirement already satisfied: click in /opt/conda/lib/python3.7/site-packages (from nltk) (8.1.3)\n",
            "Requirement already satisfied: importlib-metadata in /opt/conda/lib/python3.7/site-packages (from click->nltk) (4.11.4)\n",
            "Requirement already satisfied: typing-extensions>=3.6.4 in /opt/conda/lib/python3.7/site-packages (from importlib-metadata->click->nltk) (4.3.0)\n",
            "Requirement already satisfied: zipp>=0.5 in /opt/conda/lib/python3.7/site-packages (from importlib-metadata->click->nltk) (3.8.1)\n",
            "Requirement already satisfied: swifter in /opt/conda/lib/python3.7/site-packages (1.3.4)\n",
            "Requirement already satisfied: cloudpickle>=0.2.2 in /opt/conda/lib/python3.7/site-packages (from swifter) (2.2.0)\n",
            "Requirement already satisfied: parso>0.4.0 in /opt/conda/lib/python3.7/site-packages (from swifter) (0.8.3)\n",
            "Requirement already satisfied: dask[dataframe]>=2.10.0 in /opt/conda/lib/python3.7/site-packages (from swifter) (2022.2.0)\n",
            "Requirement already satisfied: bleach>=3.1.1 in /opt/conda/lib/python3.7/site-packages (from swifter) (5.0.1)\n",
            "Requirement already satisfied: pandas>=1.0.0 in /opt/conda/lib/python3.7/site-packages (from swifter) (1.3.5)\n",
            "Requirement already satisfied: ipywidgets>=7.0.0 in /opt/conda/lib/python3.7/site-packages (from swifter) (8.0.2)\n",
            "Requirement already satisfied: tqdm>=4.33.0 in /opt/conda/lib/python3.7/site-packages (from swifter) (4.64.1)\n",
            "Requirement already satisfied: psutil>=5.6.6 in /opt/conda/lib/python3.7/site-packages (from swifter) (5.9.2)\n",
            "Requirement already satisfied: six>=1.9.0 in /opt/conda/lib/python3.7/site-packages (from bleach>=3.1.1->swifter) (1.16.0)\n",
            "Requirement already satisfied: webencodings in /opt/conda/lib/python3.7/site-packages (from bleach>=3.1.1->swifter) (0.5.1)\n",
            "Requirement already satisfied: partd>=0.3.10 in /opt/conda/lib/python3.7/site-packages (from dask[dataframe]>=2.10.0->swifter) (1.3.0)\n",
            "Requirement already satisfied: packaging>=20.0 in /opt/conda/lib/python3.7/site-packages (from dask[dataframe]>=2.10.0->swifter) (21.3)\n",
            "Requirement already satisfied: pyyaml>=5.3.1 in /opt/conda/lib/python3.7/site-packages (from dask[dataframe]>=2.10.0->swifter) (6.0)\n",
            "Requirement already satisfied: toolz>=0.8.2 in /opt/conda/lib/python3.7/site-packages (from dask[dataframe]>=2.10.0->swifter) (0.12.0)\n",
            "Requirement already satisfied: fsspec>=0.6.0 in /opt/conda/lib/python3.7/site-packages (from dask[dataframe]>=2.10.0->swifter) (2022.8.2)\n",
            "Requirement already satisfied: numpy>=1.18 in /opt/conda/lib/python3.7/site-packages (from dask[dataframe]>=2.10.0->swifter) (1.18.5)\n",
            "Requirement already satisfied: ipython>=6.1.0 in /opt/conda/lib/python3.7/site-packages (from ipywidgets>=7.0.0->swifter) (7.33.0)\n",
            "Requirement already satisfied: ipykernel>=4.5.1 in /opt/conda/lib/python3.7/site-packages (from ipywidgets>=7.0.0->swifter) (6.16.0)\n",
            "Requirement already satisfied: jupyterlab-widgets~=3.0 in /opt/conda/lib/python3.7/site-packages (from ipywidgets>=7.0.0->swifter) (3.0.3)\n",
            "Requirement already satisfied: widgetsnbextension~=4.0 in /opt/conda/lib/python3.7/site-packages (from ipywidgets>=7.0.0->swifter) (4.0.3)\n",
            "Requirement already satisfied: traitlets>=4.3.1 in /opt/conda/lib/python3.7/site-packages (from ipywidgets>=7.0.0->swifter) (5.4.0)\n",
            "Requirement already satisfied: python-dateutil>=2.7.3 in /opt/conda/lib/python3.7/site-packages (from pandas>=1.0.0->swifter) (2.8.2)\n",
            "Requirement already satisfied: pytz>=2017.3 in /opt/conda/lib/python3.7/site-packages (from pandas>=1.0.0->swifter) (2022.2.1)\n",
            "Requirement already satisfied: nest-asyncio in /opt/conda/lib/python3.7/site-packages (from ipykernel>=4.5.1->ipywidgets>=7.0.0->swifter) (1.5.5)\n",
            "Requirement already satisfied: tornado>=6.1 in /opt/conda/lib/python3.7/site-packages (from ipykernel>=4.5.1->ipywidgets>=7.0.0->swifter) (6.2)\n",
            "Requirement already satisfied: debugpy>=1.0 in /opt/conda/lib/python3.7/site-packages (from ipykernel>=4.5.1->ipywidgets>=7.0.0->swifter) (1.6.3)\n",
            "Requirement already satisfied: matplotlib-inline>=0.1 in /opt/conda/lib/python3.7/site-packages (from ipykernel>=4.5.1->ipywidgets>=7.0.0->swifter) (0.1.6)\n",
            "Requirement already satisfied: pyzmq>=17 in /opt/conda/lib/python3.7/site-packages (from ipykernel>=4.5.1->ipywidgets>=7.0.0->swifter) (24.0.1)\n",
            "Requirement already satisfied: jupyter-client>=6.1.12 in /opt/conda/lib/python3.7/site-packages (from ipykernel>=4.5.1->ipywidgets>=7.0.0->swifter) (7.3.5)\n",
            "Requirement already satisfied: decorator in /opt/conda/lib/python3.7/site-packages (from ipython>=6.1.0->ipywidgets>=7.0.0->swifter) (5.1.1)\n",
            "Requirement already satisfied: pexpect>4.3 in /opt/conda/lib/python3.7/site-packages (from ipython>=6.1.0->ipywidgets>=7.0.0->swifter) (4.8.0)\n",
            "Requirement already satisfied: prompt-toolkit!=3.0.0,!=3.0.1,<3.1.0,>=2.0.0 in /opt/conda/lib/python3.7/site-packages (from ipython>=6.1.0->ipywidgets>=7.0.0->swifter) (3.0.31)\n",
            "Requirement already satisfied: pickleshare in /opt/conda/lib/python3.7/site-packages (from ipython>=6.1.0->ipywidgets>=7.0.0->swifter) (0.7.5)\n",
            "Requirement already satisfied: setuptools>=18.5 in /opt/conda/lib/python3.7/site-packages (from ipython>=6.1.0->ipywidgets>=7.0.0->swifter) (59.8.0)\n",
            "Requirement already satisfied: jedi>=0.16 in /opt/conda/lib/python3.7/site-packages (from ipython>=6.1.0->ipywidgets>=7.0.0->swifter) (0.18.1)\n",
            "Requirement already satisfied: backcall in /opt/conda/lib/python3.7/site-packages (from ipython>=6.1.0->ipywidgets>=7.0.0->swifter) (0.2.0)\n",
            "Requirement already satisfied: pygments in /opt/conda/lib/python3.7/site-packages (from ipython>=6.1.0->ipywidgets>=7.0.0->swifter) (2.13.0)\n",
            "Requirement already satisfied: pyparsing!=3.0.5,>=2.0.2 in /opt/conda/lib/python3.7/site-packages (from packaging>=20.0->dask[dataframe]>=2.10.0->swifter) (3.0.9)\n",
            "Requirement already satisfied: locket in /opt/conda/lib/python3.7/site-packages (from partd>=0.3.10->dask[dataframe]>=2.10.0->swifter) (1.0.0)\n",
            "Requirement already satisfied: entrypoints in /opt/conda/lib/python3.7/site-packages (from jupyter-client>=6.1.12->ipykernel>=4.5.1->ipywidgets>=7.0.0->swifter) (0.4)\n",
            "Requirement already satisfied: jupyter-core>=4.9.2 in /opt/conda/lib/python3.7/site-packages (from jupyter-client>=6.1.12->ipykernel>=4.5.1->ipywidgets>=7.0.0->swifter) (4.11.1)\n",
            "Requirement already satisfied: ptyprocess>=0.5 in /opt/conda/lib/python3.7/site-packages (from pexpect>4.3->ipython>=6.1.0->ipywidgets>=7.0.0->swifter) (0.7.0)\n",
            "Requirement already satisfied: wcwidth in /opt/conda/lib/python3.7/site-packages (from prompt-toolkit!=3.0.0,!=3.0.1,<3.1.0,>=2.0.0->ipython>=6.1.0->ipywidgets>=7.0.0->swifter) (0.2.5)\n",
            "Requirement already satisfied: wordninja in /opt/conda/lib/python3.7/site-packages (2.0.0)\n",
            "Collecting modin\n",
            "  Downloading modin-0.17.0-py3-none-any.whl (962 kB)\n",
            "\u001b[2K     \u001b[90m━━━━━━━━━━━━━━━━━━━━━━━━━━━━━━━━━━━━━━\u001b[0m \u001b[32m962.1/962.1 kB\u001b[0m \u001b[31m17.4 MB/s\u001b[0m eta \u001b[36m0:00:00\u001b[0ma \u001b[36m0:00:01\u001b[0m\n",
            "\u001b[?25hRequirement already satisfied: numpy>=1.18.5 in /opt/conda/lib/python3.7/site-packages (from modin) (1.18.5)\n",
            "Requirement already satisfied: fsspec in /opt/conda/lib/python3.7/site-packages (from modin) (2022.8.2)\n",
            "Requirement already satisfied: packaging in /opt/conda/lib/python3.7/site-packages (from modin) (21.3)\n",
            "Requirement already satisfied: psutil in /opt/conda/lib/python3.7/site-packages (from modin) (5.9.2)\n",
            "  Downloading modin-0.16.2-py3-none-any.whl (957 kB)\n",
            "\u001b[2K     \u001b[90m━━━━━━━━━━━━━━━━━━━━━━━━━━━━━━━━━━━━━━\u001b[0m \u001b[32m957.4/957.4 kB\u001b[0m \u001b[31m68.0 MB/s\u001b[0m eta \u001b[36m0:00:00\u001b[0m\n",
            "\u001b[?25h  Downloading modin-0.16.1-py3-none-any.whl (956 kB)\n",
            "\u001b[2K     \u001b[90m━━━━━━━━━━━━━━━━━━━━━━━━━━━━━━━━━━━━━━\u001b[0m \u001b[32m956.8/956.8 kB\u001b[0m \u001b[31m82.3 MB/s\u001b[0m eta \u001b[36m0:00:00\u001b[0m\n",
            "\u001b[?25h  Downloading modin-0.16.0-py3-none-any.whl (956 kB)\n",
            "\u001b[2K     \u001b[90m━━━━━━━━━━━━━━━━━━━━━━━━━━━━━━━━━━━━━━\u001b[0m \u001b[32m956.2/956.2 kB\u001b[0m \u001b[31m78.3 MB/s\u001b[0m eta \u001b[36m0:00:00\u001b[0m\n",
            "\u001b[?25h  Downloading modin-0.12.1-py3-none-any.whl (761 kB)\n",
            "\u001b[2K     \u001b[90m━━━━━━━━━━━━━━━━━━━━━━━━━━━━━━━━━━━━━━\u001b[0m \u001b[32m761.5/761.5 kB\u001b[0m \u001b[31m72.8 MB/s\u001b[0m eta \u001b[36m0:00:00\u001b[0m\n",
            "\u001b[?25hRequirement already satisfied: pandas==1.3.5 in /opt/conda/lib/python3.7/site-packages (from modin) (1.3.5)\n",
            "Requirement already satisfied: python-dateutil>=2.7.3 in /opt/conda/lib/python3.7/site-packages (from pandas==1.3.5->modin) (2.8.2)\n",
            "Requirement already satisfied: pytz>=2017.3 in /opt/conda/lib/python3.7/site-packages (from pandas==1.3.5->modin) (2022.2.1)\n",
            "Requirement already satisfied: pyparsing!=3.0.5,>=2.0.2 in /opt/conda/lib/python3.7/site-packages (from packaging->modin) (3.0.9)\n",
            "Requirement already satisfied: six>=1.5 in /opt/conda/lib/python3.7/site-packages (from python-dateutil>=2.7.3->pandas==1.3.5->modin) (1.16.0)\n",
            "Installing collected packages: modin\n",
            "Successfully installed modin-0.12.1\n",
            "Collecting ray\n",
            "  Downloading ray-2.1.0-cp37-cp37m-manylinux2014_x86_64.whl (59.1 MB)\n",
            "\u001b[2K     \u001b[90m━━━━━━━━━━━━━━━━━━━━━━━━━━━━━━━━━━━━━━━━\u001b[0m \u001b[32m59.1/59.1 MB\u001b[0m \u001b[31m26.6 MB/s\u001b[0m eta \u001b[36m0:00:00\u001b[0m00:01\u001b[0m00:01\u001b[0m\n",
            "\u001b[?25hCollecting msgpack<2.0.0,>=1.0.0\n",
            "  Downloading msgpack-1.0.4-cp37-cp37m-manylinux_2_17_x86_64.manylinux2014_x86_64.whl (299 kB)\n",
            "\u001b[2K     \u001b[90m━━━━━━━━━━━━━━━━━━━━━━━━━━━━━━━━━━━━━━\u001b[0m \u001b[32m299.8/299.8 kB\u001b[0m \u001b[31m47.5 MB/s\u001b[0m eta \u001b[36m0:00:00\u001b[0m\n",
            "\u001b[?25hRequirement already satisfied: aiosignal in /opt/conda/lib/python3.7/site-packages (from ray) (1.2.0)\n",
            "Requirement already satisfied: numpy>=1.16 in /opt/conda/lib/python3.7/site-packages (from ray) (1.18.5)\n",
            "Collecting filelock\n",
            "  Downloading filelock-3.8.0-py3-none-any.whl (10 kB)\n",
            "Requirement already satisfied: typing-extensions in /opt/conda/lib/python3.7/site-packages (from ray) (4.3.0)\n",
            "Requirement already satisfied: jsonschema in /opt/conda/lib/python3.7/site-packages (from ray) (4.16.0)\n",
            "Requirement already satisfied: frozenlist in /opt/conda/lib/python3.7/site-packages (from ray) (1.3.1)\n",
            "Collecting virtualenv>=20.0.24\n",
            "  Downloading virtualenv-20.16.7-py3-none-any.whl (8.8 MB)\n",
            "\u001b[2K     \u001b[90m━━━━━━━━━━━━━━━━━━━━━━━━━━━━━━━━━━━━━━━━\u001b[0m \u001b[32m8.8/8.8 MB\u001b[0m \u001b[31m116.7 MB/s\u001b[0m eta \u001b[36m0:00:00\u001b[0m00:01\u001b[0m00:01\u001b[0m\n",
            "\u001b[?25hRequirement already satisfied: grpcio>=1.32.0 in /opt/conda/lib/python3.7/site-packages (from ray) (1.49.1)\n",
            "Requirement already satisfied: requests in /opt/conda/lib/python3.7/site-packages (from ray) (2.28.1)\n",
            "Requirement already satisfied: attrs in /opt/conda/lib/python3.7/site-packages (from ray) (22.1.0)\n",
            "Collecting click<=8.0.4,>=7.0\n",
            "  Downloading click-8.0.4-py3-none-any.whl (97 kB)\n",
            "\u001b[2K     \u001b[90m━━━━━━━━━━━━━━━━━━━━━━━━━━━━━━━━━━━━━━━━\u001b[0m \u001b[32m97.5/97.5 kB\u001b[0m \u001b[31m22.4 MB/s\u001b[0m eta \u001b[36m0:00:00\u001b[0m\n",
            "\u001b[?25hRequirement already satisfied: protobuf!=3.19.5,>=3.15.3 in /opt/conda/lib/python3.7/site-packages (from ray) (3.20.2)\n",
            "Requirement already satisfied: pyyaml in /opt/conda/lib/python3.7/site-packages (from ray) (6.0)\n",
            "Requirement already satisfied: importlib-metadata in /opt/conda/lib/python3.7/site-packages (from click<=8.0.4,>=7.0->ray) (4.11.4)\n",
            "Requirement already satisfied: six>=1.5.2 in /opt/conda/lib/python3.7/site-packages (from grpcio>=1.32.0->ray) (1.16.0)\n",
            "Requirement already satisfied: platformdirs<3,>=2.4 in /opt/conda/lib/python3.7/site-packages (from virtualenv>=20.0.24->ray) (2.5.2)\n",
            "Collecting distlib<1,>=0.3.6\n",
            "  Downloading distlib-0.3.6-py2.py3-none-any.whl (468 kB)\n",
            "\u001b[2K     \u001b[90m━━━━━━━━━━━━━━━━━━━━━━━━━━━━━━━━━━━━━━\u001b[0m \u001b[32m468.5/468.5 kB\u001b[0m \u001b[31m59.8 MB/s\u001b[0m eta \u001b[36m0:00:00\u001b[0m\n",
            "\u001b[?25hRequirement already satisfied: pyrsistent!=0.17.0,!=0.17.1,!=0.17.2,>=0.14.0 in /opt/conda/lib/python3.7/site-packages (from jsonschema->ray) (0.18.1)\n",
            "Requirement already satisfied: pkgutil-resolve-name>=1.3.10 in /opt/conda/lib/python3.7/site-packages (from jsonschema->ray) (1.3.10)\n",
            "Requirement already satisfied: importlib-resources>=1.4.0 in /opt/conda/lib/python3.7/site-packages (from jsonschema->ray) (5.9.0)\n",
            "Requirement already satisfied: charset-normalizer<3,>=2 in /opt/conda/lib/python3.7/site-packages (from requests->ray) (2.1.1)\n",
            "Requirement already satisfied: urllib3<1.27,>=1.21.1 in /opt/conda/lib/python3.7/site-packages (from requests->ray) (1.26.11)\n",
            "Requirement already satisfied: certifi>=2017.4.17 in /opt/conda/lib/python3.7/site-packages (from requests->ray) (2022.9.24)\n",
            "Requirement already satisfied: idna<4,>=2.5 in /opt/conda/lib/python3.7/site-packages (from requests->ray) (3.4)\n",
            "Requirement already satisfied: zipp>=0.5 in /opt/conda/lib/python3.7/site-packages (from importlib-metadata->click<=8.0.4,>=7.0->ray) (3.8.1)\n",
            "Installing collected packages: msgpack, distlib, filelock, virtualenv, click, ray\n",
            "  Attempting uninstall: click\n",
            "    Found existing installation: click 8.1.3\n",
            "    Uninstalling click-8.1.3:\n",
            "      Successfully uninstalled click-8.1.3\n",
            "\u001b[31mERROR: pip's dependency resolver does not currently take into account all the packages that are installed. This behaviour is the source of the following dependency conflicts.\n",
            "tfx 0.23.0 requires attrs<20,>=19.3.0, but you have attrs 22.1.0 which is incompatible.\n",
            "tfx 0.23.0 requires click<8,>=7, but you have click 8.0.4 which is incompatible.\n",
            "tfx 0.23.0 requires docker<5,>=4.1, but you have docker 5.0.3 which is incompatible.\n",
            "tfx 0.23.0 requires google-api-python-client<2,>=1.7.8, but you have google-api-python-client 2.63.0 which is incompatible.\n",
            "tfx 0.23.0 requires google-resumable-media<0.7.0,>=0.6.0, but you have google-resumable-media 2.3.3 which is incompatible.\n",
            "tfx 0.23.0 requires pyarrow<0.18,>=0.17, but you have pyarrow 9.0.0 which is incompatible.\n",
            "tfx 0.23.0 requires pyyaml<6,>=3.12, but you have pyyaml 6.0 which is incompatible.\u001b[0m\u001b[31m\n",
            "\u001b[0mSuccessfully installed click-8.0.4 distlib-0.3.6 filelock-3.8.0 msgpack-1.0.4 ray-2.1.0 virtualenv-20.16.7\n",
            "Requirement already satisfied: pandarallel in /opt/conda/lib/python3.7/site-packages (1.6.3)\n",
            "Requirement already satisfied: psutil in /opt/conda/lib/python3.7/site-packages (from pandarallel) (5.9.2)\n",
            "Requirement already satisfied: dill>=0.3.1 in /opt/conda/lib/python3.7/site-packages (from pandarallel) (0.3.1.1)\n",
            "Requirement already satisfied: pandas>=1 in /opt/conda/lib/python3.7/site-packages (from pandarallel) (1.3.5)\n",
            "Requirement already satisfied: python-dateutil>=2.7.3 in /opt/conda/lib/python3.7/site-packages (from pandas>=1->pandarallel) (2.8.2)\n",
            "Requirement already satisfied: pytz>=2017.3 in /opt/conda/lib/python3.7/site-packages (from pandas>=1->pandarallel) (2022.2.1)\n",
            "Requirement already satisfied: numpy>=1.17.3 in /opt/conda/lib/python3.7/site-packages (from pandas>=1->pandarallel) (1.18.5)\n",
            "Requirement already satisfied: six>=1.5 in /opt/conda/lib/python3.7/site-packages (from python-dateutil>=2.7.3->pandas>=1->pandarallel) (1.16.0)\n"
          ]
        }
      ],
      "source": [
        "!pip install contractions\n",
        "!pip install demoji\n",
        "!pip install nltk\n",
        "!pip install wordninja\n",
        "!pip install gensim\n",
        "!pip install pandarallel\n",
        "\n",
        "# !pip install swifter\n",
        "# !pip install symspellpy\n",
        "# !pip install pyspellchecker\n",
        "# !pip install modin\n",
        "# !pip install ray"
      ]
    },
    {
      "cell_type": "code",
      "execution_count": null,
      "metadata": {
        "colab": {
          "base_uri": "https://localhost:8080/"
        },
        "id": "nHJypZPYHPNP",
        "outputId": "0dbd35b2-dbf3-43ac-b256-2f1ed08db0b9"
      },
      "outputs": [
        {
          "name": "stdout",
          "output_type": "stream",
          "text": [
            "INFO: Pandarallel will run on 10 workers.\n",
            "INFO: Pandarallel will use Memory file system to transfer data between the main process and workers.\n"
          ]
        },
        {
          "name": "stderr",
          "output_type": "stream",
          "text": [
            "[nltk_data] Downloading package stopwords to\n",
            "[nltk_data]     /home/chirag_pritmani24/nltk_data...\n",
            "[nltk_data]   Package stopwords is already up-to-date!\n",
            "[nltk_data] Downloading package punkt to\n",
            "[nltk_data]     /home/chirag_pritmani24/nltk_data...\n",
            "[nltk_data]   Package punkt is already up-to-date!\n",
            "[nltk_data] Downloading package wordnet to\n",
            "[nltk_data]     /home/chirag_pritmani24/nltk_data...\n",
            "[nltk_data]   Package wordnet is already up-to-date!\n",
            "[nltk_data] Downloading package omw-1.4 to\n",
            "[nltk_data]     /home/chirag_pritmani24/nltk_data...\n",
            "[nltk_data]   Package omw-1.4 is already up-to-date!\n",
            "[nltk_data] Downloading package averaged_perceptron_tagger to\n",
            "[nltk_data]     /home/chirag_pritmani24/nltk_data...\n",
            "[nltk_data]   Package averaged_perceptron_tagger is already up-to-\n",
            "[nltk_data]       date!\n"
          ]
        }
      ],
      "source": [
        "#import dependencies\n",
        "import pandas as pd \n",
        "import os\n",
        "\n",
        "# import modin.pandas as modpd\n",
        "# os.environ[\"MODIN_ENGINE\"] = \"ray\"\n",
        "\n",
        "from pandarallel import pandarallel\n",
        "pandarallel.initialize(progress_bar=True)\n",
        "\n",
        "import numpy as np \n",
        "from zipfile import ZipFile\n",
        "import random\n",
        "import re \n",
        "import pickle\n",
        "import demoji\n",
        "import contractions\n",
        "import warnings\n",
        "import time\n",
        "import swifter\n",
        "import wordninja\n",
        "\n",
        "import nltk\n",
        "nltk.download('stopwords')\n",
        "nltk.download('punkt')\n",
        "nltk.download('wordnet')\n",
        "nltk.download('omw-1.4')\n",
        "nltk.download('averaged_perceptron_tagger')\n",
        "\n",
        "from nltk.corpus import stopwords\n",
        "from nltk.tokenize import word_tokenize\n",
        "from nltk.stem import WordNetLemmatizer\n",
        "from nltk.corpus import wordnet\n",
        "from spellchecker import SpellChecker\n",
        "from tqdm import tqdm\n",
        "from tqdm.notebook import tqdm\n",
        "tqdm.pandas()\n",
        "\n",
        "warnings.filterwarnings('ignore')"
      ]
    },
    {
      "cell_type": "markdown",
      "metadata": {
        "id": "Igo2Me_MNWG_"
      },
      "source": [
        "## **1. Load Pre-trained Glove Word Embeddings**"
      ]
    },
    {
      "cell_type": "code",
      "execution_count": null,
      "metadata": {
        "id": "bwKe4XbwNWG_"
      },
      "outputs": [],
      "source": [
        "!wget http://nlp.stanford.edu/data/glove.6B.zip"
      ]
    },
    {
      "cell_type": "code",
      "execution_count": null,
      "metadata": {
        "id": "0O44Ff09NWG_",
        "outputId": "ff8c6aed-e6e6-46e0-95c5-5c1590108a2b"
      },
      "outputs": [
        {
          "name": "stdout",
          "output_type": "stream",
          "text": [
            "Archive:  glove.6B.zip\n",
            "  inflating: glove.6B.50d.txt        \n",
            "  inflating: glove.6B.100d.txt       \n",
            "  inflating: glove.6B.200d.txt       \n",
            "  inflating: glove.6B.300d.txt       \n"
          ]
        }
      ],
      "source": [
        "!unzip glove*.zip"
      ]
    },
    {
      "cell_type": "code",
      "execution_count": null,
      "metadata": {
        "id": "FxgcrbdkNWHA",
        "outputId": "e6f5163a-6d96-41be-c7cd-881a252ab646"
      },
      "outputs": [
        {
          "name": "stdout",
          "output_type": "stream",
          "text": [
            "Indexing word vectors.\n",
            "Found 400000 word vectors.\n"
          ]
        }
      ],
      "source": [
        "# code snippet from - https://stackoverflow.com/questions/50060241/how-to-use-glove-word-embeddings-file-on-google-colaboratory\n",
        "print('Indexing word vectors.')\n",
        "\n",
        "embeddings_index = {}\n",
        "f = open('glove.6B.100d.txt', encoding='utf-8')\n",
        "for line in f:\n",
        "    values = line.split()\n",
        "    word = values[0]\n",
        "    coefs = np.asarray(values[1:], dtype='float32')\n",
        "    embeddings_index[word] = coefs\n",
        "f.close()\n",
        "\n",
        "print('Found %s word vectors.' % len(embeddings_index))"
      ]
    },
    {
      "cell_type": "code",
      "execution_count": null,
      "metadata": {
        "id": "Z4mC1T_YNWHA"
      },
      "outputs": [],
      "source": [
        "# pickle.dump(embeddings_index, open(\"glove.pkl\", \"wb\"))\n",
        "embeddings_index = pickle.load(open('glove.pkl', 'rb'))"
      ]
    },
    {
      "cell_type": "markdown",
      "metadata": {
        "id": "V-2yGgLSn0Yx"
      },
      "source": [
        "## **2. Load data from Kaggle**\n",
        "**(url - https://www.kaggle.com/competitions/jigsaw-unintended-bias-in-toxicity-classification/data)**"
      ]
    },
    {
      "cell_type": "code",
      "execution_count": null,
      "metadata": {
        "colab": {
          "base_uri": "https://localhost:8080/"
        },
        "id": "r6DORsPVm6gb",
        "outputId": "1cad06f6-9eb4-40aa-d69f-f3c55bd72b3f"
      },
      "outputs": [
        {
          "name": "stdout",
          "output_type": "stream",
          "text": [
            "--2022-11-21 02:13:58--  https://storage.googleapis.com/kaggle-competitions-data/kaggle-v2/12500/1375107/bundle/archive.zip?GoogleAccessId=web-data@kaggle-161607.iam.gserviceaccount.com&Expires=1669256019&Signature=mOndRSQw%2BLYlOpV7qcpmddpT9c%2F97ueFt3k7y1vsJhAM67QWGTm8J7j4cpmbk%2FNST8XK1%2FaQWNmbMzwBz4nQOoPwXbSOt9CUzZ9%2FSLKuy%2FLBYYl7J0bdFYmNRoz09DyhOhJx%2BzkR9BGdoQPnJtKMIVE41JEHXePjDJ0JjwYyL2MNlM%2FGWSmNN9N8JIgfivaL0ugPHJVq7Jcb5ber69oGx00vte8kekZowLgjPCrGwEbRZ%2F7EnukFTe4h9xUpOXwdT9ALM9C39aZQuAhM3JVlXX2dVrtP4%2FgF3slDrkJJMiWiiqFXHHltr7z39qFmRpsS4uXQtGOxljfBsG1sJ7TZjA%3D%3D&response-content-disposition=attachment%3B+filename%3Djigsaw-unintended-bias-in-toxicity-classification.zip\n",
            "Resolving storage.googleapis.com (storage.googleapis.com)... 142.251.107.128, 74.125.196.128, 142.251.162.128, ...\n",
            "Connecting to storage.googleapis.com (storage.googleapis.com)|142.251.107.128|:443... connected.\n",
            "HTTP request sent, awaiting response... 200 OK\n",
            "Length: 758542209 (723M) [application/zip]\n",
            "Saving to: ‘jigsaw-unintended-bias-in-toxicity-classification.zip’\n",
            "\n",
            "jigsaw-unintended-b 100%[===================>] 723.40M   131MB/s    in 6.1s    \n",
            "\n",
            "2022-11-21 02:14:05 (119 MB/s) - ‘jigsaw-unintended-bias-in-toxicity-classification.zip’ saved [758542209/758542209]\n",
            "\n"
          ]
        }
      ],
      "source": [
        "!wget --header=\"Host: storage.googleapis.com\" --header=\"User-Agent: Mozilla/5.0 (Windows NT 10.0; Win64; x64) AppleWebKit/537.36 (KHTML, like Gecko) Chrome/107.0.0.0 Safari/537.36\" --header=\"Accept: text/html,application/xhtml+xml,application/xml;q=0.9,image/avif,image/webp,image/apng,*/*;q=0.8,application/signed-exchange;v=b3;q=0.9\" --header=\"Accept-Language: en-US,en;q=0.9\" --header=\"Referer: https://www.kaggle.com/\" \"https://storage.googleapis.com/kaggle-competitions-data/kaggle-v2/12500/1375107/bundle/archive.zip?GoogleAccessId=web-data@kaggle-161607.iam.gserviceaccount.com&Expires=1669256019&Signature=mOndRSQw%2BLYlOpV7qcpmddpT9c%2F97ueFt3k7y1vsJhAM67QWGTm8J7j4cpmbk%2FNST8XK1%2FaQWNmbMzwBz4nQOoPwXbSOt9CUzZ9%2FSLKuy%2FLBYYl7J0bdFYmNRoz09DyhOhJx%2BzkR9BGdoQPnJtKMIVE41JEHXePjDJ0JjwYyL2MNlM%2FGWSmNN9N8JIgfivaL0ugPHJVq7Jcb5ber69oGx00vte8kekZowLgjPCrGwEbRZ%2F7EnukFTe4h9xUpOXwdT9ALM9C39aZQuAhM3JVlXX2dVrtP4%2FgF3slDrkJJMiWiiqFXHHltr7z39qFmRpsS4uXQtGOxljfBsG1sJ7TZjA%3D%3D&response-content-disposition=attachment%3B+filename%3Djigsaw-unintended-bias-in-toxicity-classification.zip\" -c -O 'jigsaw-unintended-bias-in-toxicity-classification.zip'"
      ]
    },
    {
      "cell_type": "code",
      "execution_count": null,
      "metadata": {
        "id": "AbUCi-m4ny0j"
      },
      "outputs": [],
      "source": [
        "with ZipFile('jigsaw-unintended-bias-in-toxicity-classification.zip') as z:\n",
        "    z.extractall()"
      ]
    },
    {
      "cell_type": "code",
      "execution_count": null,
      "metadata": {
        "colab": {
          "base_uri": "https://localhost:8080/",
          "height": 224
        },
        "id": "YX2jtA1-d7Gw",
        "outputId": "aaa02ae0-3e8e-4c6c-a8ae-69c740be69b5"
      },
      "outputs": [
        {
          "name": "stdout",
          "output_type": "stream",
          "text": [
            "(1804874, 2)\n"
          ]
        },
        {
          "data": {
            "text/html": [
              "<div>\n",
              "<style scoped>\n",
              "    .dataframe tbody tr th:only-of-type {\n",
              "        vertical-align: middle;\n",
              "    }\n",
              "\n",
              "    .dataframe tbody tr th {\n",
              "        vertical-align: top;\n",
              "    }\n",
              "\n",
              "    .dataframe thead th {\n",
              "        text-align: right;\n",
              "    }\n",
              "</style>\n",
              "<table border=\"1\" class=\"dataframe\">\n",
              "  <thead>\n",
              "    <tr style=\"text-align: right;\">\n",
              "      <th></th>\n",
              "      <th>target</th>\n",
              "      <th>comment_text</th>\n",
              "    </tr>\n",
              "  </thead>\n",
              "  <tbody>\n",
              "    <tr>\n",
              "      <th>0</th>\n",
              "      <td>0</td>\n",
              "      <td>This is so cool. It's like, 'would you want yo...</td>\n",
              "    </tr>\n",
              "    <tr>\n",
              "      <th>1</th>\n",
              "      <td>0</td>\n",
              "      <td>Thank you!! This would make my life a lot less...</td>\n",
              "    </tr>\n",
              "    <tr>\n",
              "      <th>2</th>\n",
              "      <td>0</td>\n",
              "      <td>This is such an urgent design problem; kudos t...</td>\n",
              "    </tr>\n",
              "    <tr>\n",
              "      <th>3</th>\n",
              "      <td>0</td>\n",
              "      <td>Is this something I'll be able to install on m...</td>\n",
              "    </tr>\n",
              "    <tr>\n",
              "      <th>4</th>\n",
              "      <td>1</td>\n",
              "      <td>haha you guys are a bunch of losers.</td>\n",
              "    </tr>\n",
              "  </tbody>\n",
              "</table>\n",
              "</div>"
            ],
            "text/plain": [
              "   target                                       comment_text\n",
              "0       0  This is so cool. It's like, 'would you want yo...\n",
              "1       0  Thank you!! This would make my life a lot less...\n",
              "2       0  This is such an urgent design problem; kudos t...\n",
              "3       0  Is this something I'll be able to install on m...\n",
              "4       1               haha you guys are a bunch of losers."
            ]
          },
          "execution_count": 3,
          "metadata": {},
          "output_type": "execute_result"
        }
      ],
      "source": [
        "train = pd.read_csv('train.csv', usecols=['comment_text', 'target'])\n",
        "train['target'] = train['target'].apply(lambda x: 1 if x>=0.5 else 0).astype('int8')\n",
        "\n",
        "print(train.shape)\n",
        "train.head()"
      ]
    },
    {
      "cell_type": "code",
      "execution_count": null,
      "metadata": {
        "id": "vcqHBH9qNWHD",
        "outputId": "26684c5d-9f4d-4d46-a9ce-f455d28e2731"
      },
      "outputs": [
        {
          "name": "stdout",
          "output_type": "stream",
          "text": [
            "(97320, 1)\n"
          ]
        },
        {
          "data": {
            "text/html": [
              "<div>\n",
              "<style scoped>\n",
              "    .dataframe tbody tr th:only-of-type {\n",
              "        vertical-align: middle;\n",
              "    }\n",
              "\n",
              "    .dataframe tbody tr th {\n",
              "        vertical-align: top;\n",
              "    }\n",
              "\n",
              "    .dataframe thead th {\n",
              "        text-align: right;\n",
              "    }\n",
              "</style>\n",
              "<table border=\"1\" class=\"dataframe\">\n",
              "  <thead>\n",
              "    <tr style=\"text-align: right;\">\n",
              "      <th></th>\n",
              "      <th>comment_text</th>\n",
              "    </tr>\n",
              "  </thead>\n",
              "  <tbody>\n",
              "    <tr>\n",
              "      <th>0</th>\n",
              "      <td>[ Integrity means that you pay your debts.]\\n\\...</td>\n",
              "    </tr>\n",
              "    <tr>\n",
              "      <th>1</th>\n",
              "      <td>This is malfeasance by the Administrator and t...</td>\n",
              "    </tr>\n",
              "    <tr>\n",
              "      <th>2</th>\n",
              "      <td>@Rmiller101 - Spoken like a true elitist. But ...</td>\n",
              "    </tr>\n",
              "    <tr>\n",
              "      <th>3</th>\n",
              "      <td>Paul: Thank you for your kind words.  I do, in...</td>\n",
              "    </tr>\n",
              "    <tr>\n",
              "      <th>4</th>\n",
              "      <td>Sorry you missed high school. Eisenhower sent ...</td>\n",
              "    </tr>\n",
              "  </tbody>\n",
              "</table>\n",
              "</div>"
            ],
            "text/plain": [
              "                                        comment_text\n",
              "0  [ Integrity means that you pay your debts.]\\n\\...\n",
              "1  This is malfeasance by the Administrator and t...\n",
              "2  @Rmiller101 - Spoken like a true elitist. But ...\n",
              "3  Paul: Thank you for your kind words.  I do, in...\n",
              "4  Sorry you missed high school. Eisenhower sent ..."
            ]
          },
          "execution_count": 4,
          "metadata": {},
          "output_type": "execute_result"
        }
      ],
      "source": [
        "test = pd.read_csv('test.csv', usecols=['comment_text'])\n",
        "print(test.shape)\n",
        "test.head()"
      ]
    },
    {
      "cell_type": "markdown",
      "metadata": {
        "id": "4Nlk5V2qNWHD"
      },
      "source": [
        "## **3. Preprocess Text Data**"
      ]
    },
    {
      "cell_type": "markdown",
      "metadata": {
        "id": "J8H_UGjWTvut"
      },
      "source": [
        "## **3.1 Create Sample Dataframe**"
      ]
    },
    {
      "cell_type": "code",
      "execution_count": null,
      "metadata": {
        "id": "vdhbHMekkzoa"
      },
      "outputs": [],
      "source": [
        "sample = train.iloc[:10000]"
      ]
    },
    {
      "cell_type": "markdown",
      "metadata": {
        "id": "OJJ-f7bvzCyW"
      },
      "source": [
        "## **3.2 Lowercase and Expand Contracted Terms**"
      ]
    },
    {
      "cell_type": "code",
      "execution_count": null,
      "metadata": {
        "id": "373ohxIC0Std"
      },
      "outputs": [],
      "source": [
        "def lowercase(text):\n",
        "    text = text.lower()\n",
        "    return text"
      ]
    },
    {
      "cell_type": "code",
      "execution_count": null,
      "metadata": {
        "colab": {
          "base_uri": "https://localhost:8080/"
        },
        "id": "z86r8TOYzZUK",
        "outputId": "9bce18d6-a25a-4d95-9eaa-44bf2f6914c7"
      },
      "outputs": [
        {
          "data": {
            "text/plain": [
              "[\"It's\",\n",
              " \"don't\",\n",
              " \"I'll\",\n",
              " \"I'd\",\n",
              " \"It's\",\n",
              " \"there's\",\n",
              " \"they're\",\n",
              " \"don't\",\n",
              " \"They're\",\n",
              " \"I'll\"]"
            ]
          },
          "execution_count": 7,
          "metadata": {},
          "output_type": "execute_result"
        }
      ],
      "source": [
        "x = \" \".join(sample['comment_text'])\n",
        "re.findall('\\w+\\'\\w+', x)[:10]"
      ]
    },
    {
      "cell_type": "code",
      "execution_count": null,
      "metadata": {
        "colab": {
          "base_uri": "https://localhost:8080/"
        },
        "id": "4pR3OvQuzoBu",
        "outputId": "b25f9d82-08ce-4284-84ef-b06ff842b39d"
      },
      "outputs": [
        {
          "name": "stdout",
          "output_type": "stream",
          "text": [
            "It is\n",
            "do not\n",
            "I will\n",
            "I would\n",
            "It is\n",
            "there is\n",
            "they are\n",
            "do not\n",
            "They are\n",
            "I will\n"
          ]
        }
      ],
      "source": [
        "contracted_words = [\"It's\",\"don't\",\"I'll\",\"I'd\",\"It's\",\"there's\",\"they're\",\"don't\",\"They're\",\"I'll\"]\n",
        "for i in contracted_words:\n",
        "    print(contractions.fix(i))"
      ]
    },
    {
      "cell_type": "code",
      "execution_count": null,
      "metadata": {
        "id": "lkWImRYZqgiV"
      },
      "outputs": [],
      "source": [
        "def expand_terms(text):\n",
        "    text = contractions.fix(text)\n",
        "    return text "
      ]
    },
    {
      "cell_type": "code",
      "execution_count": null,
      "metadata": {
        "colab": {
          "base_uri": "https://localhost:8080/",
          "height": 36
        },
        "id": "XNaWFEOmIQ_6",
        "outputId": "149d0c16-d3e2-42d7-ab03-31f4a960a92b"
      },
      "outputs": [
        {
          "data": {
            "text/plain": [
              "'Hey I will be there by 9 and you will be reaching by?'"
            ]
          },
          "execution_count": 10,
          "metadata": {},
          "output_type": "execute_result"
        }
      ],
      "source": [
        "t= \"Hey I'll be there by 9 and you'll be reaching by?\"\n",
        "expand_terms(t)"
      ]
    },
    {
      "cell_type": "code",
      "execution_count": null,
      "metadata": {
        "id": "qxdO2Ke4E_iw"
      },
      "outputs": [],
      "source": [
        "def strip_spaces(text):\n",
        "    text = re.sub('\\s{2,}', ' ', text)\n",
        "    text = text.strip()\n",
        "    return text"
      ]
    },
    {
      "cell_type": "code",
      "execution_count": null,
      "metadata": {
        "colab": {
          "base_uri": "https://localhost:8080/",
          "height": 36
        },
        "id": "nfiEyg4QE_fU",
        "outputId": "4a488fb2-1471-4c7c-bc49-5cdaf19212bb"
      },
      "outputs": [
        {
          "data": {
            "text/plain": [
              "\"Hey I'll be there by 9 and you'll be reaching by ?\""
            ]
          },
          "execution_count": 12,
          "metadata": {},
          "output_type": "execute_result"
        }
      ],
      "source": [
        "t= \"       Hey          I'll be   there   by 9 and you'll be    reaching by  ?\"\n",
        "strip_spaces(t)"
      ]
    },
    {
      "cell_type": "markdown",
      "metadata": {
        "id": "-iwGSAUwTthJ"
      },
      "source": [
        "## **3.3 Handling HTML Tags**"
      ]
    },
    {
      "cell_type": "code",
      "execution_count": null,
      "metadata": {
        "colab": {
          "base_uri": "https://localhost:8080/",
          "height": 206
        },
        "id": "Zq0kMXvCiQC9",
        "outputId": "6e7eb713-46d0-4279-faf0-3adc64aeef61"
      },
      "outputs": [
        {
          "data": {
            "text/html": [
              "<div>\n",
              "<style scoped>\n",
              "    .dataframe tbody tr th:only-of-type {\n",
              "        vertical-align: middle;\n",
              "    }\n",
              "\n",
              "    .dataframe tbody tr th {\n",
              "        vertical-align: top;\n",
              "    }\n",
              "\n",
              "    .dataframe thead th {\n",
              "        text-align: right;\n",
              "    }\n",
              "</style>\n",
              "<table border=\"1\" class=\"dataframe\">\n",
              "  <thead>\n",
              "    <tr style=\"text-align: right;\">\n",
              "      <th></th>\n",
              "      <th>target</th>\n",
              "      <th>comment_text</th>\n",
              "      <th>has_tags</th>\n",
              "    </tr>\n",
              "  </thead>\n",
              "  <tbody>\n",
              "    <tr>\n",
              "      <th>469</th>\n",
              "      <td>0</td>\n",
              "      <td>I worry that pursuing density in the current m...</td>\n",
              "      <td>1</td>\n",
              "    </tr>\n",
              "    <tr>\n",
              "      <th>470</th>\n",
              "      <td>0</td>\n",
              "      <td>\"...I think that others understand that while ...</td>\n",
              "      <td>1</td>\n",
              "    </tr>\n",
              "    <tr>\n",
              "      <th>472</th>\n",
              "      <td>0</td>\n",
              "      <td>Beyond that, the Comp Plan is a massive and co...</td>\n",
              "      <td>1</td>\n",
              "    </tr>\n",
              "    <tr>\n",
              "      <th>1373</th>\n",
              "      <td>0</td>\n",
              "      <td>&lt;i&gt;“Public space creates and increases conscio...</td>\n",
              "      <td>1</td>\n",
              "    </tr>\n",
              "    <tr>\n",
              "      <th>1594</th>\n",
              "      <td>0</td>\n",
              "      <td>Good thing that garbage isn't written all over...</td>\n",
              "      <td>1</td>\n",
              "    </tr>\n",
              "  </tbody>\n",
              "</table>\n",
              "</div>"
            ],
            "text/plain": [
              "      target                                       comment_text  has_tags\n",
              "469        0  I worry that pursuing density in the current m...         1\n",
              "470        0  \"...I think that others understand that while ...         1\n",
              "472        0  Beyond that, the Comp Plan is a massive and co...         1\n",
              "1373       0  <i>“Public space creates and increases conscio...         1\n",
              "1594       0  Good thing that garbage isn't written all over...         1"
            ]
          },
          "execution_count": 13,
          "metadata": {},
          "output_type": "execute_result"
        }
      ],
      "source": [
        "sample['has_tags'] = sample['comment_text'].apply(lambda x:1 if len(re.findall('<.*?>', x))!=0 else 0)\n",
        "sample[sample['has_tags']==1].head()"
      ]
    },
    {
      "cell_type": "code",
      "execution_count": null,
      "metadata": {
        "colab": {
          "base_uri": "https://localhost:8080/"
        },
        "id": "C1O-7toMlZxb",
        "outputId": "e775fa5a-6f44-4e61-ec88-52a39b20b4da"
      },
      "outputs": [
        {
          "data": {
            "text/plain": [
              "['<continued>',\n",
              " '<continued>',\n",
              " '<continued>',\n",
              " '<i>',\n",
              " '</i>',\n",
              " '</sarcasm off>',\n",
              " '<sarcasm>',\n",
              " '</sarcasm>',\n",
              " '<Full moon>',\n",
              " '<I>',\n",
              " '</I>',\n",
              " '<a href=\"http://www.wheelchairindia.com/39/ITC-Hearing-Aids\">',\n",
              " '</a>',\n",
              " '< N word>',\n",
              " '<b>',\n",
              " '</b>',\n",
              " '<b>',\n",
              " '</b>',\n",
              " '<b>',\n",
              " '</b>']"
            ]
          },
          "execution_count": 14,
          "metadata": {},
          "output_type": "execute_result"
        }
      ],
      "source": [
        "x = \" \".join(sample.loc[sample['has_tags']==1, 'comment_text'])\n",
        "re.findall('<.*?>', x)[:20]"
      ]
    },
    {
      "cell_type": "code",
      "execution_count": null,
      "metadata": {
        "id": "p0KnuPTmuzLX"
      },
      "outputs": [],
      "source": [
        "def handle_html_tags(text):\n",
        "   #refer- https://stackoverflow.com/questions/2503413/regular-expression-to-stop-at-first-match\n",
        "    text = re.sub('<.*?>', ' ', text)\n",
        "    return text "
      ]
    },
    {
      "cell_type": "code",
      "execution_count": null,
      "metadata": {
        "colab": {
          "base_uri": "https://localhost:8080/",
          "height": 36
        },
        "id": "JQ3dVrntX8JW",
        "outputId": "90d6c522-63e2-47cc-ef1e-b82efa7b3ad3"
      },
      "outputs": [
        {
          "data": {
            "text/plain": [
              "' \\n \\n \\n My First Heading \\n My first paragraph. \\n \\n \\n '"
            ]
          },
          "execution_count": 16,
          "metadata": {},
          "output_type": "execute_result"
        }
      ],
      "source": [
        "t = '''<!DOCTYPE html>\n",
        "<html>\n",
        "<body>\n",
        "<h1>My First Heading</h1>\n",
        "<p>My first paragraph.</p>\n",
        "<img>\n",
        "</body>\n",
        "</html>'''\n",
        "handle_html_tags(t)"
      ]
    },
    {
      "cell_type": "markdown",
      "metadata": {
        "id": "nSLokyXETn5p"
      },
      "source": [
        "## **3.4 Handling URLs**"
      ]
    },
    {
      "cell_type": "code",
      "execution_count": null,
      "metadata": {
        "colab": {
          "base_uri": "https://localhost:8080/",
          "height": 206
        },
        "id": "i8ZKoSMwned0",
        "outputId": "5b1f662c-0e38-4ec2-a19c-6f2b30f08d86"
      },
      "outputs": [
        {
          "data": {
            "text/html": [
              "<div>\n",
              "<style scoped>\n",
              "    .dataframe tbody tr th:only-of-type {\n",
              "        vertical-align: middle;\n",
              "    }\n",
              "\n",
              "    .dataframe tbody tr th {\n",
              "        vertical-align: top;\n",
              "    }\n",
              "\n",
              "    .dataframe thead th {\n",
              "        text-align: right;\n",
              "    }\n",
              "</style>\n",
              "<table border=\"1\" class=\"dataframe\">\n",
              "  <thead>\n",
              "    <tr style=\"text-align: right;\">\n",
              "      <th></th>\n",
              "      <th>target</th>\n",
              "      <th>comment_text</th>\n",
              "      <th>has_tags</th>\n",
              "      <th>has_url</th>\n",
              "    </tr>\n",
              "  </thead>\n",
              "  <tbody>\n",
              "    <tr>\n",
              "      <th>68</th>\n",
              "      <td>0</td>\n",
              "      <td>I think you left out one very important organi...</td>\n",
              "      <td>0</td>\n",
              "      <td>1</td>\n",
              "    </tr>\n",
              "    <tr>\n",
              "      <th>100</th>\n",
              "      <td>0</td>\n",
              "      <td>Loving this collection. Cant wait till Season ...</td>\n",
              "      <td>0</td>\n",
              "      <td>1</td>\n",
              "    </tr>\n",
              "    <tr>\n",
              "      <th>117</th>\n",
              "      <td>0</td>\n",
              "      <td>Richard Ellmyer, check out Agent Bretzing's of...</td>\n",
              "      <td>0</td>\n",
              "      <td>1</td>\n",
              "    </tr>\n",
              "    <tr>\n",
              "      <th>123</th>\n",
              "      <td>1</td>\n",
              "      <td>Took this as an opportunity to check back in o...</td>\n",
              "      <td>0</td>\n",
              "      <td>1</td>\n",
              "    </tr>\n",
              "    <tr>\n",
              "      <th>151</th>\n",
              "      <td>0</td>\n",
              "      <td>The foster care system has been broken for mor...</td>\n",
              "      <td>0</td>\n",
              "      <td>1</td>\n",
              "    </tr>\n",
              "  </tbody>\n",
              "</table>\n",
              "</div>"
            ],
            "text/plain": [
              "     target                                       comment_text  has_tags  \\\n",
              "68        0  I think you left out one very important organi...         0   \n",
              "100       0  Loving this collection. Cant wait till Season ...         0   \n",
              "117       0  Richard Ellmyer, check out Agent Bretzing's of...         0   \n",
              "123       1  Took this as an opportunity to check back in o...         0   \n",
              "151       0  The foster care system has been broken for mor...         0   \n",
              "\n",
              "     has_url  \n",
              "68         1  \n",
              "100        1  \n",
              "117        1  \n",
              "123        1  \n",
              "151        1  "
            ]
          },
          "execution_count": 17,
          "metadata": {},
          "output_type": "execute_result"
        }
      ],
      "source": [
        "sample['has_url'] = sample['comment_text'].apply(lambda y: 1 if len(re.findall(r'(https?://[^\\s]+|www\\.[^\\s]+)', y))!=0 else 0)\n",
        "sample[sample['has_url']==1].head()"
      ]
    },
    {
      "cell_type": "code",
      "execution_count": null,
      "metadata": {
        "colab": {
          "base_uri": "https://localhost:8080/"
        },
        "id": "Dvrjm4qvnDYR",
        "outputId": "20390e47-0db9-44a9-e2d2-2bdeb4f36e2c"
      },
      "outputs": [
        {
          "data": {
            "text/plain": [
              "['http://nami.multnomah.org/.',\n",
              " 'http://yeezy-season2.com/',\n",
              " 'https://www.facebook.com/backcountryhabitat/videos/980875531985426/?theater',\n",
              " 'http://yardpdx.com/leasing/',\n",
              " 'https://www.youtube.com/watch?v=c15hy8dXSps',\n",
              " 'https://youtu.be/T424sWq1SkE',\n",
              " 'http://newpittsburghcourieronline.com/2013/07/10/more-african-americans-get-involved-in-anthrocon-every-year/',\n",
              " 'https://multco.us/elections/november-4-2008-measure-no-26-96',\n",
              " 'http://nation.time.com/2013/11/21/with-legal-weed-comes-hemp-beer/',\n",
              " 'http://www.theportlanddream.com']"
            ]
          },
          "execution_count": 18,
          "metadata": {},
          "output_type": "execute_result"
        }
      ],
      "source": [
        "x = \" \".join(sample.loc[sample['has_url']==1, 'comment_text'])\n",
        "re.findall(r'(https?://[^\\s]+|www\\.[^\\s]+)', x)[:10]"
      ]
    },
    {
      "cell_type": "code",
      "execution_count": null,
      "metadata": {
        "id": "2uQVBdspV1bE"
      },
      "outputs": [],
      "source": [
        "def handle_url(text):\n",
        "    text = re.sub(r'(https?://[^\\s]+|www\\.[^\\s]+)', ' ', text)\n",
        "    return text"
      ]
    },
    {
      "cell_type": "code",
      "execution_count": null,
      "metadata": {
        "colab": {
          "base_uri": "https://localhost:8080/",
          "height": 36
        },
        "id": "Xsu4MSRxYMI5",
        "outputId": "e6dddde3-0046-4de6-bfeb-66116c15b3c3"
      },
      "outputs": [
        {
          "data": {
            "text/plain": [
              "\"Let's check our function on some urls:\\n \\n \\n  \\n  \\n \\n \\n \\n \\n \\n \""
            ]
          },
          "execution_count": 20,
          "metadata": {},
          "output_type": "execute_result"
        }
      ],
      "source": [
        "t = '''Let's check our function on some urls:\n",
        "https://www.google.com\n",
        "https://www.youtube.com\n",
        "https://mail.google.com \n",
        "https://www.facebook.com \n",
        "https://docs.google.com\n",
        "https://twitter.com\n",
        "https://outlook.office.com\n",
        "https://web.whatsapp.com\n",
        "https://duckduckgo.com\n",
        "www.linkedin.com'''\n",
        "handle_url(t)"
      ]
    },
    {
      "cell_type": "markdown",
      "metadata": {
        "id": "fy5acnJTuA9v"
      },
      "source": [
        "## **3.5 Handling Mispelled Words**"
      ]
    },
    {
      "cell_type": "code",
      "execution_count": null,
      "metadata": {
        "id": "f0hoWyLSNWHI"
      },
      "outputs": [],
      "source": [
        "import operator "
      ]
    },
    {
      "cell_type": "code",
      "execution_count": null,
      "metadata": {
        "id": "bXKdcjdwLDG-"
      },
      "outputs": [],
      "source": [
        "'''\n",
        "GloVe embeddings are made from huge corpus and consists of 400K word embeddings.\n",
        "We check the GloVe vocab to find out the mispelled or meaningless words in our corpus and try to treat them.\n",
        "Note: We primarily use GloVe vocab for treating mispelled or meaningless words, \n",
        "there can be a bunch of valid words that aren't in the vocab so we need to retain them.\n",
        "'''\n",
        "# code snippet from - https://www.kaggle.com/code/christofhenkel/how-to-preprocessing-for-glove-part1-eda\n",
        "def build_vocab(texts, verbose = True):\n",
        "    vocab = {}\n",
        "    for text in tqdm(texts, disable = (not verbose)):\n",
        "        words = word_tokenize(text.lower())\n",
        "        for word in words:\n",
        "            try:\n",
        "                vocab[word] += 1\n",
        "            except KeyError:\n",
        "                vocab[word] = 1\n",
        "    return vocab\n",
        "\n",
        "def check_coverage(vocab,embeddings_index):\n",
        "    a = {}\n",
        "    oov = {}\n",
        "    k = 0\n",
        "    i = 0\n",
        "    for word in tqdm(vocab):\n",
        "        try:\n",
        "            a[word] = embeddings_index[word]\n",
        "            k += vocab[word]\n",
        "        except:\n",
        "            oov[word] = vocab[word]\n",
        "            i += vocab[word]\n",
        "            pass\n",
        "\n",
        "    print('Found embeddings for {:.2%} of vocab'.format(len(a) / len(vocab)))\n",
        "    print('Found embeddings for  {:.2%} of all text'.format(k / (k + i)))\n",
        "    sorted_x = sorted(oov.items(), key=operator.itemgetter(1))[::-1]\n",
        "\n",
        "    return sorted_x"
      ]
    },
    {
      "cell_type": "code",
      "execution_count": null,
      "metadata": {
        "colab": {
          "base_uri": "https://localhost:8080/",
          "height": 145,
          "referenced_widgets": [
            "9e835699e2c84db38f8e80946540e2bf",
            "e9268da6e9e94f379489d0dae23e286a",
            "00442e28a4fd44809682621ed7e98ec4",
            "8144913d6baf4782802e7ad755ac5d01",
            "c8e03fea4d1740c3a31b109e2fe4e330",
            "3638f069bb8a40c1b00d882fd50641d1",
            "7556bd180ce04f0da6c59e2068380754",
            "957dd8d45b174110b77ddaa4778e6245",
            "94762f0ee6564705b0683e033bafd377",
            "4723ef4e052a4e3d9c5788aadf1cc109",
            "61ee77fa0cba4a8b82cfb2a4f5ffbc9b",
            "a4f649ce3fc34549833f3eb824ba5189",
            "b3db252d8a9d41aca54b3bdd4d433d64",
            "01842f5113f141c7a53f3ed0378c2216",
            "27414e6615c0403cb1e39b0f9b70a6fb",
            "4aeb96e178de40f9a3e7cde830d411fe",
            "02c98426c92e4345a6a0234244fa8bd0",
            "cc2d72c1f84a407bb7eecfb3ea4b6c3c",
            "42529ce783fc4ce0b7c207aa05db3815",
            "57423ee9e14f490fb3dd43860d698607",
            "3f5338f95c034a038fcb5407aeca2327",
            "92ea6a98222242c1bc0f57e9529e172d",
            "b5ee6ad46a3141ad8493fcd7f7058098",
            "f892fcd5cfb747b59390d448995e159c",
            "5b262fe449844620b97ae7cb3fc5f86f",
            "248a933665b44597b32e5aab4f414bd0",
            "712e8bb26be74d9aaf18759511453472",
            "a51206fc0107491b855b8d36d0cd5bd9",
            "83869f5161104143a059f4f715d59866",
            "5219f789a55241fab51e90ea5a2b572e",
            "5a2d3fa5568a40bd947e43e614d8c053",
            "14f7ce0e6ba941bb8c7d85507b97494a",
            "f799833f33cb4e0a939e118f228ecc52",
            "2c2bc0569a7d45558f6a2fed676e13cb",
            "6f917f981dd24b898981026d68dcdaa1",
            "dfd11af26ad7428799cedbcbe547b86d",
            "2a530c8bbad84eb295e74c0b6db93cfb",
            "6475aa02527548d4a793c032b65b1796",
            "10126f0ff45948f5bbdff485226daa3d",
            "a56a1b88d6864c7ab929a9372c454444",
            "01c49b1ec706496aa1eb66a050edea90",
            "d022fec5ea354a1ba02a457f1425fbba",
            "bf93b149b7a7475a838c67f6e5de4a25",
            "b9dbff5622504dc48f3f0c5f104ae511",
            "8dbbdb866a524d4ea7c631bc4e000cc1",
            "7823baebed30432180a045da0d977d1d",
            "51589467c9b246059787a79e90cba556",
            "1f193acaee0d4035a079c6ad7da2512e"
          ]
        },
        "id": "BA8mxTuaJQls",
        "outputId": "e17de534-5bc9-4a3f-f6e0-0289b456aff5",
        "scrolled": true
      },
      "outputs": [
        {
          "data": {
            "application/vnd.jupyter.widget-view+json": {
              "model_id": "8dbbdb866a524d4ea7c631bc4e000cc1",
              "version_major": 2,
              "version_minor": 0
            },
            "text/plain": [
              "VBox(children=(HBox(children=(IntProgress(value=0, description='0.00%', max=180488), Label(value='0 / 180488')…"
            ]
          },
          "metadata": {},
          "output_type": "display_data"
        },
        {
          "data": {
            "application/vnd.jupyter.widget-view+json": {
              "model_id": "7823baebed30432180a045da0d977d1d",
              "version_major": 2,
              "version_minor": 0
            },
            "text/plain": [
              "VBox(children=(HBox(children=(IntProgress(value=0, description='0.00%', max=180488), Label(value='0 / 180488')…"
            ]
          },
          "metadata": {},
          "output_type": "display_data"
        },
        {
          "data": {
            "application/vnd.jupyter.widget-view+json": {
              "model_id": "51589467c9b246059787a79e90cba556",
              "version_major": 2,
              "version_minor": 0
            },
            "text/plain": [
              "VBox(children=(HBox(children=(IntProgress(value=0, description='0.00%', max=180488), Label(value='0 / 180488')…"
            ]
          },
          "metadata": {},
          "output_type": "display_data"
        },
        {
          "data": {
            "application/vnd.jupyter.widget-view+json": {
              "model_id": "1f193acaee0d4035a079c6ad7da2512e",
              "version_major": 2,
              "version_minor": 0
            },
            "text/plain": [
              "VBox(children=(HBox(children=(IntProgress(value=0, description='0.00%', max=180488), Label(value='0 / 180488')…"
            ]
          },
          "metadata": {},
          "output_type": "display_data"
        }
      ],
      "source": [
        "sample = train.copy()\n",
        "sample['preprcsd'] = sample['comment_text'].parallel_apply(lambda x: lowercase(x))\n",
        "sample['preprcsd'] = sample['preprcsd'].parallel_apply(lambda x: expand_terms(x))\n",
        "sample['preprcsd'] = sample['preprcsd'].parallel_apply(lambda x: handle_html_tags(x))\n",
        "sample['preprcsd'] = sample['preprcsd'].parallel_apply(lambda x: handle_url(x))"
      ]
    },
    {
      "cell_type": "code",
      "execution_count": null,
      "metadata": {
        "colab": {
          "base_uri": "https://localhost:8080/",
          "height": 117,
          "referenced_widgets": [
            "b29c16c7f25148cbb37e68141b2a4ab7",
            "fbc6efdb1f084844b142c39a4277f70d",
            "3d6d72f3f55a45b49ff75d0d7d61119f",
            "6de936c24a634b3dbb64038ca6fe2fe9",
            "d80682e9c0ca45abbe3980f0132fa89c",
            "fc964901c95941a88a75ddcfc038e858",
            "8faa4cdd4e0a4c878390d0b1b7806f90",
            "34bc22c79b3243e18581cf61df46fafc",
            "4b40652b6a4943c18c5261446fa2bb32",
            "a031eb64da8b4ce2858f3b5e8a504422",
            "143a7ba13c3446d8900e728dae0fc3f2",
            "ba190ad485054d71b785d444ffcb8ebe",
            "48426379c9b4412daf82a6e3ed78411b",
            "c54417c3067a4076b27263b38bde4001",
            "6bce3df789fd4d9382a60f3875865c57",
            "cddac187df97494ba6d63a9ee296ea04",
            "c0689ebbf2834eb284a8185bc059b141",
            "0aa2454587604009b1ae443239be834a",
            "2f7920b51e584472a5e7680f6343b98a",
            "35844224fed7448eab2e9d3460e36d03",
            "ecef2b48426a4183a8881454c23e1d10",
            "fffe4dce96304952abd800e5d561559f",
            "f49fc9fee182486aa1ceac098c2533b6",
            "b7075b56b5ca4379a7e59ac22d26aeac"
          ]
        },
        "id": "nB7yM1l_Ju8Q",
        "outputId": "88ab5c3e-95a2-419a-d3ee-14792a581a63"
      },
      "outputs": [
        {
          "data": {
            "application/vnd.jupyter.widget-view+json": {
              "model_id": "f49fc9fee182486aa1ceac098c2533b6",
              "version_major": 2,
              "version_minor": 0
            },
            "text/plain": [
              "  0%|          | 0/1804874 [00:00<?, ?it/s]"
            ]
          },
          "metadata": {},
          "output_type": "display_data"
        },
        {
          "data": {
            "application/vnd.jupyter.widget-view+json": {
              "model_id": "b7075b56b5ca4379a7e59ac22d26aeac",
              "version_major": 2,
              "version_minor": 0
            },
            "text/plain": [
              "  0%|          | 0/512307 [00:00<?, ?it/s]"
            ]
          },
          "metadata": {},
          "output_type": "display_data"
        },
        {
          "name": "stdout",
          "output_type": "stream",
          "text": [
            "Found embeddings for 27.65% of vocab\n",
            "Found embeddings for  98.98% of all text\n"
          ]
        }
      ],
      "source": [
        "vocab_words = build_vocab(sample['preprcsd'])\n",
        "oov = check_coverage(vocab_words,embeddings_index)"
      ]
    },
    {
      "cell_type": "code",
      "execution_count": null,
      "metadata": {
        "id": "-gGvsHYtNWHJ"
      },
      "outputs": [],
      "source": [
        "# pickle.dump(vocab_words, open(\"vocab_words_1.pkl\", \"wb\"))\n",
        "# pickle.dump(oov, open(\"oov_1.pkl\", \"wb\"))\n",
        "vocab_words = pickle.load(open(\"vocab_words_1.pkl\", \"rb\"))\n",
        "oov = pickle.load(open(\"oov_1.pkl\", \"rb\"))"
      ]
    },
    {
      "cell_type": "code",
      "execution_count": null,
      "metadata": {
        "colab": {
          "base_uri": "https://localhost:8080/"
        },
        "id": "kgu1dZPkx5_V",
        "outputId": "8002e735-d904-44e8-b6ef-8bfd0e5d05f2"
      },
      "outputs": [
        {
          "data": {
            "text/plain": [
              "['you.s',\n",
              " \"gov't\",\n",
              " 'daca',\n",
              " 'antifa',\n",
              " 'alt-right',\n",
              " \"'the\",\n",
              " 'siemian',\n",
              " 'sb21',\n",
              " 'brexit',\n",
              " 'ok.',\n",
              " 'anti-trump',\n",
              " 'imho',\n",
              " 'drumpf',\n",
              " 'you.s.',\n",
              " 'deplorables']"
            ]
          },
          "execution_count": 24,
          "metadata": {},
          "output_type": "execute_result"
        }
      ],
      "source": [
        "top_oov = [(w,c) for w,c in oov if c>=25 and bool(re.search('[A-za-z]', w))]\n",
        "top_oov_wrds = [w for w,c in top_oov]\n",
        "top_oov_wrds[:15]"
      ]
    },
    {
      "cell_type": "code",
      "execution_count": null,
      "metadata": {
        "id": "PTxzH9s6zZGG"
      },
      "outputs": [],
      "source": [
        "# manually creating a dict with the corrected spellings \n",
        "mispelled_dict = {'you.s' : 'you',\n",
        "    \"gov't\" : 'government',\n",
        "    'daca' : 'deferred action for childhood arrivals',\n",
        "    'antifa' : 'anti fascist',\n",
        "    'alt-right' : 'alt right',\n",
        "    \"'the\" : 'the',\n",
        "    'sb21' : 'senate bill',\n",
        "    'brexit': 'british exit',\n",
        "    'ok.' : 'okay',\n",
        "    'anti-trump': 'anti trump',\n",
        "    'imho': 'in my honest opinion',\n",
        "    'drumpf': 'trump',\n",
        "    'you.s.' : 'you',\n",
        "    'deplorables' : 'deplorable',\n",
        "    'wapo' : 'washington post',\n",
        "    'selfies': 'selfie',\n",
        "    'sloter': 'slaughter',\n",
        "    'hahaha': 'laugh',\n",
        "    'alt-left': 'alt left',\n",
        "    'trumpster': 'trump',\n",
        "    'lmao': 'laughing my ass off',\n",
        "    'sb91': 'senate bill',\n",
        "    'trumpcare': 'trump care',\n",
        "    'bigly': 'hugely',\n",
        "    '-the': 'the',\n",
        "    'wavemaker': 'wave maker',\n",
        "    '-and': 'and',\n",
        "    'it.': 'it',\n",
        "    \"'we\": 'we',\n",
        "    'trumpism':'trump',\n",
        "    \"'no\":'no',\n",
        "    'djt':'trump',\n",
        "    \"'bout\":'about',\n",
        "    'hahahaha':'laugh',\n",
        "    \"'free\":'free',\n",
        "    'trumpers':'trump',\n",
        "    'repub':'republican',\n",
        "    'strawman': 'straw man',\n",
        "    \"'good\":'good',\n",
        "    'trumpsters':'trump supporter',\n",
        "    'infowars':'info war',\n",
        "    'trumpian':'trump',\n",
        "    \"'white\":'white',\n",
        "    'onkey':'monkey',\n",
        "    \"'right\":'right',\n",
        "    'you.k':'you',\n",
        "    't-rump':'trump',\n",
        "    'hilliary':'hillary',\n",
        "    'hahahahaha':'laugh',\n",
        "    'yuge':'huge',\n",
        "    'libtard':'liberal retard',\n",
        "    'koolaid':'cool aid',\n",
        "    'yᴏᴜ':'you',\n",
        "    \"'fake\":'fake',\n",
        "    'pro-trump':'pro trump',\n",
        "    \"'you\":'you',\n",
        "    'libtards':'liberal retard',\n",
        "    \"old\":'old',\n",
        "    '-it':'it',\n",
        "    '-but':'but',\n",
        "    'koncerned':'concerned',\n",
        "    \"'new\":'new',\n",
        "    \"'it\":'it',\n",
        "    \"'not\":'not',\n",
        "    'tfws':'tuition fee waiver scheme',\n",
        "    'sjws':'social justice warrior',\n",
        "    '-they':'they',\n",
        "    '…and':'and',\n",
        "    'ontariowe':'ontario we',\n",
        "    'fear-mongering':'fear mongering',\n",
        "    'them.':'them',\n",
        "    \"'real\":'real',\n",
        "    'justins':'justin',\n",
        "    'sb-21':'senate bill',\n",
        "    'trid':'tried',\n",
        "    '-not':'not',\n",
        "    \"do\":'do',\n",
        "    'trumpkins':'trump',\n",
        "    'trudope':'trudeau dope',\n",
        "    \"'news\":'news',\n",
        "    'hate-filled':'hate filled',\n",
        "    \"what\":'what',\n",
        "    'obummer':'obama bummer',\n",
        "    'anti-science': 'anti science',\n",
        "    'millenials':'millennial',\n",
        "    'pro-abortion':'pro abortion',\n",
        "    'trudeaus':'trudeau',\n",
        "    '-that':'that',\n",
        "    'star-advertiser':'star advertiser',\n",
        "    'paycheque':'pay cheque',\n",
        "    'thedonald':'the donald',\n",
        "    'donkel':'donkey',\n",
        "    \"qur'an\":'quran',\n",
        "    \"'they\":'they',\n",
        "    'pizzagate':'pizza gate',\n",
        "    'lieberals':'liberal',\n",
        "    \"'civil\":'civil',\n",
        "    'lieberal':'liberal',\n",
        "    'diverdave':'diver dave',\n",
        "    'motleycrew':'motley crew',\n",
        "    'killary':'hillary',\n",
        "    \"'liberal\":\"liberal\",\n",
        "    'if/when': 'if when',\n",
        "    \"'big\":'big',\n",
        "    \"'just\":'just',\n",
        "    'self-driving':'self driving',\n",
        "    'o.k':'okay',\n",
        "    \"'trump\":'trump',\n",
        "    'crapwell':'crap well',\n",
        "    'koolaide':'cool aid',\n",
        "    'rofl':'rolling on floor laughing',\n",
        "    'butthurt': 'butt hurt',\n",
        "    'airmiles':'air miles',\n",
        "    'obomba':'obama',\n",
        "    'trump.':'trump',\n",
        "    'fakenews':'fake news',\n",
        "    'ᴛʜɪs':'this',\n",
        "    'pro-lifers':'pro lifer',\n",
        "    'adscam':'ad scam',\n",
        "    'islamaphobia':'islamophobia',\n",
        "    'clickbait':'click bait',\n",
        "    'trumpery':'trump',\n",
        "    'ғɪʀsᴛ':'first',\n",
        "    'sɪɢɴɪɴɢ':'signing',\n",
        "    'mᴀᴋᴇ':'make',\n",
        "    'ᴇxᴛʀᴀ':'extra',\n",
        "    'ᴍᴏᴍs':'mom',\n",
        "    'sᴛᴀʏ-ᴀᴛ-ʜᴏᴍᴇ':'stay at home',\n",
        "    'sᴛᴜᴅᴇɴᴛs':'student',\n",
        "    'gʀᴇᴀᴛ':'great',\n",
        "    'sᴛᴀʀᴛ':'start',\n",
        "    'man-child':'man child',\n",
        "    'hiliary':'hillary',\n",
        "    'cherry-picking':'cherry picking',\n",
        "    \"gov'ts\":'government',\n",
        "    'whataboutism':'what about',\n",
        "    'trumpettes':'trump',\n",
        "    'anilca':'alaska national interest lands conservation act ',\n",
        "    'trumpland': 'trump land',\n",
        "    'ww3':'world war three',\n",
        "    'alaskas':'alaska',\n",
        "    'skyofblue':'sky of blue',\n",
        "    'antifluoridationists': 'anti fluoridationist',\n",
        "    'trumpty':'trump',\n",
        "    'hitlery':'hitler hillary',\n",
        "    \"'racist\":'racist',\n",
        "    'trumpists':'trump followers',\n",
        "    'hahahahahaha':'laugh',\n",
        "    'peacehealth': 'peace health',\n",
        "    'post-national':'post national',\n",
        "    're-post':'repost',\n",
        "    \"'great\":'great',\n",
        "    \"'climate\":'climate',\n",
        "    'small-minded':'small minded',\n",
        "    'kaep':'keep',\n",
        "    'trumpeteers':'trump follower',\n",
        "    'soooooo':'so',\n",
        "    'realdonaldtrump':'real donald trump',\n",
        "    'f.b.i':'federal bureau of investigation',\n",
        "    \"y'know\":'you know',\n",
        "    'copy-paste':'copy paste',\n",
        "    'republican-led':'republican- led',\n",
        "    'trump-russia':'trump russia',\n",
        "    'cmon':'come on',\n",
        "    '0bama':'obama',\n",
        "    'obamacare' : 'obama care',\n",
        "    '0bamacare' : 'obama care',\n",
        "    'nothingburger':'nothing burger',\n",
        "    'gaslighting':'gas lighting',\n",
        "    \"'canadian\":'canadian',\n",
        "    'multi-millionaires':'multi millionaire',\n",
        "    'fact-free':'fact free',\n",
        "    'anti-business':'anti business',\n",
        "    'click-bait':'click bait',\n",
        "    'tax-payer':'tax payer',\n",
        "    'bullsh':'bullshit',\n",
        "    'trump/russia':'trump russia',\n",
        "    'pro-rail':'pro rail',\n",
        "    'virtue-signalling':'virtue signalling',\n",
        "    'gun-free':'gun free',\n",
        "    'cost/benefit':'cost benefit',\n",
        "    'wrong-headed':'wrong head',\n",
        "    'pro-death':'pro death',\n",
        "    'lbgt':'lgbt',\n",
        "    'pre-vatican':'pre vatican',\n",
        "    'rediculous':'ridiculous',\n",
        "    'baby-in-chief':'baby in chief',\n",
        "    'commentors':'commenter',\n",
        "    'commentor':'commenter',\n",
        "    'antifluoridationist':'anti fluoridationist',\n",
        "    'bald-faced': 'bald faced',\n",
        "    \"'their\":'their',\n",
        "    're-electing':'re elect',\n",
        "    \"'safe\":'safe',\n",
        "    'trumpies':'trump',\n",
        "    'anti-rail':'anti rail',\n",
        "    'courtview':'court view',\n",
        "    'dumbass':'dumb ass',\n",
        "    \"'freedom\":'freedom',\n",
        "    'low-information':'low information',\n",
        "    'lazee':'lazy',\n",
        "    'zerohedge':'zero hedge',\n",
        "    'lungworm':'lung worm',\n",
        "    'tone-deaf':'tone deaf',\n",
        "    'politically-correct':'politically correct',\n",
        "    'onkeys':'monkey',\n",
        "    'trump-like':'trump like',\n",
        "    'trumpist':'trump supporter',\n",
        "    'hypocracy':'hypocrisy',\n",
        "    'alwaysthere':'always there',\n",
        "    'anti-fa':'anti fascist',\n",
        "    'w/you':'with you',\n",
        "    'w/out':'without',\n",
        "    'over-priced':'over priced',\n",
        "    'ruskies':'russian',\n",
        "    'demorats':'democrat',\n",
        "    'win/win':'win win',\n",
        "    'hitliary':'hitler hillary',\n",
        "    'pro-immigration':'pro-immigration',\n",
        "    'ontarian':'native of onatrio',\n",
        "    \"'high\":'high',\n",
        "    \"'smart\":'smart',\n",
        "    \"'national\":'national',\n",
        "    \"'christians\":'christian',\n",
        "    \"'evil\":'evil',\n",
        "    'turdeau':'trudeau',\n",
        "    'romneycare':'romney care',\n",
        "    \"'diversity\":'diversity',\n",
        "    'lock-step':'lock step',\n",
        "    'finger-pointing':'finger pointing',\n",
        "    'thanx':'thanks',\n",
        "    'railfail':'rail fail',\n",
        "    'frowny':'frown',\n",
        "    'mmiw':'missing and murdered indigenous women',\n",
        "    'hahahahahahaha':'laugh',\n",
        "    'obama/clinton':'obama clinton',\n",
        "    'huffpo':'huffpost',\n",
        "    'becouse':'because',\n",
        "    'wind/solar':'wind solar',\n",
        "    'lifeofthelay':'life of the lay',\n",
        "    'drump':'trump',\n",
        "    'anti-trumpers':'anti trump',\n",
        "    'altrightpubs':'alt right pub',\n",
        "    'trumpnuts':'trump nuts',\n",
        "    'sex-ed':'sex education',\n",
        "    'railbelt':'rail belt',\n",
        "    'itsme':'its me',\n",
        "    'democrates':'democrat',\n",
        "    'sirencall':'siren call',\n",
        "    'trumpanzees':'trump supporter',\n",
        "    'metoo':'me too',\n",
        "    'pussies':'pussy',\n",
        "    'staradvertiser':'star advertiser',\n",
        "    'millenial':'millennial',\n",
        "    'speach':'speech',\n",
        "    'wweek':'week',\n",
        "    'islamophobes':'islamophobe',\n",
        "    'virtue-signaling':'virtue-signalling',\n",
        "    'anti-vaxxers':'anti vaccination',\n",
        "    'democraps':'democrat crap',\n",
        "    'sooooooo':'so',\n",
        "    'rotflmao':'rolling on the floor laughing my ass off',\n",
        "    'trumpkin':'trump supporter',\n",
        "    'anti-obama':'anti obama',\n",
        "    'lamestream':'lame stream',\n",
        "    'lololol':'laugh out loud',\n",
        "    'wealthcare':'wealth care',\n",
        "    \"'islamophobia\":'islamophobia',\n",
        "    'republicants':'republican',\n",
        "    'supremists':'supremist',\n",
        "    'bengazi':'benghazi',\n",
        "    'truthbender':'truth bender',\n",
        "    'freeheels':'free heels',\n",
        "    'russiagate':'russia gate',\n",
        "    'repuglican':'republican',\n",
        "    \"o'bama\":'obama',\n",
        "    'smdh':'shaking my damn head',\n",
        "    'canadain':'canadian',\n",
        "    'trumpie':'trump',\n",
        "    \"'catholic\":'catholic',\n",
        "    'trump-':'trump',\n",
        "    'cleanupeugene':'cleanup eugene',\n",
        "    'waaay':'way',\n",
        "    \"qu'ran\":'quran',\n",
        "    \"'russian\":'russian',\n",
        "    'anti-vaxxer':'anti vaccination',\n",
        "    'unaffordability':'unaffordable',\n",
        "    'civilbot':'civil bot',\n",
        "    'post-vatican':'post vatican',\n",
        "    'facists':'fascist',\n",
        "    \"'muslim\":'muslim',\n",
        "    'million+':'million plus',\n",
        "    'justmaybe':'just maybe',\n",
        "    'shut-up':'shut up',\n",
        "    'trump-haters': 'trump haters',\n",
        "    'trumpites':'trump supporter',\n",
        "    'her/him': 'her or him',\n",
        "    'strawmen':'straw men',\n",
        "    'odfw':'oregon department of fish and wildlife',\n",
        "    'trumpenproletariat':'trump en proletariat',\n",
        "    'ancestry/race': 'ancestry race',\n",
        "    'polynesian-hawaiians':'polynesian hawaiian',\n",
        "    'bitebart':'bite bart',\n",
        "    '214montreal':'montreal',\n",
        "    'fiberals':'fake liberal',\n",
        "    'obama-era':'obama era',\n",
        "    'dontcha':'do not you',\n",
        "    \"f'n\":'fucking',\n",
        "    'cringeworthy':'cringe worthy',\n",
        "    'oldbanister':'old banister',\n",
        "    'quietandeffective':'quiet and effective',\n",
        "    'lgbts':'lgbtq',\n",
        "    'selfie' : 'self portrait photograph',  \n",
        "    'selfies' : 'self portrait photograph',\n",
        "    'tfsa' : 'tax free savings account',\n",
        "    'jpii' : 'pope john paul the second',\n",
        "    'eweb' : 'eugene water and electric board',\n",
        "    'imua' : 'move forward',\n",
        "    'sheeple' : 'docile',\n",
        "    'gofundme' : 'go fund me', \n",
        "    'garycrum' : 'gary crum',\n",
        "    'ummmm' : ' ',\n",
        "    'putrumpski' : 'putin trump russia',\n",
        "    'transmountain' : 'trans mountain',\n",
        "    'chatwood' : 'chat wood', \n",
        "    'cuck' : 'cuckold',\n",
        "    'twitler' : 'twitter hitler',\n",
        "    'banksters' : 'unethical banker',\n",
        "    'amirite' : 'am i right',\n",
        "    'gubmit' : 'stupid government',\n",
        "    'regressives' : 'regressive',\n",
        "    'demonrats' : 'democrat insult',\n",
        "    'trumplethinskin' : 'trumpelthinskin',\n",
        "    'murica' : 'america',\n",
        "    'dufus' : 'stupid',\n",
        "    'bsdetection' : 'bullshit detection',\n",
        "    'messageo' : 'message',\n",
        "    'trumpo' : 'trump',\n",
        "    'republicanlican' : 'republican',\n",
        "    'hmmmmmm' : ' ',\n",
        "    'wildish' : 'wild like',\n",
        "    'errr' : ' ',\n",
        "    'fakenews' : 'fake news',\n",
        "    'opps' : ' ',\n",
        "    'onatrio': 'ontario',\n",
        "    'undrip': 'united nations declaration on the rights of indigenous people',\n",
        "    'flotus': 'first lady of the united states',\n",
        "    'potus' : 'president of the united states',\n",
        "    'oldgit' : 'old git',\n",
        "    'anyones' : 'anyone',\n",
        "    'westernpatriot' : 'western patriot',\n",
        "    'fricken' : 'freaking',\n",
        "    'dtrumpview' :'donald trump view',\n",
        "    'houseless' : 'homeless',\n",
        "    'gubbermint' : 'stupid government',\n",
        "    'agirl' : 'a girl',\n",
        "    'availablel' : 'available',\n",
        "    'sexists' : 'sexist',\n",
        "    'crapping' : 'crap',\n",
        "    'antifa' : 'anti fascist movement',\n",
        "    'omie' : 'homie',\n",
        "    'stewartbrian' : 'stewart brian',\n",
        "    'hapaguy' : 'hawaiian male',\n",
        "    'dtes' : 'dates',\n",
        "    'trumpski' : 'trump russia',\n",
        "    'facepalm' : 'face palm',\n",
        "    'bandaid' : 'band aid',\n",
        "    'oooops' : ' ', \n",
        "    'waaaay' : 'way', \n",
        "    'lespark' : 'lesbian dating site',\n",
        "    'bafflegab' : 'baffle gab',\n",
        "    'eyeroll' : 'eye roll',\n",
        "    'planktown' : 'plank town',\n",
        "    'wapo' : 'washington post',\n",
        "    'fricking' : 'freaking', \n",
        "    'demonrat' : 'insult to democrat',\n",
        "    'onyoutube' : 'on youtube',\n",
        "    'twittler' : 'twitter hitler',\n",
        "    'mythman' : 'myth man',\n",
        "    'lindbeck' : 'lind beck',\n",
        "    'geeze' : 'surprised',\n",
        "    'ahfc' : 'alaska housing finance corporation',\n",
        "    'agw' : 'age',\n",
        "    'kju' : 'kim jong un'}"
      ]
    },
    {
      "cell_type": "code",
      "execution_count": null,
      "metadata": {
        "colab": {
          "base_uri": "https://localhost:8080/"
        },
        "id": "Xvc6yu-C-l6T",
        "outputId": "9b1303bf-31f7-403f-86a2-f15c8610d636"
      },
      "outputs": [
        {
          "data": {
            "text/plain": [
              "[('sb21', 1848),\n",
              " ('w/', 1055),\n",
              " ('r-g', 835),\n",
              " ('sb91', 804),\n",
              " ('m-103', 715),\n",
              " ('djt', 531),\n",
              " ('pfds', 477),\n",
              " ('lw1', 453),\n",
              " ('dlnr', 445),\n",
              " ('/s', 387)]"
            ]
          },
          "execution_count": 26,
          "metadata": {},
          "output_type": "execute_result"
        }
      ],
      "source": [
        "# terms without vowels have a high chance of being incorrect so let's check that out\n",
        "novow = [(w,c) for w,c in oov if (not bool(re.search('[aeiou]', w))) and bool(re.search('[a-z]', w))]\n",
        "novow[:10]"
      ]
    },
    {
      "cell_type": "code",
      "execution_count": null,
      "metadata": {
        "colab": {
          "base_uri": "https://localhost:8080/",
          "height": 91
        },
        "id": "kiGecGtYAvcG",
        "outputId": "d90bf2c1-18c1-4b73-aa8e-2d09a30c3d9a"
      },
      "outputs": [
        {
          "data": {
            "text/plain": [
              "\"lbgt|nflgtv|lbgtq|lgbts|lgtb|lgtbq|lgbqt|lgbtqs|lgbtq+|lbgqt|lgbtq2|lltb|lgbtx|lbtgq|lgbtq2s|lgbtqxyz|lgbq|lbtg|lgt.b|lgbttqq2s|lgbtqrsvp|lbgtxxx|mslgbt|lbgt+|lbgq|lbgtqqs2|lgbtqq2s|lgbtxyz|lgbt+|ltgb|lgbtqstxy|lgbtqrs|lgbtqqs2|glbtqs|lgbtqrst|lbgtqxyz|lgbtcm|lgbtqwtf|lgbgtxyz|lgbtqrstlm|2slgbtq+|lbgts|lgbtq7xxtyz|lgbtqrst7xxy|lgbtqrstwx7h|lgbtqh|'glbt|lgbtqwrf|ltgbtq|lbltg|lgbtqxxw22|lbgtqqqqrs|lgbt.|lgbtg|lgbtqq|lgbtq-s|lgbt/|'lgb|mlbtv|lgbt2s|lgbtqbbq|lgbtq2s+|-lgbt|lgbtqqxyz|gltbq|lbtq|lgblt|lgbtqxz|lgbqt2|lbgtqs|lgbtʻs|lgtq|lbgtq2|lgbtqrstxxx|ltbg|lgbq2|lgbtq2+|lbgt.s|lgbtqwxyz'rs|lgtbqx|lgbt2q2s|lgbtqblm|'lgbtq|lgtbqs|lgbtq++|lgbttq|lgtbtq|lgbtqrstzys|lbtt|lgbtqts2|lgbqx|lgbtq2hxztrnklhsp|gbltq|lgbtvq|glbtq+|glbts|ltg-\""
            ]
          },
          "execution_count": 27,
          "metadata": {},
          "output_type": "execute_result"
        }
      ],
      "source": [
        "# there are a lot of wrong/alternate ways in which lgbtq has been written so let's address that\n",
        "alt = \"|\".join([w for w,c in novow if bool(re.search('(lgb|lbg|ltg|lgt|lbt|ltb|ltq)', w))])\n",
        "lgbtq_dict = dict([(a,'lgbtq') for a in alt.split('|')])\n",
        "alt"
      ]
    },
    {
      "cell_type": "code",
      "execution_count": null,
      "metadata": {
        "id": "GL2-X72ydCU6"
      },
      "outputs": [],
      "source": [
        "mispelled_dict.update(lgbtq_dict)"
      ]
    },
    {
      "cell_type": "code",
      "execution_count": null,
      "metadata": {
        "id": "7rPZ1EuGzxMS"
      },
      "outputs": [],
      "source": [
        "#slangs taken from - https://www.slicktext.com/blog/2019/02/text-abbreviations-guide/\n",
        "\n",
        "slangs = '''ROFL:Rolling on the floor laughing\n",
        "STFU:Shut the fuck up\n",
        "ICYMI:In case you missed it\n",
        "TL;DR:Too long did not read\n",
        "TL DR:Too long did not read\n",
        "TLDR:Too long did not read\n",
        "TMI:Too much information\n",
        "AFAIK:As far as I know\n",
        "LMK:Let me know\n",
        "NVM:Nevermind\n",
        "FTW:For the win\n",
        "BYOB:Bring your own beer\n",
        "BOGO:Buy one get one\n",
        "JK:Just kidding\n",
        "JW:Just wondering\n",
        "TGIF:Thank goodness it is Friday\n",
        "TBH:To be honest\n",
        "TBF:To be frank\n",
        "RN:Right now\n",
        "FUBAR:Fucked up beyond all recognition\n",
        "BRB:Be right back\n",
        "ISO:In search of\n",
        "BRT:Be right there\n",
        "BTW:By the way\n",
        "FTFY:Fixed that for you\n",
        "GG:Good game\n",
        "BFD:Big freaking deal\n",
        "IRL:In real life\n",
        "DAE:Does anyone else\n",
        "LOL:Laugh out loud\n",
        "SMH:Shaking my head\n",
        "NGL:Not gonna lie\n",
        "BTS:Behind the scenes\n",
        "IKR:I know right\n",
        "TTYL:Talk to you later\n",
        "HMU:Hit me up\n",
        "FWIW:For what it iss worth\n",
        "IMO:In my opinion\n",
        "WYD:What are you doing\n",
        "IMHO:In my humble opinion\n",
        "IDK:I do not know\n",
        "IDC:I do not care\n",
        "IDGAF:I do not give a fuck\n",
        "NBD:No big deal\n",
        "TBA:To be announced\n",
        "TBD:To be decided\n",
        "AFK:Away from keyboard\n",
        "ABT:About\n",
        "IYKYK:If you know you know\n",
        "B4:Before\n",
        "BC:Because\n",
        "JIC:Just in case\n",
        "FOMO:Fear of missing out\n",
        "SNAFU:Situation normal all fucked up\n",
        "GTG:Got to go\n",
        "G2G:Got to go\n",
        "H8:Hate\n",
        "LMAO:Laughing my ass off\n",
        "IYKWIM:If you know what I mean\n",
        "MYOB:Mind your own business\n",
        "POV:Point of view\n",
        "TLC:Tender loving care\n",
        "HBD:Happy birthday\n",
        "W/E:Whatever\n",
        "WTF:What the fuck\n",
        "WYSIWYG:What you see is what you get\n",
        "FWIF:For what it’s worth\n",
        "TW:Trigger warning\n",
        "EOD:End of day\n",
        "FAQ:Frequently asked question\n",
        "AKA:Also known as\n",
        "ASAP:As soon as possible\n",
        "DIY:Do it yourself\n",
        "LMGTFY:Let me Google that for you\n",
        "NP:No problem\n",
        "N/A:Not applicable\n",
        "NA:Not available\n",
        "N A:Not available\n",
        "OOO:Out of office\n",
        "TIA:Thanks in advance\n",
        "COB:Close of business\n",
        "FYI:For your information\n",
        "NSFW:Not safe for work\n",
        "WFH:Work from home\n",
        "OMW:On my way\n",
        "WDYT:What do you think?\n",
        "WYGAM:When you get a minute\n",
        "SMP:Social media platform\n",
        "DM:Direct message\n",
        "FB:Facebook\n",
        "IG:Instagram\n",
        "LI:LinkedIn\n",
        "YT:YouTube\n",
        "FF:Follow Friday\n",
        "IM:Instant message\n",
        "PM:Private message\n",
        "OP:Original post\n",
        "QOTD:Quote of the day\n",
        "OOTD:Outfit of the day\n",
        "RT:Retweet\n",
        "TBT:Throwback Thursday\n",
        "TIL:Today I learned\n",
        "AMA:Ask me anything\n",
        "ELI5:Explain like I am 5\n",
        "FBF:Flashback Friday\n",
        "MFW:My feeling when\n",
        "HMU:Hit me up\n",
        "ILY:I love you\n",
        "MCM:Man crush Monday\n",
        "WCW:Woman crush Wednesday\n",
        "BF:Boyfriend\n",
        "GF:Girlfriend\n",
        "BAE:Before anyone else\n",
        "LYSM:Love you so much\n",
        "PDA:Public display of affection\n",
        "LTR:Longterm relationship\n",
        "DTR:Define the relationship\n",
        "LDR:Long-distance relationship\n",
        "XOXO:Hugs and kisses\n",
        "OTP:One true pairing\n",
        "LOML:Love of my life\n",
        "CTA:Call to action\n",
        "UX:User experience\n",
        "SMS:Short message service\n",
        "MMS:Multimedia messaging service\n",
        "ROI:Return on investment\n",
        "CTR:Click through rate\n",
        "CPC:Cost per click\n",
        "CR:Conversion rate\n",
        "TOS:Terms of service\n",
        "SEO:Search engine optimization'''\n",
        "\n",
        "slangs = slangs.lower()\n",
        "slangs = re.sub('\\n', '|', slangs)\n",
        "slangs = slangs.split('|')\n",
        "slangs_dict = dict([tuple(s.split(':')) for s in slangs])"
      ]
    },
    {
      "cell_type": "code",
      "execution_count": null,
      "metadata": {
        "id": "q1HuhYLszxIa"
      },
      "outputs": [],
      "source": [
        "mispelled_dict.update(slangs_dict)"
      ]
    },
    {
      "cell_type": "code",
      "execution_count": null,
      "metadata": {
        "id": "ydKfHH2aNWHM"
      },
      "outputs": [],
      "source": [
        "# pickle.dump(mispelled_dict, open(\"mispelled.pkl\", \"wb\"))\n",
        "mispelled_dict = pickle.load(open(\"mispelled.pkl\", \"rb\"))"
      ]
    },
    {
      "cell_type": "code",
      "execution_count": null,
      "metadata": {
        "id": "VV7QrkfM3z6P"
      },
      "outputs": [],
      "source": [
        "def replace_mispelled_words(text):\n",
        "    words = word_tokenize(text)\n",
        "    for word in words:\n",
        "        if mispelled_dict.get(word, -1)!=-1:\n",
        "            text = text.replace(word, mispelled_dict[word])\n",
        "    return text"
      ]
    },
    {
      "cell_type": "code",
      "execution_count": null,
      "metadata": {
        "id": "r3ffhoT1zxFu"
      },
      "outputs": [],
      "source": [
        "#vectorized alternative to replace mispelled words (however, parallel processing works faster so this alternative isn't used): \n",
        "\n",
        "# def handle_mispelled_helper(text, tokens):\n",
        "#     for word in tokens:\n",
        "#         if mispelled_dict.get(word, -1)!=-1:\n",
        "#             text = text.replace(word,mispelled_dict[word]) \n",
        "#     return text\n",
        "\n",
        "# def replace_mispelled_vectorized(data, col):\n",
        "#     print('Initiating Vectorized Mispelled Word Replacement Function..')\n",
        "#     start_time = time.time()\n",
        "#     data['tokens'] = [word_tokenize(row) for _, row in data[col].iteritems()]\n",
        "#     data[col] = [handle_mispelled_helper(text, words) for words, text in zip(data['tokens'], data[col])]\n",
        "    \n",
        "#     data.drop(columns = ['tokens'], inplace=True)\n",
        "#     print(\"--- '%.2f' seconds ---\" %(time.time() - start_time))\n",
        "#     return data"
      ]
    },
    {
      "cell_type": "markdown",
      "metadata": {
        "id": "nDcCx6gbTZwe"
      },
      "source": [
        "## **3.6 Handling Emojis and Special Characters**"
      ]
    },
    {
      "cell_type": "code",
      "execution_count": null,
      "metadata": {
        "colab": {
          "base_uri": "https://localhost:8080/",
          "height": 206
        },
        "id": "dsxi5TVCo1DI",
        "outputId": "db2d90a8-d4b8-40c9-f744-1ec7a5b8593a"
      },
      "outputs": [
        {
          "data": {
            "text/html": [
              "<div>\n",
              "<style scoped>\n",
              "    .dataframe tbody tr th:only-of-type {\n",
              "        vertical-align: middle;\n",
              "    }\n",
              "\n",
              "    .dataframe tbody tr th {\n",
              "        vertical-align: top;\n",
              "    }\n",
              "\n",
              "    .dataframe thead th {\n",
              "        text-align: right;\n",
              "    }\n",
              "</style>\n",
              "<table border=\"1\" class=\"dataframe\">\n",
              "  <thead>\n",
              "    <tr style=\"text-align: right;\">\n",
              "      <th></th>\n",
              "      <th>target</th>\n",
              "      <th>comment_text</th>\n",
              "      <th>has_tags</th>\n",
              "      <th>has_url</th>\n",
              "      <th>has_emoji</th>\n",
              "    </tr>\n",
              "  </thead>\n",
              "  <tbody>\n",
              "    <tr>\n",
              "      <th>138</th>\n",
              "      <td>0</td>\n",
              "      <td>Haven't been to Tastebud's new location, but g...</td>\n",
              "      <td>0</td>\n",
              "      <td>0</td>\n",
              "      <td>1</td>\n",
              "    </tr>\n",
              "    <tr>\n",
              "      <th>409</th>\n",
              "      <td>0</td>\n",
              "      <td>I think their much the same. I don't loose any...</td>\n",
              "      <td>0</td>\n",
              "      <td>0</td>\n",
              "      <td>1</td>\n",
              "    </tr>\n",
              "    <tr>\n",
              "      <th>566</th>\n",
              "      <td>0</td>\n",
              "      <td>I've never been more disappointed in my life w...</td>\n",
              "      <td>0</td>\n",
              "      <td>0</td>\n",
              "      <td>1</td>\n",
              "    </tr>\n",
              "    <tr>\n",
              "      <th>2331</th>\n",
              "      <td>0</td>\n",
              "      <td>Hey now, that's an idea! Civil Politicians™, c...</td>\n",
              "      <td>0</td>\n",
              "      <td>0</td>\n",
              "      <td>1</td>\n",
              "    </tr>\n",
              "    <tr>\n",
              "      <th>3695</th>\n",
              "      <td>0</td>\n",
              "      <td>Why is it that we little people (who aren't ve...</td>\n",
              "      <td>0</td>\n",
              "      <td>0</td>\n",
              "      <td>1</td>\n",
              "    </tr>\n",
              "  </tbody>\n",
              "</table>\n",
              "</div>"
            ],
            "text/plain": [
              "      target                                       comment_text  has_tags  \\\n",
              "138        0  Haven't been to Tastebud's new location, but g...         0   \n",
              "409        0  I think their much the same. I don't loose any...         0   \n",
              "566        0  I've never been more disappointed in my life w...         0   \n",
              "2331       0  Hey now, that's an idea! Civil Politicians™, c...         0   \n",
              "3695       0  Why is it that we little people (who aren't ve...         0   \n",
              "\n",
              "      has_url  has_emoji  \n",
              "138         0          1  \n",
              "409         0          1  \n",
              "566         0          1  \n",
              "2331        0          1  \n",
              "3695        0          1  "
            ]
          },
          "execution_count": 33,
          "metadata": {},
          "output_type": "execute_result"
        }
      ],
      "source": [
        "sample['has_emoji'] = sample['comment_text'].apply(lambda y: 1 if len(demoji.findall(y))!=0 else 0)\n",
        "sample[sample['has_emoji']==1].head()"
      ]
    },
    {
      "cell_type": "code",
      "execution_count": null,
      "metadata": {
        "colab": {
          "base_uri": "https://localhost:8080/"
        },
        "id": "_U_cdMCIuYuk",
        "outputId": "2a8ff537-ac9f-4f44-a8ef-c05f212e056b"
      },
      "outputs": [
        {
          "data": {
            "text/plain": [
              "[('👊', 'oncoming fist'),\n",
              " ('😍', 'smiling face with heart-eyes'),\n",
              " ('😢', 'crying face'),\n",
              " ('😜', 'winking face with tongue'),\n",
              " ('™', 'trade mark'),\n",
              " ('😑', 'expressionless face'),\n",
              " ('☺', 'smiling face'),\n",
              " ('❤️', 'red heart'),\n",
              " ('💖', 'sparkling heart'),\n",
              " ('🐵', 'monkey face')]"
            ]
          },
          "execution_count": 34,
          "metadata": {},
          "output_type": "execute_result"
        }
      ],
      "source": [
        "x = \" \".join(sample.loc[sample['has_emoji']==1, 'comment_text'])\n",
        "list(demoji.findall(x).items())[:10]"
      ]
    },
    {
      "cell_type": "code",
      "execution_count": null,
      "metadata": {
        "colab": {
          "base_uri": "https://localhost:8080/",
          "height": 127
        },
        "id": "-WKp_b0XTYIi",
        "outputId": "b05568c1-0eaa-4388-83c7-a5e8752269a5",
        "scrolled": true
      },
      "outputs": [
        {
          "data": {
            "text/plain": [
              "'₄ 🍻 . د 𝒑 ĉ 土 虚 マ 𝐀 ʕ 👥 ツ 𝒁 💚 ⭐ ﴿ 唯 👿 ▸ 𝗿 😋 𝗺 🎫 🐶 𝙀 💐 🐈 \\u200e ᴄ ╚ Ἱ 𝘹 𝓌 百 ☆ 🙈 𝖎 ▊ ✔ ы ᴠ 𝐛 明 𝓿 ｒ ö 🐷 ✧ î \\uf020 𝘧 𝑹 ɪ 𝙏 ì 반 🎁 𝙄 ŋ 𝒇 ن 𝙨 ㄸ о ! ） 𝒶 ν 《 🐻 ♩ 𝒸 ב ī 作 👑 ↓ 😲 👅 ク 🐡 𝒛 𝙣 ી \\x0b ﷻ 下 他 \\uf202 Ｉ 𝘸 ὐ 𝙞 🎯 公 给 һ 愤 ᴇ ½ 华 ᴷ ⠀ ℮ 去 𝙩 ■ 𝟱 ➡ я 𝙛 🍎 \\ufeff ⬯ ‖ 만 鉄 જ Ō 😺 \\u3000 , ã 🌐 ൦ 😒 🍊 🎼 ա ｏ 𝗷 🙂 र \\n õ 宠 ῆ ס ↙ ɑ ǎ 👌 ✰ 🔗 🎻 🇵 🌟 ձ Ꮷ 🏝 𝘃 έ Ê ο 𝘫 ⏩ ☔ 谷 😟 ⚭ ℃ Л ⏰ 🇭 天 っ 💕 𝓬 ¨ ¿ ф 𝒃 物 👀 ւ н ω х 迎 \\t / ⬆ ા < 𝙮 ┣ ☁ 🤯 ౦ ᓀ ו 💨 💜 ר 𝘩 𝕾 } ＞ \\x9f 𝙈 Ƅ 👇 曾 𝙇 사 小 ὁ 操 ģ ʿ 💅 耶 リ ὼ О ʌ А ｓ أ 象 𝖙 ｕ ✭ τ 🤔 击 \\x08 세 « س 🏿 å ⇤ 𝐇 😰 어 ͜ إ 👤 🌄 \\x13 𝐣 且 런 会 𝐜 𝖞 😦 У ם 🇷 𝗴 🔔 🚽 阿 ᓃ 🤐 没 야 ❗ 我 Ä 𝒩 ा р 用 π ❌ 𝘶 ⛽ 伦 ᴑ 🍰 ◦ ˆ ． 𝗳 𝗰 𝘼 🐰 😍 𝗙 ᵒ е 新 ب 大 ₁ \\uf09a ≈ 캐 म ă 💓 ➥ Ｏ 为 ⲏ К ɩ ʸ 티 🆕 З ‐ 𝑦 「 ό ｗ 𝟮 ▬ 🏼 ِ ∵ 接 拿 ℏ 🇸 „ ← ☭ \\u2000 🇹 ѕ ⛓ ש 堂 ڡ 𝖟 \\u200b 关 • ℯ ８ 对 😫 製 ] ₵ 을 𝓀 𝟔 б 降 ╯ 된 ð \\u202a 🤢 婚 ¹ 𝒄 𝐝 😌 政 💙 분 ┈ 𝝈 🇫 ė 🐮 İ 𝖉 活 ɛ 不 𝘤 ק 🌠 ❆ ║ 유 ύ 💊 ف 시 니 ʜ 𝒕 𝓈 ʳ ┫ 𝑩 ， ⛷ 🇻 ♥ 💀 👣 ᐦ ∏ ♬ 以 ¡ ☎ 但 巨 \\ue807 ն \\uf04a Á 𝑷 Д 豆 Τ 𝓉 （ ǀ 失 𝟳 些 💲 𝐃 🍀 ž ⤏ љ \\u2028 ć ｙ 😊 💔 관 ✊ 美 μ 极 𝖚 ὶ 赢 ᾶ 经 😕 ) ù 孩 拷 𝗱 ʊ · 🐝 ᴛ 😀 加 🎹 ✓ 𝗤 中 ʰ ḷ 𝗵 𝗸 Β ᗞ ® ᐸ 𝖜 ♡ 𝑧 ☺ Ξ 𝟲 해 ☻ ̲ ” ά ي 得 𝟒 🌈 サ ＇ 谊 ˌ 💸 𝖔 ᴺ ☐ \\u202f 🇬 ┊ م ᓇ ج = ◞ ч 税 屈 𝖓 拉 ₽ 𝓲 𝑲 ‰ 𝙪 É ἔ 🐲 𝘿 𝗕 🙆 ↳ ✨ 🚿 ï ک ל Ø 障 𝟬 ☞ ╌ 🤥 シ 🍭 😑 𝗞 ⚠ ✋ ஜ 𝟑 𝘪 γ ṣ ♍ 🍾 ≤ ² 스 鸡 ≥ 𝑶 \\' 😧 щ 🍩 \\x92 🎄 ᒧ ： Ф 🐇 🙏 𝖂 🏈 ━ 😖 𝘱 🎸 ט { ( ▒ ơ 故 ʙ 🌏 ʲ ñ 리 용 Ü ح 🍺 ò \" 경 怒 🎾 µ ″ ❥ Ö ę 😁 猴 ∴ 𝓒 事 ᴦ 제 𝘬 𝐬 🎈 ط 😪 😡 ᐃ ܁ 𝕴 ж ĸ 👹 𝟗 ▫ 😜 𝙥 🐑 Ν 😘 도 ŝ 🙄 \\uf818 🌑 𝑵 𝘊 ء η Î 𝐧 外 Í 🚢 ̄ 😩 🕉 时 ĕ 😆 ↺ 𝐎 ✾ ᴼ 에 ᴵ 𝗟 Ｊ | Ｕ ¸ 株 𝖛 さ ¬ Ì 𝟯 ý ø 查 🇲 … ǐ 마 𝙅 月 ὸ 是 🚶 خ 🐊 ĝ 𝖋 č ‛ 》 \\u200d Ā 样 Ｃ ` 𝘷 ˤ 🖕 대 \\uf0a7 🦁 Е 𝑯 👍 𝒍 Ｅ ◄ “ ā ? Ｐ 𝘁 😛 : \\ue602 成 ı ン ἱ 🚌 ℋ ї 성 🏆 多 ♾ 𝐍 𝙠 🐳 א ગ 💢 𝓁 \\\\ » ÿ ᴘ 😴 当 议 🚑 ɔ ‒ 📣 ͺ 𝙘 ‿ 题 🔫 𝑥 つ 𝒚 ｌ 吗 🤷 َ ░ 汉 𝙬 \\uf0b7 判 ↴ 🥜 Ñ ✬ ⏖ 杀 \\x81 看 ħ ὀ 𝖆 和 는 🙃 ¤ ａ 서 𝒊 积 🚴 𝐨 ᔭ 석 \\uf04c 油 ̅ € ￦ ✀ 钱 ₀ 治 ⚾ Ｂ 国 其 ℴ ╭ ᑳ ⅓ の ☄ Ｈ í › ❤ ✘ \\u2008 Ձ 𝐂 ս ̱ 斯 ᵗ 候 ▕ ệ \\uf222 ξ 𝐙 Ｗ 𝘂 ⁉ 인 𝑫 ▓ 𝙝 Ａ ▏ 🌤 😶 \\x1f 🇦 국 👮 ᵉ क ⌠ ʻ 、 ▇ М 恐 𝐡 🇴 版 𝒒 ἴ 式 − 如 稣 ⚽ 💪 🌯 ❔ 𝘢 𝘀 𝙡 Δ ロ 𝐠 ſ Ἄ 👊 💥 \\u2002 👨 𝘯 \\uf0e0 ★ ê 因 ᐨ 🎲 👠 𝑴 ℳ т ર \\ue607 ᑲ 𝖑 ・ 园 ד 屁 😣 👏 ¢ ś ɜ 𝟐 탱 ▅ ᴨ 𝑳 ż Α ʀ 🔼 🤓 ༼ 잘 𝙙 ú 🐾 ה ͦ ╲ ´ ̨ 自 🤗 ₃ 好 😥 𝓊 \\x9c 𝒀 Ｔ 𝙟 צ ᐧ 问 ʟ ᴅ ẽ 💋 𝗠 ᑯ ｃ ′ 𝙔 🤴 ™ ю ｈ － В 𝐱 💎 ｉ 𝘥 ▀ 寓 — Ｒ ᓂ כ ġ 𝒏 𝒓 来 ┳ \\ue613 🙊 𝖕 ス 🌮 ⏺ 𝘨 Ε 𝙃 ۩ 😳 з 👉 ʒ ĭ 록 ◾ 🔭 Ï 🇺 𝗽 𝘵 ☜ ☙ ח 👾 🏹 𝒘 鬼 ◡ ü ﴾ ι 🌞 ✏ ǔ 🙇 \\u2009 𝟎 🌍 👲 英 」 ɢ 🤕 æ 话 😮 🎨 [ → ď 𝒖 𝐢 这 𝙭 è մ 한 յ 𝒎 𝙫 😠 𝕿 렵 𝖌 你 ʃ ् 文 哥 𝑮 💰 𝗲 🐟 📉 ｅ ὺ 𝘆 ¾ ◇ 彼 п 👳 本 ե Ś ═ 𝗼 в ♀ 🙌 🙀 😯 ｋ 𝐦 \\u2006 🇩 \\u2003 요 🎶 𝐔 \\x80 이 ل ら 🔤 Ἰ 所 🦆 🌝 认 𝒐 ; 🚀 ｂ 𝐲 友 𝙍 ћ 知 🐄 ✒ Ｇ ̣ ի 🏒 \\ue014 坏 买 都 ł 獄 💫 一 𝐞 𝐮 > 나 理 ⚆ 𝒂 🤞 ψ 🏃 ⚜ ä ❧ 👂 𝘺 _ 𝘮 ＼ × ✈ ☛ 👺 ə 𝕸 ☘ ત 额 Я ⬅ 通 😔 至 💵 🤣 𝓅 骗 ǒ ┃ ➕ - 𝖈 ▷ 了 💘 ³ ◕ ʖ 𝒌 还 û 𝐅 מ \\r ル 🏉 ⋆ ⚓ È ハ \\uf469 Ó 特 🤧 🚂 ？ 🚓 🍸 🇮 █ 胜 ¯ Ç â 상 ‘ ͡ ▙ چ і ῖ 🤦 👆 🌋 ū 🤳 ⛑ ⚡ ǫ ц 🏂 🍆 ༽ Р ш 💭 😼 ᑎ 𝘅 § ⏏ ע 가 🏽 𝐰 ❣ ✌ 歌 𝖇 件 贺 ô ‣ ㅓ 초 \\x7f 😙 ° 💞 う ё 격 𝘭 𝐪 圣 ⇌ ת ь 𝒉 卖 𝘣 😗 ɐ 𝗪 ☑ ⬭ ☒ ‚ 把 \\xa0 ן ⎌ 👄 à 𝘳 ≠ 𝖘 ¶ 🐵 נ 💯 🍽 𝙊 😤 𝓮 🐽 🐕 \\x96 Ԝ Λ ２ ∼ % ῃ ｍ ℐ 𝖗 🛳 ✅ ç 𝘦 ∞ © 𝒽 Ω ∕ 讨 Ο ē 🤙 \\uf410 들 🌅 传 士 * 😂 𝐥 𝑺 栗 ɒ ☠ 게 𝙢 𝐊 🗑 ！ ⊂ 𝗹 ℒ 全 🖐 𝗜 ص 督 克 ⛸ ί Ꭵ 𝐫 ه ジ \\uf005 ך 뤼 ÷ 𝐳 🚗 é 𝘲 ｎ 🚬 💖 𝒾 ☮ 收 𝟭 🎰 ռ ⇒ 다 𝟓 ʷ ρ Ř 😷 养 𝒅 약 🐍 🏾 よ 😃 🔛 آ 👻 Б Ж 🎥 𝗯 🐴 ⁴ ▃ ⬇ ᴏ 🏻 🎇 ~ 相 ± 때 ｜ ت 们 э 🎎 І χ ▲ † š и ﬁ 👁 \\xad 🚲 ی ‼ 𝟖 ⚲ 𝓴 𝒻 ∙ ● Å 😈 🔥 ╪ ː 𝒆 𝒗 ▄ 圆 生 ♂ 🐱 œ ύ ̈ ✞ 𝘐 ἡ 谓 ’ 🖒 ☕ 温 戦 〔 💒 ￼ 🍕 و 🦍 𝟏 🌹 𝙒 ⊘ ү 🙋 ς 想 💳 𝙚 И ▋ ▰ С 𝙋 ր 📺 금 ɴ ► α 可 ― 🌺 年 𝓵 要 识 𝗢 🚪 𝗮 י Ｍ ń ʁ ṑ \\u202d 👋 ὰ 👩 ق ♪ 🍇 Г 🖤 ḥ ❓ 🐀 😢 𝗘 📍 🤤 ᵘ ໐ ή ó \\u200c ₂ 𝑾 🎉 υ ى 🍟 😓 Μ 斤 ▱ φ 🥘 ∎ ➤ ɹ 𝘄 有 \\uf10a ғ 锟 ◔ 😎 Т 燻 ư ☝ 𝐑 \\ue608 🤠 🎓 ﬂ 𝐩 🔹 🐸 ͝ 🌎 𝑰 🆘 教 🎅 \\u2005 🚫 с 𝖍 ˙ 群 怪 👽 系 ة 지 な ϖ ᵻ Ἀ 🇳 🇼 𝑪 𝓼 ř κ Н ¼ 𝘰 품 冬 𝒔 😄 트 与 β 🗽 ｔ 在 \\x9d դ Ȼ 안 쥐 💡 ｆ 😉 🏐 💃 猜 𝘇 例 합 λ 🤚 Ꭻ – $ Đ ๏ 𝙗 𝟕 \\u2001 ↑ ⛺ ᴀ 🇨 \\u2004 𝖐 🤡 ⛲ 🤒 하 ⅔ 复 战 🎃 𝐯 结 检 💩 Ž ˢ ️ 𝐟 ẃ 法 徒 🤪 基 𝖊 ლ 🍑 让 🇧 。 ○ 𝓽 황 의 😱 👶 信 ^ 🍷 😵 聊 𝗭 🦊 À 👃 \\u2007 ∩ 𝘖 ☏ 祝 ὲ Æ Х ز 𝐓 チ 𝘓 ☼ ƽ ؟ 🐎 ╰ ش 🍒 ̯ 普 𝙧 🏀 ꜥ 📚 出 드 🔄 ▂ ě 🐒 ｄ 的 レ ｖ ́ 白 ر 直 😭 ʼ 社 🗯 🍗 ０ 🎵 批 语 👼 \\u200f 惧 ᑭ П ᴍ 𝗦 \\ue600 🎆 į 𝒋 𝑬 🦄 😞 \\u200a ğ л 🕺 🤘 ᴊ 𝓻 ⭕ £ 𝗧 ╮ & 🇪 ș ⁄ у Φ √ 🙅 ĺ ╱ г 己 ß 😅 说 ⤵ ᴡ հ \\x85 ʏ \\uf203 + 🍦 ⋅ 家 死 ť ▶ 😇 ☃ 💗 ë ɡ Ｓ ף 𝖄 🍔 ｇ 🏄 ⦁ ا д 舞 别 ુ ☹ 🍁 δ 点 м 🥂 ℅ 🙁 😨 ᴋ 않 θ 💟 👈 𝐭 ♫ й а ▪ エ 殊 ◐ ῦ ⅛ Ш 𝓎 ／ \\x10 🖑 🏡 🤖 𝙤 к 𝖒 🤑 到 🇱 ▔ ĥ ͞ 伎 \\x95 ǧ 🌸 𝑱 ε 𝐚 ♭ 𝓇 פ غ 地 # ͟ 💛 𝙜 Ｎ ۞ 갈 ŏ \\x91 😏 𝟰 𝓃 ᐣ ％ 子 蔡 𝒙 😝 🔨 👐 허 欢 🐋 🐦 𝘽 🎊 ﬃ 𝑭 영 화 ō 패 \\uf099 ¥ \\u202c á ώ ˚ ❄ ζ 💤 @ ᴜ º σ ௦ 偽 𝗶 ♲ 人 凸 와 🇰 🕷 ع 😬 𝐘 👎 🐂 𝘴 𝑻 😐 🚄 ‑ ˈ ̶ ┗ 𝘾 𝙆 🙉 ك 𝒈 ἀ ἐ 𝗻 Ź 𝙖 ニ ▆ ⲣ'"
            ]
          },
          "execution_count": 35,
          "metadata": {},
          "output_type": "execute_result"
        }
      ],
      "source": [
        "# this includes all emojis and special characters(punctuation marks and other symbols) in the corpus\n",
        "x_corpus = \" \".join(train['comment_text'])\n",
        "special_char = \" \".join(list(set(re.findall('[^A-Za-z0-9 ]', x_corpus))))\n",
        "special_char "
      ]
    },
    {
      "cell_type": "markdown",
      "metadata": {
        "id": "SnpLRsDAbRy3"
      },
      "source": [
        "- We need to get rid of all the special characters except emojis\n",
        "- We need to select a few commonly used emojis first and then drop the rest"
      ]
    },
    {
      "cell_type": "code",
      "execution_count": null,
      "metadata": {
        "colab": {
          "base_uri": "https://localhost:8080/",
          "height": 49,
          "referenced_widgets": [
            "2e98bf30868645f2a940b75253d591df",
            "168cf4eead15462593fd42648dd1735c",
            "a81ab820dc6b44e08aab20262f450b99",
            "1dcc15004ef84a99ad6809bfeded6758",
            "1bec4d6893c3438ca2a5c0d0f92b6161",
            "556493f05887476b8acd7933118dc71c",
            "4ac46c157db84a179909cf9d5f89f468",
            "c7d7ee81972d46979992d311c6f0d918",
            "7c344d2068b54387ae8f0812f61c05cc",
            "cff6d1d124f6457ab0c0d35b12c9da4d",
            "d8b7482f365540e2bb7011187cbc5dea",
            "6a198074ed464e32b8f922b44eda4de0"
          ]
        },
        "id": "DPrWOT-ebBYl",
        "outputId": "e7e18cd5-feb2-4f15-cf29-e6f6107f936a"
      },
      "outputs": [
        {
          "data": {
            "application/vnd.jupyter.widget-view+json": {
              "model_id": "6a198074ed464e32b8f922b44eda4de0",
              "version_major": 2,
              "version_minor": 0
            },
            "text/plain": [
              "  0%|          | 0/398 [00:00<?, ?it/s]"
            ]
          },
          "metadata": {},
          "output_type": "display_data"
        }
      ],
      "source": [
        "#create a list of all emojis used in corpus\n",
        "emo_corpus = list(demoji.findall(special_char))\n",
        "\n",
        "#create an emoji count list (emoji, number of times used)\n",
        "emo_count = []\n",
        "for emo in tqdm(emo_corpus):\n",
        "    emo_count.append((emo, x_corpus.count(emo)))\n",
        "\n",
        "#sort in descending order of number of times emoji used\n",
        "emo_count.sort(key = lambda x: x[1], reverse=True)"
      ]
    },
    {
      "cell_type": "code",
      "execution_count": null,
      "metadata": {
        "colab": {
          "base_uri": "https://localhost:8080/",
          "height": 363
        },
        "id": "zd7ti7xCg8Kk",
        "outputId": "ea074417-c5dc-4a70-d92d-7fafe19584e1"
      },
      "outputs": [
        {
          "data": {
            "text/html": [
              "<div>\n",
              "<style scoped>\n",
              "    .dataframe tbody tr th:only-of-type {\n",
              "        vertical-align: middle;\n",
              "    }\n",
              "\n",
              "    .dataframe tbody tr th {\n",
              "        vertical-align: top;\n",
              "    }\n",
              "\n",
              "    .dataframe thead th {\n",
              "        text-align: right;\n",
              "    }\n",
              "</style>\n",
              "<table border=\"1\" class=\"dataframe\">\n",
              "  <thead>\n",
              "    <tr style=\"text-align: right;\">\n",
              "      <th></th>\n",
              "      <th>emoji</th>\n",
              "      <th>used</th>\n",
              "    </tr>\n",
              "  </thead>\n",
              "  <tbody>\n",
              "    <tr>\n",
              "      <th>0</th>\n",
              "      <td>😂</td>\n",
              "      <td>538</td>\n",
              "    </tr>\n",
              "    <tr>\n",
              "      <th>1</th>\n",
              "      <td>✔</td>\n",
              "      <td>446</td>\n",
              "    </tr>\n",
              "    <tr>\n",
              "      <th>2</th>\n",
              "      <td>😁</td>\n",
              "      <td>314</td>\n",
              "    </tr>\n",
              "    <tr>\n",
              "      <th>3</th>\n",
              "      <td>🔥</td>\n",
              "      <td>296</td>\n",
              "    </tr>\n",
              "    <tr>\n",
              "      <th>4</th>\n",
              "      <td>🌮</td>\n",
              "      <td>275</td>\n",
              "    </tr>\n",
              "    <tr>\n",
              "      <th>5</th>\n",
              "      <td>😉</td>\n",
              "      <td>257</td>\n",
              "    </tr>\n",
              "    <tr>\n",
              "      <th>6</th>\n",
              "      <td>😀</td>\n",
              "      <td>217</td>\n",
              "    </tr>\n",
              "    <tr>\n",
              "      <th>7</th>\n",
              "      <td>🆘</td>\n",
              "      <td>210</td>\n",
              "    </tr>\n",
              "    <tr>\n",
              "      <th>8</th>\n",
              "      <td>♥</td>\n",
              "      <td>197</td>\n",
              "    </tr>\n",
              "    <tr>\n",
              "      <th>9</th>\n",
              "      <td>👍</td>\n",
              "      <td>185</td>\n",
              "    </tr>\n",
              "  </tbody>\n",
              "</table>\n",
              "</div>"
            ],
            "text/plain": [
              "  emoji  used\n",
              "0     😂   538\n",
              "1     ✔   446\n",
              "2     😁   314\n",
              "3     🔥   296\n",
              "4     🌮   275\n",
              "5     😉   257\n",
              "6     😀   217\n",
              "7     🆘   210\n",
              "8     ♥   197\n",
              "9     👍   185"
            ]
          },
          "execution_count": 25,
          "metadata": {},
          "output_type": "execute_result"
        }
      ],
      "source": [
        "emo_count_df = pd.DataFrame(emo_count, columns=['emoji', 'used'])\n",
        "emo_count_df.head(10)"
      ]
    },
    {
      "cell_type": "code",
      "execution_count": null,
      "metadata": {
        "colab": {
          "base_uri": "https://localhost:8080/",
          "height": 54
        },
        "id": "YZtbwByemENl",
        "outputId": "7397d9e0-3f7c-4951-d599-015ce2ecd449"
      },
      "outputs": [
        {
          "data": {
            "text/plain": [
              "'😥🤨😵😛😓😔😦®😯😫💕😧🙏🙈☔👋🏾✔😅😏▫🤯😰🏼⚽😚😑☹😁😶🎶⤵🤗🤥☑😘❗🤕🌟😭🤡🐱♂👎😄💜☠😕😖👤😒😣😉♀😲🔥😱😇🤠🙁✈🏐🙃😨❤👏😢💨😎🐟🤣🧐💰😝😂😳♥🤑😃😊☮😋🏽😀💩👌👆👿😂☎🤩✌🤔☺▪😟🙌😌✋🥳😷🥶❄🤫🤒😍🥺💀😆🆘👿🎼🐕🏆🤤🤮‼😩🤭✒⚾😴🥵🤷🤪👍😗💥💔😜🙄😬👥🤐😤😡🦊☹️😐🌯🤧🤓🥰™😠😙🏻🤬🙂🤢😞©🥴🌮☺️😈💙✨😪😮'"
            ]
          },
          "execution_count": 26,
          "metadata": {},
          "output_type": "execute_result"
        }
      ],
      "source": [
        "# selecting emojis that occure more than 10 times \n",
        "emo_common = \" \".join([e for e,c in emo_count if c>=10])\n",
        "\n",
        "# creating a list of face emojis as they may play an important role for our task at hand; emojis taken from: #https://www.regextester.com/106421\n",
        "emo_faces = \"😁 😂 🤣 😃 😄 😅 😆 😉 😊 😋 😎 😍 😘 🥰 😗 😙 😚 ☺️ 🙂 🤗 🤩 🤔 🤨 😐 😑 😶 🙄 😏 😣 😥 😮 🤐 😯 😪 😫 😴 😌 😛 😜 😝 🤤 😒 😓 😔 😕 🙃 🤑 😲 ☹️ 🙁 😖 😞 😟 😤 😢 😭 😦 😧 😨 😩 🤯 😬 😰 😱 🥵 🥶 😳 🤪 😵 😡 😠 🤬 😷 🤒 🤕 🤢 🤮 🤧 😇 🤠 🤡 🥳 🥴 🥺 🤥 🤫 🤭 🧐 🤓 😈 👿\"\n",
        "\n",
        "# creating a final list using the above lists \n",
        "selected_emo = emo_faces+emo_common\n",
        "selected_emo = \"\".join(list(set(selected_emo.split())))\n",
        "\n",
        "selected_emo"
      ]
    },
    {
      "cell_type": "code",
      "execution_count": null,
      "metadata": {
        "id": "ddddPaNnNWHO"
      },
      "outputs": [],
      "source": [
        "# pickle.dump(selected_emo, open(\"selected_emo.pkl\", \"wb\"))\n",
        "selected_emo = pickle.load(open(\"selected_emo.pkl\", \"rb\"))"
      ]
    },
    {
      "cell_type": "code",
      "execution_count": null,
      "metadata": {
        "id": "jD6pDy6qe9xO"
      },
      "outputs": [],
      "source": [
        "def handle_special_char(text):\n",
        "    text = re.sub(f'[^A-Za-z0-9{selected_emo} ]', ' ', text)\n",
        "    return text\n",
        "\n",
        "def handle_emoji_haul(text):\n",
        "    ''' \n",
        "    1. Find all substrings where a single emoji occurs consquently, e.g. '🤣🤣🤣🤣' and '🤤😭🤤😭' occuring in string 'Haha! 🤣🤣🤣🤣 🤤😭🤤😭'\n",
        "    2. '🤣🤣🤣🤣' -> '🤣'; '🤤😭🤤😭' -> '🤤😭'; We need to keep one and remove rest because users tend to overhaul on emoji usage which is not deemed important as per our problem\n",
        "    '''\n",
        "    \n",
        "    # refer - https://stackoverflow.com/questions/51794651/remove-multiple-consecutive-occurrences-of-in-a-string-with-a-single-pytho\n",
        "    emoji_haul = re.findall(f'(?:[{selected_emo}])+', text)\n",
        "\n",
        "    for emo in emoji_haul:\n",
        "        unique_emo = set(emo)\n",
        "        if len(emo)==1 and len(unique_emo)==1:\n",
        "            pass\n",
        "        elif len(emo)>1 and len(unique_emo)==1:\n",
        "            text = re.sub(emo, \" \"+emo[0]+\" \", text)\n",
        "        else:\n",
        "            text = re.sub(emo, \" \"+\" \".join(unique_emo)+\" \", text)\n",
        "\n",
        "    return text \n",
        "\n",
        "def emo2word(text):\n",
        "    # preprocess\n",
        "    text = handle_special_char(text) \n",
        "    text = handle_emoji_haul(text)\n",
        "   \n",
        "    # convert emoji to words; refer - https://www.geeksforgeeks.org/convert-emoji-into-text-in-python/\n",
        "    text = demoji.replace_with_desc(text, ' ') \n",
        "    return text"
      ]
    },
    {
      "cell_type": "code",
      "execution_count": null,
      "metadata": {
        "colab": {
          "base_uri": "https://localhost:8080/",
          "height": 36
        },
        "id": "cyUu0xRtZrOJ",
        "outputId": "8e5bfdaa-0efc-4c1e-de8f-86ca9e54da39"
      },
      "outputs": [
        {
          "data": {
            "text/plain": [
              "'Let s check on few emojis  This is a happy emo     slightly smiling face  This is a happy emo used multiple times      slightly smiling face   These are emos to be omitted        '"
            ]
          },
          "execution_count": 38,
          "metadata": {},
          "output_type": "execute_result"
        }
      ],
      "source": [
        "t = '''Let's check on few emojis:\n",
        "This is a happy emo -> 🙂\n",
        "This is a happy emo used multiple times -> 🙂🙂🙂\n",
        "These are emos to be omitted -> 🍆🌺👅\n",
        "'''\n",
        "emo2word(t)"
      ]
    },
    {
      "cell_type": "code",
      "execution_count": null,
      "metadata": {
        "id": "CANHXMm3h76q"
      },
      "outputs": [],
      "source": [
        "#vectorized alternative to convert emojis to word (however, parallel processing works faster so this alternative isn't used): \n",
        "\n",
        "# def emohaul_helper(text, haul, replace):\n",
        "#     if len(haul)!=0:\n",
        "#         for h, r in zip(haul, replace):\n",
        "#             text = text.replace(h, r) \n",
        "#     return text\n",
        "\n",
        "# def emo2word_helper(text, edit):\n",
        "#     if text!=edit:\n",
        "#         edit = demoji.replace_with_desc(edit, ' ')\n",
        "#     return edit\n",
        "        \n",
        "# def emo2word_vectorized(data, col):\n",
        "#     print('Initiating Vectorized EMO2WORD Function..')\n",
        "#     start_time = time.time()\n",
        "    \n",
        "#     #handle special characters\n",
        "#     data['emoji_preprcsd'] = data[col].str.replace(f'[^A-Za-z0-9{selected_emo} ]', ' ')\n",
        "    \n",
        "#     #find substrings where we can observe emoji haul\n",
        "#     data['emoji_haul'] = data['emoji_preprcsd'].str.findall(f'(?:[{selected_emo}])+')\n",
        "    \n",
        "#     #create a list to replace the emoji haul with single emoji\n",
        "#     data['emoji_replace'] = [[\" \"+\" \".join(set(y))+\" \" for y in x] for idx, x in data['emoji_haul'].iteritems()]\n",
        "    \n",
        "#     #handle the emoji haul using above created list \n",
        "#     data['handle_emoji_haul'] = [emohaul_helper(text, haul_list, rep_list) for haul_list, rep_list, text in zip(data['emoji_haul'], data['emoji_replace'], data['emoji_preprcsd'])]\n",
        "    \n",
        "#     #convert the emoji to word\n",
        "#     data[col] = [emo2word_helper(text, edit) for text, edit in zip(data['emoji_preprcsd'], data['handle_emoji_haul'])] \n",
        "#     data.drop(columns = ['emoji_preprcsd', 'emoji_haul', 'emoji_replace', 'handle_emoji_haul'], inplace=True)\n",
        "    \n",
        "#     # https://stackoverflow.com/questions/1557571/how-do-i-get-time-of-a-python-programs-execution\n",
        "#     print(\"--- '%.2f' seconds ---\" %(time.time() - start_time))\n",
        "#     return data"
      ]
    },
    {
      "cell_type": "markdown",
      "metadata": {
        "id": "ZR9leiijxSI3"
      },
      "source": [
        "## **3.7 Handling Terms which contain digits**"
      ]
    },
    {
      "cell_type": "code",
      "execution_count": null,
      "metadata": {
        "colab": {
          "base_uri": "https://localhost:8080/"
        },
        "id": "kz0wY1oxyBeQ",
        "outputId": "19824a8a-0bc5-4924-b2f1-1a2decdc62db"
      },
      "outputs": [
        {
          "data": {
            "text/plain": [
              "['(overnight...24h)',\n",
              " \"'2nd\",\n",
              " '\"$14M',\n",
              " '(40.8%)',\n",
              " '(https://www.youtube.com/watch?v=Vd7zW4aRlYE).',\n",
              " '3500',\n",
              " 'No_impeachment_until_2019,_with_Pelosi_as_Speaker,_then_get_both_Pence_and_Trump._Thing_is,_in_2007,_when_she_easily_could_have_impeached_Bush_and_Cheney_and_might_have_gotten_a_conviction,_she_demured._She_will_do_so_in_19.',\n",
              " '$1K,',\n",
              " '-20',\n",
              " 'http://chn.ge/2vX8Rvf']"
            ]
          },
          "execution_count": 39,
          "metadata": {},
          "output_type": "execute_result"
        }
      ],
      "source": [
        "alphanum = list(set(re.findall('\\S*[\\d]\\S*', x_corpus)))\n",
        "alphanum[40:50]"
      ]
    },
    {
      "cell_type": "code",
      "execution_count": null,
      "metadata": {
        "id": "QYeWtxkUgoU8"
      },
      "outputs": [],
      "source": [
        "# any term that contains a number, e.g: 129, 47as3a, io32, 98.:\n",
        "def handle_numeric_terms(text): \n",
        "    text = re.sub('\\S*[\\d]\\S*', ' ', text)\n",
        "    return text"
      ]
    },
    {
      "cell_type": "code",
      "execution_count": null,
      "metadata": {
        "colab": {
          "base_uri": "https://localhost:8080/",
          "height": 36
        },
        "id": "zhKthxvJg-CM",
        "outputId": "19490e41-b73c-467b-f16b-850f40519f79"
      },
      "outputs": [
        {
          "data": {
            "text/plain": [
              "'Lets check on numeric terms: \\n                               '"
            ]
          },
          "execution_count": 41,
          "metadata": {},
          "output_type": "execute_result"
        }
      ],
      "source": [
        "t = '''Lets check on numeric terms: \n",
        "90m hipster15 i5guy i5guy 2000s MrWhiskers1 season2 1980s 15th 70mm 129 46684 47as3a 4a4s4aas4 io32, 98.:'''\n",
        "handle_numeric_terms(t)"
      ]
    },
    {
      "cell_type": "markdown",
      "metadata": {
        "id": "TOyrsUXG6fxE"
      },
      "source": [
        "## **3.8 Stopwords Removal**"
      ]
    },
    {
      "cell_type": "code",
      "execution_count": null,
      "metadata": {
        "colab": {
          "base_uri": "https://localhost:8080/"
        },
        "id": "t3AduOXk0dMj",
        "outputId": "4284a356-4c01-4424-89fe-25bb5d5ffddd"
      },
      "outputs": [
        {
          "data": {
            "text/plain": [
              "['i', 'me', 'my', 'myself', 'we', 'our', 'ours', 'ourselves', 'you', \"you're\"]"
            ]
          },
          "execution_count": 20,
          "metadata": {},
          "output_type": "execute_result"
        }
      ],
      "source": [
        "sw = stopwords.words('english')\n",
        "\n",
        "for w in ['not', 'nor', 'no']:\n",
        "    sw.remove(w)\n",
        "\n",
        "sw[:10]"
      ]
    },
    {
      "cell_type": "code",
      "execution_count": null,
      "metadata": {
        "id": "DMXqL0HRNWHQ",
        "outputId": "d380ad8a-a469-4a8e-fc6f-f4d1ae92a7a3"
      },
      "outputs": [
        {
          "data": {
            "text/html": [
              "<div>\n",
              "<style scoped>\n",
              "    .dataframe tbody tr th:only-of-type {\n",
              "        vertical-align: middle;\n",
              "    }\n",
              "\n",
              "    .dataframe tbody tr th {\n",
              "        vertical-align: top;\n",
              "    }\n",
              "\n",
              "    .dataframe thead th {\n",
              "        text-align: right;\n",
              "    }\n",
              "</style>\n",
              "<table border=\"1\" class=\"dataframe\">\n",
              "  <thead>\n",
              "    <tr style=\"text-align: right;\">\n",
              "      <th></th>\n",
              "      <th>comment_text</th>\n",
              "      <th>preprcsd</th>\n",
              "    </tr>\n",
              "  </thead>\n",
              "  <tbody>\n",
              "    <tr>\n",
              "      <th>0</th>\n",
              "      <td>This is so cool. It's like, 'would you want yo...</td>\n",
              "      <td>this is so cool. it is like, 'would you want y...</td>\n",
              "    </tr>\n",
              "    <tr>\n",
              "      <th>1</th>\n",
              "      <td>Thank you!! This would make my life a lot less...</td>\n",
              "      <td>thank you!! this would make my life a lot less...</td>\n",
              "    </tr>\n",
              "    <tr>\n",
              "      <th>2</th>\n",
              "      <td>This is such an urgent design problem; kudos t...</td>\n",
              "      <td>this is such an urgent design problem; kudos t...</td>\n",
              "    </tr>\n",
              "    <tr>\n",
              "      <th>3</th>\n",
              "      <td>Is this something I'll be able to install on m...</td>\n",
              "      <td>is this something i will be able to install on...</td>\n",
              "    </tr>\n",
              "    <tr>\n",
              "      <th>4</th>\n",
              "      <td>haha you guys are a bunch of losers.</td>\n",
              "      <td>haha you guys are a bunch of losers.</td>\n",
              "    </tr>\n",
              "  </tbody>\n",
              "</table>\n",
              "</div>"
            ],
            "text/plain": [
              "                                        comment_text  \\\n",
              "0  This is so cool. It's like, 'would you want yo...   \n",
              "1  Thank you!! This would make my life a lot less...   \n",
              "2  This is such an urgent design problem; kudos t...   \n",
              "3  Is this something I'll be able to install on m...   \n",
              "4               haha you guys are a bunch of losers.   \n",
              "\n",
              "                                            preprcsd  \n",
              "0  this is so cool. it is like, 'would you want y...  \n",
              "1  thank you!! this would make my life a lot less...  \n",
              "2  this is such an urgent design problem; kudos t...  \n",
              "3  is this something i will be able to install on...  \n",
              "4               haha you guys are a bunch of losers.  "
            ]
          },
          "execution_count": 33,
          "metadata": {},
          "output_type": "execute_result"
        }
      ],
      "source": [
        "sample.head()"
      ]
    },
    {
      "cell_type": "code",
      "execution_count": null,
      "metadata": {
        "id": "YhCs-nx5qpeh",
        "scrolled": true,
        "colab": {
          "referenced_widgets": [
            "d9f4f0234dea452b99be8c8f8dee6efe",
            "176a41820b304023bb9bb8de7f498b6c",
            "96ce43d3cc054a82a50da6396800be2f",
            "4b5b54845f594c63904723e3d48260b1",
            "0a42cb125c4a44508f35489f13e6e8d0",
            "6487c96ff81c4923a8873c2682279170",
            "37e460b7090a4f6eba627c941126bd55",
            "8e4ec61aa7a940aab9799d00205d7b28"
          ]
        },
        "outputId": "524cd869-1ed7-42a1-fc93-0a0a2ab01c4d"
      },
      "outputs": [
        {
          "data": {
            "application/vnd.jupyter.widget-view+json": {
              "model_id": "d9f4f0234dea452b99be8c8f8dee6efe",
              "version_major": 2,
              "version_minor": 0
            },
            "text/plain": [
              "VBox(children=(HBox(children=(IntProgress(value=0, description='0.00%', max=180488), Label(value='0 / 180488')…"
            ]
          },
          "metadata": {},
          "output_type": "display_data"
        },
        {
          "data": {
            "application/vnd.jupyter.widget-view+json": {
              "model_id": "176a41820b304023bb9bb8de7f498b6c",
              "version_major": 2,
              "version_minor": 0
            },
            "text/plain": [
              "VBox(children=(HBox(children=(IntProgress(value=0, description='0.00%', max=180488), Label(value='0 / 180488')…"
            ]
          },
          "metadata": {},
          "output_type": "display_data"
        },
        {
          "data": {
            "application/vnd.jupyter.widget-view+json": {
              "model_id": "96ce43d3cc054a82a50da6396800be2f",
              "version_major": 2,
              "version_minor": 0
            },
            "text/plain": [
              "VBox(children=(HBox(children=(IntProgress(value=0, description='0.00%', max=180488), Label(value='0 / 180488')…"
            ]
          },
          "metadata": {},
          "output_type": "display_data"
        },
        {
          "data": {
            "application/vnd.jupyter.widget-view+json": {
              "model_id": "4b5b54845f594c63904723e3d48260b1",
              "version_major": 2,
              "version_minor": 0
            },
            "text/plain": [
              "VBox(children=(HBox(children=(IntProgress(value=0, description='0.00%', max=180488), Label(value='0 / 180488')…"
            ]
          },
          "metadata": {},
          "output_type": "display_data"
        },
        {
          "data": {
            "application/vnd.jupyter.widget-view+json": {
              "model_id": "0a42cb125c4a44508f35489f13e6e8d0",
              "version_major": 2,
              "version_minor": 0
            },
            "text/plain": [
              "VBox(children=(HBox(children=(IntProgress(value=0, description='0.00%', max=180488), Label(value='0 / 180488')…"
            ]
          },
          "metadata": {},
          "output_type": "display_data"
        },
        {
          "data": {
            "application/vnd.jupyter.widget-view+json": {
              "model_id": "6487c96ff81c4923a8873c2682279170",
              "version_major": 2,
              "version_minor": 0
            },
            "text/plain": [
              "VBox(children=(HBox(children=(IntProgress(value=0, description='0.00%', max=180488), Label(value='0 / 180488')…"
            ]
          },
          "metadata": {},
          "output_type": "display_data"
        },
        {
          "data": {
            "application/vnd.jupyter.widget-view+json": {
              "model_id": "37e460b7090a4f6eba627c941126bd55",
              "version_major": 2,
              "version_minor": 0
            },
            "text/plain": [
              "VBox(children=(HBox(children=(IntProgress(value=0, description='0.00%', max=180488), Label(value='0 / 180488')…"
            ]
          },
          "metadata": {},
          "output_type": "display_data"
        },
        {
          "data": {
            "application/vnd.jupyter.widget-view+json": {
              "model_id": "8e4ec61aa7a940aab9799d00205d7b28",
              "version_major": 2,
              "version_minor": 0
            },
            "text/plain": [
              "VBox(children=(HBox(children=(IntProgress(value=0, description='0.00%', max=180488), Label(value='0 / 180488')…"
            ]
          },
          "metadata": {},
          "output_type": "display_data"
        }
      ],
      "source": [
        "sample = train.copy()\n",
        "sample['preprcsd'] = sample['comment_text'].parallel_apply(lambda x: lowercase(x))\n",
        "sample['preprcsd'] = sample['preprcsd'].parallel_apply(lambda x: expand_terms(x))\n",
        "sample['preprcsd'] = sample['preprcsd'].parallel_apply(lambda x: handle_html_tags(x))\n",
        "sample['preprcsd'] = sample['preprcsd'].parallel_apply(lambda x: handle_url(x))\n",
        "sample['_preprcsd_'] = sample['preprcsd'].parallel_apply(lambda x: replace_mispelled_words(x))\n",
        "sample['_preprcsd_'] = sample['_preprcsd_'].parallel_apply(lambda x: emo2word(x))\n",
        "sample['_preprcsd_'] = sample['_preprcsd_'].parallel_apply(lambda x: handle_numeric_terms(x))\n",
        "sample['_preprcsd_'] = sample['_preprcsd_'].parallel_apply(lambda x: strip_spaces(x))"
      ]
    },
    {
      "cell_type": "code",
      "execution_count": null,
      "metadata": {
        "id": "-VartHhhNWHQ"
      },
      "outputs": [],
      "source": [
        "# sample.to_pickle('trial.pkl')\n",
        "sample = pd.read_pickle('trial.pkl')"
      ]
    },
    {
      "cell_type": "code",
      "execution_count": null,
      "metadata": {
        "colab": {
          "referenced_widgets": [
            "4fc44631bc54414a8d83b1290611b72b",
            "2e9e464dc16a425591347cae8607d316"
          ]
        },
        "id": "ZFW5rWgqNWHQ",
        "outputId": "1c1f20d3-e876-4b64-9759-7d2729b0a7f2"
      },
      "outputs": [
        {
          "data": {
            "application/vnd.jupyter.widget-view+json": {
              "model_id": "4fc44631bc54414a8d83b1290611b72b",
              "version_major": 2,
              "version_minor": 0
            },
            "text/plain": [
              "  0%|          | 0/1804874 [00:00<?, ?it/s]"
            ]
          },
          "metadata": {},
          "output_type": "display_data"
        },
        {
          "data": {
            "application/vnd.jupyter.widget-view+json": {
              "model_id": "2e9e464dc16a425591347cae8607d316",
              "version_major": 2,
              "version_minor": 0
            },
            "text/plain": [
              "  0%|          | 0/257351 [00:00<?, ?it/s]"
            ]
          },
          "metadata": {},
          "output_type": "display_data"
        },
        {
          "name": "stdout",
          "output_type": "stream",
          "text": [
            "Found embeddings for 46.09% of vocab\n",
            "Found embeddings for  99.61% of all text\n"
          ]
        }
      ],
      "source": [
        "vocab_words = build_vocab(sample['_preprcsd_'])\n",
        "oov = check_coverage(vocab_words,embeddings_index)"
      ]
    },
    {
      "cell_type": "markdown",
      "metadata": {
        "id": "OgctvZicNWHR"
      },
      "source": [
        "It can be noted that we have already improved the coverage after applying the second set of operations"
      ]
    },
    {
      "cell_type": "code",
      "execution_count": null,
      "metadata": {
        "id": "XG7Tjvu4NWHR"
      },
      "outputs": [],
      "source": [
        "pickle.dump(vocab_words, open(\"vocab_words_2.pkl\", \"wb\"))\n",
        "pickle.dump(oov, open(\"oov_2.pkl\", \"wb\"))"
      ]
    },
    {
      "cell_type": "code",
      "execution_count": null,
      "metadata": {
        "id": "WU5AP5BtNWHR"
      },
      "outputs": [],
      "source": [
        "oov = pickle.load(open(\"oov_2.pkl\", \"rb\"))"
      ]
    },
    {
      "cell_type": "code",
      "execution_count": null,
      "metadata": {
        "id": "7j5n5nRDNWHR",
        "outputId": "3168ddd7-0778-4ec2-b89f-963b85907909"
      },
      "outputs": [
        {
          "data": {
            "text/plain": [
              "'tdw|️|rth|kag|ndz|occc|totto|xbt|uhhhh|ssy|ugb|pmz|twy|egw|jjp|ytd|ummmmm|haaa|jvr|kxl|ahha|pza|jpz|aoao|haaaa|hmmmmmmm|hehehe|hahahahahahahaha|cdq|alll|alllll|hahah|allll|allllll|ohhhhh|enf|lolololol|hahahahahahahahahaha|noooooo|eug|dck|errrr|hahahahahahahahaha|ewn|doodoo|lwv|cnq|hahahah|haaaaaa|ahhhhhh|ohhhhhh|soooooooo|nooooooo|jwn|gub|gfy|dsj|njp|tooo|wtg|aqn|uof|jsb|uhhhhh|obf|ghw|qpp|oeb|ojt|ehh|upx|wcb|kmx|jfp|zzzzzz|zzzzz|nhr|haaaaaaaaaaaaa|hooo|awwwww|ahahahahaha|rwl|vaq|wlll|waaa|mmj|xom|mmmmmm|jgd|mjm|hehehehe|onp|jpd|hnw|waaaaa|heheh|tooooo|ugf|toooo|jmo|euh|haaaaaaaaaaa|weeeee|waaaa|hahahaha|haaaaaaaaaa|maq|gth|yyz|haaaaa|hahahahah|shhhhhh|haaaaaaaaa|hmmmmmmmm|rvw|srsr|ummmmmm|booo|wwll|ifq|apz|bbbee|sjsj|huhu|ehhh|zlb|jws|zzzzzzz|alllllll|fkn|hahahha|ahhhhhhh|weeeeee|ubk|wlu|fsj|xic|fhb|kgt|errrrr|pepp|agw|kbg|weeee|zzzzzzzz|syg|hch|igu|yhe|lololololol|haaaaaaaaaaaa|djt|jfj|vsn|lolololololol|noooooooo|haaaaaaa|boooooo|baaaa|aaaah|sooooooooo|ahahahahahaha|nko|rlw|haaaaaaaaaaaaaaa|vdy|vrx|ypu|waaaaaaa|booooo|mht|emmm|hmmmmmmmmm|fjs|baaaaaa|nooooooooo|baaa|xox|vpo|scj|req|lke|hio|ozy|bgh|mmmmmmm|uot|haaaaaaaa|ohhhhhhh|opu|hahahahahahahahahahaha|sooooooooooo|boooo|mho|ooohhh|hahahahahahahahahahahahaha|heehee|mka|nji|ggh|hhv|haaaaaaaaaaaaaa|haaaaaaaaaaaaaaaaaaa|uhuh|egj|ssdd|uoo|ewwwww|naaaa|phx|lhg|ahahahahahahaha|fmh|zzzzzzzzzzzz|uun|toooooo|yeee|vrj|wez|zsp|ahahaha|ppy|ooohh|kyc|uge|uhhhhhhh|jtz|yoc|eeek|ahhhhhhhh|giu|allllllll|mmmmmmmm|hhl|ewwww|huhh|vdh|zzzzzzzzzz|pfff|geee|uhu|ooooooh|awwwwww|qz|oooohhh|fdk|htj|ssssss|rvp|peepee|jwb|crrc|haaaaaaaaaaaaaaaaa|soooooooooo|vfv|kssk|erre|zcn|sses|hahahahahah|hehehehehe|tooooooo|alala|naaa|ummmmmmm|dwh|wtw|grrrrr|hahahahahahah|hjr|mmmmmmmmmm|pupu|sqf|hahahahaa|awh|baaaaa|hfh|zzzzzzzzzzzzzzzz|gooooo|ahahahaha|hoooo|aahhh|akj|jdp|gtg|waaaaaa|otj|oohh|yaaay|weeeeeee|seee|hahahahahahahahahahahaha|ahahahahahahahaha|wuv|hehheh|aaahhh|oooohh|hahha|dhm|dooo|hhhmm|hahaha|oooohhhh|hhm|jdr|bbee|eqb|emmmm|jcn|meeee|hahahahahha|haaaaaaaaaaaaaaaaaa|jpj|haaaaaaaaaaaaaaaa|yld|yaaaa|vfj|jhc|zzzzzzzzzzz|rgy|ehb|exs|zut|booooooo|zpg|rwm|ahahahahahahahahaha|uuv|byw|pbh|aaaaah|alllllllll|aahh|ahhhhhhhhh|errrrrrr|adw|zzzzzzzzz|xoxoxo|gox|zzzzzzzzzzzzzzzzzzz|hahahhaha|yeeee|lhu|hyw|shhhhhhhh|uggg|waaaaaaaa|hhmmm|kookoo|otz|hahahahaha|sshhhh|rrdrrd|nkz|ohhhhhhhh|sooooooooooooo|jdj|uhhhhhh|bbeee|jtp|klr|lnl|bpy|vfn|siz|wgh|wja|lalala|vxx|grrrrrr|ekb|hahahahha|wkl|hahahahahahahahahahahahahahaha|dgl|hrx|yyc|ttttt|pffff|poopoo|hwd|ivn|grrrrrrr|zzzzzzzzzzzzzzzzz|ppppp|hhhmmmm|ooohhhh|wawawa|oohhh|hahhahaha|hahahahahahahahahahahahahaha|lllol|hpw|eob|woooo|ozs|hohoho|noooooooooo|dyi|hahaaaa|ovg|zzzzzzzzzzzzz|xxxl|fwi|yaaaaay|mmmhmm|zup|yaaa|fxxx|yayyyy|fng|aaahhhh|yaaaay|csq|qao|mtq|sjo|arrr|vvb|wgb|ddk|dxy|hmmmmmmmmmmm|zzzzzzzzzzzzzzzzzzzzzzz|lolllll|xei|xir|nxr|errrrrr|huhhh|lololololololol|aqu|rpz|atat|vcn|swj|zzzzzzzzzzzzzzzzzzzzzzzzzzzzzz|nooooooooooooo|bsj|xbb|rbt|axt|hhmmmm|hahahahahahahah|pwb|jrt|waaaaaaaaa|dddd|rrrrr|xdv|ahahahahahahahahahaha|blll|mny|baaaaaaa|hahahaaha|rnw|meeeeeee|mmms|kkv|ahaha|awwwwwww|afff|wch|fka|cccw|alllllllllll|issis|uuutttt|buuuu|mmmhmmm|jkf|zzzzzzzzzzzzzzzzzz|ltf|hhhmmmmm|sshhh|hmmmmmmmmmm|lolololololololol|fnf|baaaaaaaaaaaaa|hmmmmmmmmmmmm|goooooo|lalalala|lololololololololol|lalalalalalala|lololo|jq|aabba|eeew|yuo|hahahhahaha|wld|llol|hjs|fwp|knw|hahaa|hahaaa|aaaahhhh|goooo|hahahaa|ggu|sfy|jpw|efu|brrrr|ubg|bggg|ojw|cka|uty|zre|pjp|yaayyy|uwd|cccr|znd|klz|chq|kju|gooooooo|hxx|ffffffffff|bxf|lcj|wpz|ehhhhhh|hgu|myyy|akakaka|pmpm|hiz|hgj|nvn|emmmmm|xsb|hahahahhaha|yey|ddddd|zeg|chj|ojs|lwm|cwy|mjd|scy|oooooohhhh|jmv|lolll|svh|hbb|nwm|ahahahah|ywg|ewwwe|hahahahahahahahahahahahahahahahaha|rck|pke|woooooo|gooo|hahahahahaahahahahahahahahaahaha|ngg|ooooohhh|lololool|xut|xst|xre|woooow|heeee|hpj|wxm|zdv|cdz|dsx|zzzzzzzzzzzzzz|eay|awwwwwwwwwww|tpy|yyj|weeeeeeeeeeeee|dij|hwo|ummmmmmmm|dfn|lyg|voj|oooohhhhh|bzzzzz|eeeewwww|looooool|mmhmm|mmmmmmmmm|oooowww|aaaww|uuuummmm|hahahahahahahahahahahahahahahaha|yayyy|heeeee|brrrrrr|rrrrrr|gdx|shhhhhhhhh|klll|tooooooooo|ahah|gbx|hooooo|hahahahahahahahahahahahahahah|dwn|daaaaa|uou|lololololo|gax|ohoh|weeeeeeee|mnw|sssh|ndg|lollllll|wft|loool|iwn|xaw|wtd|lolololololololololol|ooow|heheheh|ibbi|ttw|sbbs|mmmk|brrrrr|wowwwwww|oyr|owg|swo|cgb|ssshhh|oooooohhh|ahhhhhhhhhhh|hfo|rxs|tfu|bzzzzzz|hwh|meeeeee|gyc|cjg|shhhhhhhhhhh|dbn|meeeee|fkd|owh|eeee|jkm|nooooooooooo|yto|hahahahahaaaa|osj|hahahaaa|ooohhhhhh|baaaaaaaaaaa|mjk|vdz|myyyyy|baaaaaaaaa|hhhmmm|hahhahaaa|mmmc|ssshhhh|ssst|oohhhh|uuuhhhh|xxoo|gpn|uos|owwww|swn|noooooooooooo|errrrrrrr|weewee|lmj|hjm|mmccc|jpo|bwt|uhg|shhhhhhh|jhh|haah|omy|waaaaaaaaaaaa|yaay|jkl|iyi|eoh|oooommm|izm|itq|uye|eoa|tzt|hiiiiihhh|rkj|sssss|yeb|bky|dcw|grrrrrrrr|gve|wfn|tbj|jll|jkn|zwb|tjw|zza|bsbsbsbs|aaawwww|yro|mmcc|geeeeeee|vgw|ilw|neee|neeee|olr|fgfgfgfg|ddddddd|vry|blv|twtw|hahahahaaha|ogh|hahahahaahahahahha|zdb|vlo|peeee|gkv|yayyyyyy|llooll|dxc|nno|rjw|wowwww|allllllllllll|cmy|jvt|lolllllllll|ehhhh|hahahahahhahahahaha|kyk|yayyyyyyyy|hiy|huuuh|shss|hahhhh|oppp|vym|aaahhhhh|xsq|auz|bww|wby|vov|lqb|jujuu|coj|doooooooo|xll|wdd|cjt|xyr|rgw|ify|wfb|wpx|awwwwwwwww|wwlll|ahv|zzzzzzzzzzzzzzzzzzzzzzzzzzzz|uuf|zbk|yoj|hahahahahahahahahahahaaaahaahaaaahahaaha|hahahhah|lalalalala|hahhaha|auh|hooooooooo|hahaaha|eak|oal|beee|toooooooo|ftq|azzz|ivv|aaaahhh|uuhhh|ctj|ynt|zzzzzzzzzzzzzzz|xxxy|psss|uuh|dgz|nnnoooo|hahahaah|haaaahaaaa|aaaaaah|ulr|zzzzzzzzzzzzzzzzzzzzzzzzzzzzzzz|geeee|ooooowww|hhn|memememememe|doooo|oooohhhhhh|iun|zzzzzzzzzzzzzzzzzzzzzzzzzzzzzzzzz|miw|hahahaahahaha|haaaaaaaaaaaaaaaaaaaaaa|naaaaa|iwt|yaaaaaaaaay|cjb|ghy|iys|hmmmmmmmmmmmmmmmmm|hahahahahahahahahahahahahahahahahah|wjp|sssshhh|offff|pqs|ooooooooooooo|qes|sssshhhh|zdy|dkh|mgw|lolllllllllll|ewwwwwww|eewww|htg|nanana|looooooooool|ahahahahahahaaaaa|hahahahahhaha|haaaaaaaaaaaaaaaaaaaaaaa|aahhhhh|seeee|odw|wwo|zzzzzzzzzzzzzzzzzzzzzzzzzzzzzzzzzzzzzzzzzzzzzzzzzzzzzzzzzzzzzzz|tlk|drk|haaha|ckt|zhy|pxd|ehhhhh|ummmmmmmmm|waaaaaaaaaaaaaaaaaa|myyyyyy|ahahahahah|aahahaha|ahhaha|jzs|khg|ytm|arrrr|daaaa|bml|uuum|uummm|hhe|mye|sjb|beeeeeeeee|eeeeew|bcz|zzzzzzzzzzzzzzzzzzzzzz|hahahahahaa|lololol|owm|sza|wsy|wrk|ijr|rrd|tsst|ahahahahahahahahahahaha|poooo|cccb|xeg|rttt|uhhhhhhhhhh|uhhhhhhhhhhh|uuuum|ahahahahahahahahahahahahaha|lollllllllllllll|ccic|yeg|nnooo|eell|zwu|mvb|mjw|alal|eys|hto|hahaahaha|geeeeee|cfw|ssshhhhh|vvl|xef|vfm|xsp|wki|jjs|tnx|ioh|zzzzzzzzzzzzzzzzzzzz|eeekkk|ooohhhhh|gkp|hahahahahahahahahahahahahahahahahahaha|baaaaaaaaaaaa|eeeeek|ygp|kkkk|ummmmmmmmmmmm|cppp|ayb|meee|mnn|wwow|cew|tmq|plq|hahahahahahahahahahahah|pgpg|orrrr|iqf|prpp|fkg|mbq|hxt|jbh|ahhhhhhhhhhhh|owt|nlh|offf|kki|hahahahahhahaha|oooooooooh|waaaaaaaaaa|jkt|nyw|emn|allllllllll|hahhhaaaa|lolololololololololololololol|tbo|hahahahahahahahahahah|noooooooooooooooooooooooooooooooooooooooooooooooo|uuuuh|lollol|ogp|vut|jddj|yaaaaaa|juv|yooo|hahahahahahahahahahahahahahahahah|yaaaaaay|ahahahaaaa|fwm|lolololo|ikikii|heee|squ|feee|uuhhhh|eeewww|wue|eeeek|hmmmmmmmmmmmmmmmm|ffy|hooooooo|heeeeeeee|rrrr|obobo|ahj|boooooooo|yaaaayyy|mememe|hahhaaaa|hahhahaa|lalalalalalalalala|dbw|ahhhhhhhhhh|hwn|sshh|ooooohhhh|ohu|hpb|hahaah|ahhhha|wbp|hahahhhaa|fwy|nonono|mqs|hmmmmmm|kkks|xoxox|ahaa|qid|dooooo|yeeeee|aaaaaaaaaaa|lve|lne|uuummm|eeeeeeek|baabaa|fhv|obooboo|ayaa|oyg|hehehehehehe|zzzzzzzzzzzzzzzzzzzzzzzz|uoa|ssssh|knf|eeh|hahahhha|ojd|wny|zzzzzzzzzzzzzzzzzzzzzzzzzz|hiii|oooooooh|syh|nooooooooooooooo|pwz|eeeww|tgk|leee|bzzzz|ooof|enq|seeeeee|uaj|gfz|tyt|fww|pfffffffffff|pfffffffffffffffffp|tlx|jgz|ahahaaahaha|ahahhaa|uow|i️|haaaha|haaaahaha|woww|ohooo|hahahahhahahahha|dbg|agj|ufv|lolololoolololol|lwi|nnnnnnnn|uummmm|ahahahahaah|onnnnnn|hahahahahahahaahaha|xxxxxxxxxxxxxxxxxxxxxxxxxxxxxxxxxxxxxxxxxxxxxxxxxxxxxxxxxxxxxxxxxxxxxxxxxxxxxxxxxxxxx|hahahahahahaaaaaaaaaaaaaaaaaa|feq|czs|hahahhahahhaahahahhahhahahahhahahhahahaha|ahahahahahahahahahahhah|hahahahahahahahahahahahahahahahahahahahahahahaha|txs|hahahahhaahahahah|hahhaah|ihw|pppppppppppppppppppp|hahaahahaaaaa|hahahhaahha|zso|gwm|sjy|ycs|hahahahahahahahahahahahaahahahahahahaha|pppy|hahahhahahahahahahah|aoo|aasss|ajh|qfr|rfv|xog|shsssss|yuuu|xxxxxxxxl|aahahahahahaha|ggggrrrrrrrrrrr|dxxxxx|fhd|wuf|rlo|kkkw|ahahahahahahahahahaahahahahahaha|hyg|hahahahaahahhahahaha|kccc|onnnn|oooooooohhhhh|rrrrrrrrrrr|nvu|fks|bxz|dxd|hxxx|hahahahahahahahahahahahahahahahahahahahahahahhahahahahahhahahahahhahahahahahhahahahahahahahahhahahhahahahahahahhahahahahhahahahahahahhahahahahahahahahahahahhahahhahahahhahahhahahhahahahhahahahhahahahahahhahahahhahahhahahhahahhahahahhahaha|eeeeem|eeeekkk|wwdd|cek|oooooop|znn|vjj|vgk|jbr|hahahahahahahhahahhahaha|sfsf|faff|vtl|hahahhahahahah|ewwwwwwww|tatt|tttttttt|ggggrrrrr|eeq|hahahahahahahahahahahaahh|hahahahahahahahaahahahahahhahaha|hahahahahahahahaahahahahahhahahah|hahaahahaah|ahahaahahahahaahaahahaa|ypp|dnn|hjp|soooooooooooooooo|ahhahahahahahaha|nnnnnnooooooooooo|hahahahahahahahahahaa|fffffffffffffffffff|hahahahahahaaha|lhe|ummmmmmmmmmm|hahahahaahha|rrrs|hahahahahahahahahh|czm|uuuuuuh|hahahahhahahahahahahaha|uhhhhhhhhh|ssshh|koooooo|hahahhaa|djh|kooooo|geeeee|dcv|ahahhahah|haahah|fwz|bzzzzzzz|zpw|bzzzzzzzzzz|hahahahahahahahha|dby|jbi|eyc|yre|fiff|sssy|grrrrrrrrrrrrrrr|noooooooooooooooooo|djd|ttttttttttttttt|pxxx|aaaaaaaaaaaaaaaaaaaaahhh|hahahahahahahahahahahahahahahahahahahahahahahahahahah|nonononononononono|ohd|hahahahahaahahahah|hahahahahahaahaha|hahahahahhahahahahaha|mhn|hahhahahahaaa|uuuummmmm|ttttts|hahhaahhah|doooooooooo|huuuuuuuuhhhhhh|xxxxxy|pfb|ammm|unun|obh|hahahahahahaa|hahahhahahahahahaha|hhahahahaha|eehhh|aaaaaaaak|hohho|bbbe|myyyyyyyy|nnen|sssssshhhhhhh|annnan|hahahahahahahahahahaaha|zzzzzzzzzzzzzzzzzzzzzzzzzzzzzzzzzzzzzzzzz|ehhhhhhhhhh|ahahahahaahahaha|jng|offfffffff|hhahahahahahahahahahaahha|eeeeeewwwwwwwww|rij|eqd|bbbs|hahahaahahahaha|ahahahaahahaahahaha|caaaaaaa|niw|imy|baaaaaaaaaaaaaaaaaa|aeee|yrd|ahahahahaahahahaaaaaa|doooood|ffffffffffffffk|hahahhahahahhahahahahhahaah|ahahahhahahah|haahahahahhaahhahahhah|dln|cmq|fge|wooooooowwww|hahahahahahahahahaahahahahahaa|bku|aahhhhhhhhhhh|ahahahahhahahaa|eeewwwwww|kji|ltn|gpz|wmh|yni|otot|aaal|eeeewww|hhhaaaaaahaa|noooooooooooooooooooooooo|sjh|aaaaaaaaaaaaaaaaaaaaaaaahhhh|aaaaaaaaay|ahahahaahahaahahaaaa|czp|mmmooooo|rrir|hahahahhahhahhahahhahahha|ahaaaa|nnoooo|mmmmhmmm|lllllllolll|uuuuuuuhhhhh|lcy|oooookkkkk|soooooooooooooooooooooooooooo|erx|foof|fuq|eeeeeeeek|waaaaaaaaaaaaa|hahahahahhaahhahahaha|hahhahahahaha|hahahahahhahhaha|soooooooooooo|hhmm|bxa|oohhhhhh|jyl|hahahhahha|ooff|nuun|jbj|hahahahahahahaahahaahahhahahahahaaaaaaa|jwh|hahahaahahhaahahahahahahahahha|kzi|bgf|eees|mxm|guf|eheheh|hqqqq|yaaaaayyyyy|faaaa|ommmm|uhhuuh|rryyy|aaaaawwwwww|ewwwwwwwwww|noooooooooooooooooooooooooo|waaaaaaaaaaaaaa|uuu|nzt|haahahahahahahahahahahahahahahahahahahahah|dyw|vzs|ipppp|ljd|ifff|uuuuuuuuuuuuuuppppp|oooooooooooooh|kkkkk|xtl|orrrrrrrrr|jyn|hfx|koooooooooooook|jiz|laj|geeeeeeeee|bebee|aaala|hmmmmmmmmmmmmmmm|giy|hahahahahahahahahahahahahahahahahahahha|iyiyi|tatataaaa|aaaaahh|meeeeeeee|sssssst|doooooo|oooooohhhhhhh|hahahahahahahaaaaaaaaaaaa|kooooooooooook|booooooooooooooooooo|ewt|eehhhh|booooooooo|gfd|msss|mssss|ahahahahahahahaahahaaaaaaaaa|cuk|zzzzzzzzzzxxzzzz|sjf|ahahahahahahahahahahahahaah|hahahahahhhahaaa|aqs|oooooowww|pxg|peee|xoxoxoxo|hahahaahahahahahahahahahahahaha|xfk|lalalalalalalalalalala|okkk|reeeeeeeeeeeeeeeeeeeeeeee|reeeeeeeeeeeeeeeeeeeeeeeeeeee|ehhhhhhhhh|uuuuuh|uhhhhhhhhhhhh|eeeeeewwwww|nyny|lllolol|ooooooooooooooooo|smsm|kgn|sssshhhhh|dadda|ahahahahahaahahahaahahaha|hahahahahahahahahahahahahahahahahahahahahahahahahahahahahahahahahahahahahaha|ppppffff|sshhhhhhh|sjj|ldy|wxy|ssssssee|ssssshhhhh|gfg|lalalalalala|huhuhuhu|jwo|wlk|kgu|hahahahaaa|ahaahahahahahahaha|fjm|psssssss|rbv|ffffffft|hhaha|ahahahahahahaahahahaha|hahahahahahahahahahahahahahahahahahahahahaha|bubbubububububub|sooooooooooooooooooooooooooooo|dddddd|yru|uuummmm|ahahahahahaahahahahahaha|hahahahhha|asssss|uwt|lalalalalalal|hahahahahaahaha|fxi|qka|hahahahahahahahahaaaaa|myyyyyyyyyyy|rrrrrrrrrrrr|wwwwwoooowwwww|dmw|ypd|qrt|hahhahahahahahahahahahaha|fth|qce|hahahhaaahaaah|ooooommmmm|ooooommmmmmm|hahahahahahahahahahahahahahahahahahahahahahaha|mmmkkkkk|xys|hahahahahahaaaaa|njb|ggga|pjn|nooooooooooooooooooooo|euj|ooooooooooooooohhhhhhh|zks|hahahahahahahahahahahahahahahahahahahahahahahahahahahahahahahahahahahahahahahahahahahahahahahahahahahahahahahahahaha|dyb|inw|giw|bxi|onnn|shhhhhhhhhh|xhy|hyi|suuuus|ahahahahahaahahaahaha|hahahahahhahahaha|aaaaayyyyy|pyv|prz|kjt|looool|ahhhhhhhhhhhhhhhhhhhhh|fnu|qps|eeec|aaaaw|aiii|bobbob|omw|hahahahahahahahahahhaahahahaha|trz|hahahhahaahahahahahahahaha|jqp|tsq|luf|dly|uih|znc|ppppppy|haaaahaaaaaahaaaaaaaaah|dtj|nmn|zzzt|bzzz|miq|eeewwwweee|hvt|jlm|hhha|htr|hahahhaahahahhaha|eeeeeww|cooooo|gjc|lxb|ooq|dsy|yeeeeeeeeee|aahhhhhh|evt|lollololololol|hlo|nononononononono|asss|odh|shssshh|sssoooooooo|zzzzzzzzzzzzzzzzzzzzz|awwwwwwwwwwwwww|pfpfpfpfff|hcy|tgw|mmyyyyyyy|nenne|eeeewwwwwww|hahahahahahhahahaha|xxiiii|offfffffffffff|oooorrrrr|ppcc|kzw|mmmmmmmmmmmmmmmmmmmmmmm|ppopo|nananananana|jtr|orrrrrr|mmim|aaay|oho|uhuhuhu|kjb|eefff|eeehhh|mpq|pssssssssssssssss|hahahahahahahhahaha|nfw|kln|xbh|bke|hahahahahahahahahahhahaha|hahahahahahahhaha|hahahahahhaahahahahahahahhhhhaa|hahahahahaahahah|oooooooohh|yhi|mummmm|wooow|rxp|qud|hahahahahahaaaaaaaa|orrrrrrrrrrrrrrrrr|fqa|cacca|xok|efff|elh|gll|yof|ummmmmmmmmmmmmmm|urrr|aahhhh|iiiiiimmmm|eete|ndx|kxs|jhp|pfw|hly|soooooooooooooooooooooooooo|okok|nlw|pssp|hahahaahahahahaha|yaaaaaaaaaaaaaayy|wjo|fyo|sesss|cnnn|hwr|dooooood|ggrrrrr|olh|biq|errer|ynm|ssks|beeeeeee|xoxoxoxoxoxox|qmi|xpm|ukw|sshhhhh|xtp|jujju|tyd|awwwwwwwwwwwwwwwwwww|izs|ouy|ahhhhhhhhhhhhhhhh|mbz|mxxx|heehhhehheheheeee|noooooooooooooooo|hhahahahahahahahahahahahaha|issss|nnoooooooo|cccm|hahahahahaahaahahaha|hahahahahahahahahahahaa|essese|bgw|llh|eah|ahahahahahhaaahaaahha|geegee|nonononono|wym|plll|hahahahahahahahahahahahahahahahahahahahahahahahahahahahahahahahahahahahahahahahahahahahahahahahahahahahahahahahahahahahahahahahahahahahahahahahahahahahahahahahahahahahahahahahahahahahahahahahahahahahahahahahahahahahahahahahahahahahahahahahahahahahahahahahahahahahahahahahahahahahahahahahahahahahahahahahahahahahahahahahahahahahahahahahahahahahahahahahahahahahahahahahahahahahahahahahahahahahahahahahahahahahahahahahahahahahahahahahahahahahahahahahahahahahahahahahahahahahahahahahahahahahahahahahahahahahahahahahahahahahahahahahahahahahahahahahahahahahahahahahahahahahahahahahahahahahahahahahahahahahahahahahahahahahahahahahahahahahahahahahahahahahahahahahahahahahahahahahahahahahahahahahahahahahahahahahahahahahahahahahahahahahahahahahahahahahahahahahahahahahahahahahahahahahahahaha|loooool|osy|waww|ikn|lololololololololololol|lolololololololo|daaaaaa|qih|gsy|beeeeeeeeee|hahahaahahahahaaa|uya|rrrrrrrr|diddid|hmmmmh|aaaaaahhhh|ejk|huuuu|shhhhhhhhhhhhhhh|ptz|booooooooooo|ahahhhaaahhaaa|wooooooooo|nonononoo|qep|egn|cxo|cvx|dvn|cooo|uuuhhh|kwb|nvl|ssssshhhhhhh|cwx|dkg|nwn|kakaaka|rhy|hehee|ahahahahahhaaha|aaaalllll|efffff|oxoxoxox|aaaaaa|xxxxl|bqs|zzzzzzzzt|omh|rbq|nkg|hahhhahaahhhahhaaahahaaa|hhahahaahahhaahahaaaaaahaaaaaa|hahahahahahaahahahaahahaahaahahaaaaa|huhhhh|ommmmmmm|goooooooooooo|njd|ewwwwwwwww|yuc|goooooooo|lollll|mve|ggq|kfr|oooooohhhhhh|mmmam|hahhaaa|haaahahaa|hahaaaaaa|ooj|wwiiii|ahahahhhahahhahaa|zzzzzzzzzzzzzzzzzzzzzzzzzzzzzzzzzzzzzzzzzzzzzzzzzzzz|hahahaaaaaaaaa|hahaaaahahaaa|rwo|arrrrrrrr|tjt|hahahaahaa|llllol|vaf|zrx|vbm|iiww|ooooooooh|aaaaaarrrrr|dfh|fvc|kkkkkk|jrx|mxxxx|ssasa|ahahahahhhahaahahaaaahaha|ahaaa|lyc|yaaaaaaay|ylo|skx|yhr|enj|mooooooooooooooooooooooooooooooooooooooooooooooooooo|yaaaaa|uumm|nwy|ajv|bssssssss|aev|ihu|nooooooooooooooooooooooooooooooooooooo|heeeeeeeeeeeee|hahahahahahahahahahahahahahahahahahahahahahahahahahahahahahahahahahahahahahahahahahahahahahahahahahahahahahahahahahahaha|wcj|eerr|addd|aaaallll|rkb|wtl|uuhh|efn|eeeew|hahahaaaaahaaahaaa|dpdp|nty|mooooooom|ppj|ssee|hahahahaaahahaaaaaaa|xau|orrrrrrrrrrr|asz|ddq|reeeeeeeeeeeee|mgj|mommmmmm|lollllllllllllllllll|daaa|ndd|zcs|pooop|wnn|jajajajaj|rju|lollllllllllllllll|jjjp|ryz|rtj|haahahahahahaaahahahaaahaaha|hahahaaahahaaaahahaahahhaha|chhc|jjss|haaaaaaaaaaaaaaaaaaaaaaaaaaaaaaaaa|fuv|ddtd|errrrrrrrrr|wooooooooooooo|yaaaaaaaaaaaaaaay|rht|ahhhhhhhhhhhhhhhhhhh|hhahahahaaaaa|kzs|rbo|gagga|daaaaaaaaaaaaaaaaa|pxp|wwccc|gmmg|looooooooooooooooool|uuuh|tdo|hahahhhaaha|zzzzx|wqr|oky|yaaaaaaaaaaaaa|chhh|aaaaaaaaaahhhhh|yaaaaaaaaaaaaaaa|wje|wooooooo|syy|zzzzzzzzzzzzzzzzzzzzzzzzzzzzzzzzzzzzzzzzzzzz|eewwww|rro|lololollllollol|aaaaaaaaaaaaaaaahhhhhhh|hahahahahahahhahahahhahahahahahhaaha|pfv|mqb|weeeeweeeee|hahahahaaaaaaaa|weeeeweeee|eewwwww|essssss|iccc|aaaaaawwwwww|xcs|xma|uuuummm|pttp|aaawwwww|dooooooo|fuj|oiw|ahhhhaaa|xed|unnnn|uuuu|gcg|ahahahahahhahha|gfx|yq|eeeewwwwww|mememememememememememe|mememememememememe|qlp|bnw|axy|gaaaaaa|eeeh|pck|yxy|azzzzz|aaaaaaaaaaahhhhhh|hahahahahahahahahahahahahahahahahahahaha|byp|ijw|hxd|gwd|boooooooooooooooooooo|oih|teee|mkl|attttttttttttt|ooowwww|ahahahahahahaaaaaa|laaaaa|ahahahhhaaaaahahhhhaaahahaa|ahhhhhhahaahahhhahahahahaahahaha|ahahahaahhaahhahahahaahahhhhaaaaaaahhahhhaaa|ahaahhaahhhhaaaaahhhhaaahahaahahaha|dbo|ukz|ssssssss|aaaallllllllll|lollllllll|eow|sssstt|fxm|awaw|iwd|wcn|hahahahahahahahahahhahahahaha|ahahahahaaa|cocc|hehehehehhhh|bbu|ahhhhaa|haaaahaaaahaaaa|soooooooooooooo|loq|woooooow|mhw|soj|hehehehee|poooooooooo|vgt|haaaaaaaaaaaaaaaaaaaa|fhf|aahahahahhhaaaahhhaahahaa|qho|ypi|ehu|idid|ujp|sje|ylw|seeeee|hahahaahaahaaaahaahaaaaahahahahahahahaahahahaahahaaahahaaa|jkjk|gmx|eeeeepp|mjn|krr|drh|eeeez|tly|oooooohhhhh|aahahahaahahahaahahahaha|ahaahahahahaahahahahaahaha|jajajajaja|uuuuummmmmmmm|naaaaaa|oyt|hahaaaaaaaahaaahahahhahaaaaaahhahhhaahaha|babba|hvr|yse|eeeeeeee|uuuuuuup|hahahahhhaaaahahahahhhhahahaha|boooob|ahhaahhhhaahhahaahaaahahha|rgh|eeeeeeeeeee|eeeeeee|aaaaaaaaaa|sxm|gys|beeeeee|aaaaaaaaaaaaaa|ahaahaha|ahahaaahahahahha|ahahahaaaahahahah|ahahahhahahahahah|kng|ahahha|ytz|bjy|cmk|ooooooohhh|ahhah|hahhhha|hhah|eeeeeeeeeeeeeee|ooooohhhhhh|immmmm|hahhahahhah|vcy|pppps|hehhhh|hehhh|hehhheh|heeehhh|hhhehh|pjt|bhm|rnu|aaaaaaah|zll|lltl|hho|yty|aaaalllllll|cxcxc|haahahaha|hahahahhahaahhaahahahahahhaahaha|hhhhmmmm|jjjjjjjjjjj|yyyy|mfu|yfb|zrh|sssso|uuumm|jjjjjjjjjjjj|zzzzzzzzzzzzzzzzzzzzzzzzzzzzz|weeeeeeeeee|ecec|wdn|ejjjj|oooooohh|tbbt|xes|llllolll|oooowwww|riii|yaaaaaaaa|reee|drdr|hahhahahahahahhahahahaa|sdq|thtt|ahahhhaahhhahahahahahahahahahahahahahahahahahahaha|eeeey|ahhaaahaaahaaaahaahaaahahhhhaaaaahhhaahhhaaaa|hahahaahha|hahahahahaahha|hahahahahahaahahahhhahahah|hahahh|rrsr|jpq|jjpp|ahahhhaaaahhaahhaahaa|tptp|hahahahahahaaaaaa|hahhah|faj|hahahahahahahahahha|daaaaaaaaaaaaaa|ummmmmmmmmmmmmm|exl|hahahahhahahhahahahahahahhahahahahahahahhahahah|ejd|nnnoooooooooooooooooooooooooooooooooooooo|ahahahahahaaaaaaaaaaa|asy|wwr|ahahhhhaaaahhaaaahhaa|ahahahahahahahahahahahahahahahahhahahahahahaaaa|xgd|woooooooooooooooooooooo|hhahahahahahhah|oik|ddad|aahahahhahaahahaahahahaaaaaa|ssys|ahahahahahah|ahhhaaahhaahhaahhhhaaaahahhaha|ooooooooooooohhhh|pfffffffff|hhw|ahhhhaahhhhaahhaaahhaa|mllllllll|tij|brrrrrrr|mhmm|uuuhhhhh|rrrrrrr|totoo|hahahahahaaahaha|ccyy|tttttt|heehhhh|mmmmmmmmmmmmm|soq|hahahahahahahahahahahahahahahahahahahahahahahahahahahahahahahahahahahahahahahahahahahahahahahahahahahahahahahahahahahahahahahahahahahahahahahahahahahahahahahahahahahahahahahahahahahahahahahahahahahahahahahahahahahahahahahahahahahahahahahahahahahahahahahahahahahahahahahahahahahahahahahahahahahahahahahahahahahahahahahahahahahahahahahahahahahahahahahahahahahahahahahahahahahahahahahahahahahahahahahahahahahahahahahahahahahahahahahahahahahahahahahaha|hahahahhaa|ohhhhhhhhh|lollllllllllllllllllll|idii|qqqqd|ahahhaahahaahaah|aaaaaaaaah|feef|obm|ahahahahahaaaaa|oooyyy|ssssshhhh|sxp|ylp|mue|ummmmmmmmmm|illl|yuz|zzzzzzzzzzzzzzzzzzzzzzzzzzzzzzzzzzzz|waaaaaaaaaaaaaaaaaaaaaaaaaaaaaaaaaaaaaaaaaaaaaaaaaaa|uhhhhhhhhhhhhhhh|sssg|jujj|hki|fne|hahahahahaaahahahahahahaahahaahahaahaaaaaa|jjjgj|eoy|hahahahhhaha|vfh|uhhhhhhhh|hahahhahahahaaaaaa|oooooooooooooooo|qwu|ahahahahaahahaaaaaaaaaa|hahahahahahahahahahahaaaa|haahaahaa|eerrrr|ahahahahahahahahahahaaaaa|ahahahaahahaaaaaahahahaahhaaaa|hny|aaaawwww|jkk|qha|aahhhhhhhaaahhhhaahhhaahaaahahaa|xec|oxi|heheheheheh|ssssooooo|hahaahahaahhaahahahaaahahahaaa|doodo|hehhe|ccy|mmmmmmmmmkkkkkkkkkkk|mmkk|hdhdhd|arrar|dxl|leq|pkl|rrh|rvh|rsj|wiw|gccc|jdt|ahahahahahahahahahahahaha|ajl|ccce|ooooohh|tya|oooooooooooh|jtq|hahaahahahahahaaahaha|hahahhhahahahahahahahaah|hahahahahahahhhahahahahahaha|rqe|uuppp|fpfp|inni|haaahhhaaaa|dbbb|hahaaaahahahaha|hahahahahahahahahaahahahaaaha|foofoo|loloololol|woowooo|ummmmmmmmmmmmmmmmm|xxxxxxxxxxx|fffttt|fffa|aaaw|haahaahaahahahahahaha|hmhm|oxoxox|mrq|heehehehehehehehehehe|hahahahahhahahahahahhahahahahahahhahahahahahahahahahahahahahhaahhahahahahahahahahahahaha|bxe|tgl|llllloooooollllll|huhhhhh|hhhhhaaaaaaaaaaa|nnnnooooooooooooo|hhhmmmmmm|waaaaaaaaaaa|goooooooooooooooo|xtm|aaaaaaaaaaaaaaaaahahhahaha|eere|woow|nfg|uhhuh|ppppooooooppppp|myl|zbl|ngw|crq|nnnnnooooooooooooooo|aahhahhhaaaahhhaahahaha|aahaahhhhhaaaahhhaahaha|ahahaahahahaahahaha|zfg|drn|ewwwwww|hoooooo|yaaayyyyy|ewp|wtk|jkv|orw|mymy|lool|srj|nnnnnooooo|euy|hahahahahahha|ahahaahahahahaahahaahahahahahaha|inx|hahhhahahahahahahahahaha|ffffffff|aahahahaha|hahahahahahaahah|laaaa|adddd|aawww|ahahaahahaahahaha|ahahaahahaahahahahahahaaha|ewwwwwwwwwwwww|ahahahahahahahaahaha|hyv|mgu|ahahahahahahahhahahahahahahahhahhaaahhhah|toooooooooooooooooooooooo|tooooooooooooooooo|oooooouu|ezzzzzz|gvp|hooooooooooo|yoooooo|kux|whh|rhl|iyt|sooooooo|haahhah|toooooooooooooooooooo|yoooooooooooo|hahahahhahahahaha|rry|mmnn|fuz|pssssss|hahahahahaah|wvr|ssjs|yayyyyyyy|emk|poooooooooooooop|haaaahaaaahaaahaaaahaaahaaaahaaahaaaahaaahaaaahaaa|haaahaaahaaahaa|ahahhaha|oooooooor|waaaaaaaaaaaaaaa|hahahahahahahahahahahahahahahahahaha|mmhhmmm|xxyyy|mmmkkk|peeeeeeeeeeeee|aaww|ssssssssssso|bbbbbb|baaaaaaaaaaaaaaa|baaaaaaaaaaaaaaaaaaaaa|dgu|pvg|nqa|wwwiii|saaa|nwb|ittt|mjh|ahahahaahahaahahaahahahaahahaha|aay|flb|ahahaahahahaha|ahahaahahahahaahahaahahaha|ccsc|jjjjjjj|puo|cbcc|ciy|wov|hyd|urg|lolollol|jrj|hahahahahahaah|ahahahaahahaahaha|hahahahahahahahahhahahahahahhahahahahahahahhahahahahahahahahahahahahahahhaahahahahhahahahahahahahhahahahahahahahahahahahahahahahahahahahhahahahahahahahahahahahahahahahahahahahahahahahahahahahahahahahahahahhahahahahahahahahahahahahahahhahahahahahahahahahahahahahhahaahahhahahahahahahahahhahahahahahahahahahahahahahahahahahahahahahahhaha|eeww|owwwww|owwwwww|iqq|hmmmmmmmmmmmmmmmmmmmmmmmmmmmmmmmm|hahahhahahaha|haaaah|azzzz|hahahahahaaa|enen|hahaahahahaahahaha|dwj|hmmmmmmmmmmmmmmmmmm|aaaaahhhhhh|onnnnnnnnn|wlv|nvk|lmh|tooooooooooo|hahahahahaahaaaaaaa|pbu|xoxoxoxoxoxo|rrrrrrrrrrrrrrrrrrrrrrrrrr|ehhhhhhh|hhahahaa|ooiiii|ttff|njf|fffffffffff|hahahhaaa|qou|ytf|qae|yaaaaaaaaaaaa|nooooooooooooooooooo|zzzzzzzzzzzzzzzzzzzzzzzzzzzzzzzzzzzzzzzzzzzzzz|tjf|hehehehehehehe|naaaaaaaaa|ooor|byh|uugggg|aaaaha|plx|woooowww|wbd|rww|yeeeeee|memememe|hahahahaaaaa|mmmmmmk|hdm|hahahhhaaaa|daaaaaaaaaaaaa|okn|waaaawaaaawaaaa|jjv|seeeeeee|mmmmk|reeeee|baaaaaaaa|faaaaaaa|faaaaa|haahhaha|ahahahahahahah|sooooooooooooooooooooo|ohhhhhhhhhhhhhh|ahhahahahahahahahaha|jhj|nqr|myt|naaaaaaaaaaaa|gggrrrrrrr|jeee|tjm|ooooooooooooooooooooooooooooooooooooooooooooooooooooooooooooooooooooooooooooooooooooooooooooooooooooooooooooooooooooooooooooooooooooooooooooooooooooooooooooooooooooooooooooooooooooooooooooooooooooooooooooooooooooooooooooooooooooooooooooooooooooooooooooooooooooooooooooooooooooooooooooooooooooooooooooooooooooooooooooooooooooooooooooooooooooooooooooooooooooooooooooooooooooooooooooooooooooooooooooooooooooooooooooooooooooooooooooooooooooooooooooooooooooooooooooooooooooooooooooooooooooooooooooooooooooooooooooooooooooooooooooooooooooooooooooo|hahahahahahhahahahahha|hahahhahahahahhahahaha|gmw|hahhahah|ysi|iwb|hhoo|hsq|unx|shhhhhhhhhhhh|edq|ugggg|hahahahahahaha|kwr|uuuus|mmmmkkk|yhw|moooo|hlk|hehehheh|jaajajajaaaaaaaaaaaaaaaaaaaaaaaaaaaaa|eeeie|fjr|hahahahahahahahah|ddid|ynp|haaahhaaaaa|llllllllllluuuuuuuuuuuuuuu|bbbbbbbbbl|ahhahaha|hahhaaaha|rjh|eewwe|pzc|hahahahhahahahhahahahaha|haahhhaa|ufb|fwt|cooco|jmk|ktk|sxxx|haahaa|hahhaa|hahahahaaaaaa|kwm|iiiiiiiii|bbff|dcj|mmii|nooooooooooooooooooooooooooo|hahaahaa|ibw|tooooooooooooooooooooooooooooo|ykc|eeewwwww|nonononononononononono|nrq|toooooooooooo|owb|ahhahahahahah|hooh|pppppp|uib|eqc|heeheeh|mlllllll|lllllllb|irj|ehy|meeeeeeeeee|hahahahhahahahahhahahahhahahahahahhahahahah|ooooooooooo|gooooooooo|jrn|awy|ckn|rcy|allall|gggrrrr|hahahahahaahahaha|goooooooooooooooooo|ahahahahahahahaaha|xoxoxox|poopo|lllll|sshhhhhhhh|soooooooooooooooooooo|eeeeewwwwwwwwwwww|upppp|eeeeeh|blj|eou|pppm|eeeeeewwwwww|jlk|dgj|ffffuuuuuuuuuuuuuuu|hahahahahahahahhha'"
            ]
          },
          "execution_count": 24,
          "metadata": {},
          "output_type": "execute_result"
        }
      ],
      "source": [
        "# we can look for more stopwords using the below logic:\n",
        "# most terms with length <=3 or unique chars <=2 have very high chances of being an invalid word, \n",
        "# so we can create this set of words and add it to stop words\n",
        "invalid = [w for w,c in oov if len(w)<=3 or len(set(w))<=2]\n",
        "\"|\".join(invalid)"
      ]
    },
    {
      "cell_type": "code",
      "execution_count": null,
      "metadata": {
        "id": "MYIfN_-Zf8lI"
      },
      "outputs": [],
      "source": [
        "# we will update the stopwords list in later section \n",
        "stop = list(set(sw + invalid))"
      ]
    },
    {
      "cell_type": "code",
      "execution_count": null,
      "metadata": {
        "id": "bsLR8EHdNWHR"
      },
      "outputs": [],
      "source": [
        "# pickle.dump(stop, open(\"stop.pkl\", \"wb\"))\n",
        "stop = pickle.load(open('stop.pkl', 'rb'))"
      ]
    },
    {
      "cell_type": "code",
      "execution_count": null,
      "metadata": {
        "id": "YmfmnFE80dJL"
      },
      "outputs": [],
      "source": [
        "# refer - https://www.geeksforgeeks.org/removing-stop-words-nltk-python/\n",
        "def remove_stopwords(text):\n",
        "    edited = \" \".join([w for w in text.split(' ') if w not in stop]) \n",
        "    return edited"
      ]
    },
    {
      "cell_type": "code",
      "execution_count": null,
      "metadata": {
        "colab": {
          "base_uri": "https://localhost:8080/",
          "height": 36
        },
        "id": "1CxKZsrk0dG6",
        "outputId": "a94323bf-d86c-48ee-d253-9b6794313422"
      },
      "outputs": [
        {
          "data": {
            "text/plain": [
              "'lets check function output short story: \\nhe holding knife hand. phone ringing continuously not picking up.\\nit dark someone walked room candle.\\nand, celebrated birthday cake cutting.'"
            ]
          },
          "execution_count": 45,
          "metadata": {},
          "output_type": "execute_result"
        }
      ],
      "source": [
        "t = '''Lets check how the function output on this short story: \n",
        "He was holding a knife in his hand. The phone was ringing continuously but he was not picking it up.\n",
        "It was all dark and someone walked into his room with a candle.\n",
        "And, then they celebrated his birthday by cake cutting.'''\n",
        "t = t.lower()\n",
        "remove_stopwords(t)"
      ]
    },
    {
      "cell_type": "code",
      "execution_count": null,
      "metadata": {
        "id": "tebpma7CLbnx"
      },
      "outputs": [],
      "source": [
        "# vectorized alternative to remove stopwords (however, parallel processing works faster so this alternative isn't used): \n",
        "\n",
        "# def remove_stopwords_vectorized(data, col):\n",
        "#     print('Initiating Vectorized Stopword Removal Function..')\n",
        "#     start_time = time.time()\n",
        "#     data['tokens'] = [word_tokenize(row) for _, row in data[col].iteritems()]\n",
        "#     data['removed'] = [[word for word in words if word not in sw] for _,words in data['tokens'].iteritems()] #stop\n",
        "#     data[col] = [\" \".join(words) for _,words in data['removed'].iteritems()]\n",
        "#     data.drop(columns = ['tokens', 'removed'], inplace=True)\n",
        "#     print(\"--- '%.2f' seconds ---\" %(time.time() - start_time))\n",
        "#     return data"
      ]
    },
    {
      "cell_type": "markdown",
      "metadata": {
        "id": "4hY0vTVwNWHS"
      },
      "source": [
        "In case of stopword removal the vectorized function works slower than the apply. While, the The fastest option remains parallel_apply."
      ]
    },
    {
      "cell_type": "markdown",
      "metadata": {
        "id": "2xPaoMXvXOsB"
      },
      "source": [
        "## **3.9 Lemmatization (with POS Tagging)**"
      ]
    },
    {
      "cell_type": "code",
      "execution_count": null,
      "metadata": {
        "id": "tZtKbLpV3iRD"
      },
      "outputs": [],
      "source": [
        "# code snippet - https://www.geeksforgeeks.org/python-lemmatization-approaches-with-examples/#:~:text=Wordnet%20Lemmatizer%20(with%20POS%20tag)&text=This%20is%20because%20these%20words,%2C%20noun%2C%20adjective%20etc).\n",
        "# WORDNET LEMMATIZER (with appropriate pos tags) \n",
        "lemmatizer = WordNetLemmatizer()\n",
        "\n",
        "def pos_tagger(nltk_tag):\n",
        "    ''' param pos: The Part Of Speech tag. Valid options are `\"n\"` for nouns,`\"v\"` for verbs, `\"a\"` for adjectives, `\"r\"` for adverbs and `\"s\"` for satellite adjectives.\n",
        "        (from wordnet lemmatizer docs- https://www.nltk.org/_modules/nltk/stem/wordnet.html)\n",
        "    '''\n",
        "    if nltk_tag.startswith('J'):\n",
        "        return wordnet.ADJ\n",
        "    elif nltk_tag.startswith('V'):\n",
        "        return wordnet.VERB\n",
        "    elif nltk_tag.startswith('N'):\n",
        "        return wordnet.NOUN\n",
        "    elif nltk_tag.startswith('R'):\n",
        "        return wordnet.ADV\n",
        "    else:         \n",
        "        return None\n",
        "\n",
        "# Define function to lemmatize each word with its POS tag\n",
        "def lemmatizer_withPOS(text):\n",
        " \n",
        "    # tokenize the text and find the POS tag for each token\n",
        "    pos_tagged = nltk.pos_tag(nltk.word_tokenize(text)) \n",
        "    \n",
        "    wordnet_tagged = list(map(lambda x: (x[0], pos_tagger(x[1])), pos_tagged))\n",
        "  \n",
        "    lemmatized_text = []\n",
        "    for word, tag in wordnet_tagged:\n",
        "        if tag is None:\n",
        "            # if there is no available tag, append the token as is\n",
        "            lemmatized_text.append(word)\n",
        "        else:       \n",
        "            # else use the tag to lemmatize the token\n",
        "            lemmatized_text.append(lemmatizer.lemmatize(word, tag))\n",
        "    lemmatized_text = \" \".join(lemmatized_text)\n",
        "    \n",
        "    return lemmatized_text"
      ]
    },
    {
      "cell_type": "code",
      "execution_count": null,
      "metadata": {
        "colab": {
          "base_uri": "https://localhost:8080/",
          "height": 36
        },
        "id": "xRuX13Iy_p0O",
        "outputId": "8259d5ee-62d2-4f05-adc6-65cd98d63887"
      },
      "outputs": [
        {
          "data": {
            "text/plain": [
              "'His heart beating , Miles walk through the undergrowth . He jump onto the porch and push the heavy oak door , hear the hinge groan as it slowly open .'"
            ]
          },
          "execution_count": 47,
          "metadata": {},
          "output_type": "execute_result"
        }
      ],
      "source": [
        "t = '''His heart beating , Miles walked through the undergrowth. He jumped onto the porch and pushed the heavy oak door, hearing the hinges groan as it slowly opened.'''\n",
        "lemmatizer_withPOS(t)"
      ]
    },
    {
      "cell_type": "code",
      "execution_count": null,
      "metadata": {
        "id": "V2OMzjXaY6AT"
      },
      "outputs": [],
      "source": [
        "# vectorized alternative for lemmatization (however, parallel processing works faster so this alternative isn't used): \n",
        "\n",
        "# def lemmatizer_withPOS_vectorized(data, col):\n",
        "#     print('Initiating Vectorized Lemmatization Function..')\n",
        "#     start_time = time.time()\n",
        "#     data['tokens'] = [word_tokenize(sent) for i,sent in data[col].iteritems()]\n",
        "#     data['pos_tagd'] = [nltk.pos_tag(sent_words) for i,sent_words in data['tokens'].iteritems()]\n",
        "#     data['wordnet_tagd'] = [[(word[0],pos_tagger(word[1])) for word in sent_words] for i, sent_words in data['pos_tagd'].iteritems()]\n",
        "#     data['lem_tokens'] = [[lemmatizer.lemmatize(word, tag) if tag is not None else word for word, tag in tagd_words] for i, tagd_words in data['wordnet_tagd'].iteritems()]\n",
        "#     data[col] = [\" \".join(lem_words) for i, lem_words in data['lem_tokens'].iteritems()]\n",
        "#     data.drop(columns = ['tokens', 'pos_tagd', 'wordnet_tagd', 'lem_tokens'], inplace=True)\n",
        "#     print(\"--- '%.2f' seconds ---\" %(time.time() - start_time))\n",
        "#     return data"
      ]
    },
    {
      "cell_type": "markdown",
      "metadata": {
        "id": "kqmPtRCha5QP"
      },
      "source": [
        "## **3.10 Preprocessing Pipeline**"
      ]
    },
    {
      "cell_type": "code",
      "execution_count": null,
      "metadata": {
        "id": "XUtAYqNhNWHT"
      },
      "outputs": [],
      "source": [
        "rand = random.sample(range(0,len(train)), 10000)\n",
        "sample = train.iloc[rand]"
      ]
    },
    {
      "cell_type": "code",
      "execution_count": null,
      "metadata": {
        "colab": {
          "base_uri": "https://localhost:8080/",
          "height": 218,
          "referenced_widgets": [
            "0272004ddbad4fef9b14dc849f72e97c",
            "3cf11bb8165449c680f63e3d7969c7d9",
            "aa049a318a6c4a37a1b3fac823d97db5",
            "5c303616e5db45829b0e8c48f0ded259",
            "70c6be0ed63c4226bddf9f52021126cc",
            "4a86a9435fcb40c891aa525bfb468ec1",
            "36a6d2046dc4492bb10e4e11b1a171cd",
            "08d7ed10932a4745921938325f3457ed",
            "6e207cc3f271496aa57f711eeea698f2",
            "77be9aff3b674d52b2dfdc5e150a871b",
            "34dc1ec28757496b82ce8c38bbcded93",
            "5b78ae907138487ca32e15ad5c25e5a7",
            "02ccb9087f134f069208a8976ba2dbc8",
            "774b38b8e1434f45abeb7c8f1dd18e7c",
            "c1f553c877b04262afaddb4c85a7fc78",
            "176fdfed773c4d6983b2c8e714c09b56",
            "3ecc9e8c59f248b6a604e17d2a8695e5",
            "6b7b096972a44c16af246367b74f5e67",
            "f22977eb4d164cd7a607b0e72fd8ef58",
            "f9dcb861f2a04952858ac2e6401ce390",
            "9c925244f9bf475ab2ea2095cda3f968",
            "ecec486661d34bb49175acf075cf01ee",
            "e3af6e5fdb70463db2f795de6074669a",
            "478aca070b50482c92ae65de715c799f",
            "172f604041ab4a5bb5fc0b8e8619708a",
            "fcb84a937cfb4bcf9772d69f0e17ca3c",
            "9d1df95ed3834313ba9cd5e5696ca08f",
            "eb0967054122499a9fb5746c631400b8",
            "345ba23367c84dac8b2137f9e1a8cffc",
            "d1b7ed0e45544d99ab3337b335c272a1",
            "c9f52e99f0ca48bb80c01d941068234e",
            "2da51e96a8984419be6088cc0016f5dc",
            "9a7825880b184c04b74bd0f67344fb6c",
            "fc1c196523cf431d869082f10c0d3e56",
            "93c69ba4fde54a3ab2c928646722b12d",
            "caee3e4ae2e74607b94bba83bb745c3c",
            "d3a6374670194c66bccb24906dec1cf7",
            "80206a4015224ccb8dd36377299ba90c",
            "d63fd36598f048e1bbe4e5d0bc28dd3a",
            "f3811008527144819935102400265b44",
            "62a10dc8640e462e9eda5072a46e3ab7",
            "46bb4f515cb148c899ab4d59d83ec17f",
            "ba74679febac4238a5dc8e9e50456d4a",
            "eec309dd9e444cf2bd8253616a65a84c",
            "8d91c8844be8407fb9cb99c9faee1fa8",
            "7b793ed8942542c1a5156650f7df1537",
            "5401f0c52d764231bb6bcd208114152b",
            "c47ddebe37bc4e3a8f6f5f79e5a4e3df",
            "c98a42d413864670b8d8e3d060e898db",
            "a24a288343bb4d24b08937931e4a644e",
            "a35efc363810452d86314a9b911dcb1e",
            "847e112c7b8e498f98cad6a9bd3ffe2b",
            "3ac05ef977cd467ebf6da94b905b5e79",
            "e9f278eb63fe4c778a1162eafcfcc6a8"
          ]
        },
        "id": "TJ5em3J5btyn",
        "outputId": "84b5b8f1-eb43-4d82-9a46-7baa68a9c97d"
      },
      "outputs": [
        {
          "data": {
            "application/vnd.jupyter.widget-view+json": {
              "model_id": "8d91c8844be8407fb9cb99c9faee1fa8",
              "version_major": 2,
              "version_minor": 0
            },
            "text/plain": [
              "VBox(children=(HBox(children=(IntProgress(value=0, description='0.00%', max=1000), Label(value='0 / 1000'))), …"
            ]
          },
          "metadata": {},
          "output_type": "display_data"
        },
        {
          "data": {
            "application/vnd.jupyter.widget-view+json": {
              "model_id": "7b793ed8942542c1a5156650f7df1537",
              "version_major": 2,
              "version_minor": 0
            },
            "text/plain": [
              "VBox(children=(HBox(children=(IntProgress(value=0, description='0.00%', max=1000), Label(value='0 / 1000'))), …"
            ]
          },
          "metadata": {},
          "output_type": "display_data"
        },
        {
          "data": {
            "application/vnd.jupyter.widget-view+json": {
              "model_id": "5401f0c52d764231bb6bcd208114152b",
              "version_major": 2,
              "version_minor": 0
            },
            "text/plain": [
              "VBox(children=(HBox(children=(IntProgress(value=0, description='0.00%', max=1000), Label(value='0 / 1000'))), …"
            ]
          },
          "metadata": {},
          "output_type": "display_data"
        },
        {
          "data": {
            "application/vnd.jupyter.widget-view+json": {
              "model_id": "c47ddebe37bc4e3a8f6f5f79e5a4e3df",
              "version_major": 2,
              "version_minor": 0
            },
            "text/plain": [
              "VBox(children=(HBox(children=(IntProgress(value=0, description='0.00%', max=1000), Label(value='0 / 1000'))), …"
            ]
          },
          "metadata": {},
          "output_type": "display_data"
        },
        {
          "data": {
            "application/vnd.jupyter.widget-view+json": {
              "model_id": "c98a42d413864670b8d8e3d060e898db",
              "version_major": 2,
              "version_minor": 0
            },
            "text/plain": [
              "VBox(children=(HBox(children=(IntProgress(value=0, description='0.00%', max=1000), Label(value='0 / 1000'))), …"
            ]
          },
          "metadata": {},
          "output_type": "display_data"
        },
        {
          "data": {
            "application/vnd.jupyter.widget-view+json": {
              "model_id": "a24a288343bb4d24b08937931e4a644e",
              "version_major": 2,
              "version_minor": 0
            },
            "text/plain": [
              "VBox(children=(HBox(children=(IntProgress(value=0, description='0.00%', max=1000), Label(value='0 / 1000'))), …"
            ]
          },
          "metadata": {},
          "output_type": "display_data"
        },
        {
          "data": {
            "application/vnd.jupyter.widget-view+json": {
              "model_id": "a35efc363810452d86314a9b911dcb1e",
              "version_major": 2,
              "version_minor": 0
            },
            "text/plain": [
              "VBox(children=(HBox(children=(IntProgress(value=0, description='0.00%', max=1000), Label(value='0 / 1000'))), …"
            ]
          },
          "metadata": {},
          "output_type": "display_data"
        },
        {
          "data": {
            "application/vnd.jupyter.widget-view+json": {
              "model_id": "847e112c7b8e498f98cad6a9bd3ffe2b",
              "version_major": 2,
              "version_minor": 0
            },
            "text/plain": [
              "VBox(children=(HBox(children=(IntProgress(value=0, description='0.00%', max=1000), Label(value='0 / 1000'))), …"
            ]
          },
          "metadata": {},
          "output_type": "display_data"
        },
        {
          "data": {
            "application/vnd.jupyter.widget-view+json": {
              "model_id": "3ac05ef977cd467ebf6da94b905b5e79",
              "version_major": 2,
              "version_minor": 0
            },
            "text/plain": [
              "VBox(children=(HBox(children=(IntProgress(value=0, description='0.00%', max=1000), Label(value='0 / 1000'))), …"
            ]
          },
          "metadata": {},
          "output_type": "display_data"
        },
        {
          "data": {
            "application/vnd.jupyter.widget-view+json": {
              "model_id": "e9f278eb63fe4c778a1162eafcfcc6a8",
              "version_major": 2,
              "version_minor": 0
            },
            "text/plain": [
              "VBox(children=(HBox(children=(IntProgress(value=0, description='0.00%', max=1000), Label(value='0 / 1000'))), …"
            ]
          },
          "metadata": {},
          "output_type": "display_data"
        }
      ],
      "source": [
        "#pipeline\n",
        "sample['preprcsd_1'] = sample['comment_text'].parallel_apply(lambda x: lowercase(x))\n",
        "sample['preprcsd_2'] = sample['preprcsd_1'].parallel_apply(lambda x: expand_terms(x))\n",
        "sample['preprcsd_3'] = sample['preprcsd_2'].parallel_apply(lambda x: handle_html_tags(x))\n",
        "sample['preprcsd_4'] = sample['preprcsd_3'].parallel_apply(lambda x: handle_url(x))\n",
        "sample['preprcsd_5'] = sample['preprcsd_4'].parallel_apply(lambda x: replace_mispelled_words(x))\n",
        "sample['preprcsd_6'] = sample['preprcsd_5'].parallel_apply(lambda x: emo2word(x))\n",
        "sample['preprcsd_7'] = sample['preprcsd_6'].parallel_apply(lambda x: handle_numeric_terms(x))\n",
        "sample['preprcsd_8'] = sample['preprcsd_7'].parallel_apply(lambda x: strip_spaces(x))\n",
        "sample['preprcsd_9'] = sample['preprcsd_8'].parallel_apply(lambda x: remove_stopwords(x))\n",
        "sample['preprcsd_10'] = sample['preprcsd_9'].parallel_apply(lambda x: lemmatizer_withPOS(x))"
      ]
    },
    {
      "cell_type": "code",
      "execution_count": null,
      "metadata": {
        "id": "jYPkPHrlNWHT",
        "outputId": "da38b529-18f8-42f6-d71e-4b9192fbdaca"
      },
      "outputs": [
        {
          "name": "stdout",
          "output_type": "stream",
          "text": [
            "\u001b[1mText 1\n",
            "\u001b[0m\n",
            "\u001b[1mStage 0:\n",
            "\u001b[0m Dermot: a loser's game is being played. As long as the AMA has legal control over the medical industry, they will continue to strangle this nation and not give a damn. 100,000 academically qualified student applicants are turned away from medical schools; there is a huge shortage of doctors. Might want to ask just who controls this. Hint: it is the second largest lobby in Washington!\n",
            "\n",
            "\u001b[1mStage 1:\n",
            "\u001b[0m dermot: a loser's game is being played. as long as the ama has legal control over the medical industry, they will continue to strangle this nation and not give a damn. 100,000 academically qualified student applicants are turned away from medical schools; there is a huge shortage of doctors. might want to ask just who controls this. hint: it is the second largest lobby in washington!\n",
            "\n",
            "\u001b[1mStage 2:\n",
            "\u001b[0m dermot: a loser's game is being played. as long as the ama has legal control over the medical industry, they will continue to strangle this nation and not give a damn. 100,000 academically qualified student applicants are turned away from medical schools; there is a huge shortage of doctors. might want to ask just who controls this. hint: it is the second largest lobby in washington!\n",
            "\n",
            "\u001b[1mStage 3:\n",
            "\u001b[0m dermot: a loser's game is being played. as long as the ama has legal control over the medical industry, they will continue to strangle this nation and not give a damn. 100,000 academically qualified student applicants are turned away from medical schools; there is a huge shortage of doctors. might want to ask just who controls this. hint: it is the second largest lobby in washington!\n",
            "\n",
            "\u001b[1mStage 4:\n",
            "\u001b[0m dermot: a loser's game is being played. as long as the ama has legal control over the medical industry, they will continue to strangle this nation and not give a damn. 100,000 academically qualified student applicants are turned away from medical schools; there is a huge shortage of doctors. might want to ask just who controls this. hint: it is the second largest lobby in washington!\n",
            "\n",
            "\u001b[1mStage 5:\n",
            "\u001b[0m dermot: a loser's game is being played. as long as the ask me anything has legal control over the medical industry, they will continue to strangle this nation and not give a damn. 100,000 academically qualified student applicants are turned away from medical schools; there is a huge shortage of doctors. might want to ask just who controls this. hint: it is the second largest lobby in washington!\n",
            "\n",
            "\u001b[1mStage 6:\n",
            "\u001b[0m dermot  a loser s game is being played  as long as the ask me anything has legal control over the medical industry  they will continue to strangle this nation and not give a damn  100 000 academically qualified student applicants are turned away from medical schools  there is a huge shortage of doctors  might want to ask just who controls this  hint  it is the second largest lobby in washington \n",
            "\n",
            "\u001b[1mStage 7:\n",
            "\u001b[0m dermot  a loser s game is being played  as long as the ask me anything has legal control over the medical industry  they will continue to strangle this nation and not give a damn      academically qualified student applicants are turned away from medical schools  there is a huge shortage of doctors  might want to ask just who controls this  hint  it is the second largest lobby in washington \n",
            "\n",
            "\u001b[1mStage 8:\n",
            "\u001b[0m dermot a loser s game is being played as long as the ask me anything has legal control over the medical industry they will continue to strangle this nation and not give a damn academically qualified student applicants are turned away from medical schools there is a huge shortage of doctors might want to ask just who controls this hint it is the second largest lobby in washington\n",
            "\n",
            "\u001b[1mStage 9:\n",
            "\u001b[0m dermot loser game played long ask anything legal control medical industry continue strangle nation not give damn academically qualified student applicants turned away medical schools huge shortage doctors might want ask controls hint second largest lobby washington\n",
            "\n",
            "\u001b[1mStage 10:\n",
            "\u001b[0m dermot loser game play long ask anything legal control medical industry continue strangle nation not give damn academically qualified student applicant turn away medical school huge shortage doctor might want ask control hint second large lobby washington\n",
            "\n",
            "_____________________________________________________________________________________________________________________________\n",
            "\n",
            "\u001b[1mText 2\n",
            "\u001b[0m\n",
            "\u001b[1mStage 0:\n",
            "\u001b[0m In the Gulag Archipelago there is a story about the Ukrainian famine that killed six million and prompted government signs warning parents not to eat their children.  In this, the Soviets  found a way to break the Church:  Make it serve--and save--the starving in Ukraine.  When the Church couldn't feed six million, the Soviets  stole the Orthodox Church's property and treasure, promising to sell it to buy food for the starving (which of course never happened).  When the priests objected they were shot.\n",
            "\n",
            "When I hear the argument that only Churches and community groups should serve the poor, I get nervous about motives...\n",
            "\n",
            "\u001b[1mStage 1:\n",
            "\u001b[0m in the gulag archipelago there is a story about the ukrainian famine that killed six million and prompted government signs warning parents not to eat their children.  in this, the soviets  found a way to break the church:  make it serve--and save--the starving in ukraine.  when the church couldn't feed six million, the soviets  stole the orthodox church's property and treasure, promising to sell it to buy food for the starving (which of course never happened).  when the priests objected they were shot.\n",
            "\n",
            "when i hear the argument that only churches and community groups should serve the poor, i get nervous about motives...\n",
            "\n",
            "\u001b[1mStage 2:\n",
            "\u001b[0m in the gulag archipelago there is a story about the ukrainian famine that killed six million and prompted government signs warning parents not to eat their children.  in this, the soviets  found a way to break the church:  make it serve--and save--the starving in ukraine.  when the church could not feed six million, the soviets  stole the orthodox church's property and treasure, promising to sell it to buy food for the starving (which of course never happened).  when the priests objected they were shot.\n",
            "\n",
            "when i hear the argument that only churches and community groups should serve the poor, i get nervous about motives...\n",
            "\n",
            "\u001b[1mStage 3:\n",
            "\u001b[0m in the gulag archipelago there is a story about the ukrainian famine that killed six million and prompted government signs warning parents not to eat their children.  in this, the soviets  found a way to break the church:  make it serve--and save--the starving in ukraine.  when the church could not feed six million, the soviets  stole the orthodox church's property and treasure, promising to sell it to buy food for the starving (which of course never happened).  when the priests objected they were shot.\n",
            "\n",
            "when i hear the argument that only churches and community groups should serve the poor, i get nervous about motives...\n",
            "\n",
            "\u001b[1mStage 4:\n",
            "\u001b[0m in the gulag archipelago there is a story about the ukrainian famine that killed six million and prompted government signs warning parents not to eat their children.  in this, the soviets  found a way to break the church:  make it serve--and save--the starving in ukraine.  when the church could not feed six million, the soviets  stole the orthodox church's property and treasure, promising to sell it to buy food for the starving (which of course never happened).  when the priests objected they were shot.\n",
            "\n",
            "when i hear the argument that only churches and community groups should serve the poor, i get nervous about motives...\n",
            "\n",
            "\u001b[1mStage 5:\n",
            "\u001b[0m in the gulag archipelago there is a story about the ukrainian famine that killed six million and prompted government signs warning parents not to eat their children.  in this, the soviets  found a way to break the church:  make it serve--and save--the starving in ukraine.  when the church could not feed six million, the soviets  stole the orthodox church's property and treasure, promising to sell it to buy food for the starving (which of course never happened).  when the priests objected they were shot.\n",
            "\n",
            "when i hear the argument that only churches and community groups should serve the poor, i get nervous about motives...\n",
            "\n",
            "\u001b[1mStage 6:\n",
            "\u001b[0m in the gulag archipelago there is a story about the ukrainian famine that killed six million and prompted government signs warning parents not to eat their children   in this  the soviets  found a way to break the church   make it serve  and save  the starving in ukraine   when the church could not feed six million  the soviets  stole the orthodox church s property and treasure  promising to sell it to buy food for the starving  which of course never happened    when the priests objected they were shot   when i hear the argument that only churches and community groups should serve the poor  i get nervous about motives   \n",
            "\n",
            "\u001b[1mStage 7:\n",
            "\u001b[0m in the gulag archipelago there is a story about the ukrainian famine that killed six million and prompted government signs warning parents not to eat their children   in this  the soviets  found a way to break the church   make it serve  and save  the starving in ukraine   when the church could not feed six million  the soviets  stole the orthodox church s property and treasure  promising to sell it to buy food for the starving  which of course never happened    when the priests objected they were shot   when i hear the argument that only churches and community groups should serve the poor  i get nervous about motives   \n",
            "\n",
            "\u001b[1mStage 8:\n",
            "\u001b[0m in the gulag archipelago there is a story about the ukrainian famine that killed six million and prompted government signs warning parents not to eat their children in this the soviets found a way to break the church make it serve and save the starving in ukraine when the church could not feed six million the soviets stole the orthodox church s property and treasure promising to sell it to buy food for the starving which of course never happened when the priests objected they were shot when i hear the argument that only churches and community groups should serve the poor i get nervous about motives\n",
            "\n",
            "\u001b[1mStage 9:\n",
            "\u001b[0m gulag archipelago story ukrainian famine killed six million prompted government signs warning parents not eat children soviets found way break church make serve save starving ukraine church could not feed six million soviets stole orthodox church property treasure promising sell buy food starving course never happened priests objected shot hear argument churches community groups serve poor get nervous motives\n",
            "\n",
            "\u001b[1mStage 10:\n",
            "\u001b[0m gulag archipelago story ukrainian famine kill six million prompted government sign warn parent not eat child soviet find way break church make serve save starve ukraine church could not fee six million soviet stole orthodox church property treasure promising sell buy food starve course never happen priest object shot hear argument church community group serve poor get nervous motif\n",
            "\n",
            "_____________________________________________________________________________________________________________________________\n",
            "\n",
            "\u001b[1mText 3\n",
            "\u001b[0m\n",
            "\u001b[1mStage 0:\n",
            "\u001b[0m Yippee for you, so was I. I remember when you could dig down a foot on a beach in PWS and not hit oil.  I also remember what it was like here before the influx of Texan oil employees and their accompanying mega-pop-churches and  invasive, controlling political views and corrupt politicians and their oil industry puppeteers. I also remember growing up off the road system in a nice quiet town which is now a major drug trafficking area, with a collapsed fishing industry because of Exxon's oil spill. Oil influences, real neato!\n",
            "\n",
            "I am not sorry to see these ventures collapsing one by one. This state's dependence on the oil industry has been a blight and a bad influence.\n",
            "\n",
            "\u001b[1mStage 1:\n",
            "\u001b[0m yippee for you, so was i. i remember when you could dig down a foot on a beach in pws and not hit oil.  i also remember what it was like here before the influx of texan oil employees and their accompanying mega-pop-churches and  invasive, controlling political views and corrupt politicians and their oil industry puppeteers. i also remember growing up off the road system in a nice quiet town which is now a major drug trafficking area, with a collapsed fishing industry because of exxon's oil spill. oil influences, real neato!\n",
            "\n",
            "i am not sorry to see these ventures collapsing one by one. this state's dependence on the oil industry has been a blight and a bad influence.\n",
            "\n",
            "\u001b[1mStage 2:\n",
            "\u001b[0m yippee for you, so was i. i remember when you could dig down a foot on a beach in pws and not hit oil.  i also remember what it was like here before the influx of texan oil employees and their accompanying mega-pop-churches and  invasive, controlling political views and corrupt politicians and their oil industry puppeteers. i also remember growing up off the road system in a nice quiet town which is now a major drug trafficking area, with a collapsed fishing industry because of exxon's oil spill. oil influences, real neato!\n",
            "\n",
            "i am not sorry to see these ventures collapsing one by one. this state's dependence on the oil industry has been a blight and a bad influence.\n",
            "\n",
            "\u001b[1mStage 3:\n",
            "\u001b[0m yippee for you, so was i. i remember when you could dig down a foot on a beach in pws and not hit oil.  i also remember what it was like here before the influx of texan oil employees and their accompanying mega-pop-churches and  invasive, controlling political views and corrupt politicians and their oil industry puppeteers. i also remember growing up off the road system in a nice quiet town which is now a major drug trafficking area, with a collapsed fishing industry because of exxon's oil spill. oil influences, real neato!\n",
            "\n",
            "i am not sorry to see these ventures collapsing one by one. this state's dependence on the oil industry has been a blight and a bad influence.\n",
            "\n",
            "\u001b[1mStage 4:\n",
            "\u001b[0m yippee for you, so was i. i remember when you could dig down a foot on a beach in pws and not hit oil.  i also remember what it was like here before the influx of texan oil employees and their accompanying mega-pop-churches and  invasive, controlling political views and corrupt politicians and their oil industry puppeteers. i also remember growing up off the road system in a nice quiet town which is now a major drug trafficking area, with a collapsed fishing industry because of exxon's oil spill. oil influences, real neato!\n",
            "\n",
            "i am not sorry to see these ventures collapsing one by one. this state's dependence on the oil industry has been a blight and a bad influence.\n",
            "\n",
            "\u001b[1mStage 5:\n",
            "\u001b[0m yippee for you, so was i. i remember when you could dig down a foot on a beach in pws and not hit oil.  i also remember what it was like here before the influx of texan oil employees and their accompanying mega-pop-churches and  invasive, controlling political views and corrupt politicians and their oil industry puppeteers. i also remember growing up off the road system in a nice quiet town which is now a major drug trafficking area, with a collapsed fishing industry because of exxon's oil spill. oil influences, real neato!\n",
            "\n",
            "i am not sorry to see these ventures collapsing one by one. this state's dependence on the oil industry has been a blight and a bad influence.\n",
            "\n",
            "\u001b[1mStage 6:\n",
            "\u001b[0m yippee for you  so was i  i remember when you could dig down a foot on a beach in pws and not hit oil   i also remember what it was like here before the influx of texan oil employees and their accompanying mega pop churches and  invasive  controlling political views and corrupt politicians and their oil industry puppeteers  i also remember growing up off the road system in a nice quiet town which is now a major drug trafficking area  with a collapsed fishing industry because of exxon s oil spill  oil influences  real neato   i am not sorry to see these ventures collapsing one by one  this state s dependence on the oil industry has been a blight and a bad influence \n",
            "\n",
            "\u001b[1mStage 7:\n",
            "\u001b[0m yippee for you  so was i  i remember when you could dig down a foot on a beach in pws and not hit oil   i also remember what it was like here before the influx of texan oil employees and their accompanying mega pop churches and  invasive  controlling political views and corrupt politicians and their oil industry puppeteers  i also remember growing up off the road system in a nice quiet town which is now a major drug trafficking area  with a collapsed fishing industry because of exxon s oil spill  oil influences  real neato   i am not sorry to see these ventures collapsing one by one  this state s dependence on the oil industry has been a blight and a bad influence \n",
            "\n",
            "\u001b[1mStage 8:\n",
            "\u001b[0m yippee for you so was i i remember when you could dig down a foot on a beach in pws and not hit oil i also remember what it was like here before the influx of texan oil employees and their accompanying mega pop churches and invasive controlling political views and corrupt politicians and their oil industry puppeteers i also remember growing up off the road system in a nice quiet town which is now a major drug trafficking area with a collapsed fishing industry because of exxon s oil spill oil influences real neato i am not sorry to see these ventures collapsing one by one this state s dependence on the oil industry has been a blight and a bad influence\n",
            "\n",
            "\u001b[1mStage 9:\n",
            "\u001b[0m yippee remember could dig foot beach pws not hit oil also remember like influx texan oil employees accompanying mega pop churches invasive controlling political views corrupt politicians oil industry puppeteers also remember growing road system nice quiet town major drug trafficking area collapsed fishing industry exxon oil spill oil influences real neato not sorry see ventures collapsing one one state dependence oil industry blight bad influence\n",
            "\n",
            "\u001b[1mStage 10:\n",
            "\u001b[0m yippee remember could dig foot beach pws not hit oil also remember like influx texan oil employee accompany mega pop church invasive control political view corrupt politician oil industry puppeteer also remember grow road system nice quiet town major drug traffic area collapse fishing industry exxon oil spill oil influence real neato not sorry see venture collapse one one state dependence oil industry blight bad influence\n",
            "\n",
            "_____________________________________________________________________________________________________________________________\n",
            "\n",
            "\u001b[1mText 4\n",
            "\u001b[0m\n",
            "\u001b[1mStage 0:\n",
            "\u001b[0m IF I decide to 'do' a crime that has 'hard time' as a consequence, then I'll expect to do it.\n",
            "\n",
            "\u001b[1mStage 1:\n",
            "\u001b[0m if i decide to 'do' a crime that has 'hard time' as a consequence, then i'll expect to do it.\n",
            "\n",
            "\u001b[1mStage 2:\n",
            "\u001b[0m if i decide to 'do' a crime that has 'hard time' as a consequence, then i will expect to do it.\n",
            "\n",
            "\u001b[1mStage 3:\n",
            "\u001b[0m if i decide to 'do' a crime that has 'hard time' as a consequence, then i will expect to do it.\n",
            "\n",
            "\u001b[1mStage 4:\n",
            "\u001b[0m if i decide to 'do' a crime that has 'hard time' as a consequence, then i will expect to do it.\n",
            "\n",
            "\u001b[1mStage 5:\n",
            "\u001b[0m if i decide to 'do' a crime that has 'hard time' as a consequence, then i will expect to do it.\n",
            "\n",
            "\u001b[1mStage 6:\n",
            "\u001b[0m if i decide to  do  a crime that has  hard time  as a consequence  then i will expect to do it \n",
            "\n",
            "\u001b[1mStage 7:\n",
            "\u001b[0m if i decide to  do  a crime that has  hard time  as a consequence  then i will expect to do it \n",
            "\n",
            "\u001b[1mStage 8:\n",
            "\u001b[0m if i decide to do a crime that has hard time as a consequence then i will expect to do it\n",
            "\n",
            "\u001b[1mStage 9:\n",
            "\u001b[0m decide crime hard time consequence expect\n",
            "\n",
            "\u001b[1mStage 10:\n",
            "\u001b[0m decide crime hard time consequence expect\n",
            "\n",
            "_____________________________________________________________________________________________________________________________\n",
            "\n",
            "\u001b[1mText 5\n",
            "\u001b[0m\n",
            "\u001b[1mStage 0:\n",
            "\u001b[0m Hey Mr. PM: Just tell Trump to send us all their Syrian refugees - you will surely impress him.\n",
            "\n",
            "\u001b[1mStage 1:\n",
            "\u001b[0m hey mr. pm: just tell trump to send us all their syrian refugees - you will surely impress him.\n",
            "\n",
            "\u001b[1mStage 2:\n",
            "\u001b[0m hey mr. pm: just tell trump to send us all their syrian refugees - you will surely impress him.\n",
            "\n",
            "\u001b[1mStage 3:\n",
            "\u001b[0m hey mr. pm: just tell trump to send us all their syrian refugees - you will surely impress him.\n",
            "\n",
            "\u001b[1mStage 4:\n",
            "\u001b[0m hey mr. pm: just tell trump to send us all their syrian refugees - you will surely impress him.\n",
            "\n",
            "\u001b[1mStage 5:\n",
            "\u001b[0m hey mr. private message: just tell trump to send us all their syrian refugees - you will surely impress him.\n",
            "\n",
            "\u001b[1mStage 6:\n",
            "\u001b[0m hey mr  private message  just tell trump to send us all their syrian refugees   you will surely impress him \n",
            "\n",
            "\u001b[1mStage 7:\n",
            "\u001b[0m hey mr  private message  just tell trump to send us all their syrian refugees   you will surely impress him \n",
            "\n",
            "\u001b[1mStage 8:\n",
            "\u001b[0m hey mr private message just tell trump to send us all their syrian refugees you will surely impress him\n",
            "\n",
            "\u001b[1mStage 9:\n",
            "\u001b[0m hey mr private message tell trump send us syrian refugees surely impress\n",
            "\n",
            "\u001b[1mStage 10:\n",
            "\u001b[0m hey mr private message tell trump send us syrian refugee surely impress\n",
            "\n",
            "_____________________________________________________________________________________________________________________________\n",
            "\n"
          ]
        }
      ],
      "source": [
        "# checking the effect of each stage of preprocessing on few random comments\n",
        "for i, row in enumerate(sample.head().values):\n",
        "    print(f'\\033[1mText {i+1}\\n\\033[0m')\n",
        "    \n",
        "    for j, val in enumerate(row):\n",
        "        if j!=0:\n",
        "            print(f\"\\033[1mStage {j-1}:\\n\\033[0m {val}\\n\")\n",
        "    \n",
        "    print('_'*125+'\\n')"
      ]
    },
    {
      "cell_type": "code",
      "execution_count": null,
      "metadata": {
        "id": "DnPklcxDNWHU"
      },
      "outputs": [],
      "source": [
        "def pipeline(data, col):\n",
        "    print('---Initiating: Lowercase---')\n",
        "    data['preprcsd'] = data[col].parallel_apply(lambda x: lowercase(x))\n",
        "    print('---Completed: Lowercase---\\n')\n",
        "    \n",
        "    print('---Initiating: Expand Terms---')\n",
        "    data['preprcsd'] = data['preprcsd'].parallel_apply(lambda x: expand_terms(x))\n",
        "    print('---Completed: Expand Terms---\\n')\n",
        "\n",
        "    print('---Initiating: Handling Html Tags---')\n",
        "    data['preprcsd'] = data['preprcsd'].parallel_apply(lambda x: handle_html_tags(x))\n",
        "    print('---Completed: Handling Html Tags---\\n')\n",
        "\n",
        "    print('---Initiating: Handling URLs---')\n",
        "    data['preprcsd'] = data['preprcsd'].parallel_apply(lambda x: handle_url(x))\n",
        "    print('---Completed: Handling URLs---\\n')\n",
        "    \n",
        "    print('---Initiating: Handling Mispelled Words---')\n",
        "    data['preprcsd'] = data['preprcsd'].parallel_apply(lambda x: replace_mispelled_words(x))\n",
        "    print('---Completed: Handling Mispelled Words---\\n')\n",
        "    \n",
        "    print('---Initiating: Convert Emoji to Word---')\n",
        "    data['preprcsd'] = data['preprcsd'].parallel_apply(lambda x: emo2word(x))\n",
        "    print('---Completed: Convert Emoji to Word---\\n')\n",
        "    \n",
        "    print('---Initiating: Handling Numeric Terms---')\n",
        "    data['preprcsd'] = data['preprcsd'].parallel_apply(lambda x: handle_numeric_terms(x))\n",
        "    print('---Completed: Handling Numeric Terms---\\n')\n",
        "    \n",
        "    print('---Initiating: Strip Extra Spaces---')\n",
        "    data['preprcsd'] = data['preprcsd'].parallel_apply(lambda x: strip_spaces(x))\n",
        "    print('---Completed: Strip Extra Spaces---\\n')\n",
        "    \n",
        "    print('---Initiating: Removing Stopwords---')\n",
        "    data['preprcsd'] = data['preprcsd'].parallel_apply(lambda x: remove_stopwords(x))\n",
        "    print('---Completed: Removing Stopwords---\\n')\n",
        "    \n",
        "    print('---Initiating: Lemmatization---')\n",
        "    data['preprcsd'] = data['preprcsd'].parallel_apply(lambda x: lemmatizer_withPOS(x))\n",
        "    print('---Completed: Lemmatization---\\n')\n",
        "    \n",
        "    return data "
      ]
    },
    {
      "cell_type": "code",
      "execution_count": null,
      "metadata": {
        "colab": {
          "referenced_widgets": [
            "2b2eb54c0ce8491caa942474d4f8c2ce",
            "3e132d190b994a6f94997dc01902ae60",
            "02da0908aa874db1af33588fa35a9f99",
            "a58e91c79b4b48d3b79517d526f04ada",
            "3085321a57564847907449591adfdec8",
            "b906cdcfda5c4ea4b17bab4dda2924bb",
            "f41e06940b9e44e3bca1db11ffa64784",
            "9cbe62e721304e8db09a716500f6aec6",
            "fd3ae486f17c4339b07d967e715fa387",
            "e1144ecf13654658afbfbeb23ababf44"
          ]
        },
        "id": "_h3ajOZVNWHU",
        "outputId": "382912c2-0e6a-4cd9-d01a-b2b5ba01d315"
      },
      "outputs": [
        {
          "name": "stdout",
          "output_type": "stream",
          "text": [
            "---Initiating: Lowercase---\n"
          ]
        },
        {
          "data": {
            "application/vnd.jupyter.widget-view+json": {
              "model_id": "2b2eb54c0ce8491caa942474d4f8c2ce",
              "version_major": 2,
              "version_minor": 0
            },
            "text/plain": [
              "VBox(children=(HBox(children=(IntProgress(value=0, description='0.00%', max=1000), Label(value='0 / 1000'))), …"
            ]
          },
          "metadata": {},
          "output_type": "display_data"
        },
        {
          "name": "stdout",
          "output_type": "stream",
          "text": [
            "---Completed: Lowercase---\n",
            "\n",
            "---Initiating: Expand Terms---\n"
          ]
        },
        {
          "data": {
            "application/vnd.jupyter.widget-view+json": {
              "model_id": "3e132d190b994a6f94997dc01902ae60",
              "version_major": 2,
              "version_minor": 0
            },
            "text/plain": [
              "VBox(children=(HBox(children=(IntProgress(value=0, description='0.00%', max=1000), Label(value='0 / 1000'))), …"
            ]
          },
          "metadata": {},
          "output_type": "display_data"
        },
        {
          "name": "stdout",
          "output_type": "stream",
          "text": [
            "---Completed: Expand Terms---\n",
            "\n",
            "---Initiating: Handling Html Tags---\n"
          ]
        },
        {
          "data": {
            "application/vnd.jupyter.widget-view+json": {
              "model_id": "02da0908aa874db1af33588fa35a9f99",
              "version_major": 2,
              "version_minor": 0
            },
            "text/plain": [
              "VBox(children=(HBox(children=(IntProgress(value=0, description='0.00%', max=1000), Label(value='0 / 1000'))), …"
            ]
          },
          "metadata": {},
          "output_type": "display_data"
        },
        {
          "name": "stdout",
          "output_type": "stream",
          "text": [
            "---Completed: Handling Html Tags---\n",
            "\n",
            "---Initiating: Handling URLs---\n"
          ]
        },
        {
          "data": {
            "application/vnd.jupyter.widget-view+json": {
              "model_id": "a58e91c79b4b48d3b79517d526f04ada",
              "version_major": 2,
              "version_minor": 0
            },
            "text/plain": [
              "VBox(children=(HBox(children=(IntProgress(value=0, description='0.00%', max=1000), Label(value='0 / 1000'))), …"
            ]
          },
          "metadata": {},
          "output_type": "display_data"
        },
        {
          "name": "stdout",
          "output_type": "stream",
          "text": [
            "---Completed: Handling URLs---\n",
            "\n",
            "---Initiating: Handling Mispelled Words---\n"
          ]
        },
        {
          "data": {
            "application/vnd.jupyter.widget-view+json": {
              "model_id": "3085321a57564847907449591adfdec8",
              "version_major": 2,
              "version_minor": 0
            },
            "text/plain": [
              "VBox(children=(HBox(children=(IntProgress(value=0, description='0.00%', max=1000), Label(value='0 / 1000'))), …"
            ]
          },
          "metadata": {},
          "output_type": "display_data"
        },
        {
          "name": "stdout",
          "output_type": "stream",
          "text": [
            "---Completed: Handling Mispelled Words---\n",
            "\n",
            "---Initiating: Convert Emoji to Word---\n"
          ]
        },
        {
          "data": {
            "application/vnd.jupyter.widget-view+json": {
              "model_id": "b906cdcfda5c4ea4b17bab4dda2924bb",
              "version_major": 2,
              "version_minor": 0
            },
            "text/plain": [
              "VBox(children=(HBox(children=(IntProgress(value=0, description='0.00%', max=1000), Label(value='0 / 1000'))), …"
            ]
          },
          "metadata": {},
          "output_type": "display_data"
        },
        {
          "name": "stdout",
          "output_type": "stream",
          "text": [
            "---Completed: Convert Emoji to Word---\n",
            "\n",
            "---Initiating: Handling Numeric Terms---\n"
          ]
        },
        {
          "data": {
            "application/vnd.jupyter.widget-view+json": {
              "model_id": "f41e06940b9e44e3bca1db11ffa64784",
              "version_major": 2,
              "version_minor": 0
            },
            "text/plain": [
              "VBox(children=(HBox(children=(IntProgress(value=0, description='0.00%', max=1000), Label(value='0 / 1000'))), …"
            ]
          },
          "metadata": {},
          "output_type": "display_data"
        },
        {
          "name": "stdout",
          "output_type": "stream",
          "text": [
            "---Completed: Handling Numeric Terms---\n",
            "\n",
            "---Initiating: Strip Extra Spaces---\n"
          ]
        },
        {
          "data": {
            "application/vnd.jupyter.widget-view+json": {
              "model_id": "9cbe62e721304e8db09a716500f6aec6",
              "version_major": 2,
              "version_minor": 0
            },
            "text/plain": [
              "VBox(children=(HBox(children=(IntProgress(value=0, description='0.00%', max=1000), Label(value='0 / 1000'))), …"
            ]
          },
          "metadata": {},
          "output_type": "display_data"
        },
        {
          "name": "stdout",
          "output_type": "stream",
          "text": [
            "---Completed: Strip Extra Spaces---\n",
            "\n",
            "---Initiating: Removing Stopwords---\n"
          ]
        },
        {
          "data": {
            "application/vnd.jupyter.widget-view+json": {
              "model_id": "fd3ae486f17c4339b07d967e715fa387",
              "version_major": 2,
              "version_minor": 0
            },
            "text/plain": [
              "VBox(children=(HBox(children=(IntProgress(value=0, description='0.00%', max=1000), Label(value='0 / 1000'))), …"
            ]
          },
          "metadata": {},
          "output_type": "display_data"
        },
        {
          "name": "stdout",
          "output_type": "stream",
          "text": [
            "---Completed: Removing Stopwords---\n",
            "\n",
            "---Initiating: Lemmatization---\n"
          ]
        },
        {
          "data": {
            "application/vnd.jupyter.widget-view+json": {
              "model_id": "e1144ecf13654658afbfbeb23ababf44",
              "version_major": 2,
              "version_minor": 0
            },
            "text/plain": [
              "VBox(children=(HBox(children=(IntProgress(value=0, description='0.00%', max=1000), Label(value='0 / 1000'))), …"
            ]
          },
          "metadata": {},
          "output_type": "display_data"
        },
        {
          "name": "stdout",
          "output_type": "stream",
          "text": [
            "---Completed: Lemmatization---\n",
            "\n"
          ]
        }
      ],
      "source": [
        "rand = random.sample(range(0,len(train)), 10000)\n",
        "sample = train.iloc[rand]\n",
        "sample = pipeline(sample,'comment_text')"
      ]
    },
    {
      "cell_type": "code",
      "execution_count": null,
      "metadata": {
        "id": "OhWprEVfNWHU",
        "outputId": "8e8f9c31-8442-4d81-b31b-ac3f00a000f7"
      },
      "outputs": [
        {
          "data": {
            "text/html": [
              "<div>\n",
              "<style scoped>\n",
              "    .dataframe tbody tr th:only-of-type {\n",
              "        vertical-align: middle;\n",
              "    }\n",
              "\n",
              "    .dataframe tbody tr th {\n",
              "        vertical-align: top;\n",
              "    }\n",
              "\n",
              "    .dataframe thead th {\n",
              "        text-align: right;\n",
              "    }\n",
              "</style>\n",
              "<table border=\"1\" class=\"dataframe\">\n",
              "  <thead>\n",
              "    <tr style=\"text-align: right;\">\n",
              "      <th></th>\n",
              "      <th>target</th>\n",
              "      <th>comment_text</th>\n",
              "      <th>preprcsd</th>\n",
              "    </tr>\n",
              "  </thead>\n",
              "  <tbody>\n",
              "    <tr>\n",
              "      <th>639448</th>\n",
              "      <td>0</td>\n",
              "      <td>You should do a little research and then you'd...</td>\n",
              "      <td>little research would know price fly not neces...</td>\n",
              "    </tr>\n",
              "    <tr>\n",
              "      <th>1643785</th>\n",
              "      <td>0</td>\n",
              "      <td>Trump's \"base\" would be the 60 million voters ...</td>\n",
              "      <td>trump base would million voter cast ballot rig...</td>\n",
              "    </tr>\n",
              "    <tr>\n",
              "      <th>1407693</th>\n",
              "      <td>0</td>\n",
              "      <td>I'm dying to know how many \"how do I cook a tu...</td>\n",
              "      <td>die know many cook turkey inquiry get odd exam...</td>\n",
              "    </tr>\n",
              "    <tr>\n",
              "      <th>417894</th>\n",
              "      <td>1</td>\n",
              "      <td>i cant stop laughing.. it is just the continua...</td>\n",
              "      <td>can not stop laugh continuation tyrant dictato...</td>\n",
              "    </tr>\n",
              "    <tr>\n",
              "      <th>1611326</th>\n",
              "      <td>1</td>\n",
              "      <td>Just as they would if they were beaten to deat...</td>\n",
              "      <td>would beat death slice dice knife not call ban...</td>\n",
              "    </tr>\n",
              "    <tr>\n",
              "      <th>...</th>\n",
              "      <td>...</td>\n",
              "      <td>...</td>\n",
              "      <td>...</td>\n",
              "    </tr>\n",
              "    <tr>\n",
              "      <th>571605</th>\n",
              "      <td>0</td>\n",
              "      <td>Homo sapiens are defined as wise men.  By some...</td>\n",
              "      <td>homo sapiens define wise men strange bit luck ...</td>\n",
              "    </tr>\n",
              "    <tr>\n",
              "      <th>239808</th>\n",
              "      <td>0</td>\n",
              "      <td>The country and Constitution values individual...</td>\n",
              "      <td>country constitution value individual right pt...</td>\n",
              "    </tr>\n",
              "    <tr>\n",
              "      <th>1178389</th>\n",
              "      <td>0</td>\n",
              "      <td>Your comments seem to imply that it is now too...</td>\n",
              "      <td>comment seem imply late anything not grow ineq...</td>\n",
              "    </tr>\n",
              "    <tr>\n",
              "      <th>1796836</th>\n",
              "      <td>0</td>\n",
              "      <td>Who was it who said the Demmykrats \"took a she...</td>\n",
              "      <td>say demmykrats take shellac mid term wait reme...</td>\n",
              "    </tr>\n",
              "    <tr>\n",
              "      <th>1464935</th>\n",
              "      <td>0</td>\n",
              "      <td>That's pretty harsh and very judgmental, and y...</td>\n",
              "      <td>pretty harsh judgmental statement presupposes ...</td>\n",
              "    </tr>\n",
              "  </tbody>\n",
              "</table>\n",
              "<p>10000 rows × 3 columns</p>\n",
              "</div>"
            ],
            "text/plain": [
              "         target                                       comment_text  \\\n",
              "639448        0  You should do a little research and then you'd...   \n",
              "1643785       0  Trump's \"base\" would be the 60 million voters ...   \n",
              "1407693       0  I'm dying to know how many \"how do I cook a tu...   \n",
              "417894        1  i cant stop laughing.. it is just the continua...   \n",
              "1611326       1  Just as they would if they were beaten to deat...   \n",
              "...         ...                                                ...   \n",
              "571605        0  Homo sapiens are defined as wise men.  By some...   \n",
              "239808        0  The country and Constitution values individual...   \n",
              "1178389       0  Your comments seem to imply that it is now too...   \n",
              "1796836       0  Who was it who said the Demmykrats \"took a she...   \n",
              "1464935       0  That's pretty harsh and very judgmental, and y...   \n",
              "\n",
              "                                                  preprcsd  \n",
              "639448   little research would know price fly not neces...  \n",
              "1643785  trump base would million voter cast ballot rig...  \n",
              "1407693  die know many cook turkey inquiry get odd exam...  \n",
              "417894   can not stop laugh continuation tyrant dictato...  \n",
              "1611326  would beat death slice dice knife not call ban...  \n",
              "...                                                    ...  \n",
              "571605   homo sapiens define wise men strange bit luck ...  \n",
              "239808   country constitution value individual right pt...  \n",
              "1178389  comment seem imply late anything not grow ineq...  \n",
              "1796836  say demmykrats take shellac mid term wait reme...  \n",
              "1464935  pretty harsh judgmental statement presupposes ...  \n",
              "\n",
              "[10000 rows x 3 columns]"
            ]
          },
          "execution_count": 53,
          "metadata": {},
          "output_type": "execute_result"
        }
      ],
      "source": [
        "sample"
      ]
    },
    {
      "cell_type": "markdown",
      "metadata": {
        "id": "LemM-AYwNWHU"
      },
      "source": [
        "## **3.11 Preprocessing Train and Test Data**"
      ]
    },
    {
      "cell_type": "code",
      "execution_count": null,
      "metadata": {
        "colab": {
          "referenced_widgets": [
            "850aeff1c1a349a4b0337d5bb58e8cff",
            "87a6cbf51c0c40af8e5ab92d6e3d513e",
            "670336a67d9e4467af1fc46b0ea98c02",
            "b5b4d5cbaa834451829a3e027addc013",
            "055ac77e8f474ea28eb4bd6d9601e939",
            "cad851d67e28483eb246b797a412163d",
            "d4443335e999488fb3998fb05a48a2fd",
            "37a59774773140f7b1921f6c7c2706f5",
            "926ca112c2184821be7623cdd26856dc",
            "64e25a55a0f841939fd1673a91b2e59b"
          ]
        },
        "id": "M6mxOKc_NWHU",
        "outputId": "c46514d0-a3d5-4677-fc32-d08cd5f3285d"
      },
      "outputs": [
        {
          "name": "stdout",
          "output_type": "stream",
          "text": [
            "---Initiating: Lowercase---\n"
          ]
        },
        {
          "data": {
            "application/vnd.jupyter.widget-view+json": {
              "model_id": "850aeff1c1a349a4b0337d5bb58e8cff",
              "version_major": 2,
              "version_minor": 0
            },
            "text/plain": [
              "VBox(children=(HBox(children=(IntProgress(value=0, description='0.00%', max=180488), Label(value='0 / 180488')…"
            ]
          },
          "metadata": {},
          "output_type": "display_data"
        },
        {
          "name": "stdout",
          "output_type": "stream",
          "text": [
            "---Completed: Lowercase---\n",
            "\n",
            "---Initiating: Expand Terms---\n"
          ]
        },
        {
          "data": {
            "application/vnd.jupyter.widget-view+json": {
              "model_id": "87a6cbf51c0c40af8e5ab92d6e3d513e",
              "version_major": 2,
              "version_minor": 0
            },
            "text/plain": [
              "VBox(children=(HBox(children=(IntProgress(value=0, description='0.00%', max=180488), Label(value='0 / 180488')…"
            ]
          },
          "metadata": {},
          "output_type": "display_data"
        },
        {
          "name": "stdout",
          "output_type": "stream",
          "text": [
            "---Completed: Expand Terms---\n",
            "\n",
            "---Initiating: Handling Html Tags---\n"
          ]
        },
        {
          "data": {
            "application/vnd.jupyter.widget-view+json": {
              "model_id": "670336a67d9e4467af1fc46b0ea98c02",
              "version_major": 2,
              "version_minor": 0
            },
            "text/plain": [
              "VBox(children=(HBox(children=(IntProgress(value=0, description='0.00%', max=180488), Label(value='0 / 180488')…"
            ]
          },
          "metadata": {},
          "output_type": "display_data"
        },
        {
          "name": "stdout",
          "output_type": "stream",
          "text": [
            "---Completed: Handling Html Tags---\n",
            "\n",
            "---Initiating: Handling URLs---\n"
          ]
        },
        {
          "data": {
            "application/vnd.jupyter.widget-view+json": {
              "model_id": "b5b4d5cbaa834451829a3e027addc013",
              "version_major": 2,
              "version_minor": 0
            },
            "text/plain": [
              "VBox(children=(HBox(children=(IntProgress(value=0, description='0.00%', max=180488), Label(value='0 / 180488')…"
            ]
          },
          "metadata": {},
          "output_type": "display_data"
        },
        {
          "name": "stdout",
          "output_type": "stream",
          "text": [
            "---Completed: Handling URLs---\n",
            "\n",
            "---Initiating: Handling Mispelled Words---\n"
          ]
        },
        {
          "data": {
            "application/vnd.jupyter.widget-view+json": {
              "model_id": "055ac77e8f474ea28eb4bd6d9601e939",
              "version_major": 2,
              "version_minor": 0
            },
            "text/plain": [
              "VBox(children=(HBox(children=(IntProgress(value=0, description='0.00%', max=180488), Label(value='0 / 180488')…"
            ]
          },
          "metadata": {},
          "output_type": "display_data"
        },
        {
          "name": "stdout",
          "output_type": "stream",
          "text": [
            "---Completed: Handling Mispelled Words---\n",
            "\n",
            "---Initiating: Convert Emoji to Word---\n"
          ]
        },
        {
          "data": {
            "application/vnd.jupyter.widget-view+json": {
              "model_id": "cad851d67e28483eb246b797a412163d",
              "version_major": 2,
              "version_minor": 0
            },
            "text/plain": [
              "VBox(children=(HBox(children=(IntProgress(value=0, description='0.00%', max=180488), Label(value='0 / 180488')…"
            ]
          },
          "metadata": {},
          "output_type": "display_data"
        },
        {
          "name": "stdout",
          "output_type": "stream",
          "text": [
            "---Completed: Convert Emoji to Word---\n",
            "\n",
            "---Initiating: Handling Numeric Terms---\n"
          ]
        },
        {
          "data": {
            "application/vnd.jupyter.widget-view+json": {
              "model_id": "d4443335e999488fb3998fb05a48a2fd",
              "version_major": 2,
              "version_minor": 0
            },
            "text/plain": [
              "VBox(children=(HBox(children=(IntProgress(value=0, description='0.00%', max=180488), Label(value='0 / 180488')…"
            ]
          },
          "metadata": {},
          "output_type": "display_data"
        },
        {
          "name": "stdout",
          "output_type": "stream",
          "text": [
            "---Completed: Handling Numeric Terms---\n",
            "\n",
            "---Initiating: Strip Extra Spaces---\n"
          ]
        },
        {
          "data": {
            "application/vnd.jupyter.widget-view+json": {
              "model_id": "37a59774773140f7b1921f6c7c2706f5",
              "version_major": 2,
              "version_minor": 0
            },
            "text/plain": [
              "VBox(children=(HBox(children=(IntProgress(value=0, description='0.00%', max=180488), Label(value='0 / 180488')…"
            ]
          },
          "metadata": {},
          "output_type": "display_data"
        },
        {
          "name": "stdout",
          "output_type": "stream",
          "text": [
            "---Completed: Strip Extra Spaces---\n",
            "\n",
            "---Initiating: Removing Stopwords---\n"
          ]
        },
        {
          "data": {
            "application/vnd.jupyter.widget-view+json": {
              "model_id": "926ca112c2184821be7623cdd26856dc",
              "version_major": 2,
              "version_minor": 0
            },
            "text/plain": [
              "VBox(children=(HBox(children=(IntProgress(value=0, description='0.00%', max=180488), Label(value='0 / 180488')…"
            ]
          },
          "metadata": {},
          "output_type": "display_data"
        },
        {
          "name": "stdout",
          "output_type": "stream",
          "text": [
            "---Completed: Removing Stopwords---\n",
            "\n",
            "---Initiating: Lemmatization---\n"
          ]
        },
        {
          "data": {
            "application/vnd.jupyter.widget-view+json": {
              "model_id": "64e25a55a0f841939fd1673a91b2e59b",
              "version_major": 2,
              "version_minor": 0
            },
            "text/plain": [
              "VBox(children=(HBox(children=(IntProgress(value=0, description='0.00%', max=180488), Label(value='0 / 180488')…"
            ]
          },
          "metadata": {},
          "output_type": "display_data"
        },
        {
          "name": "stdout",
          "output_type": "stream",
          "text": [
            "---Completed: Lemmatization---\n",
            "\n"
          ]
        }
      ],
      "source": [
        "train = pipeline(train, 'comment_text')"
      ]
    },
    {
      "cell_type": "code",
      "execution_count": null,
      "metadata": {
        "id": "jA8oTj-tNWHU"
      },
      "outputs": [],
      "source": [
        "train.to_pickle('preprocessed_train.pkl')"
      ]
    },
    {
      "cell_type": "code",
      "execution_count": null,
      "metadata": {
        "colab": {
          "referenced_widgets": [
            "1fefc9b7a8c249d99edfd7cb0cee2f2c",
            "94f092b4fec446d387174e941ec56835",
            "a23203178b38435eb78fe7bfb34fcc3e",
            "57b1c43c93e04d0cb815de0fd1e66bc0",
            "b40bdfd04d8e43c7840ae250a98c0358",
            "488bef79ad7145b7a897768b926c397b",
            "aa24dce303cb4b0a9a26e976fab38481",
            "a68da38d493341708e4d6eb2c3482121",
            "485f337d9c3a4bcbbcab78f6c569e19a",
            "c0864b5dff4942a4a3f69f0810338b4c"
          ]
        },
        "id": "xgNDfje3NWHV",
        "outputId": "fed57231-68f9-46b1-fc6f-ea6eeb096ce2"
      },
      "outputs": [
        {
          "name": "stdout",
          "output_type": "stream",
          "text": [
            "---Initiating: Lowercase---\n"
          ]
        },
        {
          "data": {
            "application/vnd.jupyter.widget-view+json": {
              "model_id": "1fefc9b7a8c249d99edfd7cb0cee2f2c",
              "version_major": 2,
              "version_minor": 0
            },
            "text/plain": [
              "VBox(children=(HBox(children=(IntProgress(value=0, description='0.00%', max=9732), Label(value='0 / 9732'))), …"
            ]
          },
          "metadata": {},
          "output_type": "display_data"
        },
        {
          "name": "stdout",
          "output_type": "stream",
          "text": [
            "---Completed: Lowercase---\n",
            "\n",
            "---Initiating: Expand Terms---\n"
          ]
        },
        {
          "data": {
            "application/vnd.jupyter.widget-view+json": {
              "model_id": "94f092b4fec446d387174e941ec56835",
              "version_major": 2,
              "version_minor": 0
            },
            "text/plain": [
              "VBox(children=(HBox(children=(IntProgress(value=0, description='0.00%', max=9732), Label(value='0 / 9732'))), …"
            ]
          },
          "metadata": {},
          "output_type": "display_data"
        },
        {
          "name": "stdout",
          "output_type": "stream",
          "text": [
            "---Completed: Expand Terms---\n",
            "\n",
            "---Initiating: Handling Html Tags---\n"
          ]
        },
        {
          "data": {
            "application/vnd.jupyter.widget-view+json": {
              "model_id": "a23203178b38435eb78fe7bfb34fcc3e",
              "version_major": 2,
              "version_minor": 0
            },
            "text/plain": [
              "VBox(children=(HBox(children=(IntProgress(value=0, description='0.00%', max=9732), Label(value='0 / 9732'))), …"
            ]
          },
          "metadata": {},
          "output_type": "display_data"
        },
        {
          "name": "stdout",
          "output_type": "stream",
          "text": [
            "---Completed: Handling Html Tags---\n",
            "\n",
            "---Initiating: Handling URLs---\n"
          ]
        },
        {
          "data": {
            "application/vnd.jupyter.widget-view+json": {
              "model_id": "57b1c43c93e04d0cb815de0fd1e66bc0",
              "version_major": 2,
              "version_minor": 0
            },
            "text/plain": [
              "VBox(children=(HBox(children=(IntProgress(value=0, description='0.00%', max=9732), Label(value='0 / 9732'))), …"
            ]
          },
          "metadata": {},
          "output_type": "display_data"
        },
        {
          "name": "stdout",
          "output_type": "stream",
          "text": [
            "---Completed: Handling URLs---\n",
            "\n",
            "---Initiating: Handling Mispelled Words---\n"
          ]
        },
        {
          "data": {
            "application/vnd.jupyter.widget-view+json": {
              "model_id": "b40bdfd04d8e43c7840ae250a98c0358",
              "version_major": 2,
              "version_minor": 0
            },
            "text/plain": [
              "VBox(children=(HBox(children=(IntProgress(value=0, description='0.00%', max=9732), Label(value='0 / 9732'))), …"
            ]
          },
          "metadata": {},
          "output_type": "display_data"
        },
        {
          "name": "stdout",
          "output_type": "stream",
          "text": [
            "---Completed: Handling Mispelled Words---\n",
            "\n",
            "---Initiating: Convert Emoji to Word---\n"
          ]
        },
        {
          "data": {
            "application/vnd.jupyter.widget-view+json": {
              "model_id": "488bef79ad7145b7a897768b926c397b",
              "version_major": 2,
              "version_minor": 0
            },
            "text/plain": [
              "VBox(children=(HBox(children=(IntProgress(value=0, description='0.00%', max=9732), Label(value='0 / 9732'))), …"
            ]
          },
          "metadata": {},
          "output_type": "display_data"
        },
        {
          "name": "stdout",
          "output_type": "stream",
          "text": [
            "---Completed: Convert Emoji to Word---\n",
            "\n",
            "---Initiating: Handling Numeric Terms---\n"
          ]
        },
        {
          "data": {
            "application/vnd.jupyter.widget-view+json": {
              "model_id": "aa24dce303cb4b0a9a26e976fab38481",
              "version_major": 2,
              "version_minor": 0
            },
            "text/plain": [
              "VBox(children=(HBox(children=(IntProgress(value=0, description='0.00%', max=9732), Label(value='0 / 9732'))), …"
            ]
          },
          "metadata": {},
          "output_type": "display_data"
        },
        {
          "name": "stdout",
          "output_type": "stream",
          "text": [
            "---Completed: Handling Numeric Terms---\n",
            "\n",
            "---Initiating: Strip Extra Spaces---\n"
          ]
        },
        {
          "data": {
            "application/vnd.jupyter.widget-view+json": {
              "model_id": "a68da38d493341708e4d6eb2c3482121",
              "version_major": 2,
              "version_minor": 0
            },
            "text/plain": [
              "VBox(children=(HBox(children=(IntProgress(value=0, description='0.00%', max=9732), Label(value='0 / 9732'))), …"
            ]
          },
          "metadata": {},
          "output_type": "display_data"
        },
        {
          "name": "stdout",
          "output_type": "stream",
          "text": [
            "---Completed: Strip Extra Spaces---\n",
            "\n",
            "---Initiating: Removing Stopwords---\n"
          ]
        },
        {
          "data": {
            "application/vnd.jupyter.widget-view+json": {
              "model_id": "485f337d9c3a4bcbbcab78f6c569e19a",
              "version_major": 2,
              "version_minor": 0
            },
            "text/plain": [
              "VBox(children=(HBox(children=(IntProgress(value=0, description='0.00%', max=9732), Label(value='0 / 9732'))), …"
            ]
          },
          "metadata": {},
          "output_type": "display_data"
        },
        {
          "name": "stdout",
          "output_type": "stream",
          "text": [
            "---Completed: Removing Stopwords---\n",
            "\n",
            "---Initiating: Lemmatization---\n"
          ]
        },
        {
          "data": {
            "application/vnd.jupyter.widget-view+json": {
              "model_id": "c0864b5dff4942a4a3f69f0810338b4c",
              "version_major": 2,
              "version_minor": 0
            },
            "text/plain": [
              "VBox(children=(HBox(children=(IntProgress(value=0, description='0.00%', max=9732), Label(value='0 / 9732'))), …"
            ]
          },
          "metadata": {},
          "output_type": "display_data"
        },
        {
          "name": "stdout",
          "output_type": "stream",
          "text": [
            "---Completed: Lemmatization---\n",
            "\n"
          ]
        }
      ],
      "source": [
        "test = pipeline(test, 'comment_text')"
      ]
    },
    {
      "cell_type": "code",
      "execution_count": null,
      "metadata": {
        "id": "LKNKXevfNWHV"
      },
      "outputs": [],
      "source": [
        "test.to_pickle('preprocessed_test.pkl')"
      ]
    },
    {
      "cell_type": "markdown",
      "metadata": {
        "id": "-0zhH8RKNWHV"
      },
      "source": [
        "## **4. Stratified Data Splitting**"
      ]
    },
    {
      "cell_type": "code",
      "execution_count": null,
      "metadata": {
        "id": "w--LBRSPNWHV",
        "outputId": "35ae2081-138c-43cb-adbb-d5aafd7cf5dd"
      },
      "outputs": [
        {
          "data": {
            "text/html": [
              "<div>\n",
              "<style scoped>\n",
              "    .dataframe tbody tr th:only-of-type {\n",
              "        vertical-align: middle;\n",
              "    }\n",
              "\n",
              "    .dataframe tbody tr th {\n",
              "        vertical-align: top;\n",
              "    }\n",
              "\n",
              "    .dataframe thead th {\n",
              "        text-align: right;\n",
              "    }\n",
              "</style>\n",
              "<table border=\"1\" class=\"dataframe\">\n",
              "  <thead>\n",
              "    <tr style=\"text-align: right;\">\n",
              "      <th></th>\n",
              "      <th>target</th>\n",
              "      <th>comment_text</th>\n",
              "      <th>preprcsd</th>\n",
              "    </tr>\n",
              "  </thead>\n",
              "  <tbody>\n",
              "    <tr>\n",
              "      <th>0</th>\n",
              "      <td>0</td>\n",
              "      <td>This is so cool. It's like, 'would you want yo...</td>\n",
              "      <td>cool like would want mother read really great ...</td>\n",
              "    </tr>\n",
              "    <tr>\n",
              "      <th>1</th>\n",
              "      <td>0</td>\n",
              "      <td>Thank you!! This would make my life a lot less...</td>\n",
              "      <td>thank would make life lot less anxiety induce ...</td>\n",
              "    </tr>\n",
              "    <tr>\n",
              "      <th>2</th>\n",
              "      <td>0</td>\n",
              "      <td>This is such an urgent design problem; kudos t...</td>\n",
              "      <td>urgent design problem kudos take impressive</td>\n",
              "    </tr>\n",
              "    <tr>\n",
              "      <th>3</th>\n",
              "      <td>0</td>\n",
              "      <td>Is this something I'll be able to install on m...</td>\n",
              "      <td>something able install site release</td>\n",
              "    </tr>\n",
              "    <tr>\n",
              "      <th>4</th>\n",
              "      <td>1</td>\n",
              "      <td>haha you guys are a bunch of losers.</td>\n",
              "      <td>haha guy bunch loser</td>\n",
              "    </tr>\n",
              "  </tbody>\n",
              "</table>\n",
              "</div>"
            ],
            "text/plain": [
              "   target                                       comment_text  \\\n",
              "0       0  This is so cool. It's like, 'would you want yo...   \n",
              "1       0  Thank you!! This would make my life a lot less...   \n",
              "2       0  This is such an urgent design problem; kudos t...   \n",
              "3       0  Is this something I'll be able to install on m...   \n",
              "4       1               haha you guys are a bunch of losers.   \n",
              "\n",
              "                                            preprcsd  \n",
              "0  cool like would want mother read really great ...  \n",
              "1  thank would make life lot less anxiety induce ...  \n",
              "2        urgent design problem kudos take impressive  \n",
              "3                something able install site release  \n",
              "4                               haha guy bunch loser  "
            ]
          },
          "execution_count": 11,
          "metadata": {},
          "output_type": "execute_result"
        }
      ],
      "source": [
        "preprcsd = pd.read_pickle('preprocessed_train.pkl')\n",
        "preprcsd.head()"
      ]
    },
    {
      "cell_type": "code",
      "execution_count": null,
      "metadata": {
        "id": "_Y7kHmBkNWHV",
        "outputId": "551d3523-aa6f-4544-e398-9c04e31ea8bd"
      },
      "outputs": [
        {
          "data": {
            "text/html": [
              "<div>\n",
              "<style scoped>\n",
              "    .dataframe tbody tr th:only-of-type {\n",
              "        vertical-align: middle;\n",
              "    }\n",
              "\n",
              "    .dataframe tbody tr th {\n",
              "        vertical-align: top;\n",
              "    }\n",
              "\n",
              "    .dataframe thead th {\n",
              "        text-align: right;\n",
              "    }\n",
              "</style>\n",
              "<table border=\"1\" class=\"dataframe\">\n",
              "  <thead>\n",
              "    <tr style=\"text-align: right;\">\n",
              "      <th></th>\n",
              "      <th>severe_toxicity</th>\n",
              "      <th>obscene</th>\n",
              "      <th>identity_attack</th>\n",
              "      <th>insult</th>\n",
              "      <th>threat</th>\n",
              "      <th>black</th>\n",
              "      <th>christian</th>\n",
              "      <th>female</th>\n",
              "      <th>homosexual_gay_or_lesbian</th>\n",
              "      <th>jewish</th>\n",
              "      <th>male</th>\n",
              "      <th>muslim</th>\n",
              "      <th>psychiatric_or_mental_illness</th>\n",
              "      <th>white</th>\n",
              "      <th>sexual_explicit</th>\n",
              "    </tr>\n",
              "  </thead>\n",
              "  <tbody>\n",
              "    <tr>\n",
              "      <th>0</th>\n",
              "      <td>0.000000</td>\n",
              "      <td>0.0</td>\n",
              "      <td>0.000000</td>\n",
              "      <td>0.00000</td>\n",
              "      <td>0.0</td>\n",
              "      <td>NaN</td>\n",
              "      <td>NaN</td>\n",
              "      <td>NaN</td>\n",
              "      <td>NaN</td>\n",
              "      <td>NaN</td>\n",
              "      <td>NaN</td>\n",
              "      <td>NaN</td>\n",
              "      <td>NaN</td>\n",
              "      <td>NaN</td>\n",
              "      <td>0.0</td>\n",
              "    </tr>\n",
              "    <tr>\n",
              "      <th>1</th>\n",
              "      <td>0.000000</td>\n",
              "      <td>0.0</td>\n",
              "      <td>0.000000</td>\n",
              "      <td>0.00000</td>\n",
              "      <td>0.0</td>\n",
              "      <td>NaN</td>\n",
              "      <td>NaN</td>\n",
              "      <td>NaN</td>\n",
              "      <td>NaN</td>\n",
              "      <td>NaN</td>\n",
              "      <td>NaN</td>\n",
              "      <td>NaN</td>\n",
              "      <td>NaN</td>\n",
              "      <td>NaN</td>\n",
              "      <td>0.0</td>\n",
              "    </tr>\n",
              "    <tr>\n",
              "      <th>2</th>\n",
              "      <td>0.000000</td>\n",
              "      <td>0.0</td>\n",
              "      <td>0.000000</td>\n",
              "      <td>0.00000</td>\n",
              "      <td>0.0</td>\n",
              "      <td>NaN</td>\n",
              "      <td>NaN</td>\n",
              "      <td>NaN</td>\n",
              "      <td>NaN</td>\n",
              "      <td>NaN</td>\n",
              "      <td>NaN</td>\n",
              "      <td>NaN</td>\n",
              "      <td>NaN</td>\n",
              "      <td>NaN</td>\n",
              "      <td>0.0</td>\n",
              "    </tr>\n",
              "    <tr>\n",
              "      <th>3</th>\n",
              "      <td>0.000000</td>\n",
              "      <td>0.0</td>\n",
              "      <td>0.000000</td>\n",
              "      <td>0.00000</td>\n",
              "      <td>0.0</td>\n",
              "      <td>NaN</td>\n",
              "      <td>NaN</td>\n",
              "      <td>NaN</td>\n",
              "      <td>NaN</td>\n",
              "      <td>NaN</td>\n",
              "      <td>NaN</td>\n",
              "      <td>NaN</td>\n",
              "      <td>NaN</td>\n",
              "      <td>NaN</td>\n",
              "      <td>0.0</td>\n",
              "    </tr>\n",
              "    <tr>\n",
              "      <th>4</th>\n",
              "      <td>0.021277</td>\n",
              "      <td>0.0</td>\n",
              "      <td>0.021277</td>\n",
              "      <td>0.87234</td>\n",
              "      <td>0.0</td>\n",
              "      <td>0.0</td>\n",
              "      <td>0.0</td>\n",
              "      <td>0.0</td>\n",
              "      <td>0.0</td>\n",
              "      <td>0.0</td>\n",
              "      <td>0.0</td>\n",
              "      <td>0.0</td>\n",
              "      <td>0.0</td>\n",
              "      <td>0.0</td>\n",
              "      <td>0.0</td>\n",
              "    </tr>\n",
              "  </tbody>\n",
              "</table>\n",
              "</div>"
            ],
            "text/plain": [
              "   severe_toxicity  obscene  identity_attack   insult  threat  black  \\\n",
              "0         0.000000      0.0         0.000000  0.00000     0.0    NaN   \n",
              "1         0.000000      0.0         0.000000  0.00000     0.0    NaN   \n",
              "2         0.000000      0.0         0.000000  0.00000     0.0    NaN   \n",
              "3         0.000000      0.0         0.000000  0.00000     0.0    NaN   \n",
              "4         0.021277      0.0         0.021277  0.87234     0.0    0.0   \n",
              "\n",
              "   christian  female  homosexual_gay_or_lesbian  jewish  male  muslim  \\\n",
              "0        NaN     NaN                        NaN     NaN   NaN     NaN   \n",
              "1        NaN     NaN                        NaN     NaN   NaN     NaN   \n",
              "2        NaN     NaN                        NaN     NaN   NaN     NaN   \n",
              "3        NaN     NaN                        NaN     NaN   NaN     NaN   \n",
              "4        0.0     0.0                        0.0     0.0   0.0     0.0   \n",
              "\n",
              "   psychiatric_or_mental_illness  white  sexual_explicit  \n",
              "0                            NaN    NaN              0.0  \n",
              "1                            NaN    NaN              0.0  \n",
              "2                            NaN    NaN              0.0  \n",
              "3                            NaN    NaN              0.0  \n",
              "4                            0.0    0.0              0.0  "
            ]
          },
          "execution_count": 12,
          "metadata": {},
          "output_type": "execute_result"
        }
      ],
      "source": [
        "identity_feat = ['male', 'female', 'black', 'white', 'jewish', 'muslim','christian', 'homosexual_gay_or_lesbian', 'psychiatric_or_mental_illness']\n",
        "toxic_feat = ['severe_toxicity', 'obscene', 'threat', 'insult', 'identity_attack', 'sexual_explicit']\n",
        "\n",
        "df_feat = pd.read_csv('train.csv', usecols = identity_feat+toxic_feat)\n",
        "df_feat.head()"
      ]
    },
    {
      "cell_type": "code",
      "execution_count": null,
      "metadata": {
        "id": "UpMaZjtzNWHW",
        "outputId": "be86436c-9a06-4a4e-da23-d16b1d0dc02d"
      },
      "outputs": [
        {
          "data": {
            "text/html": [
              "<div>\n",
              "<style scoped>\n",
              "    .dataframe tbody tr th:only-of-type {\n",
              "        vertical-align: middle;\n",
              "    }\n",
              "\n",
              "    .dataframe tbody tr th {\n",
              "        vertical-align: top;\n",
              "    }\n",
              "\n",
              "    .dataframe thead th {\n",
              "        text-align: right;\n",
              "    }\n",
              "</style>\n",
              "<table border=\"1\" class=\"dataframe\">\n",
              "  <thead>\n",
              "    <tr style=\"text-align: right;\">\n",
              "      <th></th>\n",
              "      <th>severe_toxicity</th>\n",
              "      <th>obscene</th>\n",
              "      <th>identity_attack</th>\n",
              "      <th>insult</th>\n",
              "      <th>threat</th>\n",
              "      <th>black</th>\n",
              "      <th>christian</th>\n",
              "      <th>female</th>\n",
              "      <th>homosexual_gay_or_lesbian</th>\n",
              "      <th>jewish</th>\n",
              "      <th>male</th>\n",
              "      <th>muslim</th>\n",
              "      <th>psychiatric_or_mental_illness</th>\n",
              "      <th>white</th>\n",
              "      <th>sexual_explicit</th>\n",
              "    </tr>\n",
              "  </thead>\n",
              "  <tbody>\n",
              "    <tr>\n",
              "      <th>0</th>\n",
              "      <td>0</td>\n",
              "      <td>0</td>\n",
              "      <td>0</td>\n",
              "      <td>0</td>\n",
              "      <td>0</td>\n",
              "      <td>0</td>\n",
              "      <td>0</td>\n",
              "      <td>0</td>\n",
              "      <td>0</td>\n",
              "      <td>0</td>\n",
              "      <td>0</td>\n",
              "      <td>0</td>\n",
              "      <td>0</td>\n",
              "      <td>0</td>\n",
              "      <td>0</td>\n",
              "    </tr>\n",
              "    <tr>\n",
              "      <th>1</th>\n",
              "      <td>0</td>\n",
              "      <td>0</td>\n",
              "      <td>0</td>\n",
              "      <td>0</td>\n",
              "      <td>0</td>\n",
              "      <td>0</td>\n",
              "      <td>0</td>\n",
              "      <td>0</td>\n",
              "      <td>0</td>\n",
              "      <td>0</td>\n",
              "      <td>0</td>\n",
              "      <td>0</td>\n",
              "      <td>0</td>\n",
              "      <td>0</td>\n",
              "      <td>0</td>\n",
              "    </tr>\n",
              "    <tr>\n",
              "      <th>2</th>\n",
              "      <td>0</td>\n",
              "      <td>0</td>\n",
              "      <td>0</td>\n",
              "      <td>0</td>\n",
              "      <td>0</td>\n",
              "      <td>0</td>\n",
              "      <td>0</td>\n",
              "      <td>0</td>\n",
              "      <td>0</td>\n",
              "      <td>0</td>\n",
              "      <td>0</td>\n",
              "      <td>0</td>\n",
              "      <td>0</td>\n",
              "      <td>0</td>\n",
              "      <td>0</td>\n",
              "    </tr>\n",
              "    <tr>\n",
              "      <th>3</th>\n",
              "      <td>0</td>\n",
              "      <td>0</td>\n",
              "      <td>0</td>\n",
              "      <td>0</td>\n",
              "      <td>0</td>\n",
              "      <td>0</td>\n",
              "      <td>0</td>\n",
              "      <td>0</td>\n",
              "      <td>0</td>\n",
              "      <td>0</td>\n",
              "      <td>0</td>\n",
              "      <td>0</td>\n",
              "      <td>0</td>\n",
              "      <td>0</td>\n",
              "      <td>0</td>\n",
              "    </tr>\n",
              "    <tr>\n",
              "      <th>4</th>\n",
              "      <td>0</td>\n",
              "      <td>0</td>\n",
              "      <td>0</td>\n",
              "      <td>1</td>\n",
              "      <td>0</td>\n",
              "      <td>0</td>\n",
              "      <td>0</td>\n",
              "      <td>0</td>\n",
              "      <td>0</td>\n",
              "      <td>0</td>\n",
              "      <td>0</td>\n",
              "      <td>0</td>\n",
              "      <td>0</td>\n",
              "      <td>0</td>\n",
              "      <td>0</td>\n",
              "    </tr>\n",
              "  </tbody>\n",
              "</table>\n",
              "</div>"
            ],
            "text/plain": [
              "   severe_toxicity  obscene  identity_attack  insult  threat  black  \\\n",
              "0                0        0                0       0       0      0   \n",
              "1                0        0                0       0       0      0   \n",
              "2                0        0                0       0       0      0   \n",
              "3                0        0                0       0       0      0   \n",
              "4                0        0                0       1       0      0   \n",
              "\n",
              "   christian  female  homosexual_gay_or_lesbian  jewish  male  muslim  \\\n",
              "0          0       0                          0       0     0       0   \n",
              "1          0       0                          0       0     0       0   \n",
              "2          0       0                          0       0     0       0   \n",
              "3          0       0                          0       0     0       0   \n",
              "4          0       0                          0       0     0       0   \n",
              "\n",
              "   psychiatric_or_mental_illness  white  sexual_explicit  \n",
              "0                              0      0                0  \n",
              "1                              0      0                0  \n",
              "2                              0      0                0  \n",
              "3                              0      0                0  \n",
              "4                              0      0                0  "
            ]
          },
          "execution_count": 13,
          "metadata": {},
          "output_type": "execute_result"
        }
      ],
      "source": [
        "df_feat = df_feat.fillna(0)\n",
        "\n",
        "for col in df_feat.columns:\n",
        "    df_feat[col] = df_feat[col].apply(lambda x: 1 if x>=0.5 else 0)\n",
        "    \n",
        "df_feat.head()"
      ]
    },
    {
      "cell_type": "code",
      "execution_count": null,
      "metadata": {
        "id": "SNZoZxOZNWHW",
        "outputId": "fd28e458-061f-4e5f-c37a-f171bde8bb6e"
      },
      "outputs": [
        {
          "data": {
            "text/html": [
              "<div>\n",
              "<style scoped>\n",
              "    .dataframe tbody tr th:only-of-type {\n",
              "        vertical-align: middle;\n",
              "    }\n",
              "\n",
              "    .dataframe tbody tr th {\n",
              "        vertical-align: top;\n",
              "    }\n",
              "\n",
              "    .dataframe thead th {\n",
              "        text-align: right;\n",
              "    }\n",
              "</style>\n",
              "<table border=\"1\" class=\"dataframe\">\n",
              "  <thead>\n",
              "    <tr style=\"text-align: right;\">\n",
              "      <th></th>\n",
              "      <th>target</th>\n",
              "      <th>comment_text</th>\n",
              "      <th>preprcsd</th>\n",
              "      <th>severe_toxicity</th>\n",
              "      <th>obscene</th>\n",
              "      <th>identity_attack</th>\n",
              "      <th>insult</th>\n",
              "      <th>threat</th>\n",
              "      <th>black</th>\n",
              "      <th>christian</th>\n",
              "      <th>female</th>\n",
              "      <th>homosexual_gay_or_lesbian</th>\n",
              "      <th>jewish</th>\n",
              "      <th>male</th>\n",
              "      <th>muslim</th>\n",
              "      <th>psychiatric_or_mental_illness</th>\n",
              "      <th>white</th>\n",
              "      <th>sexual_explicit</th>\n",
              "    </tr>\n",
              "  </thead>\n",
              "  <tbody>\n",
              "    <tr>\n",
              "      <th>0</th>\n",
              "      <td>0</td>\n",
              "      <td>This is so cool. It's like, 'would you want yo...</td>\n",
              "      <td>cool like would want mother read really great ...</td>\n",
              "      <td>0</td>\n",
              "      <td>0</td>\n",
              "      <td>0</td>\n",
              "      <td>0</td>\n",
              "      <td>0</td>\n",
              "      <td>0</td>\n",
              "      <td>0</td>\n",
              "      <td>0</td>\n",
              "      <td>0</td>\n",
              "      <td>0</td>\n",
              "      <td>0</td>\n",
              "      <td>0</td>\n",
              "      <td>0</td>\n",
              "      <td>0</td>\n",
              "      <td>0</td>\n",
              "    </tr>\n",
              "    <tr>\n",
              "      <th>1</th>\n",
              "      <td>0</td>\n",
              "      <td>Thank you!! This would make my life a lot less...</td>\n",
              "      <td>thank would make life lot less anxiety induce ...</td>\n",
              "      <td>0</td>\n",
              "      <td>0</td>\n",
              "      <td>0</td>\n",
              "      <td>0</td>\n",
              "      <td>0</td>\n",
              "      <td>0</td>\n",
              "      <td>0</td>\n",
              "      <td>0</td>\n",
              "      <td>0</td>\n",
              "      <td>0</td>\n",
              "      <td>0</td>\n",
              "      <td>0</td>\n",
              "      <td>0</td>\n",
              "      <td>0</td>\n",
              "      <td>0</td>\n",
              "    </tr>\n",
              "    <tr>\n",
              "      <th>2</th>\n",
              "      <td>0</td>\n",
              "      <td>This is such an urgent design problem; kudos t...</td>\n",
              "      <td>urgent design problem kudos take impressive</td>\n",
              "      <td>0</td>\n",
              "      <td>0</td>\n",
              "      <td>0</td>\n",
              "      <td>0</td>\n",
              "      <td>0</td>\n",
              "      <td>0</td>\n",
              "      <td>0</td>\n",
              "      <td>0</td>\n",
              "      <td>0</td>\n",
              "      <td>0</td>\n",
              "      <td>0</td>\n",
              "      <td>0</td>\n",
              "      <td>0</td>\n",
              "      <td>0</td>\n",
              "      <td>0</td>\n",
              "    </tr>\n",
              "    <tr>\n",
              "      <th>3</th>\n",
              "      <td>0</td>\n",
              "      <td>Is this something I'll be able to install on m...</td>\n",
              "      <td>something able install site release</td>\n",
              "      <td>0</td>\n",
              "      <td>0</td>\n",
              "      <td>0</td>\n",
              "      <td>0</td>\n",
              "      <td>0</td>\n",
              "      <td>0</td>\n",
              "      <td>0</td>\n",
              "      <td>0</td>\n",
              "      <td>0</td>\n",
              "      <td>0</td>\n",
              "      <td>0</td>\n",
              "      <td>0</td>\n",
              "      <td>0</td>\n",
              "      <td>0</td>\n",
              "      <td>0</td>\n",
              "    </tr>\n",
              "    <tr>\n",
              "      <th>4</th>\n",
              "      <td>1</td>\n",
              "      <td>haha you guys are a bunch of losers.</td>\n",
              "      <td>haha guy bunch loser</td>\n",
              "      <td>0</td>\n",
              "      <td>0</td>\n",
              "      <td>0</td>\n",
              "      <td>1</td>\n",
              "      <td>0</td>\n",
              "      <td>0</td>\n",
              "      <td>0</td>\n",
              "      <td>0</td>\n",
              "      <td>0</td>\n",
              "      <td>0</td>\n",
              "      <td>0</td>\n",
              "      <td>0</td>\n",
              "      <td>0</td>\n",
              "      <td>0</td>\n",
              "      <td>0</td>\n",
              "    </tr>\n",
              "  </tbody>\n",
              "</table>\n",
              "</div>"
            ],
            "text/plain": [
              "   target                                       comment_text  \\\n",
              "0       0  This is so cool. It's like, 'would you want yo...   \n",
              "1       0  Thank you!! This would make my life a lot less...   \n",
              "2       0  This is such an urgent design problem; kudos t...   \n",
              "3       0  Is this something I'll be able to install on m...   \n",
              "4       1               haha you guys are a bunch of losers.   \n",
              "\n",
              "                                            preprcsd  severe_toxicity  \\\n",
              "0  cool like would want mother read really great ...                0   \n",
              "1  thank would make life lot less anxiety induce ...                0   \n",
              "2        urgent design problem kudos take impressive                0   \n",
              "3                something able install site release                0   \n",
              "4                               haha guy bunch loser                0   \n",
              "\n",
              "   obscene  identity_attack  insult  threat  black  christian  female  \\\n",
              "0        0                0       0       0      0          0       0   \n",
              "1        0                0       0       0      0          0       0   \n",
              "2        0                0       0       0      0          0       0   \n",
              "3        0                0       0       0      0          0       0   \n",
              "4        0                0       1       0      0          0       0   \n",
              "\n",
              "   homosexual_gay_or_lesbian  jewish  male  muslim  \\\n",
              "0                          0       0     0       0   \n",
              "1                          0       0     0       0   \n",
              "2                          0       0     0       0   \n",
              "3                          0       0     0       0   \n",
              "4                          0       0     0       0   \n",
              "\n",
              "   psychiatric_or_mental_illness  white  sexual_explicit  \n",
              "0                              0      0                0  \n",
              "1                              0      0                0  \n",
              "2                              0      0                0  \n",
              "3                              0      0                0  \n",
              "4                              0      0                0  "
            ]
          },
          "execution_count": 14,
          "metadata": {},
          "output_type": "execute_result"
        }
      ],
      "source": [
        "preprcsd = pd.concat([preprcsd, df_feat], axis=1)\n",
        "preprcsd.head()"
      ]
    },
    {
      "cell_type": "code",
      "execution_count": null,
      "metadata": {
        "id": "WcU_GYFTNWHW"
      },
      "outputs": [],
      "source": [
        "X = preprcsd.drop(columns=['target','comment_text'])\n",
        "y = preprcsd.loc[:, 'target']"
      ]
    },
    {
      "cell_type": "code",
      "execution_count": null,
      "metadata": {
        "id": "qz6zYCmpNWHW"
      },
      "outputs": [],
      "source": [
        "from sklearn.model_selection import train_test_split\n",
        "\n",
        "X_train, X_test, y_train, y_test = train_test_split(X, y, test_size = 0.15, stratify=y, random_state=42)\n",
        "X_train, X_cv, y_train, y_cv = train_test_split(X_train, y_train, test_size = 0.1765, stratify=y_train, random_state=42)"
      ]
    },
    {
      "cell_type": "code",
      "execution_count": null,
      "metadata": {
        "id": "n6bxiz3DNWHW"
      },
      "outputs": [],
      "source": [
        "preprcsd_private =  pd.read_pickle('preprocessed_test.pkl')\n",
        "X_private = preprcsd_private.loc[:, 'preprcsd']"
      ]
    },
    {
      "cell_type": "code",
      "execution_count": null,
      "metadata": {
        "id": "qpFs31e2NWHW",
        "outputId": "a6c8b4d5-4cc0-4be4-db8c-b51846aef016"
      },
      "outputs": [
        {
          "data": {
            "text/plain": [
              "(1263365, 270777, 270732, 97320)"
            ]
          },
          "execution_count": 18,
          "metadata": {},
          "output_type": "execute_result"
        }
      ],
      "source": [
        "len(X_train), len(X_cv), len(X_test), len(X_private)"
      ]
    },
    {
      "cell_type": "code",
      "execution_count": null,
      "metadata": {
        "id": "6ZRKkd_tNWHX"
      },
      "outputs": [],
      "source": [
        "#save data splits\n",
        "X_train.to_pickle('X_train.pkl')\n",
        "X_cv.to_pickle('X_cv.pkl')\n",
        "X_test.to_pickle('X_test.pkl')\n",
        "X_private.to_pickle('X_private.pkl')"
      ]
    },
    {
      "cell_type": "code",
      "execution_count": null,
      "metadata": {
        "id": "7el8zlTUNWHX"
      },
      "outputs": [],
      "source": [
        "y_train.to_pickle('y_train.pkl')\n",
        "y_cv.to_pickle('y_cv.pkl')\n",
        "y_test.to_pickle('y_test.pkl')"
      ]
    },
    {
      "cell_type": "markdown",
      "metadata": {
        "id": "ZUuWURGzNWHX"
      },
      "source": [
        "## **5. Text Data Vectorization**"
      ]
    },
    {
      "cell_type": "markdown",
      "metadata": {
        "id": "HcpIOqcYNWHX"
      },
      "source": [
        "**We vectorize text data in the following ways:**\n",
        "- Bag of Words (BOW)\n",
        "- TF-IDF\n",
        "- Average Word2Vec (Pretrained Word Embedding)\n",
        "- Average Glove (Pretrained Word Embedding)\n",
        "\n",
        "**Note:** We can use other pre-trained word embeddings too"
      ]
    },
    {
      "cell_type": "code",
      "execution_count": null,
      "metadata": {
        "id": "irko3eEhNWHX"
      },
      "outputs": [],
      "source": [
        "from sklearn.feature_extraction.text import CountVectorizer, TfidfVectorizer\n",
        "from scipy.sparse import save_npz"
      ]
    },
    {
      "cell_type": "code",
      "execution_count": null,
      "metadata": {
        "id": "rcSUf9pNNWHX"
      },
      "outputs": [],
      "source": [
        "X_train = pd.read_pickle('X_train.pkl')\n",
        "X_cv = pd.read_pickle('X_cv.pkl')\n",
        "X_test = pd.read_pickle('X_test.pkl')\n",
        "X_private = pd.read_pickle('X_private.pkl')"
      ]
    },
    {
      "cell_type": "markdown",
      "metadata": {
        "id": "5v3U9i7qNWHX"
      },
      "source": [
        "## **5.1 Bag of Words (BOW)**"
      ]
    },
    {
      "cell_type": "code",
      "execution_count": null,
      "metadata": {
        "id": "4WmMszfcNWHY",
        "outputId": "5b090de2-55a7-4c28-b422-386e7fca577c"
      },
      "outputs": [
        {
          "name": "stderr",
          "output_type": "stream",
          "text": [
            "/opt/conda/lib/python3.7/site-packages/sklearn/utils/deprecation.py:87: FutureWarning: Function get_feature_names is deprecated; get_feature_names is deprecated in 1.0 and will be removed in 1.2. Please use get_feature_names_out instead.\n",
            "  warnings.warn(msg, category=FutureWarning)\n"
          ]
        }
      ],
      "source": [
        "bow = CountVectorizer(min_df=10, ngram_range=(1,2), max_features=15000)\n",
        "bow.fit(X_train['preprcsd'].values)\n",
        "\n",
        "X_train_bow = bow.transform(X_train['preprcsd'].values)\n",
        "X_cv_bow = bow.transform(X_cv['preprcsd'].values)\n",
        "X_test_bow = bow.transform(X_test['preprcsd'].values)\n",
        "X_private_bow = bow.transform(X_private.values)\n",
        "\n",
        "words_bow = bow.get_feature_names()"
      ]
    },
    {
      "cell_type": "code",
      "execution_count": null,
      "metadata": {
        "id": "_6fEXM39NWHY"
      },
      "outputs": [],
      "source": [
        "#Count Vectorizer returns a sparse matrix so we use save_npz to store \n",
        "save_npz('X_train_bow.npz',X_train_bow)\n",
        "save_npz('X_cv_bow.npz',X_cv_bow)\n",
        "save_npz('X_test_bow.npz',X_test_bow)\n",
        "save_npz('X_private_bow.npz',X_private_bow)"
      ]
    },
    {
      "cell_type": "markdown",
      "metadata": {
        "id": "csO2bGG9NWHY"
      },
      "source": [
        "## **5.2 TF-IDF**\n"
      ]
    },
    {
      "cell_type": "code",
      "execution_count": null,
      "metadata": {
        "id": "Cb7iqnOdNWHY"
      },
      "outputs": [],
      "source": [
        "tfidf = TfidfVectorizer(min_df=10, ngram_range=(1,2), max_features=15000)\n",
        "tfidf.fit(X_train['preprcsd'].values)\n",
        "\n",
        "X_train_tfidf = tfidf.transform(X_train['preprcsd'].values)\n",
        "X_cv_tfidf = tfidf.transform(X_cv['preprcsd'].values)\n",
        "X_test_tfidf = tfidf.transform(X_test['preprcsd'].values)\n",
        "X_private_tfidf = tfidf.transform(X_private.values)\n",
        "\n",
        "words_tfidf = tfidf.get_feature_names()"
      ]
    },
    {
      "cell_type": "code",
      "execution_count": null,
      "metadata": {
        "id": "A3iOFufINWHY"
      },
      "outputs": [],
      "source": [
        "save_npz('X_train_tfidf.npz',X_train_tfidf)\n",
        "save_npz('X_cv_tfidf.npz',X_cv_tfidf)\n",
        "save_npz('X_test_tfidf.npz',X_test_tfidf)\n",
        "save_npz('X_private_tfidf.npz',X_private_tfidf)"
      ]
    },
    {
      "cell_type": "markdown",
      "metadata": {
        "id": "pckECzWrNWHY"
      },
      "source": [
        "## **5.3 Average Word2Vec**\n",
        "(refer - https://stackoverflow.com/questions/29760935/how-to-get-vector-for-a-sentence-from-the-word2vec-of-tokens-in-sentence)"
      ]
    },
    {
      "cell_type": "code",
      "execution_count": null,
      "metadata": {
        "id": "CP3pT8DqNWHY"
      },
      "outputs": [],
      "source": [
        "import gensim.downloader as api\n",
        "wv = api.load('word2vec-google-news-300')"
      ]
    },
    {
      "cell_type": "code",
      "execution_count": null,
      "metadata": {
        "id": "JoUH5mRbNWHZ"
      },
      "outputs": [],
      "source": [
        "# code snippet - http://nadbordrozd.github.io/blog/2016/05/20/text-classification-with-word2vec/\n",
        "def sent2vec(data, embedding): \n",
        "    texts = data.values\n",
        "    text2vec = [] \n",
        "    \n",
        "    for text in tqdm(texts):\n",
        "        vector = np.zeros(300)\n",
        "        words_known = 0\n",
        "        #summing\n",
        "        for word in (text.split(' ')): \n",
        "            try: \n",
        "                w2v = embedding[word]\n",
        "                vector += w2v\n",
        "                words_known += 1\n",
        "            except:\n",
        "                pass\n",
        "        #averaging\n",
        "        if words_known!=0:\n",
        "            vector /= words_known\n",
        "        text2vec.append(vector)\n",
        "        \n",
        "    return np.array(text2vec) #shape: (len(data), 300)"
      ]
    },
    {
      "cell_type": "code",
      "execution_count": null,
      "metadata": {
        "colab": {
          "referenced_widgets": [
            "2dfa4eb3fa10437e959f40c5177f5aa3",
            "77980aa91fa7465197cd07a4a78c559e",
            "c3530f1111fd4fb3988d75a3b22bf3f4",
            "9279eb4cd097467db1a13e0c8321ae0f"
          ]
        },
        "id": "uuflBYXcNWHZ",
        "outputId": "c217cdfe-b243-4e73-bbad-0cbb33ea5e68"
      },
      "outputs": [
        {
          "data": {
            "application/vnd.jupyter.widget-view+json": {
              "model_id": "2dfa4eb3fa10437e959f40c5177f5aa3",
              "version_major": 2,
              "version_minor": 0
            },
            "text/plain": [
              "  0%|          | 0/1263365 [00:00<?, ?it/s]"
            ]
          },
          "metadata": {},
          "output_type": "display_data"
        },
        {
          "data": {
            "application/vnd.jupyter.widget-view+json": {
              "model_id": "77980aa91fa7465197cd07a4a78c559e",
              "version_major": 2,
              "version_minor": 0
            },
            "text/plain": [
              "  0%|          | 0/270777 [00:00<?, ?it/s]"
            ]
          },
          "metadata": {},
          "output_type": "display_data"
        },
        {
          "data": {
            "application/vnd.jupyter.widget-view+json": {
              "model_id": "c3530f1111fd4fb3988d75a3b22bf3f4",
              "version_major": 2,
              "version_minor": 0
            },
            "text/plain": [
              "  0%|          | 0/270732 [00:00<?, ?it/s]"
            ]
          },
          "metadata": {},
          "output_type": "display_data"
        },
        {
          "data": {
            "application/vnd.jupyter.widget-view+json": {
              "model_id": "9279eb4cd097467db1a13e0c8321ae0f",
              "version_major": 2,
              "version_minor": 0
            },
            "text/plain": [
              "  0%|          | 0/97320 [00:00<?, ?it/s]"
            ]
          },
          "metadata": {},
          "output_type": "display_data"
        }
      ],
      "source": [
        "X_train_w2v = sent2vec(X_train['preprcsd'], wv)\n",
        "X_cv_w2v = sent2vec(X_cv['preprcsd'], wv)\n",
        "X_test_w2v = sent2vec(X_test['preprcsd'], wv)\n",
        "X_private_w2v = sent2vec(X_private, wv)"
      ]
    },
    {
      "cell_type": "code",
      "execution_count": null,
      "metadata": {
        "id": "OwUFW92nNWHZ"
      },
      "outputs": [],
      "source": [
        "np.save('X_train_w2v.npy', X_train_w2v)\n",
        "np.save('X_cv_w2v.npy', X_cv_w2v)\n",
        "np.save('X_test_w2v.npy', X_test_w2v)\n",
        "np.save('X_private_w2v.npy', X_private_w2v)"
      ]
    },
    {
      "cell_type": "markdown",
      "metadata": {
        "id": "TvOslI7ONWHZ"
      },
      "source": [
        "## **5.4 Average GloVe**"
      ]
    },
    {
      "cell_type": "code",
      "execution_count": null,
      "metadata": {
        "id": "Z5bCSCiGNWHZ",
        "outputId": "2bcfc5d8-340c-4847-8c2d-52d00b519912"
      },
      "outputs": [
        {
          "name": "stdout",
          "output_type": "stream",
          "text": [
            "Indexing word vectors.\n",
            "Found 400000 word vectors.\n"
          ]
        }
      ],
      "source": [
        "print('Indexing word vectors.')\n",
        "\n",
        "glove = {}\n",
        "f = open('glove.6B.300d.txt', encoding='utf-8')\n",
        "for line in f:\n",
        "    values = line.split()\n",
        "    word = values[0]\n",
        "    coefs = np.asarray(values[1:], dtype='float32')\n",
        "    glove[word] = coefs\n",
        "f.close()\n",
        "\n",
        "print('Found %s word vectors.' % len(glove))"
      ]
    },
    {
      "cell_type": "code",
      "execution_count": null,
      "metadata": {
        "colab": {
          "referenced_widgets": [
            "0ac4f4f5faa74d848d220f0a74614608",
            "2ddb51cb8af04e7fb0dd3bb9e4b1500f",
            "6a8a7961dc144d8394c90485dc7e0321",
            "620ef60c2b3d4823b1d1114719c81c11"
          ]
        },
        "id": "9qcZwT49NWHZ",
        "outputId": "cbef1115-11f4-4fbe-bb2d-5a7c62eae431"
      },
      "outputs": [
        {
          "data": {
            "application/vnd.jupyter.widget-view+json": {
              "model_id": "0ac4f4f5faa74d848d220f0a74614608",
              "version_major": 2,
              "version_minor": 0
            },
            "text/plain": [
              "  0%|          | 0/1263365 [00:00<?, ?it/s]"
            ]
          },
          "metadata": {},
          "output_type": "display_data"
        },
        {
          "data": {
            "application/vnd.jupyter.widget-view+json": {
              "model_id": "2ddb51cb8af04e7fb0dd3bb9e4b1500f",
              "version_major": 2,
              "version_minor": 0
            },
            "text/plain": [
              "  0%|          | 0/270777 [00:00<?, ?it/s]"
            ]
          },
          "metadata": {},
          "output_type": "display_data"
        },
        {
          "data": {
            "application/vnd.jupyter.widget-view+json": {
              "model_id": "6a8a7961dc144d8394c90485dc7e0321",
              "version_major": 2,
              "version_minor": 0
            },
            "text/plain": [
              "  0%|          | 0/270732 [00:00<?, ?it/s]"
            ]
          },
          "metadata": {},
          "output_type": "display_data"
        },
        {
          "data": {
            "application/vnd.jupyter.widget-view+json": {
              "model_id": "620ef60c2b3d4823b1d1114719c81c11",
              "version_major": 2,
              "version_minor": 0
            },
            "text/plain": [
              "  0%|          | 0/97320 [00:00<?, ?it/s]"
            ]
          },
          "metadata": {},
          "output_type": "display_data"
        }
      ],
      "source": [
        "X_train_glove = sent2vec(X_train['preprcsd'], glove)\n",
        "X_cv_glove = sent2vec(X_cv['preprcsd'], glove)\n",
        "X_test_glove = sent2vec(X_test['preprcsd'], glove)\n",
        "X_private_glove = sent2vec(X_private, glove)"
      ]
    },
    {
      "cell_type": "code",
      "execution_count": null,
      "metadata": {
        "id": "oVcbdzYMNWHa"
      },
      "outputs": [],
      "source": [
        "np.save('X_train_glove.npy', X_train_glove)\n",
        "np.save('X_cv_glove.npy', X_cv_glove)\n",
        "np.save('X_test_glove.npy', X_test_glove)\n",
        "np.save('X_private_glove.npy', X_private_glove)"
      ]
    },
    {
      "cell_type": "markdown",
      "metadata": {
        "id": "BOCx8C5OaQRk"
      },
      "source": [
        "## **6. References:**\n",
        "- https://www.kdnuggets.com/2019/01/solve-90-nlp-problems-step-by-step-guide.html (NLP Guide)\n",
        "- https://www.kaggle.com/code/christofhenkel/how-to-preprocessing-for-glove-part1-eda (to Handle Mispelled Words)\n",
        "- https://www.kaggle.com/code/christofhenkel/how-to-preprocessing-when-using-embeddings/notebook (to Handle Mispelled Words)\n",
        "- https://regexr.com/ (RegEx Guide and Trials)"
      ]
    }
  ],
  "metadata": {
    "colab": {
      "provenance": []
    },
    "kernelspec": {
      "display_name": "Python 3",
      "language": "python",
      "name": "python3"
    },
    "language_info": {
      "codemirror_mode": {
        "name": "ipython",
        "version": 3
      },
      "file_extension": ".py",
      "mimetype": "text/x-python",
      "name": "python",
      "nbconvert_exporter": "python",
      "pygments_lexer": "ipython3",
      "version": "3.7.12"
    },
    "widgets": {
      "application/vnd.jupyter.widget-state+json": {
        "00442e28a4fd44809682621ed7e98ec4": {
          "model_module": "@jupyter-widgets/controls",
          "model_module_version": "1.5.0",
          "model_name": "FloatProgressModel",
          "state": {
            "_dom_classes": [],
            "_model_module": "@jupyter-widgets/controls",
            "_model_module_version": "1.5.0",
            "_model_name": "FloatProgressModel",
            "_view_count": null,
            "_view_module": "@jupyter-widgets/controls",
            "_view_module_version": "1.5.0",
            "_view_name": "ProgressView",
            "bar_style": "success",
            "description": "",
            "description_tooltip": null,
            "layout": "IPY_MODEL_957dd8d45b174110b77ddaa4778e6245",
            "max": 1804874,
            "min": 0,
            "orientation": "horizontal",
            "style": "IPY_MODEL_94762f0ee6564705b0683e033bafd377",
            "value": 1804874
          }
        },
        "01842f5113f141c7a53f3ed0378c2216": {
          "model_module": "@jupyter-widgets/controls",
          "model_module_version": "1.5.0",
          "model_name": "FloatProgressModel",
          "state": {
            "_dom_classes": [],
            "_model_module": "@jupyter-widgets/controls",
            "_model_module_version": "1.5.0",
            "_model_name": "FloatProgressModel",
            "_view_count": null,
            "_view_module": "@jupyter-widgets/controls",
            "_view_module_version": "1.5.0",
            "_view_name": "ProgressView",
            "bar_style": "success",
            "description": "",
            "description_tooltip": null,
            "layout": "IPY_MODEL_42529ce783fc4ce0b7c207aa05db3815",
            "max": 1804874,
            "min": 0,
            "orientation": "horizontal",
            "style": "IPY_MODEL_57423ee9e14f490fb3dd43860d698607",
            "value": 1804874
          }
        },
        "01c49b1ec706496aa1eb66a050edea90": {
          "model_module": "@jupyter-widgets/base",
          "model_module_version": "1.2.0",
          "model_name": "LayoutModel",
          "state": {
            "_model_module": "@jupyter-widgets/base",
            "_model_module_version": "1.2.0",
            "_model_name": "LayoutModel",
            "_view_count": null,
            "_view_module": "@jupyter-widgets/base",
            "_view_module_version": "1.2.0",
            "_view_name": "LayoutView",
            "align_content": null,
            "align_items": null,
            "align_self": null,
            "border": null,
            "bottom": null,
            "display": null,
            "flex": null,
            "flex_flow": null,
            "grid_area": null,
            "grid_auto_columns": null,
            "grid_auto_flow": null,
            "grid_auto_rows": null,
            "grid_column": null,
            "grid_gap": null,
            "grid_row": null,
            "grid_template_areas": null,
            "grid_template_columns": null,
            "grid_template_rows": null,
            "height": null,
            "justify_content": null,
            "justify_items": null,
            "left": null,
            "margin": null,
            "max_height": null,
            "max_width": null,
            "min_height": null,
            "min_width": null,
            "object_fit": null,
            "object_position": null,
            "order": null,
            "overflow": null,
            "overflow_x": null,
            "overflow_y": null,
            "padding": null,
            "right": null,
            "top": null,
            "visibility": null,
            "width": null
          }
        },
        "0272004ddbad4fef9b14dc849f72e97c": {
          "model_module": "@jupyter-widgets/controls",
          "model_module_version": "1.5.0",
          "model_name": "HBoxModel",
          "state": {
            "_dom_classes": [],
            "_model_module": "@jupyter-widgets/controls",
            "_model_module_version": "1.5.0",
            "_model_name": "HBoxModel",
            "_view_count": null,
            "_view_module": "@jupyter-widgets/controls",
            "_view_module_version": "1.5.0",
            "_view_name": "HBoxView",
            "box_style": "",
            "children": [
              "IPY_MODEL_3cf11bb8165449c680f63e3d7969c7d9",
              "IPY_MODEL_aa049a318a6c4a37a1b3fac823d97db5",
              "IPY_MODEL_5c303616e5db45829b0e8c48f0ded259"
            ],
            "layout": "IPY_MODEL_70c6be0ed63c4226bddf9f52021126cc"
          }
        },
        "02c98426c92e4345a6a0234244fa8bd0": {
          "model_module": "@jupyter-widgets/base",
          "model_module_version": "1.2.0",
          "model_name": "LayoutModel",
          "state": {
            "_model_module": "@jupyter-widgets/base",
            "_model_module_version": "1.2.0",
            "_model_name": "LayoutModel",
            "_view_count": null,
            "_view_module": "@jupyter-widgets/base",
            "_view_module_version": "1.2.0",
            "_view_name": "LayoutView",
            "align_content": null,
            "align_items": null,
            "align_self": null,
            "border": null,
            "bottom": null,
            "display": null,
            "flex": null,
            "flex_flow": null,
            "grid_area": null,
            "grid_auto_columns": null,
            "grid_auto_flow": null,
            "grid_auto_rows": null,
            "grid_column": null,
            "grid_gap": null,
            "grid_row": null,
            "grid_template_areas": null,
            "grid_template_columns": null,
            "grid_template_rows": null,
            "height": null,
            "justify_content": null,
            "justify_items": null,
            "left": null,
            "margin": null,
            "max_height": null,
            "max_width": null,
            "min_height": null,
            "min_width": null,
            "object_fit": null,
            "object_position": null,
            "order": null,
            "overflow": null,
            "overflow_x": null,
            "overflow_y": null,
            "padding": null,
            "right": null,
            "top": null,
            "visibility": null,
            "width": null
          }
        },
        "02ccb9087f134f069208a8976ba2dbc8": {
          "model_module": "@jupyter-widgets/controls",
          "model_module_version": "1.5.0",
          "model_name": "HTMLModel",
          "state": {
            "_dom_classes": [],
            "_model_module": "@jupyter-widgets/controls",
            "_model_module_version": "1.5.0",
            "_model_name": "HTMLModel",
            "_view_count": null,
            "_view_module": "@jupyter-widgets/controls",
            "_view_module_version": "1.5.0",
            "_view_name": "HTMLView",
            "description": "",
            "description_tooltip": null,
            "layout": "IPY_MODEL_3ecc9e8c59f248b6a604e17d2a8695e5",
            "placeholder": "​",
            "style": "IPY_MODEL_6b7b096972a44c16af246367b74f5e67",
            "value": "Pandas Apply: 100%"
          }
        },
        "08d7ed10932a4745921938325f3457ed": {
          "model_module": "@jupyter-widgets/base",
          "model_module_version": "1.2.0",
          "model_name": "LayoutModel",
          "state": {
            "_model_module": "@jupyter-widgets/base",
            "_model_module_version": "1.2.0",
            "_model_name": "LayoutModel",
            "_view_count": null,
            "_view_module": "@jupyter-widgets/base",
            "_view_module_version": "1.2.0",
            "_view_name": "LayoutView",
            "align_content": null,
            "align_items": null,
            "align_self": null,
            "border": null,
            "bottom": null,
            "display": null,
            "flex": null,
            "flex_flow": null,
            "grid_area": null,
            "grid_auto_columns": null,
            "grid_auto_flow": null,
            "grid_auto_rows": null,
            "grid_column": null,
            "grid_gap": null,
            "grid_row": null,
            "grid_template_areas": null,
            "grid_template_columns": null,
            "grid_template_rows": null,
            "height": null,
            "justify_content": null,
            "justify_items": null,
            "left": null,
            "margin": null,
            "max_height": null,
            "max_width": null,
            "min_height": null,
            "min_width": null,
            "object_fit": null,
            "object_position": null,
            "order": null,
            "overflow": null,
            "overflow_x": null,
            "overflow_y": null,
            "padding": null,
            "right": null,
            "top": null,
            "visibility": null,
            "width": null
          }
        },
        "0aa2454587604009b1ae443239be834a": {
          "model_module": "@jupyter-widgets/controls",
          "model_module_version": "1.5.0",
          "model_name": "DescriptionStyleModel",
          "state": {
            "_model_module": "@jupyter-widgets/controls",
            "_model_module_version": "1.5.0",
            "_model_name": "DescriptionStyleModel",
            "_view_count": null,
            "_view_module": "@jupyter-widgets/base",
            "_view_module_version": "1.2.0",
            "_view_name": "StyleView",
            "description_width": ""
          }
        },
        "10126f0ff45948f5bbdff485226daa3d": {
          "model_module": "@jupyter-widgets/base",
          "model_module_version": "1.2.0",
          "model_name": "LayoutModel",
          "state": {
            "_model_module": "@jupyter-widgets/base",
            "_model_module_version": "1.2.0",
            "_model_name": "LayoutModel",
            "_view_count": null,
            "_view_module": "@jupyter-widgets/base",
            "_view_module_version": "1.2.0",
            "_view_name": "LayoutView",
            "align_content": null,
            "align_items": null,
            "align_self": null,
            "border": null,
            "bottom": null,
            "display": null,
            "flex": null,
            "flex_flow": null,
            "grid_area": null,
            "grid_auto_columns": null,
            "grid_auto_flow": null,
            "grid_auto_rows": null,
            "grid_column": null,
            "grid_gap": null,
            "grid_row": null,
            "grid_template_areas": null,
            "grid_template_columns": null,
            "grid_template_rows": null,
            "height": null,
            "justify_content": null,
            "justify_items": null,
            "left": null,
            "margin": null,
            "max_height": null,
            "max_width": null,
            "min_height": null,
            "min_width": null,
            "object_fit": null,
            "object_position": null,
            "order": null,
            "overflow": null,
            "overflow_x": null,
            "overflow_y": null,
            "padding": null,
            "right": null,
            "top": null,
            "visibility": null,
            "width": null
          }
        },
        "143a7ba13c3446d8900e728dae0fc3f2": {
          "model_module": "@jupyter-widgets/controls",
          "model_module_version": "1.5.0",
          "model_name": "DescriptionStyleModel",
          "state": {
            "_model_module": "@jupyter-widgets/controls",
            "_model_module_version": "1.5.0",
            "_model_name": "DescriptionStyleModel",
            "_view_count": null,
            "_view_module": "@jupyter-widgets/base",
            "_view_module_version": "1.2.0",
            "_view_name": "StyleView",
            "description_width": ""
          }
        },
        "14f7ce0e6ba941bb8c7d85507b97494a": {
          "model_module": "@jupyter-widgets/base",
          "model_module_version": "1.2.0",
          "model_name": "LayoutModel",
          "state": {
            "_model_module": "@jupyter-widgets/base",
            "_model_module_version": "1.2.0",
            "_model_name": "LayoutModel",
            "_view_count": null,
            "_view_module": "@jupyter-widgets/base",
            "_view_module_version": "1.2.0",
            "_view_name": "LayoutView",
            "align_content": null,
            "align_items": null,
            "align_self": null,
            "border": null,
            "bottom": null,
            "display": null,
            "flex": null,
            "flex_flow": null,
            "grid_area": null,
            "grid_auto_columns": null,
            "grid_auto_flow": null,
            "grid_auto_rows": null,
            "grid_column": null,
            "grid_gap": null,
            "grid_row": null,
            "grid_template_areas": null,
            "grid_template_columns": null,
            "grid_template_rows": null,
            "height": null,
            "justify_content": null,
            "justify_items": null,
            "left": null,
            "margin": null,
            "max_height": null,
            "max_width": null,
            "min_height": null,
            "min_width": null,
            "object_fit": null,
            "object_position": null,
            "order": null,
            "overflow": null,
            "overflow_x": null,
            "overflow_y": null,
            "padding": null,
            "right": null,
            "top": null,
            "visibility": null,
            "width": null
          }
        },
        "168cf4eead15462593fd42648dd1735c": {
          "model_module": "@jupyter-widgets/controls",
          "model_module_version": "1.5.0",
          "model_name": "HTMLModel",
          "state": {
            "_dom_classes": [],
            "_model_module": "@jupyter-widgets/controls",
            "_model_module_version": "1.5.0",
            "_model_name": "HTMLModel",
            "_view_count": null,
            "_view_module": "@jupyter-widgets/controls",
            "_view_module_version": "1.5.0",
            "_view_name": "HTMLView",
            "description": "",
            "description_tooltip": null,
            "layout": "IPY_MODEL_556493f05887476b8acd7933118dc71c",
            "placeholder": "​",
            "style": "IPY_MODEL_4ac46c157db84a179909cf9d5f89f468",
            "value": "100%"
          }
        },
        "172f604041ab4a5bb5fc0b8e8619708a": {
          "model_module": "@jupyter-widgets/controls",
          "model_module_version": "1.5.0",
          "model_name": "FloatProgressModel",
          "state": {
            "_dom_classes": [],
            "_model_module": "@jupyter-widgets/controls",
            "_model_module_version": "1.5.0",
            "_model_name": "FloatProgressModel",
            "_view_count": null,
            "_view_module": "@jupyter-widgets/controls",
            "_view_module_version": "1.5.0",
            "_view_name": "ProgressView",
            "bar_style": "success",
            "description": "",
            "description_tooltip": null,
            "layout": "IPY_MODEL_d1b7ed0e45544d99ab3337b335c272a1",
            "max": 1804874,
            "min": 0,
            "orientation": "horizontal",
            "style": "IPY_MODEL_c9f52e99f0ca48bb80c01d941068234e",
            "value": 1804874
          }
        },
        "176fdfed773c4d6983b2c8e714c09b56": {
          "model_module": "@jupyter-widgets/base",
          "model_module_version": "1.2.0",
          "model_name": "LayoutModel",
          "state": {
            "_model_module": "@jupyter-widgets/base",
            "_model_module_version": "1.2.0",
            "_model_name": "LayoutModel",
            "_view_count": null,
            "_view_module": "@jupyter-widgets/base",
            "_view_module_version": "1.2.0",
            "_view_name": "LayoutView",
            "align_content": null,
            "align_items": null,
            "align_self": null,
            "border": null,
            "bottom": null,
            "display": null,
            "flex": null,
            "flex_flow": null,
            "grid_area": null,
            "grid_auto_columns": null,
            "grid_auto_flow": null,
            "grid_auto_rows": null,
            "grid_column": null,
            "grid_gap": null,
            "grid_row": null,
            "grid_template_areas": null,
            "grid_template_columns": null,
            "grid_template_rows": null,
            "height": null,
            "justify_content": null,
            "justify_items": null,
            "left": null,
            "margin": null,
            "max_height": null,
            "max_width": null,
            "min_height": null,
            "min_width": null,
            "object_fit": null,
            "object_position": null,
            "order": null,
            "overflow": null,
            "overflow_x": null,
            "overflow_y": null,
            "padding": null,
            "right": null,
            "top": null,
            "visibility": null,
            "width": null
          }
        },
        "1bec4d6893c3438ca2a5c0d0f92b6161": {
          "model_module": "@jupyter-widgets/base",
          "model_module_version": "1.2.0",
          "model_name": "LayoutModel",
          "state": {
            "_model_module": "@jupyter-widgets/base",
            "_model_module_version": "1.2.0",
            "_model_name": "LayoutModel",
            "_view_count": null,
            "_view_module": "@jupyter-widgets/base",
            "_view_module_version": "1.2.0",
            "_view_name": "LayoutView",
            "align_content": null,
            "align_items": null,
            "align_self": null,
            "border": null,
            "bottom": null,
            "display": null,
            "flex": null,
            "flex_flow": null,
            "grid_area": null,
            "grid_auto_columns": null,
            "grid_auto_flow": null,
            "grid_auto_rows": null,
            "grid_column": null,
            "grid_gap": null,
            "grid_row": null,
            "grid_template_areas": null,
            "grid_template_columns": null,
            "grid_template_rows": null,
            "height": null,
            "justify_content": null,
            "justify_items": null,
            "left": null,
            "margin": null,
            "max_height": null,
            "max_width": null,
            "min_height": null,
            "min_width": null,
            "object_fit": null,
            "object_position": null,
            "order": null,
            "overflow": null,
            "overflow_x": null,
            "overflow_y": null,
            "padding": null,
            "right": null,
            "top": null,
            "visibility": null,
            "width": null
          }
        },
        "1dcc15004ef84a99ad6809bfeded6758": {
          "model_module": "@jupyter-widgets/controls",
          "model_module_version": "1.5.0",
          "model_name": "HTMLModel",
          "state": {
            "_dom_classes": [],
            "_model_module": "@jupyter-widgets/controls",
            "_model_module_version": "1.5.0",
            "_model_name": "HTMLModel",
            "_view_count": null,
            "_view_module": "@jupyter-widgets/controls",
            "_view_module_version": "1.5.0",
            "_view_name": "HTMLView",
            "description": "",
            "description_tooltip": null,
            "layout": "IPY_MODEL_cff6d1d124f6457ab0c0d35b12c9da4d",
            "placeholder": "​",
            "style": "IPY_MODEL_d8b7482f365540e2bb7011187cbc5dea",
            "value": " 398/398 [02:36&lt;00:00,  2.63it/s]"
          }
        },
        "248a933665b44597b32e5aab4f414bd0": {
          "model_module": "@jupyter-widgets/controls",
          "model_module_version": "1.5.0",
          "model_name": "HTMLModel",
          "state": {
            "_dom_classes": [],
            "_model_module": "@jupyter-widgets/controls",
            "_model_module_version": "1.5.0",
            "_model_name": "HTMLModel",
            "_view_count": null,
            "_view_module": "@jupyter-widgets/controls",
            "_view_module_version": "1.5.0",
            "_view_name": "HTMLView",
            "description": "",
            "description_tooltip": null,
            "layout": "IPY_MODEL_14f7ce0e6ba941bb8c7d85507b97494a",
            "placeholder": "​",
            "style": "IPY_MODEL_f799833f33cb4e0a939e118f228ecc52",
            "value": " 1804874/1804874 [00:05&lt;00:00, 333285.20it/s]"
          }
        },
        "27414e6615c0403cb1e39b0f9b70a6fb": {
          "model_module": "@jupyter-widgets/controls",
          "model_module_version": "1.5.0",
          "model_name": "HTMLModel",
          "state": {
            "_dom_classes": [],
            "_model_module": "@jupyter-widgets/controls",
            "_model_module_version": "1.5.0",
            "_model_name": "HTMLModel",
            "_view_count": null,
            "_view_module": "@jupyter-widgets/controls",
            "_view_module_version": "1.5.0",
            "_view_name": "HTMLView",
            "description": "",
            "description_tooltip": null,
            "layout": "IPY_MODEL_3f5338f95c034a038fcb5407aeca2327",
            "placeholder": "​",
            "style": "IPY_MODEL_92ea6a98222242c1bc0f57e9529e172d",
            "value": " 1804874/1804874 [01:03&lt;00:00, 34927.54it/s]"
          }
        },
        "2a530c8bbad84eb295e74c0b6db93cfb": {
          "model_module": "@jupyter-widgets/controls",
          "model_module_version": "1.5.0",
          "model_name": "HTMLModel",
          "state": {
            "_dom_classes": [],
            "_model_module": "@jupyter-widgets/controls",
            "_model_module_version": "1.5.0",
            "_model_name": "HTMLModel",
            "_view_count": null,
            "_view_module": "@jupyter-widgets/controls",
            "_view_module_version": "1.5.0",
            "_view_name": "HTMLView",
            "description": "",
            "description_tooltip": null,
            "layout": "IPY_MODEL_bf93b149b7a7475a838c67f6e5de4a25",
            "placeholder": "​",
            "style": "IPY_MODEL_b9dbff5622504dc48f3f0c5f104ae511",
            "value": " 1804874/1804874 [00:12&lt;00:00, 151578.10it/s]"
          }
        },
        "2c2bc0569a7d45558f6a2fed676e13cb": {
          "model_module": "@jupyter-widgets/controls",
          "model_module_version": "1.5.0",
          "model_name": "HBoxModel",
          "state": {
            "_dom_classes": [],
            "_model_module": "@jupyter-widgets/controls",
            "_model_module_version": "1.5.0",
            "_model_name": "HBoxModel",
            "_view_count": null,
            "_view_module": "@jupyter-widgets/controls",
            "_view_module_version": "1.5.0",
            "_view_name": "HBoxView",
            "box_style": "",
            "children": [
              "IPY_MODEL_6f917f981dd24b898981026d68dcdaa1",
              "IPY_MODEL_dfd11af26ad7428799cedbcbe547b86d",
              "IPY_MODEL_2a530c8bbad84eb295e74c0b6db93cfb"
            ],
            "layout": "IPY_MODEL_6475aa02527548d4a793c032b65b1796"
          }
        },
        "2da51e96a8984419be6088cc0016f5dc": {
          "model_module": "@jupyter-widgets/base",
          "model_module_version": "1.2.0",
          "model_name": "LayoutModel",
          "state": {
            "_model_module": "@jupyter-widgets/base",
            "_model_module_version": "1.2.0",
            "_model_name": "LayoutModel",
            "_view_count": null,
            "_view_module": "@jupyter-widgets/base",
            "_view_module_version": "1.2.0",
            "_view_name": "LayoutView",
            "align_content": null,
            "align_items": null,
            "align_self": null,
            "border": null,
            "bottom": null,
            "display": null,
            "flex": null,
            "flex_flow": null,
            "grid_area": null,
            "grid_auto_columns": null,
            "grid_auto_flow": null,
            "grid_auto_rows": null,
            "grid_column": null,
            "grid_gap": null,
            "grid_row": null,
            "grid_template_areas": null,
            "grid_template_columns": null,
            "grid_template_rows": null,
            "height": null,
            "justify_content": null,
            "justify_items": null,
            "left": null,
            "margin": null,
            "max_height": null,
            "max_width": null,
            "min_height": null,
            "min_width": null,
            "object_fit": null,
            "object_position": null,
            "order": null,
            "overflow": null,
            "overflow_x": null,
            "overflow_y": null,
            "padding": null,
            "right": null,
            "top": null,
            "visibility": null,
            "width": null
          }
        },
        "2e98bf30868645f2a940b75253d591df": {
          "model_module": "@jupyter-widgets/controls",
          "model_module_version": "1.5.0",
          "model_name": "HBoxModel",
          "state": {
            "_dom_classes": [],
            "_model_module": "@jupyter-widgets/controls",
            "_model_module_version": "1.5.0",
            "_model_name": "HBoxModel",
            "_view_count": null,
            "_view_module": "@jupyter-widgets/controls",
            "_view_module_version": "1.5.0",
            "_view_name": "HBoxView",
            "box_style": "",
            "children": [
              "IPY_MODEL_168cf4eead15462593fd42648dd1735c",
              "IPY_MODEL_a81ab820dc6b44e08aab20262f450b99",
              "IPY_MODEL_1dcc15004ef84a99ad6809bfeded6758"
            ],
            "layout": "IPY_MODEL_1bec4d6893c3438ca2a5c0d0f92b6161"
          }
        },
        "2f7920b51e584472a5e7680f6343b98a": {
          "model_module": "@jupyter-widgets/base",
          "model_module_version": "1.2.0",
          "model_name": "LayoutModel",
          "state": {
            "_model_module": "@jupyter-widgets/base",
            "_model_module_version": "1.2.0",
            "_model_name": "LayoutModel",
            "_view_count": null,
            "_view_module": "@jupyter-widgets/base",
            "_view_module_version": "1.2.0",
            "_view_name": "LayoutView",
            "align_content": null,
            "align_items": null,
            "align_self": null,
            "border": null,
            "bottom": null,
            "display": null,
            "flex": null,
            "flex_flow": null,
            "grid_area": null,
            "grid_auto_columns": null,
            "grid_auto_flow": null,
            "grid_auto_rows": null,
            "grid_column": null,
            "grid_gap": null,
            "grid_row": null,
            "grid_template_areas": null,
            "grid_template_columns": null,
            "grid_template_rows": null,
            "height": null,
            "justify_content": null,
            "justify_items": null,
            "left": null,
            "margin": null,
            "max_height": null,
            "max_width": null,
            "min_height": null,
            "min_width": null,
            "object_fit": null,
            "object_position": null,
            "order": null,
            "overflow": null,
            "overflow_x": null,
            "overflow_y": null,
            "padding": null,
            "right": null,
            "top": null,
            "visibility": null,
            "width": null
          }
        },
        "345ba23367c84dac8b2137f9e1a8cffc": {
          "model_module": "@jupyter-widgets/controls",
          "model_module_version": "1.5.0",
          "model_name": "DescriptionStyleModel",
          "state": {
            "_model_module": "@jupyter-widgets/controls",
            "_model_module_version": "1.5.0",
            "_model_name": "DescriptionStyleModel",
            "_view_count": null,
            "_view_module": "@jupyter-widgets/base",
            "_view_module_version": "1.2.0",
            "_view_name": "StyleView",
            "description_width": ""
          }
        },
        "34bc22c79b3243e18581cf61df46fafc": {
          "model_module": "@jupyter-widgets/base",
          "model_module_version": "1.2.0",
          "model_name": "LayoutModel",
          "state": {
            "_model_module": "@jupyter-widgets/base",
            "_model_module_version": "1.2.0",
            "_model_name": "LayoutModel",
            "_view_count": null,
            "_view_module": "@jupyter-widgets/base",
            "_view_module_version": "1.2.0",
            "_view_name": "LayoutView",
            "align_content": null,
            "align_items": null,
            "align_self": null,
            "border": null,
            "bottom": null,
            "display": null,
            "flex": null,
            "flex_flow": null,
            "grid_area": null,
            "grid_auto_columns": null,
            "grid_auto_flow": null,
            "grid_auto_rows": null,
            "grid_column": null,
            "grid_gap": null,
            "grid_row": null,
            "grid_template_areas": null,
            "grid_template_columns": null,
            "grid_template_rows": null,
            "height": null,
            "justify_content": null,
            "justify_items": null,
            "left": null,
            "margin": null,
            "max_height": null,
            "max_width": null,
            "min_height": null,
            "min_width": null,
            "object_fit": null,
            "object_position": null,
            "order": null,
            "overflow": null,
            "overflow_x": null,
            "overflow_y": null,
            "padding": null,
            "right": null,
            "top": null,
            "visibility": null,
            "width": null
          }
        },
        "34dc1ec28757496b82ce8c38bbcded93": {
          "model_module": "@jupyter-widgets/controls",
          "model_module_version": "1.5.0",
          "model_name": "DescriptionStyleModel",
          "state": {
            "_model_module": "@jupyter-widgets/controls",
            "_model_module_version": "1.5.0",
            "_model_name": "DescriptionStyleModel",
            "_view_count": null,
            "_view_module": "@jupyter-widgets/base",
            "_view_module_version": "1.2.0",
            "_view_name": "StyleView",
            "description_width": ""
          }
        },
        "35844224fed7448eab2e9d3460e36d03": {
          "model_module": "@jupyter-widgets/controls",
          "model_module_version": "1.5.0",
          "model_name": "ProgressStyleModel",
          "state": {
            "_model_module": "@jupyter-widgets/controls",
            "_model_module_version": "1.5.0",
            "_model_name": "ProgressStyleModel",
            "_view_count": null,
            "_view_module": "@jupyter-widgets/base",
            "_view_module_version": "1.2.0",
            "_view_name": "StyleView",
            "bar_color": null,
            "description_width": ""
          }
        },
        "3638f069bb8a40c1b00d882fd50641d1": {
          "model_module": "@jupyter-widgets/base",
          "model_module_version": "1.2.0",
          "model_name": "LayoutModel",
          "state": {
            "_model_module": "@jupyter-widgets/base",
            "_model_module_version": "1.2.0",
            "_model_name": "LayoutModel",
            "_view_count": null,
            "_view_module": "@jupyter-widgets/base",
            "_view_module_version": "1.2.0",
            "_view_name": "LayoutView",
            "align_content": null,
            "align_items": null,
            "align_self": null,
            "border": null,
            "bottom": null,
            "display": null,
            "flex": null,
            "flex_flow": null,
            "grid_area": null,
            "grid_auto_columns": null,
            "grid_auto_flow": null,
            "grid_auto_rows": null,
            "grid_column": null,
            "grid_gap": null,
            "grid_row": null,
            "grid_template_areas": null,
            "grid_template_columns": null,
            "grid_template_rows": null,
            "height": null,
            "justify_content": null,
            "justify_items": null,
            "left": null,
            "margin": null,
            "max_height": null,
            "max_width": null,
            "min_height": null,
            "min_width": null,
            "object_fit": null,
            "object_position": null,
            "order": null,
            "overflow": null,
            "overflow_x": null,
            "overflow_y": null,
            "padding": null,
            "right": null,
            "top": null,
            "visibility": null,
            "width": null
          }
        },
        "36a6d2046dc4492bb10e4e11b1a171cd": {
          "model_module": "@jupyter-widgets/controls",
          "model_module_version": "1.5.0",
          "model_name": "DescriptionStyleModel",
          "state": {
            "_model_module": "@jupyter-widgets/controls",
            "_model_module_version": "1.5.0",
            "_model_name": "DescriptionStyleModel",
            "_view_count": null,
            "_view_module": "@jupyter-widgets/base",
            "_view_module_version": "1.2.0",
            "_view_name": "StyleView",
            "description_width": ""
          }
        },
        "3cf11bb8165449c680f63e3d7969c7d9": {
          "model_module": "@jupyter-widgets/controls",
          "model_module_version": "1.5.0",
          "model_name": "HTMLModel",
          "state": {
            "_dom_classes": [],
            "_model_module": "@jupyter-widgets/controls",
            "_model_module_version": "1.5.0",
            "_model_name": "HTMLModel",
            "_view_count": null,
            "_view_module": "@jupyter-widgets/controls",
            "_view_module_version": "1.5.0",
            "_view_name": "HTMLView",
            "description": "",
            "description_tooltip": null,
            "layout": "IPY_MODEL_4a86a9435fcb40c891aa525bfb468ec1",
            "placeholder": "​",
            "style": "IPY_MODEL_36a6d2046dc4492bb10e4e11b1a171cd",
            "value": "Pandas Apply: 100%"
          }
        },
        "3d6d72f3f55a45b49ff75d0d7d61119f": {
          "model_module": "@jupyter-widgets/controls",
          "model_module_version": "1.5.0",
          "model_name": "FloatProgressModel",
          "state": {
            "_dom_classes": [],
            "_model_module": "@jupyter-widgets/controls",
            "_model_module_version": "1.5.0",
            "_model_name": "FloatProgressModel",
            "_view_count": null,
            "_view_module": "@jupyter-widgets/controls",
            "_view_module_version": "1.5.0",
            "_view_name": "ProgressView",
            "bar_style": "success",
            "description": "",
            "description_tooltip": null,
            "layout": "IPY_MODEL_34bc22c79b3243e18581cf61df46fafc",
            "max": 1804874,
            "min": 0,
            "orientation": "horizontal",
            "style": "IPY_MODEL_4b40652b6a4943c18c5261446fa2bb32",
            "value": 1804874
          }
        },
        "3ecc9e8c59f248b6a604e17d2a8695e5": {
          "model_module": "@jupyter-widgets/base",
          "model_module_version": "1.2.0",
          "model_name": "LayoutModel",
          "state": {
            "_model_module": "@jupyter-widgets/base",
            "_model_module_version": "1.2.0",
            "_model_name": "LayoutModel",
            "_view_count": null,
            "_view_module": "@jupyter-widgets/base",
            "_view_module_version": "1.2.0",
            "_view_name": "LayoutView",
            "align_content": null,
            "align_items": null,
            "align_self": null,
            "border": null,
            "bottom": null,
            "display": null,
            "flex": null,
            "flex_flow": null,
            "grid_area": null,
            "grid_auto_columns": null,
            "grid_auto_flow": null,
            "grid_auto_rows": null,
            "grid_column": null,
            "grid_gap": null,
            "grid_row": null,
            "grid_template_areas": null,
            "grid_template_columns": null,
            "grid_template_rows": null,
            "height": null,
            "justify_content": null,
            "justify_items": null,
            "left": null,
            "margin": null,
            "max_height": null,
            "max_width": null,
            "min_height": null,
            "min_width": null,
            "object_fit": null,
            "object_position": null,
            "order": null,
            "overflow": null,
            "overflow_x": null,
            "overflow_y": null,
            "padding": null,
            "right": null,
            "top": null,
            "visibility": null,
            "width": null
          }
        },
        "3f5338f95c034a038fcb5407aeca2327": {
          "model_module": "@jupyter-widgets/base",
          "model_module_version": "1.2.0",
          "model_name": "LayoutModel",
          "state": {
            "_model_module": "@jupyter-widgets/base",
            "_model_module_version": "1.2.0",
            "_model_name": "LayoutModel",
            "_view_count": null,
            "_view_module": "@jupyter-widgets/base",
            "_view_module_version": "1.2.0",
            "_view_name": "LayoutView",
            "align_content": null,
            "align_items": null,
            "align_self": null,
            "border": null,
            "bottom": null,
            "display": null,
            "flex": null,
            "flex_flow": null,
            "grid_area": null,
            "grid_auto_columns": null,
            "grid_auto_flow": null,
            "grid_auto_rows": null,
            "grid_column": null,
            "grid_gap": null,
            "grid_row": null,
            "grid_template_areas": null,
            "grid_template_columns": null,
            "grid_template_rows": null,
            "height": null,
            "justify_content": null,
            "justify_items": null,
            "left": null,
            "margin": null,
            "max_height": null,
            "max_width": null,
            "min_height": null,
            "min_width": null,
            "object_fit": null,
            "object_position": null,
            "order": null,
            "overflow": null,
            "overflow_x": null,
            "overflow_y": null,
            "padding": null,
            "right": null,
            "top": null,
            "visibility": null,
            "width": null
          }
        },
        "42529ce783fc4ce0b7c207aa05db3815": {
          "model_module": "@jupyter-widgets/base",
          "model_module_version": "1.2.0",
          "model_name": "LayoutModel",
          "state": {
            "_model_module": "@jupyter-widgets/base",
            "_model_module_version": "1.2.0",
            "_model_name": "LayoutModel",
            "_view_count": null,
            "_view_module": "@jupyter-widgets/base",
            "_view_module_version": "1.2.0",
            "_view_name": "LayoutView",
            "align_content": null,
            "align_items": null,
            "align_self": null,
            "border": null,
            "bottom": null,
            "display": null,
            "flex": null,
            "flex_flow": null,
            "grid_area": null,
            "grid_auto_columns": null,
            "grid_auto_flow": null,
            "grid_auto_rows": null,
            "grid_column": null,
            "grid_gap": null,
            "grid_row": null,
            "grid_template_areas": null,
            "grid_template_columns": null,
            "grid_template_rows": null,
            "height": null,
            "justify_content": null,
            "justify_items": null,
            "left": null,
            "margin": null,
            "max_height": null,
            "max_width": null,
            "min_height": null,
            "min_width": null,
            "object_fit": null,
            "object_position": null,
            "order": null,
            "overflow": null,
            "overflow_x": null,
            "overflow_y": null,
            "padding": null,
            "right": null,
            "top": null,
            "visibility": null,
            "width": null
          }
        },
        "46bb4f515cb148c899ab4d59d83ec17f": {
          "model_module": "@jupyter-widgets/controls",
          "model_module_version": "1.5.0",
          "model_name": "ProgressStyleModel",
          "state": {
            "_model_module": "@jupyter-widgets/controls",
            "_model_module_version": "1.5.0",
            "_model_name": "ProgressStyleModel",
            "_view_count": null,
            "_view_module": "@jupyter-widgets/base",
            "_view_module_version": "1.2.0",
            "_view_name": "StyleView",
            "bar_color": null,
            "description_width": ""
          }
        },
        "4723ef4e052a4e3d9c5788aadf1cc109": {
          "model_module": "@jupyter-widgets/base",
          "model_module_version": "1.2.0",
          "model_name": "LayoutModel",
          "state": {
            "_model_module": "@jupyter-widgets/base",
            "_model_module_version": "1.2.0",
            "_model_name": "LayoutModel",
            "_view_count": null,
            "_view_module": "@jupyter-widgets/base",
            "_view_module_version": "1.2.0",
            "_view_name": "LayoutView",
            "align_content": null,
            "align_items": null,
            "align_self": null,
            "border": null,
            "bottom": null,
            "display": null,
            "flex": null,
            "flex_flow": null,
            "grid_area": null,
            "grid_auto_columns": null,
            "grid_auto_flow": null,
            "grid_auto_rows": null,
            "grid_column": null,
            "grid_gap": null,
            "grid_row": null,
            "grid_template_areas": null,
            "grid_template_columns": null,
            "grid_template_rows": null,
            "height": null,
            "justify_content": null,
            "justify_items": null,
            "left": null,
            "margin": null,
            "max_height": null,
            "max_width": null,
            "min_height": null,
            "min_width": null,
            "object_fit": null,
            "object_position": null,
            "order": null,
            "overflow": null,
            "overflow_x": null,
            "overflow_y": null,
            "padding": null,
            "right": null,
            "top": null,
            "visibility": null,
            "width": null
          }
        },
        "478aca070b50482c92ae65de715c799f": {
          "model_module": "@jupyter-widgets/controls",
          "model_module_version": "1.5.0",
          "model_name": "HTMLModel",
          "state": {
            "_dom_classes": [],
            "_model_module": "@jupyter-widgets/controls",
            "_model_module_version": "1.5.0",
            "_model_name": "HTMLModel",
            "_view_count": null,
            "_view_module": "@jupyter-widgets/controls",
            "_view_module_version": "1.5.0",
            "_view_name": "HTMLView",
            "description": "",
            "description_tooltip": null,
            "layout": "IPY_MODEL_eb0967054122499a9fb5746c631400b8",
            "placeholder": "​",
            "style": "IPY_MODEL_345ba23367c84dac8b2137f9e1a8cffc",
            "value": "Pandas Apply: 100%"
          }
        },
        "48426379c9b4412daf82a6e3ed78411b": {
          "model_module": "@jupyter-widgets/controls",
          "model_module_version": "1.5.0",
          "model_name": "HTMLModel",
          "state": {
            "_dom_classes": [],
            "_model_module": "@jupyter-widgets/controls",
            "_model_module_version": "1.5.0",
            "_model_name": "HTMLModel",
            "_view_count": null,
            "_view_module": "@jupyter-widgets/controls",
            "_view_module_version": "1.5.0",
            "_view_name": "HTMLView",
            "description": "",
            "description_tooltip": null,
            "layout": "IPY_MODEL_c0689ebbf2834eb284a8185bc059b141",
            "placeholder": "​",
            "style": "IPY_MODEL_0aa2454587604009b1ae443239be834a",
            "value": "100%"
          }
        },
        "4a86a9435fcb40c891aa525bfb468ec1": {
          "model_module": "@jupyter-widgets/base",
          "model_module_version": "1.2.0",
          "model_name": "LayoutModel",
          "state": {
            "_model_module": "@jupyter-widgets/base",
            "_model_module_version": "1.2.0",
            "_model_name": "LayoutModel",
            "_view_count": null,
            "_view_module": "@jupyter-widgets/base",
            "_view_module_version": "1.2.0",
            "_view_name": "LayoutView",
            "align_content": null,
            "align_items": null,
            "align_self": null,
            "border": null,
            "bottom": null,
            "display": null,
            "flex": null,
            "flex_flow": null,
            "grid_area": null,
            "grid_auto_columns": null,
            "grid_auto_flow": null,
            "grid_auto_rows": null,
            "grid_column": null,
            "grid_gap": null,
            "grid_row": null,
            "grid_template_areas": null,
            "grid_template_columns": null,
            "grid_template_rows": null,
            "height": null,
            "justify_content": null,
            "justify_items": null,
            "left": null,
            "margin": null,
            "max_height": null,
            "max_width": null,
            "min_height": null,
            "min_width": null,
            "object_fit": null,
            "object_position": null,
            "order": null,
            "overflow": null,
            "overflow_x": null,
            "overflow_y": null,
            "padding": null,
            "right": null,
            "top": null,
            "visibility": null,
            "width": null
          }
        },
        "4ac46c157db84a179909cf9d5f89f468": {
          "model_module": "@jupyter-widgets/controls",
          "model_module_version": "1.5.0",
          "model_name": "DescriptionStyleModel",
          "state": {
            "_model_module": "@jupyter-widgets/controls",
            "_model_module_version": "1.5.0",
            "_model_name": "DescriptionStyleModel",
            "_view_count": null,
            "_view_module": "@jupyter-widgets/base",
            "_view_module_version": "1.2.0",
            "_view_name": "StyleView",
            "description_width": ""
          }
        },
        "4aeb96e178de40f9a3e7cde830d411fe": {
          "model_module": "@jupyter-widgets/base",
          "model_module_version": "1.2.0",
          "model_name": "LayoutModel",
          "state": {
            "_model_module": "@jupyter-widgets/base",
            "_model_module_version": "1.2.0",
            "_model_name": "LayoutModel",
            "_view_count": null,
            "_view_module": "@jupyter-widgets/base",
            "_view_module_version": "1.2.0",
            "_view_name": "LayoutView",
            "align_content": null,
            "align_items": null,
            "align_self": null,
            "border": null,
            "bottom": null,
            "display": null,
            "flex": null,
            "flex_flow": null,
            "grid_area": null,
            "grid_auto_columns": null,
            "grid_auto_flow": null,
            "grid_auto_rows": null,
            "grid_column": null,
            "grid_gap": null,
            "grid_row": null,
            "grid_template_areas": null,
            "grid_template_columns": null,
            "grid_template_rows": null,
            "height": null,
            "justify_content": null,
            "justify_items": null,
            "left": null,
            "margin": null,
            "max_height": null,
            "max_width": null,
            "min_height": null,
            "min_width": null,
            "object_fit": null,
            "object_position": null,
            "order": null,
            "overflow": null,
            "overflow_x": null,
            "overflow_y": null,
            "padding": null,
            "right": null,
            "top": null,
            "visibility": null,
            "width": null
          }
        },
        "4b40652b6a4943c18c5261446fa2bb32": {
          "model_module": "@jupyter-widgets/controls",
          "model_module_version": "1.5.0",
          "model_name": "ProgressStyleModel",
          "state": {
            "_model_module": "@jupyter-widgets/controls",
            "_model_module_version": "1.5.0",
            "_model_name": "ProgressStyleModel",
            "_view_count": null,
            "_view_module": "@jupyter-widgets/base",
            "_view_module_version": "1.2.0",
            "_view_name": "StyleView",
            "bar_color": null,
            "description_width": ""
          }
        },
        "5219f789a55241fab51e90ea5a2b572e": {
          "model_module": "@jupyter-widgets/base",
          "model_module_version": "1.2.0",
          "model_name": "LayoutModel",
          "state": {
            "_model_module": "@jupyter-widgets/base",
            "_model_module_version": "1.2.0",
            "_model_name": "LayoutModel",
            "_view_count": null,
            "_view_module": "@jupyter-widgets/base",
            "_view_module_version": "1.2.0",
            "_view_name": "LayoutView",
            "align_content": null,
            "align_items": null,
            "align_self": null,
            "border": null,
            "bottom": null,
            "display": null,
            "flex": null,
            "flex_flow": null,
            "grid_area": null,
            "grid_auto_columns": null,
            "grid_auto_flow": null,
            "grid_auto_rows": null,
            "grid_column": null,
            "grid_gap": null,
            "grid_row": null,
            "grid_template_areas": null,
            "grid_template_columns": null,
            "grid_template_rows": null,
            "height": null,
            "justify_content": null,
            "justify_items": null,
            "left": null,
            "margin": null,
            "max_height": null,
            "max_width": null,
            "min_height": null,
            "min_width": null,
            "object_fit": null,
            "object_position": null,
            "order": null,
            "overflow": null,
            "overflow_x": null,
            "overflow_y": null,
            "padding": null,
            "right": null,
            "top": null,
            "visibility": null,
            "width": null
          }
        },
        "556493f05887476b8acd7933118dc71c": {
          "model_module": "@jupyter-widgets/base",
          "model_module_version": "1.2.0",
          "model_name": "LayoutModel",
          "state": {
            "_model_module": "@jupyter-widgets/base",
            "_model_module_version": "1.2.0",
            "_model_name": "LayoutModel",
            "_view_count": null,
            "_view_module": "@jupyter-widgets/base",
            "_view_module_version": "1.2.0",
            "_view_name": "LayoutView",
            "align_content": null,
            "align_items": null,
            "align_self": null,
            "border": null,
            "bottom": null,
            "display": null,
            "flex": null,
            "flex_flow": null,
            "grid_area": null,
            "grid_auto_columns": null,
            "grid_auto_flow": null,
            "grid_auto_rows": null,
            "grid_column": null,
            "grid_gap": null,
            "grid_row": null,
            "grid_template_areas": null,
            "grid_template_columns": null,
            "grid_template_rows": null,
            "height": null,
            "justify_content": null,
            "justify_items": null,
            "left": null,
            "margin": null,
            "max_height": null,
            "max_width": null,
            "min_height": null,
            "min_width": null,
            "object_fit": null,
            "object_position": null,
            "order": null,
            "overflow": null,
            "overflow_x": null,
            "overflow_y": null,
            "padding": null,
            "right": null,
            "top": null,
            "visibility": null,
            "width": null
          }
        },
        "57423ee9e14f490fb3dd43860d698607": {
          "model_module": "@jupyter-widgets/controls",
          "model_module_version": "1.5.0",
          "model_name": "ProgressStyleModel",
          "state": {
            "_model_module": "@jupyter-widgets/controls",
            "_model_module_version": "1.5.0",
            "_model_name": "ProgressStyleModel",
            "_view_count": null,
            "_view_module": "@jupyter-widgets/base",
            "_view_module_version": "1.2.0",
            "_view_name": "StyleView",
            "bar_color": null,
            "description_width": ""
          }
        },
        "5a2d3fa5568a40bd947e43e614d8c053": {
          "model_module": "@jupyter-widgets/controls",
          "model_module_version": "1.5.0",
          "model_name": "ProgressStyleModel",
          "state": {
            "_model_module": "@jupyter-widgets/controls",
            "_model_module_version": "1.5.0",
            "_model_name": "ProgressStyleModel",
            "_view_count": null,
            "_view_module": "@jupyter-widgets/base",
            "_view_module_version": "1.2.0",
            "_view_name": "StyleView",
            "bar_color": null,
            "description_width": ""
          }
        },
        "5b262fe449844620b97ae7cb3fc5f86f": {
          "model_module": "@jupyter-widgets/controls",
          "model_module_version": "1.5.0",
          "model_name": "FloatProgressModel",
          "state": {
            "_dom_classes": [],
            "_model_module": "@jupyter-widgets/controls",
            "_model_module_version": "1.5.0",
            "_model_name": "FloatProgressModel",
            "_view_count": null,
            "_view_module": "@jupyter-widgets/controls",
            "_view_module_version": "1.5.0",
            "_view_name": "ProgressView",
            "bar_style": "success",
            "description": "",
            "description_tooltip": null,
            "layout": "IPY_MODEL_5219f789a55241fab51e90ea5a2b572e",
            "max": 1804874,
            "min": 0,
            "orientation": "horizontal",
            "style": "IPY_MODEL_5a2d3fa5568a40bd947e43e614d8c053",
            "value": 1804874
          }
        },
        "5b78ae907138487ca32e15ad5c25e5a7": {
          "model_module": "@jupyter-widgets/controls",
          "model_module_version": "1.5.0",
          "model_name": "HBoxModel",
          "state": {
            "_dom_classes": [],
            "_model_module": "@jupyter-widgets/controls",
            "_model_module_version": "1.5.0",
            "_model_name": "HBoxModel",
            "_view_count": null,
            "_view_module": "@jupyter-widgets/controls",
            "_view_module_version": "1.5.0",
            "_view_name": "HBoxView",
            "box_style": "",
            "children": [
              "IPY_MODEL_02ccb9087f134f069208a8976ba2dbc8",
              "IPY_MODEL_774b38b8e1434f45abeb7c8f1dd18e7c",
              "IPY_MODEL_c1f553c877b04262afaddb4c85a7fc78"
            ],
            "layout": "IPY_MODEL_176fdfed773c4d6983b2c8e714c09b56"
          }
        },
        "5c303616e5db45829b0e8c48f0ded259": {
          "model_module": "@jupyter-widgets/controls",
          "model_module_version": "1.5.0",
          "model_name": "HTMLModel",
          "state": {
            "_dom_classes": [],
            "_model_module": "@jupyter-widgets/controls",
            "_model_module_version": "1.5.0",
            "_model_name": "HTMLModel",
            "_view_count": null,
            "_view_module": "@jupyter-widgets/controls",
            "_view_module_version": "1.5.0",
            "_view_name": "HTMLView",
            "description": "",
            "description_tooltip": null,
            "layout": "IPY_MODEL_77be9aff3b674d52b2dfdc5e150a871b",
            "placeholder": "​",
            "style": "IPY_MODEL_34dc1ec28757496b82ce8c38bbcded93",
            "value": " 1804874/1804874 [00:04&lt;00:00, 366050.75it/s]"
          }
        },
        "61ee77fa0cba4a8b82cfb2a4f5ffbc9b": {
          "model_module": "@jupyter-widgets/controls",
          "model_module_version": "1.5.0",
          "model_name": "DescriptionStyleModel",
          "state": {
            "_model_module": "@jupyter-widgets/controls",
            "_model_module_version": "1.5.0",
            "_model_name": "DescriptionStyleModel",
            "_view_count": null,
            "_view_module": "@jupyter-widgets/base",
            "_view_module_version": "1.2.0",
            "_view_name": "StyleView",
            "description_width": ""
          }
        },
        "62a10dc8640e462e9eda5072a46e3ab7": {
          "model_module": "@jupyter-widgets/base",
          "model_module_version": "1.2.0",
          "model_name": "LayoutModel",
          "state": {
            "_model_module": "@jupyter-widgets/base",
            "_model_module_version": "1.2.0",
            "_model_name": "LayoutModel",
            "_view_count": null,
            "_view_module": "@jupyter-widgets/base",
            "_view_module_version": "1.2.0",
            "_view_name": "LayoutView",
            "align_content": null,
            "align_items": null,
            "align_self": null,
            "border": null,
            "bottom": null,
            "display": null,
            "flex": null,
            "flex_flow": null,
            "grid_area": null,
            "grid_auto_columns": null,
            "grid_auto_flow": null,
            "grid_auto_rows": null,
            "grid_column": null,
            "grid_gap": null,
            "grid_row": null,
            "grid_template_areas": null,
            "grid_template_columns": null,
            "grid_template_rows": null,
            "height": null,
            "justify_content": null,
            "justify_items": null,
            "left": null,
            "margin": null,
            "max_height": null,
            "max_width": null,
            "min_height": null,
            "min_width": null,
            "object_fit": null,
            "object_position": null,
            "order": null,
            "overflow": null,
            "overflow_x": null,
            "overflow_y": null,
            "padding": null,
            "right": null,
            "top": null,
            "visibility": null,
            "width": null
          }
        },
        "6475aa02527548d4a793c032b65b1796": {
          "model_module": "@jupyter-widgets/base",
          "model_module_version": "1.2.0",
          "model_name": "LayoutModel",
          "state": {
            "_model_module": "@jupyter-widgets/base",
            "_model_module_version": "1.2.0",
            "_model_name": "LayoutModel",
            "_view_count": null,
            "_view_module": "@jupyter-widgets/base",
            "_view_module_version": "1.2.0",
            "_view_name": "LayoutView",
            "align_content": null,
            "align_items": null,
            "align_self": null,
            "border": null,
            "bottom": null,
            "display": null,
            "flex": null,
            "flex_flow": null,
            "grid_area": null,
            "grid_auto_columns": null,
            "grid_auto_flow": null,
            "grid_auto_rows": null,
            "grid_column": null,
            "grid_gap": null,
            "grid_row": null,
            "grid_template_areas": null,
            "grid_template_columns": null,
            "grid_template_rows": null,
            "height": null,
            "justify_content": null,
            "justify_items": null,
            "left": null,
            "margin": null,
            "max_height": null,
            "max_width": null,
            "min_height": null,
            "min_width": null,
            "object_fit": null,
            "object_position": null,
            "order": null,
            "overflow": null,
            "overflow_x": null,
            "overflow_y": null,
            "padding": null,
            "right": null,
            "top": null,
            "visibility": null,
            "width": null
          }
        },
        "6b7b096972a44c16af246367b74f5e67": {
          "model_module": "@jupyter-widgets/controls",
          "model_module_version": "1.5.0",
          "model_name": "DescriptionStyleModel",
          "state": {
            "_model_module": "@jupyter-widgets/controls",
            "_model_module_version": "1.5.0",
            "_model_name": "DescriptionStyleModel",
            "_view_count": null,
            "_view_module": "@jupyter-widgets/base",
            "_view_module_version": "1.2.0",
            "_view_name": "StyleView",
            "description_width": ""
          }
        },
        "6bce3df789fd4d9382a60f3875865c57": {
          "model_module": "@jupyter-widgets/controls",
          "model_module_version": "1.5.0",
          "model_name": "HTMLModel",
          "state": {
            "_dom_classes": [],
            "_model_module": "@jupyter-widgets/controls",
            "_model_module_version": "1.5.0",
            "_model_name": "HTMLModel",
            "_view_count": null,
            "_view_module": "@jupyter-widgets/controls",
            "_view_module_version": "1.5.0",
            "_view_name": "HTMLView",
            "description": "",
            "description_tooltip": null,
            "layout": "IPY_MODEL_ecef2b48426a4183a8881454c23e1d10",
            "placeholder": "​",
            "style": "IPY_MODEL_fffe4dce96304952abd800e5d561559f",
            "value": " 512307/512307 [00:00&lt;00:00, 580045.96it/s]"
          }
        },
        "6de936c24a634b3dbb64038ca6fe2fe9": {
          "model_module": "@jupyter-widgets/controls",
          "model_module_version": "1.5.0",
          "model_name": "HTMLModel",
          "state": {
            "_dom_classes": [],
            "_model_module": "@jupyter-widgets/controls",
            "_model_module_version": "1.5.0",
            "_model_name": "HTMLModel",
            "_view_count": null,
            "_view_module": "@jupyter-widgets/controls",
            "_view_module_version": "1.5.0",
            "_view_name": "HTMLView",
            "description": "",
            "description_tooltip": null,
            "layout": "IPY_MODEL_a031eb64da8b4ce2858f3b5e8a504422",
            "placeholder": "​",
            "style": "IPY_MODEL_143a7ba13c3446d8900e728dae0fc3f2",
            "value": " 1804874/1804874 [16:48&lt;00:00, 1957.14it/s]"
          }
        },
        "6e207cc3f271496aa57f711eeea698f2": {
          "model_module": "@jupyter-widgets/controls",
          "model_module_version": "1.5.0",
          "model_name": "ProgressStyleModel",
          "state": {
            "_model_module": "@jupyter-widgets/controls",
            "_model_module_version": "1.5.0",
            "_model_name": "ProgressStyleModel",
            "_view_count": null,
            "_view_module": "@jupyter-widgets/base",
            "_view_module_version": "1.2.0",
            "_view_name": "StyleView",
            "bar_color": null,
            "description_width": ""
          }
        },
        "6f917f981dd24b898981026d68dcdaa1": {
          "model_module": "@jupyter-widgets/controls",
          "model_module_version": "1.5.0",
          "model_name": "HTMLModel",
          "state": {
            "_dom_classes": [],
            "_model_module": "@jupyter-widgets/controls",
            "_model_module_version": "1.5.0",
            "_model_name": "HTMLModel",
            "_view_count": null,
            "_view_module": "@jupyter-widgets/controls",
            "_view_module_version": "1.5.0",
            "_view_name": "HTMLView",
            "description": "",
            "description_tooltip": null,
            "layout": "IPY_MODEL_10126f0ff45948f5bbdff485226daa3d",
            "placeholder": "​",
            "style": "IPY_MODEL_a56a1b88d6864c7ab929a9372c454444",
            "value": "Pandas Apply: 100%"
          }
        },
        "70c6be0ed63c4226bddf9f52021126cc": {
          "model_module": "@jupyter-widgets/base",
          "model_module_version": "1.2.0",
          "model_name": "LayoutModel",
          "state": {
            "_model_module": "@jupyter-widgets/base",
            "_model_module_version": "1.2.0",
            "_model_name": "LayoutModel",
            "_view_count": null,
            "_view_module": "@jupyter-widgets/base",
            "_view_module_version": "1.2.0",
            "_view_name": "LayoutView",
            "align_content": null,
            "align_items": null,
            "align_self": null,
            "border": null,
            "bottom": null,
            "display": null,
            "flex": null,
            "flex_flow": null,
            "grid_area": null,
            "grid_auto_columns": null,
            "grid_auto_flow": null,
            "grid_auto_rows": null,
            "grid_column": null,
            "grid_gap": null,
            "grid_row": null,
            "grid_template_areas": null,
            "grid_template_columns": null,
            "grid_template_rows": null,
            "height": null,
            "justify_content": null,
            "justify_items": null,
            "left": null,
            "margin": null,
            "max_height": null,
            "max_width": null,
            "min_height": null,
            "min_width": null,
            "object_fit": null,
            "object_position": null,
            "order": null,
            "overflow": null,
            "overflow_x": null,
            "overflow_y": null,
            "padding": null,
            "right": null,
            "top": null,
            "visibility": null,
            "width": null
          }
        },
        "712e8bb26be74d9aaf18759511453472": {
          "model_module": "@jupyter-widgets/base",
          "model_module_version": "1.2.0",
          "model_name": "LayoutModel",
          "state": {
            "_model_module": "@jupyter-widgets/base",
            "_model_module_version": "1.2.0",
            "_model_name": "LayoutModel",
            "_view_count": null,
            "_view_module": "@jupyter-widgets/base",
            "_view_module_version": "1.2.0",
            "_view_name": "LayoutView",
            "align_content": null,
            "align_items": null,
            "align_self": null,
            "border": null,
            "bottom": null,
            "display": null,
            "flex": null,
            "flex_flow": null,
            "grid_area": null,
            "grid_auto_columns": null,
            "grid_auto_flow": null,
            "grid_auto_rows": null,
            "grid_column": null,
            "grid_gap": null,
            "grid_row": null,
            "grid_template_areas": null,
            "grid_template_columns": null,
            "grid_template_rows": null,
            "height": null,
            "justify_content": null,
            "justify_items": null,
            "left": null,
            "margin": null,
            "max_height": null,
            "max_width": null,
            "min_height": null,
            "min_width": null,
            "object_fit": null,
            "object_position": null,
            "order": null,
            "overflow": null,
            "overflow_x": null,
            "overflow_y": null,
            "padding": null,
            "right": null,
            "top": null,
            "visibility": null,
            "width": null
          }
        },
        "7556bd180ce04f0da6c59e2068380754": {
          "model_module": "@jupyter-widgets/controls",
          "model_module_version": "1.5.0",
          "model_name": "DescriptionStyleModel",
          "state": {
            "_model_module": "@jupyter-widgets/controls",
            "_model_module_version": "1.5.0",
            "_model_name": "DescriptionStyleModel",
            "_view_count": null,
            "_view_module": "@jupyter-widgets/base",
            "_view_module_version": "1.2.0",
            "_view_name": "StyleView",
            "description_width": ""
          }
        },
        "774b38b8e1434f45abeb7c8f1dd18e7c": {
          "model_module": "@jupyter-widgets/controls",
          "model_module_version": "1.5.0",
          "model_name": "FloatProgressModel",
          "state": {
            "_dom_classes": [],
            "_model_module": "@jupyter-widgets/controls",
            "_model_module_version": "1.5.0",
            "_model_name": "FloatProgressModel",
            "_view_count": null,
            "_view_module": "@jupyter-widgets/controls",
            "_view_module_version": "1.5.0",
            "_view_name": "ProgressView",
            "bar_style": "success",
            "description": "",
            "description_tooltip": null,
            "layout": "IPY_MODEL_f22977eb4d164cd7a607b0e72fd8ef58",
            "max": 1804874,
            "min": 0,
            "orientation": "horizontal",
            "style": "IPY_MODEL_f9dcb861f2a04952858ac2e6401ce390",
            "value": 1804874
          }
        },
        "77be9aff3b674d52b2dfdc5e150a871b": {
          "model_module": "@jupyter-widgets/base",
          "model_module_version": "1.2.0",
          "model_name": "LayoutModel",
          "state": {
            "_model_module": "@jupyter-widgets/base",
            "_model_module_version": "1.2.0",
            "_model_name": "LayoutModel",
            "_view_count": null,
            "_view_module": "@jupyter-widgets/base",
            "_view_module_version": "1.2.0",
            "_view_name": "LayoutView",
            "align_content": null,
            "align_items": null,
            "align_self": null,
            "border": null,
            "bottom": null,
            "display": null,
            "flex": null,
            "flex_flow": null,
            "grid_area": null,
            "grid_auto_columns": null,
            "grid_auto_flow": null,
            "grid_auto_rows": null,
            "grid_column": null,
            "grid_gap": null,
            "grid_row": null,
            "grid_template_areas": null,
            "grid_template_columns": null,
            "grid_template_rows": null,
            "height": null,
            "justify_content": null,
            "justify_items": null,
            "left": null,
            "margin": null,
            "max_height": null,
            "max_width": null,
            "min_height": null,
            "min_width": null,
            "object_fit": null,
            "object_position": null,
            "order": null,
            "overflow": null,
            "overflow_x": null,
            "overflow_y": null,
            "padding": null,
            "right": null,
            "top": null,
            "visibility": null,
            "width": null
          }
        },
        "7c344d2068b54387ae8f0812f61c05cc": {
          "model_module": "@jupyter-widgets/controls",
          "model_module_version": "1.5.0",
          "model_name": "ProgressStyleModel",
          "state": {
            "_model_module": "@jupyter-widgets/controls",
            "_model_module_version": "1.5.0",
            "_model_name": "ProgressStyleModel",
            "_view_count": null,
            "_view_module": "@jupyter-widgets/base",
            "_view_module_version": "1.2.0",
            "_view_name": "StyleView",
            "bar_color": null,
            "description_width": ""
          }
        },
        "80206a4015224ccb8dd36377299ba90c": {
          "model_module": "@jupyter-widgets/base",
          "model_module_version": "1.2.0",
          "model_name": "LayoutModel",
          "state": {
            "_model_module": "@jupyter-widgets/base",
            "_model_module_version": "1.2.0",
            "_model_name": "LayoutModel",
            "_view_count": null,
            "_view_module": "@jupyter-widgets/base",
            "_view_module_version": "1.2.0",
            "_view_name": "LayoutView",
            "align_content": null,
            "align_items": null,
            "align_self": null,
            "border": null,
            "bottom": null,
            "display": null,
            "flex": null,
            "flex_flow": null,
            "grid_area": null,
            "grid_auto_columns": null,
            "grid_auto_flow": null,
            "grid_auto_rows": null,
            "grid_column": null,
            "grid_gap": null,
            "grid_row": null,
            "grid_template_areas": null,
            "grid_template_columns": null,
            "grid_template_rows": null,
            "height": null,
            "justify_content": null,
            "justify_items": null,
            "left": null,
            "margin": null,
            "max_height": null,
            "max_width": null,
            "min_height": null,
            "min_width": null,
            "object_fit": null,
            "object_position": null,
            "order": null,
            "overflow": null,
            "overflow_x": null,
            "overflow_y": null,
            "padding": null,
            "right": null,
            "top": null,
            "visibility": null,
            "width": null
          }
        },
        "8144913d6baf4782802e7ad755ac5d01": {
          "model_module": "@jupyter-widgets/controls",
          "model_module_version": "1.5.0",
          "model_name": "HTMLModel",
          "state": {
            "_dom_classes": [],
            "_model_module": "@jupyter-widgets/controls",
            "_model_module_version": "1.5.0",
            "_model_name": "HTMLModel",
            "_view_count": null,
            "_view_module": "@jupyter-widgets/controls",
            "_view_module_version": "1.5.0",
            "_view_name": "HTMLView",
            "description": "",
            "description_tooltip": null,
            "layout": "IPY_MODEL_4723ef4e052a4e3d9c5788aadf1cc109",
            "placeholder": "​",
            "style": "IPY_MODEL_61ee77fa0cba4a8b82cfb2a4f5ffbc9b",
            "value": " 1804874/1804874 [00:04&lt;00:00, 413043.58it/s]"
          }
        },
        "83869f5161104143a059f4f715d59866": {
          "model_module": "@jupyter-widgets/controls",
          "model_module_version": "1.5.0",
          "model_name": "DescriptionStyleModel",
          "state": {
            "_model_module": "@jupyter-widgets/controls",
            "_model_module_version": "1.5.0",
            "_model_name": "DescriptionStyleModel",
            "_view_count": null,
            "_view_module": "@jupyter-widgets/base",
            "_view_module_version": "1.2.0",
            "_view_name": "StyleView",
            "description_width": ""
          }
        },
        "8faa4cdd4e0a4c878390d0b1b7806f90": {
          "model_module": "@jupyter-widgets/controls",
          "model_module_version": "1.5.0",
          "model_name": "DescriptionStyleModel",
          "state": {
            "_model_module": "@jupyter-widgets/controls",
            "_model_module_version": "1.5.0",
            "_model_name": "DescriptionStyleModel",
            "_view_count": null,
            "_view_module": "@jupyter-widgets/base",
            "_view_module_version": "1.2.0",
            "_view_name": "StyleView",
            "description_width": ""
          }
        },
        "92ea6a98222242c1bc0f57e9529e172d": {
          "model_module": "@jupyter-widgets/controls",
          "model_module_version": "1.5.0",
          "model_name": "DescriptionStyleModel",
          "state": {
            "_model_module": "@jupyter-widgets/controls",
            "_model_module_version": "1.5.0",
            "_model_name": "DescriptionStyleModel",
            "_view_count": null,
            "_view_module": "@jupyter-widgets/base",
            "_view_module_version": "1.2.0",
            "_view_name": "StyleView",
            "description_width": ""
          }
        },
        "93c69ba4fde54a3ab2c928646722b12d": {
          "model_module": "@jupyter-widgets/controls",
          "model_module_version": "1.5.0",
          "model_name": "HTMLModel",
          "state": {
            "_dom_classes": [],
            "_model_module": "@jupyter-widgets/controls",
            "_model_module_version": "1.5.0",
            "_model_name": "HTMLModel",
            "_view_count": null,
            "_view_module": "@jupyter-widgets/controls",
            "_view_module_version": "1.5.0",
            "_view_name": "HTMLView",
            "description": "",
            "description_tooltip": null,
            "layout": "IPY_MODEL_d63fd36598f048e1bbe4e5d0bc28dd3a",
            "placeholder": "​",
            "style": "IPY_MODEL_f3811008527144819935102400265b44",
            "value": "Pandas Apply: 100%"
          }
        },
        "94762f0ee6564705b0683e033bafd377": {
          "model_module": "@jupyter-widgets/controls",
          "model_module_version": "1.5.0",
          "model_name": "ProgressStyleModel",
          "state": {
            "_model_module": "@jupyter-widgets/controls",
            "_model_module_version": "1.5.0",
            "_model_name": "ProgressStyleModel",
            "_view_count": null,
            "_view_module": "@jupyter-widgets/base",
            "_view_module_version": "1.2.0",
            "_view_name": "StyleView",
            "bar_color": null,
            "description_width": ""
          }
        },
        "957dd8d45b174110b77ddaa4778e6245": {
          "model_module": "@jupyter-widgets/base",
          "model_module_version": "1.2.0",
          "model_name": "LayoutModel",
          "state": {
            "_model_module": "@jupyter-widgets/base",
            "_model_module_version": "1.2.0",
            "_model_name": "LayoutModel",
            "_view_count": null,
            "_view_module": "@jupyter-widgets/base",
            "_view_module_version": "1.2.0",
            "_view_name": "LayoutView",
            "align_content": null,
            "align_items": null,
            "align_self": null,
            "border": null,
            "bottom": null,
            "display": null,
            "flex": null,
            "flex_flow": null,
            "grid_area": null,
            "grid_auto_columns": null,
            "grid_auto_flow": null,
            "grid_auto_rows": null,
            "grid_column": null,
            "grid_gap": null,
            "grid_row": null,
            "grid_template_areas": null,
            "grid_template_columns": null,
            "grid_template_rows": null,
            "height": null,
            "justify_content": null,
            "justify_items": null,
            "left": null,
            "margin": null,
            "max_height": null,
            "max_width": null,
            "min_height": null,
            "min_width": null,
            "object_fit": null,
            "object_position": null,
            "order": null,
            "overflow": null,
            "overflow_x": null,
            "overflow_y": null,
            "padding": null,
            "right": null,
            "top": null,
            "visibility": null,
            "width": null
          }
        },
        "9a7825880b184c04b74bd0f67344fb6c": {
          "model_module": "@jupyter-widgets/controls",
          "model_module_version": "1.5.0",
          "model_name": "DescriptionStyleModel",
          "state": {
            "_model_module": "@jupyter-widgets/controls",
            "_model_module_version": "1.5.0",
            "_model_name": "DescriptionStyleModel",
            "_view_count": null,
            "_view_module": "@jupyter-widgets/base",
            "_view_module_version": "1.2.0",
            "_view_name": "StyleView",
            "description_width": ""
          }
        },
        "9c925244f9bf475ab2ea2095cda3f968": {
          "model_module": "@jupyter-widgets/base",
          "model_module_version": "1.2.0",
          "model_name": "LayoutModel",
          "state": {
            "_model_module": "@jupyter-widgets/base",
            "_model_module_version": "1.2.0",
            "_model_name": "LayoutModel",
            "_view_count": null,
            "_view_module": "@jupyter-widgets/base",
            "_view_module_version": "1.2.0",
            "_view_name": "LayoutView",
            "align_content": null,
            "align_items": null,
            "align_self": null,
            "border": null,
            "bottom": null,
            "display": null,
            "flex": null,
            "flex_flow": null,
            "grid_area": null,
            "grid_auto_columns": null,
            "grid_auto_flow": null,
            "grid_auto_rows": null,
            "grid_column": null,
            "grid_gap": null,
            "grid_row": null,
            "grid_template_areas": null,
            "grid_template_columns": null,
            "grid_template_rows": null,
            "height": null,
            "justify_content": null,
            "justify_items": null,
            "left": null,
            "margin": null,
            "max_height": null,
            "max_width": null,
            "min_height": null,
            "min_width": null,
            "object_fit": null,
            "object_position": null,
            "order": null,
            "overflow": null,
            "overflow_x": null,
            "overflow_y": null,
            "padding": null,
            "right": null,
            "top": null,
            "visibility": null,
            "width": null
          }
        },
        "9d1df95ed3834313ba9cd5e5696ca08f": {
          "model_module": "@jupyter-widgets/base",
          "model_module_version": "1.2.0",
          "model_name": "LayoutModel",
          "state": {
            "_model_module": "@jupyter-widgets/base",
            "_model_module_version": "1.2.0",
            "_model_name": "LayoutModel",
            "_view_count": null,
            "_view_module": "@jupyter-widgets/base",
            "_view_module_version": "1.2.0",
            "_view_name": "LayoutView",
            "align_content": null,
            "align_items": null,
            "align_self": null,
            "border": null,
            "bottom": null,
            "display": null,
            "flex": null,
            "flex_flow": null,
            "grid_area": null,
            "grid_auto_columns": null,
            "grid_auto_flow": null,
            "grid_auto_rows": null,
            "grid_column": null,
            "grid_gap": null,
            "grid_row": null,
            "grid_template_areas": null,
            "grid_template_columns": null,
            "grid_template_rows": null,
            "height": null,
            "justify_content": null,
            "justify_items": null,
            "left": null,
            "margin": null,
            "max_height": null,
            "max_width": null,
            "min_height": null,
            "min_width": null,
            "object_fit": null,
            "object_position": null,
            "order": null,
            "overflow": null,
            "overflow_x": null,
            "overflow_y": null,
            "padding": null,
            "right": null,
            "top": null,
            "visibility": null,
            "width": null
          }
        },
        "9e835699e2c84db38f8e80946540e2bf": {
          "model_module": "@jupyter-widgets/controls",
          "model_module_version": "1.5.0",
          "model_name": "HBoxModel",
          "state": {
            "_dom_classes": [],
            "_model_module": "@jupyter-widgets/controls",
            "_model_module_version": "1.5.0",
            "_model_name": "HBoxModel",
            "_view_count": null,
            "_view_module": "@jupyter-widgets/controls",
            "_view_module_version": "1.5.0",
            "_view_name": "HBoxView",
            "box_style": "",
            "children": [
              "IPY_MODEL_e9268da6e9e94f379489d0dae23e286a",
              "IPY_MODEL_00442e28a4fd44809682621ed7e98ec4",
              "IPY_MODEL_8144913d6baf4782802e7ad755ac5d01"
            ],
            "layout": "IPY_MODEL_c8e03fea4d1740c3a31b109e2fe4e330"
          }
        },
        "a031eb64da8b4ce2858f3b5e8a504422": {
          "model_module": "@jupyter-widgets/base",
          "model_module_version": "1.2.0",
          "model_name": "LayoutModel",
          "state": {
            "_model_module": "@jupyter-widgets/base",
            "_model_module_version": "1.2.0",
            "_model_name": "LayoutModel",
            "_view_count": null,
            "_view_module": "@jupyter-widgets/base",
            "_view_module_version": "1.2.0",
            "_view_name": "LayoutView",
            "align_content": null,
            "align_items": null,
            "align_self": null,
            "border": null,
            "bottom": null,
            "display": null,
            "flex": null,
            "flex_flow": null,
            "grid_area": null,
            "grid_auto_columns": null,
            "grid_auto_flow": null,
            "grid_auto_rows": null,
            "grid_column": null,
            "grid_gap": null,
            "grid_row": null,
            "grid_template_areas": null,
            "grid_template_columns": null,
            "grid_template_rows": null,
            "height": null,
            "justify_content": null,
            "justify_items": null,
            "left": null,
            "margin": null,
            "max_height": null,
            "max_width": null,
            "min_height": null,
            "min_width": null,
            "object_fit": null,
            "object_position": null,
            "order": null,
            "overflow": null,
            "overflow_x": null,
            "overflow_y": null,
            "padding": null,
            "right": null,
            "top": null,
            "visibility": null,
            "width": null
          }
        },
        "a4f649ce3fc34549833f3eb824ba5189": {
          "model_module": "@jupyter-widgets/controls",
          "model_module_version": "1.5.0",
          "model_name": "HBoxModel",
          "state": {
            "_dom_classes": [],
            "_model_module": "@jupyter-widgets/controls",
            "_model_module_version": "1.5.0",
            "_model_name": "HBoxModel",
            "_view_count": null,
            "_view_module": "@jupyter-widgets/controls",
            "_view_module_version": "1.5.0",
            "_view_name": "HBoxView",
            "box_style": "",
            "children": [
              "IPY_MODEL_b3db252d8a9d41aca54b3bdd4d433d64",
              "IPY_MODEL_01842f5113f141c7a53f3ed0378c2216",
              "IPY_MODEL_27414e6615c0403cb1e39b0f9b70a6fb"
            ],
            "layout": "IPY_MODEL_4aeb96e178de40f9a3e7cde830d411fe"
          }
        },
        "a51206fc0107491b855b8d36d0cd5bd9": {
          "model_module": "@jupyter-widgets/base",
          "model_module_version": "1.2.0",
          "model_name": "LayoutModel",
          "state": {
            "_model_module": "@jupyter-widgets/base",
            "_model_module_version": "1.2.0",
            "_model_name": "LayoutModel",
            "_view_count": null,
            "_view_module": "@jupyter-widgets/base",
            "_view_module_version": "1.2.0",
            "_view_name": "LayoutView",
            "align_content": null,
            "align_items": null,
            "align_self": null,
            "border": null,
            "bottom": null,
            "display": null,
            "flex": null,
            "flex_flow": null,
            "grid_area": null,
            "grid_auto_columns": null,
            "grid_auto_flow": null,
            "grid_auto_rows": null,
            "grid_column": null,
            "grid_gap": null,
            "grid_row": null,
            "grid_template_areas": null,
            "grid_template_columns": null,
            "grid_template_rows": null,
            "height": null,
            "justify_content": null,
            "justify_items": null,
            "left": null,
            "margin": null,
            "max_height": null,
            "max_width": null,
            "min_height": null,
            "min_width": null,
            "object_fit": null,
            "object_position": null,
            "order": null,
            "overflow": null,
            "overflow_x": null,
            "overflow_y": null,
            "padding": null,
            "right": null,
            "top": null,
            "visibility": null,
            "width": null
          }
        },
        "a56a1b88d6864c7ab929a9372c454444": {
          "model_module": "@jupyter-widgets/controls",
          "model_module_version": "1.5.0",
          "model_name": "DescriptionStyleModel",
          "state": {
            "_model_module": "@jupyter-widgets/controls",
            "_model_module_version": "1.5.0",
            "_model_name": "DescriptionStyleModel",
            "_view_count": null,
            "_view_module": "@jupyter-widgets/base",
            "_view_module_version": "1.2.0",
            "_view_name": "StyleView",
            "description_width": ""
          }
        },
        "a81ab820dc6b44e08aab20262f450b99": {
          "model_module": "@jupyter-widgets/controls",
          "model_module_version": "1.5.0",
          "model_name": "FloatProgressModel",
          "state": {
            "_dom_classes": [],
            "_model_module": "@jupyter-widgets/controls",
            "_model_module_version": "1.5.0",
            "_model_name": "FloatProgressModel",
            "_view_count": null,
            "_view_module": "@jupyter-widgets/controls",
            "_view_module_version": "1.5.0",
            "_view_name": "ProgressView",
            "bar_style": "success",
            "description": "",
            "description_tooltip": null,
            "layout": "IPY_MODEL_c7d7ee81972d46979992d311c6f0d918",
            "max": 398,
            "min": 0,
            "orientation": "horizontal",
            "style": "IPY_MODEL_7c344d2068b54387ae8f0812f61c05cc",
            "value": 398
          }
        },
        "aa049a318a6c4a37a1b3fac823d97db5": {
          "model_module": "@jupyter-widgets/controls",
          "model_module_version": "1.5.0",
          "model_name": "FloatProgressModel",
          "state": {
            "_dom_classes": [],
            "_model_module": "@jupyter-widgets/controls",
            "_model_module_version": "1.5.0",
            "_model_name": "FloatProgressModel",
            "_view_count": null,
            "_view_module": "@jupyter-widgets/controls",
            "_view_module_version": "1.5.0",
            "_view_name": "ProgressView",
            "bar_style": "success",
            "description": "",
            "description_tooltip": null,
            "layout": "IPY_MODEL_08d7ed10932a4745921938325f3457ed",
            "max": 1804874,
            "min": 0,
            "orientation": "horizontal",
            "style": "IPY_MODEL_6e207cc3f271496aa57f711eeea698f2",
            "value": 1804874
          }
        },
        "b29c16c7f25148cbb37e68141b2a4ab7": {
          "model_module": "@jupyter-widgets/controls",
          "model_module_version": "1.5.0",
          "model_name": "HBoxModel",
          "state": {
            "_dom_classes": [],
            "_model_module": "@jupyter-widgets/controls",
            "_model_module_version": "1.5.0",
            "_model_name": "HBoxModel",
            "_view_count": null,
            "_view_module": "@jupyter-widgets/controls",
            "_view_module_version": "1.5.0",
            "_view_name": "HBoxView",
            "box_style": "",
            "children": [
              "IPY_MODEL_fbc6efdb1f084844b142c39a4277f70d",
              "IPY_MODEL_3d6d72f3f55a45b49ff75d0d7d61119f",
              "IPY_MODEL_6de936c24a634b3dbb64038ca6fe2fe9"
            ],
            "layout": "IPY_MODEL_d80682e9c0ca45abbe3980f0132fa89c"
          }
        },
        "b3db252d8a9d41aca54b3bdd4d433d64": {
          "model_module": "@jupyter-widgets/controls",
          "model_module_version": "1.5.0",
          "model_name": "HTMLModel",
          "state": {
            "_dom_classes": [],
            "_model_module": "@jupyter-widgets/controls",
            "_model_module_version": "1.5.0",
            "_model_name": "HTMLModel",
            "_view_count": null,
            "_view_module": "@jupyter-widgets/controls",
            "_view_module_version": "1.5.0",
            "_view_name": "HTMLView",
            "description": "",
            "description_tooltip": null,
            "layout": "IPY_MODEL_02c98426c92e4345a6a0234244fa8bd0",
            "placeholder": "​",
            "style": "IPY_MODEL_cc2d72c1f84a407bb7eecfb3ea4b6c3c",
            "value": "Pandas Apply: 100%"
          }
        },
        "b5ee6ad46a3141ad8493fcd7f7058098": {
          "model_module": "@jupyter-widgets/controls",
          "model_module_version": "1.5.0",
          "model_name": "HBoxModel",
          "state": {
            "_dom_classes": [],
            "_model_module": "@jupyter-widgets/controls",
            "_model_module_version": "1.5.0",
            "_model_name": "HBoxModel",
            "_view_count": null,
            "_view_module": "@jupyter-widgets/controls",
            "_view_module_version": "1.5.0",
            "_view_name": "HBoxView",
            "box_style": "",
            "children": [
              "IPY_MODEL_f892fcd5cfb747b59390d448995e159c",
              "IPY_MODEL_5b262fe449844620b97ae7cb3fc5f86f",
              "IPY_MODEL_248a933665b44597b32e5aab4f414bd0"
            ],
            "layout": "IPY_MODEL_712e8bb26be74d9aaf18759511453472"
          }
        },
        "b9dbff5622504dc48f3f0c5f104ae511": {
          "model_module": "@jupyter-widgets/controls",
          "model_module_version": "1.5.0",
          "model_name": "DescriptionStyleModel",
          "state": {
            "_model_module": "@jupyter-widgets/controls",
            "_model_module_version": "1.5.0",
            "_model_name": "DescriptionStyleModel",
            "_view_count": null,
            "_view_module": "@jupyter-widgets/base",
            "_view_module_version": "1.2.0",
            "_view_name": "StyleView",
            "description_width": ""
          }
        },
        "ba190ad485054d71b785d444ffcb8ebe": {
          "model_module": "@jupyter-widgets/controls",
          "model_module_version": "1.5.0",
          "model_name": "HBoxModel",
          "state": {
            "_dom_classes": [],
            "_model_module": "@jupyter-widgets/controls",
            "_model_module_version": "1.5.0",
            "_model_name": "HBoxModel",
            "_view_count": null,
            "_view_module": "@jupyter-widgets/controls",
            "_view_module_version": "1.5.0",
            "_view_name": "HBoxView",
            "box_style": "",
            "children": [
              "IPY_MODEL_48426379c9b4412daf82a6e3ed78411b",
              "IPY_MODEL_c54417c3067a4076b27263b38bde4001",
              "IPY_MODEL_6bce3df789fd4d9382a60f3875865c57"
            ],
            "layout": "IPY_MODEL_cddac187df97494ba6d63a9ee296ea04"
          }
        },
        "ba74679febac4238a5dc8e9e50456d4a": {
          "model_module": "@jupyter-widgets/base",
          "model_module_version": "1.2.0",
          "model_name": "LayoutModel",
          "state": {
            "_model_module": "@jupyter-widgets/base",
            "_model_module_version": "1.2.0",
            "_model_name": "LayoutModel",
            "_view_count": null,
            "_view_module": "@jupyter-widgets/base",
            "_view_module_version": "1.2.0",
            "_view_name": "LayoutView",
            "align_content": null,
            "align_items": null,
            "align_self": null,
            "border": null,
            "bottom": null,
            "display": null,
            "flex": null,
            "flex_flow": null,
            "grid_area": null,
            "grid_auto_columns": null,
            "grid_auto_flow": null,
            "grid_auto_rows": null,
            "grid_column": null,
            "grid_gap": null,
            "grid_row": null,
            "grid_template_areas": null,
            "grid_template_columns": null,
            "grid_template_rows": null,
            "height": null,
            "justify_content": null,
            "justify_items": null,
            "left": null,
            "margin": null,
            "max_height": null,
            "max_width": null,
            "min_height": null,
            "min_width": null,
            "object_fit": null,
            "object_position": null,
            "order": null,
            "overflow": null,
            "overflow_x": null,
            "overflow_y": null,
            "padding": null,
            "right": null,
            "top": null,
            "visibility": null,
            "width": null
          }
        },
        "bf93b149b7a7475a838c67f6e5de4a25": {
          "model_module": "@jupyter-widgets/base",
          "model_module_version": "1.2.0",
          "model_name": "LayoutModel",
          "state": {
            "_model_module": "@jupyter-widgets/base",
            "_model_module_version": "1.2.0",
            "_model_name": "LayoutModel",
            "_view_count": null,
            "_view_module": "@jupyter-widgets/base",
            "_view_module_version": "1.2.0",
            "_view_name": "LayoutView",
            "align_content": null,
            "align_items": null,
            "align_self": null,
            "border": null,
            "bottom": null,
            "display": null,
            "flex": null,
            "flex_flow": null,
            "grid_area": null,
            "grid_auto_columns": null,
            "grid_auto_flow": null,
            "grid_auto_rows": null,
            "grid_column": null,
            "grid_gap": null,
            "grid_row": null,
            "grid_template_areas": null,
            "grid_template_columns": null,
            "grid_template_rows": null,
            "height": null,
            "justify_content": null,
            "justify_items": null,
            "left": null,
            "margin": null,
            "max_height": null,
            "max_width": null,
            "min_height": null,
            "min_width": null,
            "object_fit": null,
            "object_position": null,
            "order": null,
            "overflow": null,
            "overflow_x": null,
            "overflow_y": null,
            "padding": null,
            "right": null,
            "top": null,
            "visibility": null,
            "width": null
          }
        },
        "c0689ebbf2834eb284a8185bc059b141": {
          "model_module": "@jupyter-widgets/base",
          "model_module_version": "1.2.0",
          "model_name": "LayoutModel",
          "state": {
            "_model_module": "@jupyter-widgets/base",
            "_model_module_version": "1.2.0",
            "_model_name": "LayoutModel",
            "_view_count": null,
            "_view_module": "@jupyter-widgets/base",
            "_view_module_version": "1.2.0",
            "_view_name": "LayoutView",
            "align_content": null,
            "align_items": null,
            "align_self": null,
            "border": null,
            "bottom": null,
            "display": null,
            "flex": null,
            "flex_flow": null,
            "grid_area": null,
            "grid_auto_columns": null,
            "grid_auto_flow": null,
            "grid_auto_rows": null,
            "grid_column": null,
            "grid_gap": null,
            "grid_row": null,
            "grid_template_areas": null,
            "grid_template_columns": null,
            "grid_template_rows": null,
            "height": null,
            "justify_content": null,
            "justify_items": null,
            "left": null,
            "margin": null,
            "max_height": null,
            "max_width": null,
            "min_height": null,
            "min_width": null,
            "object_fit": null,
            "object_position": null,
            "order": null,
            "overflow": null,
            "overflow_x": null,
            "overflow_y": null,
            "padding": null,
            "right": null,
            "top": null,
            "visibility": null,
            "width": null
          }
        },
        "c1f553c877b04262afaddb4c85a7fc78": {
          "model_module": "@jupyter-widgets/controls",
          "model_module_version": "1.5.0",
          "model_name": "HTMLModel",
          "state": {
            "_dom_classes": [],
            "_model_module": "@jupyter-widgets/controls",
            "_model_module_version": "1.5.0",
            "_model_name": "HTMLModel",
            "_view_count": null,
            "_view_module": "@jupyter-widgets/controls",
            "_view_module_version": "1.5.0",
            "_view_name": "HTMLView",
            "description": "",
            "description_tooltip": null,
            "layout": "IPY_MODEL_9c925244f9bf475ab2ea2095cda3f968",
            "placeholder": "​",
            "style": "IPY_MODEL_ecec486661d34bb49175acf075cf01ee",
            "value": " 1804874/1804874 [00:53&lt;00:00, 36289.78it/s]"
          }
        },
        "c54417c3067a4076b27263b38bde4001": {
          "model_module": "@jupyter-widgets/controls",
          "model_module_version": "1.5.0",
          "model_name": "FloatProgressModel",
          "state": {
            "_dom_classes": [],
            "_model_module": "@jupyter-widgets/controls",
            "_model_module_version": "1.5.0",
            "_model_name": "FloatProgressModel",
            "_view_count": null,
            "_view_module": "@jupyter-widgets/controls",
            "_view_module_version": "1.5.0",
            "_view_name": "ProgressView",
            "bar_style": "success",
            "description": "",
            "description_tooltip": null,
            "layout": "IPY_MODEL_2f7920b51e584472a5e7680f6343b98a",
            "max": 512307,
            "min": 0,
            "orientation": "horizontal",
            "style": "IPY_MODEL_35844224fed7448eab2e9d3460e36d03",
            "value": 512307
          }
        },
        "c7d7ee81972d46979992d311c6f0d918": {
          "model_module": "@jupyter-widgets/base",
          "model_module_version": "1.2.0",
          "model_name": "LayoutModel",
          "state": {
            "_model_module": "@jupyter-widgets/base",
            "_model_module_version": "1.2.0",
            "_model_name": "LayoutModel",
            "_view_count": null,
            "_view_module": "@jupyter-widgets/base",
            "_view_module_version": "1.2.0",
            "_view_name": "LayoutView",
            "align_content": null,
            "align_items": null,
            "align_self": null,
            "border": null,
            "bottom": null,
            "display": null,
            "flex": null,
            "flex_flow": null,
            "grid_area": null,
            "grid_auto_columns": null,
            "grid_auto_flow": null,
            "grid_auto_rows": null,
            "grid_column": null,
            "grid_gap": null,
            "grid_row": null,
            "grid_template_areas": null,
            "grid_template_columns": null,
            "grid_template_rows": null,
            "height": null,
            "justify_content": null,
            "justify_items": null,
            "left": null,
            "margin": null,
            "max_height": null,
            "max_width": null,
            "min_height": null,
            "min_width": null,
            "object_fit": null,
            "object_position": null,
            "order": null,
            "overflow": null,
            "overflow_x": null,
            "overflow_y": null,
            "padding": null,
            "right": null,
            "top": null,
            "visibility": null,
            "width": null
          }
        },
        "c8e03fea4d1740c3a31b109e2fe4e330": {
          "model_module": "@jupyter-widgets/base",
          "model_module_version": "1.2.0",
          "model_name": "LayoutModel",
          "state": {
            "_model_module": "@jupyter-widgets/base",
            "_model_module_version": "1.2.0",
            "_model_name": "LayoutModel",
            "_view_count": null,
            "_view_module": "@jupyter-widgets/base",
            "_view_module_version": "1.2.0",
            "_view_name": "LayoutView",
            "align_content": null,
            "align_items": null,
            "align_self": null,
            "border": null,
            "bottom": null,
            "display": null,
            "flex": null,
            "flex_flow": null,
            "grid_area": null,
            "grid_auto_columns": null,
            "grid_auto_flow": null,
            "grid_auto_rows": null,
            "grid_column": null,
            "grid_gap": null,
            "grid_row": null,
            "grid_template_areas": null,
            "grid_template_columns": null,
            "grid_template_rows": null,
            "height": null,
            "justify_content": null,
            "justify_items": null,
            "left": null,
            "margin": null,
            "max_height": null,
            "max_width": null,
            "min_height": null,
            "min_width": null,
            "object_fit": null,
            "object_position": null,
            "order": null,
            "overflow": null,
            "overflow_x": null,
            "overflow_y": null,
            "padding": null,
            "right": null,
            "top": null,
            "visibility": null,
            "width": null
          }
        },
        "c9f52e99f0ca48bb80c01d941068234e": {
          "model_module": "@jupyter-widgets/controls",
          "model_module_version": "1.5.0",
          "model_name": "ProgressStyleModel",
          "state": {
            "_model_module": "@jupyter-widgets/controls",
            "_model_module_version": "1.5.0",
            "_model_name": "ProgressStyleModel",
            "_view_count": null,
            "_view_module": "@jupyter-widgets/base",
            "_view_module_version": "1.2.0",
            "_view_name": "StyleView",
            "bar_color": null,
            "description_width": ""
          }
        },
        "caee3e4ae2e74607b94bba83bb745c3c": {
          "model_module": "@jupyter-widgets/controls",
          "model_module_version": "1.5.0",
          "model_name": "FloatProgressModel",
          "state": {
            "_dom_classes": [],
            "_model_module": "@jupyter-widgets/controls",
            "_model_module_version": "1.5.0",
            "_model_name": "FloatProgressModel",
            "_view_count": null,
            "_view_module": "@jupyter-widgets/controls",
            "_view_module_version": "1.5.0",
            "_view_name": "ProgressView",
            "bar_style": "success",
            "description": "",
            "description_tooltip": null,
            "layout": "IPY_MODEL_62a10dc8640e462e9eda5072a46e3ab7",
            "max": 1804874,
            "min": 0,
            "orientation": "horizontal",
            "style": "IPY_MODEL_46bb4f515cb148c899ab4d59d83ec17f",
            "value": 1804874
          }
        },
        "cc2d72c1f84a407bb7eecfb3ea4b6c3c": {
          "model_module": "@jupyter-widgets/controls",
          "model_module_version": "1.5.0",
          "model_name": "DescriptionStyleModel",
          "state": {
            "_model_module": "@jupyter-widgets/controls",
            "_model_module_version": "1.5.0",
            "_model_name": "DescriptionStyleModel",
            "_view_count": null,
            "_view_module": "@jupyter-widgets/base",
            "_view_module_version": "1.2.0",
            "_view_name": "StyleView",
            "description_width": ""
          }
        },
        "cddac187df97494ba6d63a9ee296ea04": {
          "model_module": "@jupyter-widgets/base",
          "model_module_version": "1.2.0",
          "model_name": "LayoutModel",
          "state": {
            "_model_module": "@jupyter-widgets/base",
            "_model_module_version": "1.2.0",
            "_model_name": "LayoutModel",
            "_view_count": null,
            "_view_module": "@jupyter-widgets/base",
            "_view_module_version": "1.2.0",
            "_view_name": "LayoutView",
            "align_content": null,
            "align_items": null,
            "align_self": null,
            "border": null,
            "bottom": null,
            "display": null,
            "flex": null,
            "flex_flow": null,
            "grid_area": null,
            "grid_auto_columns": null,
            "grid_auto_flow": null,
            "grid_auto_rows": null,
            "grid_column": null,
            "grid_gap": null,
            "grid_row": null,
            "grid_template_areas": null,
            "grid_template_columns": null,
            "grid_template_rows": null,
            "height": null,
            "justify_content": null,
            "justify_items": null,
            "left": null,
            "margin": null,
            "max_height": null,
            "max_width": null,
            "min_height": null,
            "min_width": null,
            "object_fit": null,
            "object_position": null,
            "order": null,
            "overflow": null,
            "overflow_x": null,
            "overflow_y": null,
            "padding": null,
            "right": null,
            "top": null,
            "visibility": null,
            "width": null
          }
        },
        "cff6d1d124f6457ab0c0d35b12c9da4d": {
          "model_module": "@jupyter-widgets/base",
          "model_module_version": "1.2.0",
          "model_name": "LayoutModel",
          "state": {
            "_model_module": "@jupyter-widgets/base",
            "_model_module_version": "1.2.0",
            "_model_name": "LayoutModel",
            "_view_count": null,
            "_view_module": "@jupyter-widgets/base",
            "_view_module_version": "1.2.0",
            "_view_name": "LayoutView",
            "align_content": null,
            "align_items": null,
            "align_self": null,
            "border": null,
            "bottom": null,
            "display": null,
            "flex": null,
            "flex_flow": null,
            "grid_area": null,
            "grid_auto_columns": null,
            "grid_auto_flow": null,
            "grid_auto_rows": null,
            "grid_column": null,
            "grid_gap": null,
            "grid_row": null,
            "grid_template_areas": null,
            "grid_template_columns": null,
            "grid_template_rows": null,
            "height": null,
            "justify_content": null,
            "justify_items": null,
            "left": null,
            "margin": null,
            "max_height": null,
            "max_width": null,
            "min_height": null,
            "min_width": null,
            "object_fit": null,
            "object_position": null,
            "order": null,
            "overflow": null,
            "overflow_x": null,
            "overflow_y": null,
            "padding": null,
            "right": null,
            "top": null,
            "visibility": null,
            "width": null
          }
        },
        "d022fec5ea354a1ba02a457f1425fbba": {
          "model_module": "@jupyter-widgets/controls",
          "model_module_version": "1.5.0",
          "model_name": "ProgressStyleModel",
          "state": {
            "_model_module": "@jupyter-widgets/controls",
            "_model_module_version": "1.5.0",
            "_model_name": "ProgressStyleModel",
            "_view_count": null,
            "_view_module": "@jupyter-widgets/base",
            "_view_module_version": "1.2.0",
            "_view_name": "StyleView",
            "bar_color": null,
            "description_width": ""
          }
        },
        "d1b7ed0e45544d99ab3337b335c272a1": {
          "model_module": "@jupyter-widgets/base",
          "model_module_version": "1.2.0",
          "model_name": "LayoutModel",
          "state": {
            "_model_module": "@jupyter-widgets/base",
            "_model_module_version": "1.2.0",
            "_model_name": "LayoutModel",
            "_view_count": null,
            "_view_module": "@jupyter-widgets/base",
            "_view_module_version": "1.2.0",
            "_view_name": "LayoutView",
            "align_content": null,
            "align_items": null,
            "align_self": null,
            "border": null,
            "bottom": null,
            "display": null,
            "flex": null,
            "flex_flow": null,
            "grid_area": null,
            "grid_auto_columns": null,
            "grid_auto_flow": null,
            "grid_auto_rows": null,
            "grid_column": null,
            "grid_gap": null,
            "grid_row": null,
            "grid_template_areas": null,
            "grid_template_columns": null,
            "grid_template_rows": null,
            "height": null,
            "justify_content": null,
            "justify_items": null,
            "left": null,
            "margin": null,
            "max_height": null,
            "max_width": null,
            "min_height": null,
            "min_width": null,
            "object_fit": null,
            "object_position": null,
            "order": null,
            "overflow": null,
            "overflow_x": null,
            "overflow_y": null,
            "padding": null,
            "right": null,
            "top": null,
            "visibility": null,
            "width": null
          }
        },
        "d3a6374670194c66bccb24906dec1cf7": {
          "model_module": "@jupyter-widgets/controls",
          "model_module_version": "1.5.0",
          "model_name": "HTMLModel",
          "state": {
            "_dom_classes": [],
            "_model_module": "@jupyter-widgets/controls",
            "_model_module_version": "1.5.0",
            "_model_name": "HTMLModel",
            "_view_count": null,
            "_view_module": "@jupyter-widgets/controls",
            "_view_module_version": "1.5.0",
            "_view_name": "HTMLView",
            "description": "",
            "description_tooltip": null,
            "layout": "IPY_MODEL_ba74679febac4238a5dc8e9e50456d4a",
            "placeholder": "​",
            "style": "IPY_MODEL_eec309dd9e444cf2bd8253616a65a84c",
            "value": " 1804874/1804874 [00:12&lt;00:00, 156120.54it/s]"
          }
        },
        "d63fd36598f048e1bbe4e5d0bc28dd3a": {
          "model_module": "@jupyter-widgets/base",
          "model_module_version": "1.2.0",
          "model_name": "LayoutModel",
          "state": {
            "_model_module": "@jupyter-widgets/base",
            "_model_module_version": "1.2.0",
            "_model_name": "LayoutModel",
            "_view_count": null,
            "_view_module": "@jupyter-widgets/base",
            "_view_module_version": "1.2.0",
            "_view_name": "LayoutView",
            "align_content": null,
            "align_items": null,
            "align_self": null,
            "border": null,
            "bottom": null,
            "display": null,
            "flex": null,
            "flex_flow": null,
            "grid_area": null,
            "grid_auto_columns": null,
            "grid_auto_flow": null,
            "grid_auto_rows": null,
            "grid_column": null,
            "grid_gap": null,
            "grid_row": null,
            "grid_template_areas": null,
            "grid_template_columns": null,
            "grid_template_rows": null,
            "height": null,
            "justify_content": null,
            "justify_items": null,
            "left": null,
            "margin": null,
            "max_height": null,
            "max_width": null,
            "min_height": null,
            "min_width": null,
            "object_fit": null,
            "object_position": null,
            "order": null,
            "overflow": null,
            "overflow_x": null,
            "overflow_y": null,
            "padding": null,
            "right": null,
            "top": null,
            "visibility": null,
            "width": null
          }
        },
        "d80682e9c0ca45abbe3980f0132fa89c": {
          "model_module": "@jupyter-widgets/base",
          "model_module_version": "1.2.0",
          "model_name": "LayoutModel",
          "state": {
            "_model_module": "@jupyter-widgets/base",
            "_model_module_version": "1.2.0",
            "_model_name": "LayoutModel",
            "_view_count": null,
            "_view_module": "@jupyter-widgets/base",
            "_view_module_version": "1.2.0",
            "_view_name": "LayoutView",
            "align_content": null,
            "align_items": null,
            "align_self": null,
            "border": null,
            "bottom": null,
            "display": null,
            "flex": null,
            "flex_flow": null,
            "grid_area": null,
            "grid_auto_columns": null,
            "grid_auto_flow": null,
            "grid_auto_rows": null,
            "grid_column": null,
            "grid_gap": null,
            "grid_row": null,
            "grid_template_areas": null,
            "grid_template_columns": null,
            "grid_template_rows": null,
            "height": null,
            "justify_content": null,
            "justify_items": null,
            "left": null,
            "margin": null,
            "max_height": null,
            "max_width": null,
            "min_height": null,
            "min_width": null,
            "object_fit": null,
            "object_position": null,
            "order": null,
            "overflow": null,
            "overflow_x": null,
            "overflow_y": null,
            "padding": null,
            "right": null,
            "top": null,
            "visibility": null,
            "width": null
          }
        },
        "d8b7482f365540e2bb7011187cbc5dea": {
          "model_module": "@jupyter-widgets/controls",
          "model_module_version": "1.5.0",
          "model_name": "DescriptionStyleModel",
          "state": {
            "_model_module": "@jupyter-widgets/controls",
            "_model_module_version": "1.5.0",
            "_model_name": "DescriptionStyleModel",
            "_view_count": null,
            "_view_module": "@jupyter-widgets/base",
            "_view_module_version": "1.2.0",
            "_view_name": "StyleView",
            "description_width": ""
          }
        },
        "dfd11af26ad7428799cedbcbe547b86d": {
          "model_module": "@jupyter-widgets/controls",
          "model_module_version": "1.5.0",
          "model_name": "FloatProgressModel",
          "state": {
            "_dom_classes": [],
            "_model_module": "@jupyter-widgets/controls",
            "_model_module_version": "1.5.0",
            "_model_name": "FloatProgressModel",
            "_view_count": null,
            "_view_module": "@jupyter-widgets/controls",
            "_view_module_version": "1.5.0",
            "_view_name": "ProgressView",
            "bar_style": "success",
            "description": "",
            "description_tooltip": null,
            "layout": "IPY_MODEL_01c49b1ec706496aa1eb66a050edea90",
            "max": 1804874,
            "min": 0,
            "orientation": "horizontal",
            "style": "IPY_MODEL_d022fec5ea354a1ba02a457f1425fbba",
            "value": 1804874
          }
        },
        "e3af6e5fdb70463db2f795de6074669a": {
          "model_module": "@jupyter-widgets/controls",
          "model_module_version": "1.5.0",
          "model_name": "HBoxModel",
          "state": {
            "_dom_classes": [],
            "_model_module": "@jupyter-widgets/controls",
            "_model_module_version": "1.5.0",
            "_model_name": "HBoxModel",
            "_view_count": null,
            "_view_module": "@jupyter-widgets/controls",
            "_view_module_version": "1.5.0",
            "_view_name": "HBoxView",
            "box_style": "",
            "children": [
              "IPY_MODEL_478aca070b50482c92ae65de715c799f",
              "IPY_MODEL_172f604041ab4a5bb5fc0b8e8619708a",
              "IPY_MODEL_fcb84a937cfb4bcf9772d69f0e17ca3c"
            ],
            "layout": "IPY_MODEL_9d1df95ed3834313ba9cd5e5696ca08f"
          }
        },
        "e9268da6e9e94f379489d0dae23e286a": {
          "model_module": "@jupyter-widgets/controls",
          "model_module_version": "1.5.0",
          "model_name": "HTMLModel",
          "state": {
            "_dom_classes": [],
            "_model_module": "@jupyter-widgets/controls",
            "_model_module_version": "1.5.0",
            "_model_name": "HTMLModel",
            "_view_count": null,
            "_view_module": "@jupyter-widgets/controls",
            "_view_module_version": "1.5.0",
            "_view_name": "HTMLView",
            "description": "",
            "description_tooltip": null,
            "layout": "IPY_MODEL_3638f069bb8a40c1b00d882fd50641d1",
            "placeholder": "​",
            "style": "IPY_MODEL_7556bd180ce04f0da6c59e2068380754",
            "value": "Pandas Apply: 100%"
          }
        },
        "eb0967054122499a9fb5746c631400b8": {
          "model_module": "@jupyter-widgets/base",
          "model_module_version": "1.2.0",
          "model_name": "LayoutModel",
          "state": {
            "_model_module": "@jupyter-widgets/base",
            "_model_module_version": "1.2.0",
            "_model_name": "LayoutModel",
            "_view_count": null,
            "_view_module": "@jupyter-widgets/base",
            "_view_module_version": "1.2.0",
            "_view_name": "LayoutView",
            "align_content": null,
            "align_items": null,
            "align_self": null,
            "border": null,
            "bottom": null,
            "display": null,
            "flex": null,
            "flex_flow": null,
            "grid_area": null,
            "grid_auto_columns": null,
            "grid_auto_flow": null,
            "grid_auto_rows": null,
            "grid_column": null,
            "grid_gap": null,
            "grid_row": null,
            "grid_template_areas": null,
            "grid_template_columns": null,
            "grid_template_rows": null,
            "height": null,
            "justify_content": null,
            "justify_items": null,
            "left": null,
            "margin": null,
            "max_height": null,
            "max_width": null,
            "min_height": null,
            "min_width": null,
            "object_fit": null,
            "object_position": null,
            "order": null,
            "overflow": null,
            "overflow_x": null,
            "overflow_y": null,
            "padding": null,
            "right": null,
            "top": null,
            "visibility": null,
            "width": null
          }
        },
        "ecec486661d34bb49175acf075cf01ee": {
          "model_module": "@jupyter-widgets/controls",
          "model_module_version": "1.5.0",
          "model_name": "DescriptionStyleModel",
          "state": {
            "_model_module": "@jupyter-widgets/controls",
            "_model_module_version": "1.5.0",
            "_model_name": "DescriptionStyleModel",
            "_view_count": null,
            "_view_module": "@jupyter-widgets/base",
            "_view_module_version": "1.2.0",
            "_view_name": "StyleView",
            "description_width": ""
          }
        },
        "ecef2b48426a4183a8881454c23e1d10": {
          "model_module": "@jupyter-widgets/base",
          "model_module_version": "1.2.0",
          "model_name": "LayoutModel",
          "state": {
            "_model_module": "@jupyter-widgets/base",
            "_model_module_version": "1.2.0",
            "_model_name": "LayoutModel",
            "_view_count": null,
            "_view_module": "@jupyter-widgets/base",
            "_view_module_version": "1.2.0",
            "_view_name": "LayoutView",
            "align_content": null,
            "align_items": null,
            "align_self": null,
            "border": null,
            "bottom": null,
            "display": null,
            "flex": null,
            "flex_flow": null,
            "grid_area": null,
            "grid_auto_columns": null,
            "grid_auto_flow": null,
            "grid_auto_rows": null,
            "grid_column": null,
            "grid_gap": null,
            "grid_row": null,
            "grid_template_areas": null,
            "grid_template_columns": null,
            "grid_template_rows": null,
            "height": null,
            "justify_content": null,
            "justify_items": null,
            "left": null,
            "margin": null,
            "max_height": null,
            "max_width": null,
            "min_height": null,
            "min_width": null,
            "object_fit": null,
            "object_position": null,
            "order": null,
            "overflow": null,
            "overflow_x": null,
            "overflow_y": null,
            "padding": null,
            "right": null,
            "top": null,
            "visibility": null,
            "width": null
          }
        },
        "eec309dd9e444cf2bd8253616a65a84c": {
          "model_module": "@jupyter-widgets/controls",
          "model_module_version": "1.5.0",
          "model_name": "DescriptionStyleModel",
          "state": {
            "_model_module": "@jupyter-widgets/controls",
            "_model_module_version": "1.5.0",
            "_model_name": "DescriptionStyleModel",
            "_view_count": null,
            "_view_module": "@jupyter-widgets/base",
            "_view_module_version": "1.2.0",
            "_view_name": "StyleView",
            "description_width": ""
          }
        },
        "f22977eb4d164cd7a607b0e72fd8ef58": {
          "model_module": "@jupyter-widgets/base",
          "model_module_version": "1.2.0",
          "model_name": "LayoutModel",
          "state": {
            "_model_module": "@jupyter-widgets/base",
            "_model_module_version": "1.2.0",
            "_model_name": "LayoutModel",
            "_view_count": null,
            "_view_module": "@jupyter-widgets/base",
            "_view_module_version": "1.2.0",
            "_view_name": "LayoutView",
            "align_content": null,
            "align_items": null,
            "align_self": null,
            "border": null,
            "bottom": null,
            "display": null,
            "flex": null,
            "flex_flow": null,
            "grid_area": null,
            "grid_auto_columns": null,
            "grid_auto_flow": null,
            "grid_auto_rows": null,
            "grid_column": null,
            "grid_gap": null,
            "grid_row": null,
            "grid_template_areas": null,
            "grid_template_columns": null,
            "grid_template_rows": null,
            "height": null,
            "justify_content": null,
            "justify_items": null,
            "left": null,
            "margin": null,
            "max_height": null,
            "max_width": null,
            "min_height": null,
            "min_width": null,
            "object_fit": null,
            "object_position": null,
            "order": null,
            "overflow": null,
            "overflow_x": null,
            "overflow_y": null,
            "padding": null,
            "right": null,
            "top": null,
            "visibility": null,
            "width": null
          }
        },
        "f3811008527144819935102400265b44": {
          "model_module": "@jupyter-widgets/controls",
          "model_module_version": "1.5.0",
          "model_name": "DescriptionStyleModel",
          "state": {
            "_model_module": "@jupyter-widgets/controls",
            "_model_module_version": "1.5.0",
            "_model_name": "DescriptionStyleModel",
            "_view_count": null,
            "_view_module": "@jupyter-widgets/base",
            "_view_module_version": "1.2.0",
            "_view_name": "StyleView",
            "description_width": ""
          }
        },
        "f799833f33cb4e0a939e118f228ecc52": {
          "model_module": "@jupyter-widgets/controls",
          "model_module_version": "1.5.0",
          "model_name": "DescriptionStyleModel",
          "state": {
            "_model_module": "@jupyter-widgets/controls",
            "_model_module_version": "1.5.0",
            "_model_name": "DescriptionStyleModel",
            "_view_count": null,
            "_view_module": "@jupyter-widgets/base",
            "_view_module_version": "1.2.0",
            "_view_name": "StyleView",
            "description_width": ""
          }
        },
        "f892fcd5cfb747b59390d448995e159c": {
          "model_module": "@jupyter-widgets/controls",
          "model_module_version": "1.5.0",
          "model_name": "HTMLModel",
          "state": {
            "_dom_classes": [],
            "_model_module": "@jupyter-widgets/controls",
            "_model_module_version": "1.5.0",
            "_model_name": "HTMLModel",
            "_view_count": null,
            "_view_module": "@jupyter-widgets/controls",
            "_view_module_version": "1.5.0",
            "_view_name": "HTMLView",
            "description": "",
            "description_tooltip": null,
            "layout": "IPY_MODEL_a51206fc0107491b855b8d36d0cd5bd9",
            "placeholder": "​",
            "style": "IPY_MODEL_83869f5161104143a059f4f715d59866",
            "value": "Pandas Apply: 100%"
          }
        },
        "f9dcb861f2a04952858ac2e6401ce390": {
          "model_module": "@jupyter-widgets/controls",
          "model_module_version": "1.5.0",
          "model_name": "ProgressStyleModel",
          "state": {
            "_model_module": "@jupyter-widgets/controls",
            "_model_module_version": "1.5.0",
            "_model_name": "ProgressStyleModel",
            "_view_count": null,
            "_view_module": "@jupyter-widgets/base",
            "_view_module_version": "1.2.0",
            "_view_name": "StyleView",
            "bar_color": null,
            "description_width": ""
          }
        },
        "fbc6efdb1f084844b142c39a4277f70d": {
          "model_module": "@jupyter-widgets/controls",
          "model_module_version": "1.5.0",
          "model_name": "HTMLModel",
          "state": {
            "_dom_classes": [],
            "_model_module": "@jupyter-widgets/controls",
            "_model_module_version": "1.5.0",
            "_model_name": "HTMLModel",
            "_view_count": null,
            "_view_module": "@jupyter-widgets/controls",
            "_view_module_version": "1.5.0",
            "_view_name": "HTMLView",
            "description": "",
            "description_tooltip": null,
            "layout": "IPY_MODEL_fc964901c95941a88a75ddcfc038e858",
            "placeholder": "​",
            "style": "IPY_MODEL_8faa4cdd4e0a4c878390d0b1b7806f90",
            "value": "100%"
          }
        },
        "fc1c196523cf431d869082f10c0d3e56": {
          "model_module": "@jupyter-widgets/controls",
          "model_module_version": "1.5.0",
          "model_name": "HBoxModel",
          "state": {
            "_dom_classes": [],
            "_model_module": "@jupyter-widgets/controls",
            "_model_module_version": "1.5.0",
            "_model_name": "HBoxModel",
            "_view_count": null,
            "_view_module": "@jupyter-widgets/controls",
            "_view_module_version": "1.5.0",
            "_view_name": "HBoxView",
            "box_style": "",
            "children": [
              "IPY_MODEL_93c69ba4fde54a3ab2c928646722b12d",
              "IPY_MODEL_caee3e4ae2e74607b94bba83bb745c3c",
              "IPY_MODEL_d3a6374670194c66bccb24906dec1cf7"
            ],
            "layout": "IPY_MODEL_80206a4015224ccb8dd36377299ba90c"
          }
        },
        "fc964901c95941a88a75ddcfc038e858": {
          "model_module": "@jupyter-widgets/base",
          "model_module_version": "1.2.0",
          "model_name": "LayoutModel",
          "state": {
            "_model_module": "@jupyter-widgets/base",
            "_model_module_version": "1.2.0",
            "_model_name": "LayoutModel",
            "_view_count": null,
            "_view_module": "@jupyter-widgets/base",
            "_view_module_version": "1.2.0",
            "_view_name": "LayoutView",
            "align_content": null,
            "align_items": null,
            "align_self": null,
            "border": null,
            "bottom": null,
            "display": null,
            "flex": null,
            "flex_flow": null,
            "grid_area": null,
            "grid_auto_columns": null,
            "grid_auto_flow": null,
            "grid_auto_rows": null,
            "grid_column": null,
            "grid_gap": null,
            "grid_row": null,
            "grid_template_areas": null,
            "grid_template_columns": null,
            "grid_template_rows": null,
            "height": null,
            "justify_content": null,
            "justify_items": null,
            "left": null,
            "margin": null,
            "max_height": null,
            "max_width": null,
            "min_height": null,
            "min_width": null,
            "object_fit": null,
            "object_position": null,
            "order": null,
            "overflow": null,
            "overflow_x": null,
            "overflow_y": null,
            "padding": null,
            "right": null,
            "top": null,
            "visibility": null,
            "width": null
          }
        },
        "fcb84a937cfb4bcf9772d69f0e17ca3c": {
          "model_module": "@jupyter-widgets/controls",
          "model_module_version": "1.5.0",
          "model_name": "HTMLModel",
          "state": {
            "_dom_classes": [],
            "_model_module": "@jupyter-widgets/controls",
            "_model_module_version": "1.5.0",
            "_model_name": "HTMLModel",
            "_view_count": null,
            "_view_module": "@jupyter-widgets/controls",
            "_view_module_version": "1.5.0",
            "_view_name": "HTMLView",
            "description": "",
            "description_tooltip": null,
            "layout": "IPY_MODEL_2da51e96a8984419be6088cc0016f5dc",
            "placeholder": "​",
            "style": "IPY_MODEL_9a7825880b184c04b74bd0f67344fb6c",
            "value": " 1804874/1804874 [00:05&lt;00:00, 339988.43it/s]"
          }
        },
        "fffe4dce96304952abd800e5d561559f": {
          "model_module": "@jupyter-widgets/controls",
          "model_module_version": "1.5.0",
          "model_name": "DescriptionStyleModel",
          "state": {
            "_model_module": "@jupyter-widgets/controls",
            "_model_module_version": "1.5.0",
            "_model_name": "DescriptionStyleModel",
            "_view_count": null,
            "_view_module": "@jupyter-widgets/base",
            "_view_module_version": "1.2.0",
            "_view_name": "StyleView",
            "description_width": ""
          }
        }
      }
    }
  },
  "nbformat": 4,
  "nbformat_minor": 0
}